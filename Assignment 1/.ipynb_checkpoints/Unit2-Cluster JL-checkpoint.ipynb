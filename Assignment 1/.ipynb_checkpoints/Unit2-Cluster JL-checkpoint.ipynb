{
 "cells": [
  {
   "cell_type": "code",
   "execution_count": 1,
   "metadata": {},
   "outputs": [
    {
     "data": {
      "text/html": [
       "5312"
      ],
      "text/latex": [
       "5312"
      ],
      "text/markdown": [
       "5312"
      ],
      "text/plain": [
       "[1] 5312"
      ]
     },
     "metadata": {},
     "output_type": "display_data"
    },
    {
     "data": {
      "text/html": [
       "151392"
      ],
      "text/latex": [
       "151392"
      ],
      "text/markdown": [
       "151392"
      ],
      "text/plain": [
       "[1] 151392"
      ]
     },
     "metadata": {},
     "output_type": "display_data"
    },
    {
     "data": {
      "text/html": [
       "<ol class=list-inline>\n",
       "\t<li>'t=1139643118358'</li>\n",
       "\t<li>'id=00:02:2D:21:0F:33'</li>\n",
       "\t<li>'pos=0.0,0.0,0.0'</li>\n",
       "\t<li>'degree=0.0'</li>\n",
       "\t<li>'00:14:bf:b1:97:8a=-38,2437000000,3'</li>\n",
       "\t<li>'00:14:bf:b1:97:90=-56,2427000000,3'</li>\n",
       "\t<li>'00:0f:a3:39:e1:c0=-53,2462000000,3'</li>\n",
       "\t<li>'00:14:bf:b1:97:8d=-65,2442000000,3'</li>\n",
       "\t<li>'00:14:bf:b1:97:81=-65,2422000000,3'</li>\n",
       "\t<li>'00:14:bf:3b:c7:c6=-66,2432000000,3'</li>\n",
       "\t<li>'00:0f:a3:39:dd:cd=-75,2412000000,3'</li>\n",
       "\t<li>'00:0f:a3:39:e0:4b=-78,2462000000,3'</li>\n",
       "\t<li>'00:0f:a3:39:e2:10=-87,2437000000,3'</li>\n",
       "\t<li>'02:64:fb:68:52:e6=-88,2447000000,1'</li>\n",
       "\t<li>'02:00:42:55:31:00=-84,2457000000,1'</li>\n",
       "</ol>\n"
      ],
      "text/latex": [
       "\\begin{enumerate*}\n",
       "\\item 't=1139643118358'\n",
       "\\item 'id=00:02:2D:21:0F:33'\n",
       "\\item 'pos=0.0,0.0,0.0'\n",
       "\\item 'degree=0.0'\n",
       "\\item '00:14:bf:b1:97:8a=-38,2437000000,3'\n",
       "\\item '00:14:bf:b1:97:90=-56,2427000000,3'\n",
       "\\item '00:0f:a3:39:e1:c0=-53,2462000000,3'\n",
       "\\item '00:14:bf:b1:97:8d=-65,2442000000,3'\n",
       "\\item '00:14:bf:b1:97:81=-65,2422000000,3'\n",
       "\\item '00:14:bf:3b:c7:c6=-66,2432000000,3'\n",
       "\\item '00:0f:a3:39:dd:cd=-75,2412000000,3'\n",
       "\\item '00:0f:a3:39:e0:4b=-78,2462000000,3'\n",
       "\\item '00:0f:a3:39:e2:10=-87,2437000000,3'\n",
       "\\item '02:64:fb:68:52:e6=-88,2447000000,1'\n",
       "\\item '02:00:42:55:31:00=-84,2457000000,1'\n",
       "\\end{enumerate*}\n"
      ],
      "text/markdown": [
       "1. 't=1139643118358'\n",
       "2. 'id=00:02:2D:21:0F:33'\n",
       "3. 'pos=0.0,0.0,0.0'\n",
       "4. 'degree=0.0'\n",
       "5. '00:14:bf:b1:97:8a=-38,2437000000,3'\n",
       "6. '00:14:bf:b1:97:90=-56,2427000000,3'\n",
       "7. '00:0f:a3:39:e1:c0=-53,2462000000,3'\n",
       "8. '00:14:bf:b1:97:8d=-65,2442000000,3'\n",
       "9. '00:14:bf:b1:97:81=-65,2422000000,3'\n",
       "10. '00:14:bf:3b:c7:c6=-66,2432000000,3'\n",
       "11. '00:0f:a3:39:dd:cd=-75,2412000000,3'\n",
       "12. '00:0f:a3:39:e0:4b=-78,2462000000,3'\n",
       "13. '00:0f:a3:39:e2:10=-87,2437000000,3'\n",
       "14. '02:64:fb:68:52:e6=-88,2447000000,1'\n",
       "15. '02:00:42:55:31:00=-84,2457000000,1'\n",
       "\n",
       "\n"
      ],
      "text/plain": [
       " [1] \"t=1139643118358\"                    \"id=00:02:2D:21:0F:33\"              \n",
       " [3] \"pos=0.0,0.0,0.0\"                    \"degree=0.0\"                        \n",
       " [5] \"00:14:bf:b1:97:8a=-38,2437000000,3\" \"00:14:bf:b1:97:90=-56,2427000000,3\"\n",
       " [7] \"00:0f:a3:39:e1:c0=-53,2462000000,3\" \"00:14:bf:b1:97:8d=-65,2442000000,3\"\n",
       " [9] \"00:14:bf:b1:97:81=-65,2422000000,3\" \"00:14:bf:3b:c7:c6=-66,2432000000,3\"\n",
       "[11] \"00:0f:a3:39:dd:cd=-75,2412000000,3\" \"00:0f:a3:39:e0:4b=-78,2462000000,3\"\n",
       "[13] \"00:0f:a3:39:e2:10=-87,2437000000,3\" \"02:64:fb:68:52:e6=-88,2447000000,1\"\n",
       "[15] \"02:00:42:55:31:00=-84,2457000000,1\""
      ]
     },
     "metadata": {},
     "output_type": "display_data"
    },
    {
     "data": {
      "text/html": [
       "<ol class=list-inline>\n",
       "\t<li>'t'</li>\n",
       "\t<li>'1139643118358'</li>\n",
       "\t<li>'id'</li>\n",
       "\t<li>'00:02:2D:21:0F:33'</li>\n",
       "\t<li>'pos'</li>\n",
       "\t<li>'0.0'</li>\n",
       "\t<li>'0.0'</li>\n",
       "\t<li>'0.0'</li>\n",
       "\t<li>'degree'</li>\n",
       "\t<li>'0.0'</li>\n",
       "</ol>\n"
      ],
      "text/latex": [
       "\\begin{enumerate*}\n",
       "\\item 't'\n",
       "\\item '1139643118358'\n",
       "\\item 'id'\n",
       "\\item '00:02:2D:21:0F:33'\n",
       "\\item 'pos'\n",
       "\\item '0.0'\n",
       "\\item '0.0'\n",
       "\\item '0.0'\n",
       "\\item 'degree'\n",
       "\\item '0.0'\n",
       "\\end{enumerate*}\n"
      ],
      "text/markdown": [
       "1. 't'\n",
       "2. '1139643118358'\n",
       "3. 'id'\n",
       "4. '00:02:2D:21:0F:33'\n",
       "5. 'pos'\n",
       "6. '0.0'\n",
       "7. '0.0'\n",
       "8. '0.0'\n",
       "9. 'degree'\n",
       "10. '0.0'\n",
       "\n",
       "\n"
      ],
      "text/plain": [
       " [1] \"t\"                 \"1139643118358\"     \"id\"               \n",
       " [4] \"00:02:2D:21:0F:33\" \"pos\"               \"0.0\"              \n",
       " [7] \"0.0\"               \"0.0\"               \"degree\"           \n",
       "[10] \"0.0\"              "
      ]
     },
     "metadata": {},
     "output_type": "display_data"
    },
    {
     "data": {
      "text/html": [
       "<ol class=list-inline>\n",
       "\t<li>'1139643118358'</li>\n",
       "\t<li>'00:02:2D:21:0F:33'</li>\n",
       "\t<li>'0.0'</li>\n",
       "\t<li>'0.0'</li>\n",
       "\t<li>'0.0'</li>\n",
       "\t<li>'0.0'</li>\n",
       "</ol>\n"
      ],
      "text/latex": [
       "\\begin{enumerate*}\n",
       "\\item '1139643118358'\n",
       "\\item '00:02:2D:21:0F:33'\n",
       "\\item '0.0'\n",
       "\\item '0.0'\n",
       "\\item '0.0'\n",
       "\\item '0.0'\n",
       "\\end{enumerate*}\n"
      ],
      "text/markdown": [
       "1. '1139643118358'\n",
       "2. '00:02:2D:21:0F:33'\n",
       "3. '0.0'\n",
       "4. '0.0'\n",
       "5. '0.0'\n",
       "6. '0.0'\n",
       "\n",
       "\n"
      ],
      "text/plain": [
       "[1] \"1139643118358\"     \"00:02:2D:21:0F:33\" \"0.0\"              \n",
       "[4] \"0.0\"               \"0.0\"               \"0.0\"              "
      ]
     },
     "metadata": {},
     "output_type": "display_data"
    },
    {
     "data": {
      "text/html": [
       "<ol class=list-inline>\n",
       "\t<li>'00:14:bf:b1:97:8a'</li>\n",
       "\t<li>'-38'</li>\n",
       "\t<li>'2437000000'</li>\n",
       "\t<li>'3'</li>\n",
       "\t<li>'00:14:bf:b1:97:90'</li>\n",
       "\t<li>'-56'</li>\n",
       "\t<li>'2427000000'</li>\n",
       "\t<li>'3'</li>\n",
       "\t<li>'00:0f:a3:39:e1:c0'</li>\n",
       "\t<li>'-53'</li>\n",
       "\t<li>'2462000000'</li>\n",
       "\t<li>'3'</li>\n",
       "\t<li>'00:14:bf:b1:97:8d'</li>\n",
       "\t<li>'-65'</li>\n",
       "\t<li>'2442000000'</li>\n",
       "\t<li>'3'</li>\n",
       "\t<li>'00:14:bf:b1:97:81'</li>\n",
       "\t<li>'-65'</li>\n",
       "\t<li>'2422000000'</li>\n",
       "\t<li>'3'</li>\n",
       "\t<li>'00:14:bf:3b:c7:c6'</li>\n",
       "\t<li>'-66'</li>\n",
       "\t<li>'2432000000'</li>\n",
       "\t<li>'3'</li>\n",
       "\t<li>'00:0f:a3:39:dd:cd'</li>\n",
       "\t<li>'-75'</li>\n",
       "\t<li>'2412000000'</li>\n",
       "\t<li>'3'</li>\n",
       "\t<li>'00:0f:a3:39:e0:4b'</li>\n",
       "\t<li>'-78'</li>\n",
       "\t<li>'2462000000'</li>\n",
       "\t<li>'3'</li>\n",
       "\t<li>'00:0f:a3:39:e2:10'</li>\n",
       "\t<li>'-87'</li>\n",
       "\t<li>'2437000000'</li>\n",
       "\t<li>'3'</li>\n",
       "\t<li>'02:64:fb:68:52:e6'</li>\n",
       "\t<li>'-88'</li>\n",
       "\t<li>'2447000000'</li>\n",
       "\t<li>'1'</li>\n",
       "\t<li>'02:00:42:55:31:00'</li>\n",
       "\t<li>'-84'</li>\n",
       "\t<li>'2457000000'</li>\n",
       "\t<li>'1'</li>\n",
       "</ol>\n"
      ],
      "text/latex": [
       "\\begin{enumerate*}\n",
       "\\item '00:14:bf:b1:97:8a'\n",
       "\\item '-38'\n",
       "\\item '2437000000'\n",
       "\\item '3'\n",
       "\\item '00:14:bf:b1:97:90'\n",
       "\\item '-56'\n",
       "\\item '2427000000'\n",
       "\\item '3'\n",
       "\\item '00:0f:a3:39:e1:c0'\n",
       "\\item '-53'\n",
       "\\item '2462000000'\n",
       "\\item '3'\n",
       "\\item '00:14:bf:b1:97:8d'\n",
       "\\item '-65'\n",
       "\\item '2442000000'\n",
       "\\item '3'\n",
       "\\item '00:14:bf:b1:97:81'\n",
       "\\item '-65'\n",
       "\\item '2422000000'\n",
       "\\item '3'\n",
       "\\item '00:14:bf:3b:c7:c6'\n",
       "\\item '-66'\n",
       "\\item '2432000000'\n",
       "\\item '3'\n",
       "\\item '00:0f:a3:39:dd:cd'\n",
       "\\item '-75'\n",
       "\\item '2412000000'\n",
       "\\item '3'\n",
       "\\item '00:0f:a3:39:e0:4b'\n",
       "\\item '-78'\n",
       "\\item '2462000000'\n",
       "\\item '3'\n",
       "\\item '00:0f:a3:39:e2:10'\n",
       "\\item '-87'\n",
       "\\item '2437000000'\n",
       "\\item '3'\n",
       "\\item '02:64:fb:68:52:e6'\n",
       "\\item '-88'\n",
       "\\item '2447000000'\n",
       "\\item '1'\n",
       "\\item '02:00:42:55:31:00'\n",
       "\\item '-84'\n",
       "\\item '2457000000'\n",
       "\\item '1'\n",
       "\\end{enumerate*}\n"
      ],
      "text/markdown": [
       "1. '00:14:bf:b1:97:8a'\n",
       "2. '-38'\n",
       "3. '2437000000'\n",
       "4. '3'\n",
       "5. '00:14:bf:b1:97:90'\n",
       "6. '-56'\n",
       "7. '2427000000'\n",
       "8. '3'\n",
       "9. '00:0f:a3:39:e1:c0'\n",
       "10. '-53'\n",
       "11. '2462000000'\n",
       "12. '3'\n",
       "13. '00:14:bf:b1:97:8d'\n",
       "14. '-65'\n",
       "15. '2442000000'\n",
       "16. '3'\n",
       "17. '00:14:bf:b1:97:81'\n",
       "18. '-65'\n",
       "19. '2422000000'\n",
       "20. '3'\n",
       "21. '00:14:bf:3b:c7:c6'\n",
       "22. '-66'\n",
       "23. '2432000000'\n",
       "24. '3'\n",
       "25. '00:0f:a3:39:dd:cd'\n",
       "26. '-75'\n",
       "27. '2412000000'\n",
       "28. '3'\n",
       "29. '00:0f:a3:39:e0:4b'\n",
       "30. '-78'\n",
       "31. '2462000000'\n",
       "32. '3'\n",
       "33. '00:0f:a3:39:e2:10'\n",
       "34. '-87'\n",
       "35. '2437000000'\n",
       "36. '3'\n",
       "37. '02:64:fb:68:52:e6'\n",
       "38. '-88'\n",
       "39. '2447000000'\n",
       "40. '1'\n",
       "41. '02:00:42:55:31:00'\n",
       "42. '-84'\n",
       "43. '2457000000'\n",
       "44. '1'\n",
       "\n",
       "\n"
      ],
      "text/plain": [
       " [1] \"00:14:bf:b1:97:8a\" \"-38\"               \"2437000000\"       \n",
       " [4] \"3\"                 \"00:14:bf:b1:97:90\" \"-56\"              \n",
       " [7] \"2427000000\"        \"3\"                 \"00:0f:a3:39:e1:c0\"\n",
       "[10] \"-53\"               \"2462000000\"        \"3\"                \n",
       "[13] \"00:14:bf:b1:97:8d\" \"-65\"               \"2442000000\"       \n",
       "[16] \"3\"                 \"00:14:bf:b1:97:81\" \"-65\"              \n",
       "[19] \"2422000000\"        \"3\"                 \"00:14:bf:3b:c7:c6\"\n",
       "[22] \"-66\"               \"2432000000\"        \"3\"                \n",
       "[25] \"00:0f:a3:39:dd:cd\" \"-75\"               \"2412000000\"       \n",
       "[28] \"3\"                 \"00:0f:a3:39:e0:4b\" \"-78\"              \n",
       "[31] \"2462000000\"        \"3\"                 \"00:0f:a3:39:e2:10\"\n",
       "[34] \"-87\"               \"2437000000\"        \"3\"                \n",
       "[37] \"02:64:fb:68:52:e6\" \"-88\"               \"2447000000\"       \n",
       "[40] \"1\"                 \"02:00:42:55:31:00\" \"-84\"              \n",
       "[43] \"2457000000\"        \"1\"                "
      ]
     },
     "metadata": {},
     "output_type": "display_data"
    },
    {
     "data": {
      "text/html": [
       "<ol class=list-inline>\n",
       "\t<li>11</li>\n",
       "\t<li>10</li>\n",
       "</ol>\n"
      ],
      "text/latex": [
       "\\begin{enumerate*}\n",
       "\\item 11\n",
       "\\item 10\n",
       "\\end{enumerate*}\n"
      ],
      "text/markdown": [
       "1. 11\n",
       "2. 10\n",
       "\n",
       "\n"
      ],
      "text/plain": [
       "[1] 11 10"
      ]
     },
     "metadata": {},
     "output_type": "display_data"
    },
    {
     "data": {
      "text/html": [
       "<ol class=list-inline>\n",
       "\t<li>11</li>\n",
       "\t<li>10</li>\n",
       "\t<li>10</li>\n",
       "\t<li>11</li>\n",
       "\t<li>9</li>\n",
       "\t<li>10</li>\n",
       "\t<li>9</li>\n",
       "\t<li>9</li>\n",
       "\t<li>10</li>\n",
       "\t<li>11</li>\n",
       "\t<li>11</li>\n",
       "\t<li>9</li>\n",
       "\t<li>9</li>\n",
       "\t<li>9</li>\n",
       "\t<li>8</li>\n",
       "\t<li>10</li>\n",
       "\t<li>14</li>\n",
       "</ol>\n"
      ],
      "text/latex": [
       "\\begin{enumerate*}\n",
       "\\item 11\n",
       "\\item 10\n",
       "\\item 10\n",
       "\\item 11\n",
       "\\item 9\n",
       "\\item 10\n",
       "\\item 9\n",
       "\\item 9\n",
       "\\item 10\n",
       "\\item 11\n",
       "\\item 11\n",
       "\\item 9\n",
       "\\item 9\n",
       "\\item 9\n",
       "\\item 8\n",
       "\\item 10\n",
       "\\item 14\n",
       "\\end{enumerate*}\n"
      ],
      "text/markdown": [
       "1. 11\n",
       "2. 10\n",
       "3. 10\n",
       "4. 11\n",
       "5. 9\n",
       "6. 10\n",
       "7. 9\n",
       "8. 9\n",
       "9. 10\n",
       "10. 11\n",
       "11. 11\n",
       "12. 9\n",
       "13. 9\n",
       "14. 9\n",
       "15. 8\n",
       "16. 10\n",
       "17. 14\n",
       "\n",
       "\n"
      ],
      "text/plain": [
       " [1] 11 10 10 11  9 10  9  9 10 11 11  9  9  9  8 10 14"
      ]
     },
     "metadata": {},
     "output_type": "display_data"
    },
    {
     "data": {
      "text/html": [
       "<ol class=list-inline>\n",
       "\t<li>170</li>\n",
       "\t<li>10</li>\n",
       "</ol>\n"
      ],
      "text/latex": [
       "\\begin{enumerate*}\n",
       "\\item 170\n",
       "\\item 10\n",
       "\\end{enumerate*}\n"
      ],
      "text/markdown": [
       "1. 170\n",
       "2. 10\n",
       "\n",
       "\n"
      ],
      "text/plain": [
       "[1] 170  10"
      ]
     },
     "metadata": {},
     "output_type": "display_data"
    },
    {
     "name": "stderr",
     "output_type": "stream",
     "text": [
      "Warning message in matrix(tokens[c(2, 4, 6:8, 10)], nrow = nrow(tmp), ncol = 6, :\n",
      "\"data length exceeds size of matrix\"Warning message in matrix(tokens[c(2, 4, 6:8, 10)], nrow = nrow(tmp), ncol = 6, :\n",
      "\"data length exceeds size of matrix\"Warning message in matrix(tokens[c(2, 4, 6:8, 10)], nrow = nrow(tmp), ncol = 6, :\n",
      "\"data length exceeds size of matrix\"Warning message in matrix(tokens[c(2, 4, 6:8, 10)], nrow = nrow(tmp), ncol = 6, :\n",
      "\"data length exceeds size of matrix\"Warning message in matrix(tokens[c(2, 4, 6:8, 10)], nrow = nrow(tmp), ncol = 6, :\n",
      "\"data length exceeds size of matrix\"Warning message in matrix(tokens[c(2, 4, 6:8, 10)], nrow = nrow(tmp), ncol = 6, :\n",
      "\"data length exceeds size of matrix\""
     ]
    }
   ],
   "source": [
    "\n",
    "options(digits = 2)\n",
    "\n",
    "txt = readLines(\"offline.final.trace.txt\")\n",
    "\n",
    "sum(substr(txt, 1, 1) == \"#\")\n",
    "\n",
    "length(txt)\n",
    "\n",
    "strsplit(txt[4], \";\")[[1]]\n",
    "\n",
    "tokens = strsplit(txt[4], \"[;=,]\")[[1]]\n",
    "\n",
    "tokens[1:10]\n",
    "\n",
    "tokens[c(2, 4, 6:8, 10)]\n",
    "\n",
    "tokens[ - ( 1:10 ) ]\n",
    "\n",
    "tmp = matrix(tokens[ - (1:10) ], ncol = 4, byrow = TRUE)\n",
    "mat = cbind(matrix(tokens[c(2, 4, 6:8, 10)], nrow = nrow(tmp),\n",
    "                   ncol = 6, byrow = TRUE), \n",
    "            tmp)\n",
    "\n",
    "dim(mat)\n",
    "\n",
    "processLine =\n",
    "function(x)\n",
    "{\n",
    "  tokens = strsplit(x, \"[;=,]\")[[1]]\n",
    "  tmp = matrix(tokens[ - (1:10) ], ncol = 4, byrow = TRUE)\n",
    "  cbind(matrix(tokens[c(2, 4, 6:8, 10)], nrow = nrow(tmp),\n",
    "               ncol = 6, byrow = TRUE), tmp)\n",
    "}\n",
    "\n",
    "tmp = lapply(txt[4:20], processLine)\n",
    "\n",
    "sapply(tmp, nrow)\n",
    "\n",
    "offline = as.data.frame(do.call(\"rbind\", tmp))\n",
    "dim(offline)\n",
    "\n",
    "lines = txt[ substr(txt, 1, 1) != \"#\" ]\n",
    "tmp = lapply(lines, processLine)\n",
    "\n",
    "processLine = function(x)\n",
    "{\n",
    "  tokens = strsplit(x, \"[;=,]\")[[1]]\n",
    "  \n",
    "  if (length(tokens) == 10) \n",
    "    return(NULL)\n",
    " \n",
    "  tmp = matrix(tokens[ - (1:10) ], , 4, byrow = TRUE)\n",
    "  cbind(matrix(tokens[c(2, 4, 6:8, 10)], nrow(tmp), 6, \n",
    "               byrow = TRUE), tmp)\n",
    "}\n",
    "\n",
    "options(error = recover, warn = 1)\n",
    "tmp = lapply(lines, processLine)\n",
    "offline = as.data.frame(do.call(\"rbind\", tmp), \n",
    "                        stringsAsFactors = FALSE)\n"
   ]
  },
  {
   "cell_type": "markdown",
   "metadata": {},
   "source": [
    "# Processing of data raw to format that can used for analysis. Separates the text file and creates a sort of data frame with fields given in the names(offline) in the next cell below."
   ]
  },
  {
   "cell_type": "code",
   "execution_count": 2,
   "metadata": {},
   "outputs": [
    {
     "data": {
      "text/html": [
       "<ol class=list-inline>\n",
       "\t<li>1181628</li>\n",
       "\t<li>10</li>\n",
       "</ol>\n"
      ],
      "text/latex": [
       "\\begin{enumerate*}\n",
       "\\item 1181628\n",
       "\\item 10\n",
       "\\end{enumerate*}\n"
      ],
      "text/markdown": [
       "1. 1181628\n",
       "2. 10\n",
       "\n",
       "\n"
      ],
      "text/plain": [
       "[1] 1181628      10"
      ]
     },
     "metadata": {},
     "output_type": "display_data"
    },
    {
     "data": {
      "text/html": [
       "<ol class=list-inline>\n",
       "\t<li>978443</li>\n",
       "\t<li>9</li>\n",
       "</ol>\n"
      ],
      "text/latex": [
       "\\begin{enumerate*}\n",
       "\\item 978443\n",
       "\\item 9\n",
       "\\end{enumerate*}\n"
      ],
      "text/markdown": [
       "1. 978443\n",
       "2. 9\n",
       "\n",
       "\n"
      ],
      "text/plain": [
       "[1] 978443      9"
      ]
     },
     "metadata": {},
     "output_type": "display_data"
    }
   ],
   "source": [
    "dim(offline)\n",
    "\n",
    "names(offline) = c(\"time\", \"scanMac\", \"posX\", \"posY\", \"posZ\", \n",
    "                   \"orientation\", \"mac\", \"signal\", \n",
    "                   \"channel\", \"type\")\n",
    "\n",
    "numVars = c(\"time\", \"posX\", \"posY\", \"posZ\", \n",
    "            \"orientation\", \"signal\")\n",
    "offline[ numVars ] =  lapply(offline[ numVars ], as.numeric)\n",
    "\n",
    "offline = offline[ offline$type == \"3\", ]\n",
    "offline = offline[ , \"type\" != names(offline) ]\n",
    "dim(offline)\n",
    "\n",
    "offline$rawTime = offline$time\n",
    "offline$time = offline$time/1000\n",
    "class(offline$time) = c(\"POSIXt\", \"POSIXct\")"
   ]
  },
  {
   "cell_type": "markdown",
   "metadata": {},
   "source": [
    "# Creates the field names and also changes the formatting of the variables to numeric since all were character before. Drops the adhoc data and coverts the time to milliseconds"
   ]
  },
  {
   "cell_type": "code",
   "execution_count": 3,
   "metadata": {},
   "outputs": [
    {
     "data": {
      "text/html": [
       "<dl class=dl-horizontal>\n",
       "\t<dt>time1</dt>\n",
       "\t\t<dd>'POSIXt'</dd>\n",
       "\t<dt>time2</dt>\n",
       "\t\t<dd>'POSIXct'</dd>\n",
       "\t<dt>scanMac</dt>\n",
       "\t\t<dd>'character'</dd>\n",
       "\t<dt>posX</dt>\n",
       "\t\t<dd>'numeric'</dd>\n",
       "\t<dt>posY</dt>\n",
       "\t\t<dd>'numeric'</dd>\n",
       "\t<dt>posZ</dt>\n",
       "\t\t<dd>'numeric'</dd>\n",
       "\t<dt>orientation</dt>\n",
       "\t\t<dd>'numeric'</dd>\n",
       "\t<dt>mac</dt>\n",
       "\t\t<dd>'character'</dd>\n",
       "\t<dt>signal</dt>\n",
       "\t\t<dd>'numeric'</dd>\n",
       "\t<dt>channel</dt>\n",
       "\t\t<dd>'character'</dd>\n",
       "\t<dt>rawTime</dt>\n",
       "\t\t<dd>'numeric'</dd>\n",
       "</dl>\n"
      ],
      "text/latex": [
       "\\begin{description*}\n",
       "\\item[time1] 'POSIXt'\n",
       "\\item[time2] 'POSIXct'\n",
       "\\item[scanMac] 'character'\n",
       "\\item[posX] 'numeric'\n",
       "\\item[posY] 'numeric'\n",
       "\\item[posZ] 'numeric'\n",
       "\\item[orientation] 'numeric'\n",
       "\\item[mac] 'character'\n",
       "\\item[signal] 'numeric'\n",
       "\\item[channel] 'character'\n",
       "\\item[rawTime] 'numeric'\n",
       "\\end{description*}\n"
      ],
      "text/markdown": [
       "time1\n",
       ":   'POSIXt'time2\n",
       ":   'POSIXct'scanMac\n",
       ":   'character'posX\n",
       ":   'numeric'posY\n",
       ":   'numeric'posZ\n",
       ":   'numeric'orientation\n",
       ":   'numeric'mac\n",
       ":   'character'signal\n",
       ":   'numeric'channel\n",
       ":   'character'rawTime\n",
       ":   'numeric'\n",
       "\n"
      ],
      "text/plain": [
       "      time1       time2     scanMac        posX        posY        posZ \n",
       "   \"POSIXt\"   \"POSIXct\" \"character\"   \"numeric\"   \"numeric\"   \"numeric\" \n",
       "orientation         mac      signal     channel     rawTime \n",
       "  \"numeric\" \"character\"   \"numeric\" \"character\"   \"numeric\" "
      ]
     },
     "metadata": {},
     "output_type": "display_data"
    },
    {
     "data": {
      "text/plain": [
       "      time                          posX         posY           posZ  \n",
       " Min.   :2006-02-11 02:31:58   Min.   : 0   Min.   : 0.0   Min.   :0  \n",
       " 1st Qu.:2006-02-11 08:21:27   1st Qu.: 2   1st Qu.: 3.0   1st Qu.:0  \n",
       " Median :2006-02-11 14:57:58   Median :12   Median : 6.0   Median :0  \n",
       " Mean   :2006-02-16 09:57:37   Mean   :14   Mean   : 5.9   Mean   :0  \n",
       " 3rd Qu.:2006-02-19 09:52:40   3rd Qu.:23   3rd Qu.: 8.0   3rd Qu.:0  \n",
       " Max.   :2006-03-09 15:41:10   Max.   :33   Max.   :13.0   Max.   :0  \n",
       "  orientation      signal   \n",
       " Min.   :  0   Min.   :-99  \n",
       " 1st Qu.: 90   1st Qu.:-69  \n",
       " Median :180   Median :-60  \n",
       " Mean   :167   Mean   :-62  \n",
       " 3rd Qu.:270   3rd Qu.:-53  \n",
       " Max.   :360   Max.   :-25  "
      ]
     },
     "metadata": {},
     "output_type": "display_data"
    },
    {
     "data": {
      "text/plain": [
       "                mac               channel                    scanMac      \n",
       " 00:0f:a3:39:e1:c0:145862   2462000000:189774   00:02:2D:21:0F:33:978443  \n",
       " 00:0f:a3:39:dd:cd:145619   2437000000:152124                             \n",
       " 00:14:bf:b1:97:8a:132962   2412000000:145619                             \n",
       " 00:14:bf:3b:c7:c6:126529   2432000000:126529                             \n",
       " 00:14:bf:b1:97:90:122315   2427000000:122315                             \n",
       " 00:14:bf:b1:97:8d:121325   2442000000:121325                             \n",
       " (Other)          :183831   (Other)   :120757                             "
      ]
     },
     "metadata": {},
     "output_type": "display_data"
    },
    {
     "data": {
      "text/html": [
       "203"
      ],
      "text/latex": [
       "203"
      ],
      "text/markdown": [
       "203"
      ],
      "text/plain": [
       "[1] 203"
      ]
     },
     "metadata": {},
     "output_type": "display_data"
    },
    {
     "data": {
      "image/png": "[encoded data removed]",
      "text/plain": [
       "Plot with title \"ecdf(offline$orientation)\""
      ]
     },
     "metadata": {},
     "output_type": "display_data"
    }
   ],
   "source": [
    "unlist(lapply(offline, class))\n",
    "\n",
    "summary(offline[, numVars])\n",
    "\n",
    " summary(sapply(offline[ , c(\"mac\", \"channel\", \"scanMac\")],\n",
    "                as.factor))\n",
    "\n",
    "offline = offline[ , !(names(offline) %in% c(\"scanMac\", \"posZ\"))]\n",
    "\n",
    "length(unique(offline$orientation))\n",
    "\n",
    "plot(ecdf(offline$orientation))"
   ]
  },
  {
   "cell_type": "markdown",
   "metadata": {},
   "source": [
    "# Checks the data for reasonableness. However, found the orientations are not exactly the same as the documentation for 8 basic orientations. Therefore, need to cleaning of data set later. "
   ]
  },
  {
   "cell_type": "code",
   "execution_count": 4,
   "metadata": {},
   "outputs": [
    {
     "data": {
      "text/html": [
       "<strong>null device:</strong> 1"
      ],
      "text/latex": [
       "\\textbf{null device:} 1"
      ],
      "text/markdown": [
       "**null device:** 1"
      ],
      "text/plain": [
       "null device \n",
       "          1 "
      ]
     },
     "metadata": {},
     "output_type": "display_data"
    },
    {
     "data": {
      "image/png": "[encoded data removed]",
      "text/plain": [
       "Plot with title \"\""
      ]
     },
     "metadata": {},
     "output_type": "display_data"
    }
   ],
   "source": [
    "#pdf(file = \"Geo_ECDFOrientation.pdf\", width = 10, height = 7)\n",
    "oldPar = par(mar = c(4, 4, 1, 1))\n",
    "plot(ecdf(offline$orientation), pch = 19, cex = 0.3,\n",
    "     xlim = c(-5, 365), axes = FALSE,\n",
    "     xlab = \"orientation\", ylab = \"Empirical CDF\", main = \"\")\n",
    "box()\n",
    "axis(2)\n",
    "axis(side = 1, at = seq(0, 360, by = 45))\n",
    "par(oldPar)\n",
    "dev.off()"
   ]
  },
  {
   "cell_type": "markdown",
   "metadata": {},
   "source": [
    "# Changes the graph to look like the text."
   ]
  },
  {
   "cell_type": "code",
   "execution_count": 5,
   "metadata": {},
   "outputs": [
    {
     "data": {
      "text/html": [
       "<strong>null device:</strong> 1"
      ],
      "text/latex": [
       "\\textbf{null device:} 1"
      ],
      "text/markdown": [
       "**null device:** 1"
      ],
      "text/plain": [
       "null device \n",
       "          1 "
      ]
     },
     "metadata": {},
     "output_type": "display_data"
    },
    {
     "data": {
      "text/html": [
       "<strong>null device:</strong> 1"
      ],
      "text/latex": [
       "\\textbf{null device:} 1"
      ],
      "text/markdown": [
       "**null device:** 1"
      ],
      "text/plain": [
       "null device \n",
       "          1 "
      ]
     },
     "metadata": {},
     "output_type": "display_data"
    },
    {
     "data": {
      "image/png": "[encoded data removed]",
      "text/plain": [
       "Plot with title \"\""
      ]
     },
     "metadata": {},
     "output_type": "display_data"
    }
   ],
   "source": [
    "#pdf(file = \"Geo_DensityOrientation.pdf\", width = 10, height = 5)\n",
    "oldPar = par(mar = c(4, 4, 1, 1))\n",
    "plot(density(offline$orientation, bw = 2), \n",
    " xlab = \"orientation\", main = \"\")\n",
    "par(oldPar)\n",
    "dev.off()\n",
    "\n",
    "roundOrientation = function(angles) {\n",
    "  refs = seq(0, by = 45, length  = 9)\n",
    "  q = sapply(angles, function(o) which.min(abs(o - refs)))\n",
    "  c(refs[1:8], 0)[q]\n",
    "}\n",
    "\n",
    "offline$angle = roundOrientation(offline$orientation)\n",
    "\n",
    "#pdf(file = \"Geo_BoxplotAngle.pdf\", width = 10)\n",
    "oldPar = par(mar = c(4, 4, 1, 1))\n",
    "\n",
    "par(oldPar)\n",
    "dev.off()"
   ]
  },
  {
   "cell_type": "markdown",
   "metadata": {},
   "source": [
    "# Looks at density instead of box plots but the same concept to see if there is separate distributions or the one continous distribution. "
   ]
  },
  {
   "cell_type": "code",
   "execution_count": 6,
   "metadata": {},
   "outputs": [
    {
     "data": {
      "text/html": [
       "<ol class=list-inline>\n",
       "\t<li>12</li>\n",
       "\t<li>8</li>\n",
       "</ol>\n"
      ],
      "text/latex": [
       "\\begin{enumerate*}\n",
       "\\item 12\n",
       "\\item 8\n",
       "\\end{enumerate*}\n"
      ],
      "text/markdown": [
       "1. 12\n",
       "2. 8\n",
       "\n",
       "\n"
      ],
      "text/plain": [
       "[1] 12  8"
      ]
     },
     "metadata": {},
     "output_type": "display_data"
    },
    {
     "data": {
      "text/plain": [
       "\n",
       "00:04:0e:5c:23:fc 00:0f:a3:39:dd:cd 00:0f:a3:39:e0:4b 00:0f:a3:39:e1:c0 \n",
       "              418            145619             43508            145862 \n",
       "00:0f:a3:39:e2:10 00:14:bf:3b:c7:c6 00:14:bf:b1:97:81 00:14:bf:b1:97:8a \n",
       "            19162            126529            120339            132962 \n",
       "00:14:bf:b1:97:8d 00:14:bf:b1:97:90 00:30:bd:f8:7f:c5 00:e0:63:82:8b:a9 \n",
       "           121325            122315               301               103 "
      ]
     },
     "metadata": {},
     "output_type": "display_data"
    },
    {
     "data": {
      "text/html": [
       "<dl class=dl-horizontal>\n",
       "\t<dt>00:0f:a3:39:dd:cd</dt>\n",
       "\t\t<dd>1</dd>\n",
       "\t<dt>00:0f:a3:39:e1:c0</dt>\n",
       "\t\t<dd>1</dd>\n",
       "\t<dt>00:14:bf:3b:c7:c6</dt>\n",
       "\t\t<dd>1</dd>\n",
       "\t<dt>00:14:bf:b1:97:81</dt>\n",
       "\t\t<dd>1</dd>\n",
       "\t<dt>00:14:bf:b1:97:8a</dt>\n",
       "\t\t<dd>1</dd>\n",
       "\t<dt>00:14:bf:b1:97:8d</dt>\n",
       "\t\t<dd>1</dd>\n",
       "\t<dt>00:14:bf:b1:97:90</dt>\n",
       "\t\t<dd>1</dd>\n",
       "</dl>\n"
      ],
      "text/latex": [
       "\\begin{description*}\n",
       "\\item[00:0f:a3:39:dd:cd] 1\n",
       "\\item[00:0f:a3:39:e1:c0] 1\n",
       "\\item[00:14:bf:3b:c7:c6] 1\n",
       "\\item[00:14:bf:b1:97:81] 1\n",
       "\\item[00:14:bf:b1:97:8a] 1\n",
       "\\item[00:14:bf:b1:97:8d] 1\n",
       "\\item[00:14:bf:b1:97:90] 1\n",
       "\\end{description*}\n"
      ],
      "text/markdown": [
       "00:0f:a3:39:dd:cd\n",
       ":   100:0f:a3:39:e1:c0\n",
       ":   100:14:bf:3b:c7:c6\n",
       ":   100:14:bf:b1:97:81\n",
       ":   100:14:bf:b1:97:8a\n",
       ":   100:14:bf:b1:97:8d\n",
       ":   100:14:bf:b1:97:90\n",
       ":   1\n",
       "\n"
      ],
      "text/plain": [
       "00:0f:a3:39:dd:cd 00:0f:a3:39:e1:c0 00:14:bf:3b:c7:c6 00:14:bf:b1:97:81 \n",
       "                1                 1                 1                 1 \n",
       "00:14:bf:b1:97:8a 00:14:bf:b1:97:8d 00:14:bf:b1:97:90 \n",
       "                1                 1                 1 "
      ]
     },
     "metadata": {},
     "output_type": "display_data"
    }
   ],
   "source": [
    "c(length(unique(offline$mac)), length(unique(offline$channel)))\n",
    "\n",
    "table(offline$mac)\n",
    "\n",
    "subMacs = names(sort(table(offline$mac), decreasing = TRUE))[1:7]\n",
    "offline = offline[ offline$mac %in% subMacs, ]\n",
    "\n",
    "macChannel = with(offline, table(mac, channel))\n",
    "apply(macChannel, 1, function(x) sum(x > 0))"
   ]
  },
  {
   "cell_type": "markdown",
   "metadata": {},
   "source": [
    "# This where the mac addresses are kept and dropped"
   ]
  },
  {
   "cell_type": "code",
   "execution_count": 7,
   "metadata": {},
   "outputs": [
    {
     "data": {
      "text/html": [
       "476"
      ],
      "text/latex": [
       "476"
      ],
      "text/markdown": [
       "476"
      ],
      "text/plain": [
       "[1] 476"
      ]
     },
     "metadata": {},
     "output_type": "display_data"
    },
    {
     "data": {
      "text/html": [
       "310"
      ],
      "text/latex": [
       "310"
      ],
      "text/markdown": [
       "310"
      ],
      "text/plain": [
       "[1] 310"
      ]
     },
     "metadata": {},
     "output_type": "display_data"
    },
    {
     "data": {
      "text/html": [
       "166"
      ],
      "text/latex": [
       "166"
      ],
      "text/markdown": [
       "166"
      ],
      "text/plain": [
       "[1] 166"
      ]
     },
     "metadata": {},
     "output_type": "display_data"
    },
    {
     "data": {
      "text/html": [
       "'matrix'"
      ],
      "text/latex": [
       "'matrix'"
      ],
      "text/markdown": [
       "'matrix'"
      ],
      "text/plain": [
       "[1] \"matrix\""
      ]
     },
     "metadata": {},
     "output_type": "display_data"
    },
    {
     "data": {
      "text/html": [
       "<ol class=list-inline>\n",
       "\t<li>3</li>\n",
       "\t<li>166</li>\n",
       "</ol>\n"
      ],
      "text/latex": [
       "\\begin{enumerate*}\n",
       "\\item 3\n",
       "\\item 166\n",
       "\\end{enumerate*}\n"
      ],
      "text/markdown": [
       "1. 3\n",
       "2. 166\n",
       "\n",
       "\n"
      ],
      "text/plain": [
       "[1]   3 166"
      ]
     },
     "metadata": {},
     "output_type": "display_data"
    },
    {
     "data": {
      "text/html": [
       "<table>\n",
       "<tbody>\n",
       "\t<tr><th scope=row>posX</th><td>0</td><td>1</td><td>2</td><td>0</td><td>1</td><td>2</td><td>0</td><td>1</td></tr>\n",
       "\t<tr><th scope=row>posY</th><td>0</td><td>0</td><td>0</td><td>1</td><td>1</td><td>1</td><td>2</td><td>2</td></tr>\n",
       "\t<tr><th scope=row>count</th><td>5505</td><td>5505</td><td>5506</td><td>5524</td><td>5543</td><td>5558</td><td>5503</td><td>5564</td></tr>\n",
       "</tbody>\n",
       "</table>\n"
      ],
      "text/latex": [
       "\\begin{tabular}{r|llllllll}\n",
       "\tposX & 0 & 1 & 2 & 0 & 1 & 2 & 0 & 1\\\\\n",
       "\tposY & 0 & 0 & 0 & 1 & 1 & 1 & 2 & 2\\\\\n",
       "\tcount & 5505 & 5505 & 5506 & 5524 & 5543 & 5558 & 5503 & 5564\\\\\n",
       "\\end{tabular}\n"
      ],
      "text/markdown": [
       "\n",
       "| posX | 0 | 1 | 2 | 0 | 1 | 2 | 0 | 1 | \n",
       "| posY | 0 | 0 | 0 | 1 | 1 | 1 | 2 | 2 | \n",
       "| count | 5505 | 5505 | 5506 | 5524 | 5543 | 5558 | 5503 | 5564 | \n",
       "\n",
       "\n"
      ],
      "text/plain": [
       "      [,1] [,2] [,3] [,4] [,5] [,6] [,7] [,8]\n",
       "posX  0    1    2    0    1    2    0    1   \n",
       "posY  0    0    0    1    1    1    2    2   \n",
       "count 5505 5505 5506 5524 5543 5558 5503 5564"
      ]
     },
     "metadata": {},
     "output_type": "display_data"
    }
   ],
   "source": [
    "offline = offline[ , \"channel\" != names(offline)]\n",
    "\n",
    "locDF = with(offline, \n",
    "             by(offline, list(posX, posY), function(x) x))\n",
    "length(locDF)\n",
    "\n",
    "\n",
    "sum(sapply(locDF, is.null))\n",
    "\n",
    "locDF = locDF[ !sapply(locDF, is.null) ]\n",
    "\n",
    "length(locDF)\n",
    "\n",
    "locCounts = sapply(locDF, nrow)\n",
    "\n",
    "locCounts = sapply(locDF, \n",
    "                   function(df) \n",
    "                     c(df[1, c(\"posX\", \"posY\")], count = nrow(df)))\n",
    "\n",
    "class(locCounts)\n",
    "\n",
    "dim(locCounts)\n",
    "\n",
    "locCounts[ , 1:8]"
   ]
  },
  {
   "cell_type": "code",
   "execution_count": 8,
   "metadata": {},
   "outputs": [
    {
     "data": {
      "text/html": [
       "<strong>null device:</strong> 1"
      ],
      "text/latex": [
       "\\textbf{null device:} 1"
      ],
      "text/markdown": [
       "**null device:** 1"
      ],
      "text/plain": [
       "null device \n",
       "          1 "
      ]
     },
     "metadata": {},
     "output_type": "display_data"
    },
    {
     "data": {
      "image/png": "[encoded data removed]",
      "text/plain": [
       "plot without title"
      ]
     },
     "metadata": {},
     "output_type": "display_data"
    }
   ],
   "source": [
    "#pdf(file = \"Geo_XYByCount.pdf\", width = 10)\n",
    "oldPar = par(mar = c(3.1, 3.1, 1, 1))\n",
    "\n",
    "locCounts = t(locCounts)\n",
    "plot(locCounts, type = \"n\", xlab = \"\", ylab = \"\")\n",
    "text(locCounts, labels = locCounts[,3], cex = .8, srt = 45)\n",
    "\n",
    "par(oldPar)\n",
    "dev.off()"
   ]
  },
  {
   "cell_type": "markdown",
   "metadata": {},
   "source": [
    "# Shows the distribution of the postition X and Y coordinates and where they are located on the map"
   ]
  },
  {
   "cell_type": "markdown",
   "metadata": {},
   "source": [
    "# START HERE Original Data Set With MAC Address 00:0f:a3:39:e1:c0 "
   ]
  },
  {
   "cell_type": "code",
   "execution_count": 9,
   "metadata": {},
   "outputs": [],
   "source": [
    "readData = \n",
    "  function(filename = 'offline.final.trace.txt', \n",
    "           subMacs = c(\"00:0f:a3:39:e1:c0\", \"00:14:bf:b1:97:8a\",\n",
    "                       \"00:14:bf:3b:c7:c6\", \"00:14:bf:b1:97:90\", \"00:14:bf:b1:97:8d\",\n",
    "                       \"00:14:bf:b1:97:81\"))\n",
    "  {\n",
    "    txt = readLines(filename)\n",
    "    lines = txt[ substr(txt, 1, 1) != \"#\" ]\n",
    "    tmp = lapply(lines, processLine)\n",
    "    offline0 = as.data.frame(do.call(\"rbind\", tmp), \n",
    "                            stringsAsFactors= FALSE) \n",
    "    \n",
    "    names(offline0) = c(\"time\", \"scanMac\", \n",
    "                       \"posX\", \"posY\", \"posZ\", \"orientation\", \n",
    "                       \"mac\", \"signal\", \"channel\", \"type\")\n",
    "    \n",
    "     # keep only signals from access points\n",
    "    offline0 = offline0[ offline0$type == \"3\", ]\n",
    "    \n",
    "    # drop scanMac, posZ, channel, and type - no info in them\n",
    "    dropVars = c(\"scanMac\", \"posZ\", \"channel\", \"type\")\n",
    "    offline0 = offline0[ , !( names(offline0) %in% dropVars ) ]\n",
    "    \n",
    "    # drop more unwanted access points\n",
    "    offline0 = offline0[ offline0$mac %in% subMacs, ]\n",
    "    \n",
    "    # convert numeric values\n",
    "    numVars = c(\"time\", \"posX\", \"posY\", \"orientation\", \"signal\")\n",
    "    offline0[ numVars ] = lapply(offline0[ numVars ], as.numeric)\n",
    "\n",
    "    # convert time to POSIX\n",
    "    offline0$rawTime = offline0$time\n",
    "    offline0$time = offline0$time/1000\n",
    "    class(offline0$time) = c(\"POSIXt\", \"POSIXct\")\n",
    "    \n",
    "    # round orientations to nearest 45\n",
    "    offline0$angle = roundOrientation(offline0$orientation)\n",
    "      \n",
    "    return(offline0)\n",
    "  }"
   ]
  },
  {
   "cell_type": "markdown",
   "metadata": {},
   "source": [
    "# New MAC Address with 00:0f:a3:39:dd:cd"
   ]
  },
  {
   "cell_type": "code",
   "execution_count": 10,
   "metadata": {},
   "outputs": [],
   "source": [
    "readDataNew = \n",
    "  function(filename = 'offline.final.trace.txt', \n",
    "           subMacs = c(\"00:0f:a3:39:dd:cd\", \"00:14:bf:b1:97:8a\",\n",
    "                       \"00:14:bf:3b:c7:c6\", \"00:14:bf:b1:97:90\", \"00:14:bf:b1:97:8d\",\n",
    "                       \"00:14:bf:b1:97:81\"))\n",
    "  {\n",
    "    txt = readLines(filename)\n",
    "    lines = txt[ substr(txt, 1, 1) != \"#\" ]\n",
    "    tmp = lapply(lines, processLine)\n",
    "    offline1 = as.data.frame(do.call(\"rbind\", tmp), \n",
    "                            stringsAsFactors= FALSE) \n",
    "    \n",
    "    names(offline1) = c(\"time\", \"scanMac\", \n",
    "                       \"posX\", \"posY\", \"posZ\", \"orientation\", \n",
    "                       \"mac\", \"signal\", \"channel\", \"type\")\n",
    "    \n",
    "     # keep only signals from access points\n",
    "    offline1 = offline1[ offline1$type == \"3\", ]\n",
    "    \n",
    "    # drop scanMac, posZ, channel, and type - no info in them\n",
    "    dropVars = c(\"scanMac\", \"posZ\", \"channel\", \"type\")\n",
    "    offline1 = offline1[ , !( names(offline1) %in% dropVars ) ]\n",
    "    \n",
    "    # drop more unwanted access points\n",
    "    offline1 = offline1[ offline1$mac %in% subMacs, ]\n",
    "    \n",
    "    # convert numeric values\n",
    "    numVars = c(\"time\", \"posX\", \"posY\", \"orientation\", \"signal\")\n",
    "    offline1[ numVars ] = lapply(offline1[ numVars ], as.numeric)\n",
    "\n",
    "    # convert time to POSIX\n",
    "    offline1$rawTime = offline1$time\n",
    "    offline1$time = offline1$time/1000\n",
    "    class(offline1$time) = c(\"POSIXt\", \"POSIXct\")\n",
    "    \n",
    "    # round orientations to nearest 45\n",
    "    offline1$angle = roundOrientation(offline1$orientation)\n",
    "      \n",
    "    return(offline1)\n",
    "  }"
   ]
  },
  {
   "cell_type": "markdown",
   "metadata": {},
   "source": [
    "# Both MAC Addresses"
   ]
  },
  {
   "cell_type": "code",
   "execution_count": 11,
   "metadata": {},
   "outputs": [],
   "source": [
    "readDataBoth = \n",
    "  function(filename = 'offline.final.trace.txt', \n",
    "           subMacs = c(\"00:0f:a3:39:e1:c0\", \"00:0f:a3:39:dd:cd\", \"00:14:bf:b1:97:8a\",\n",
    "                       \"00:14:bf:3b:c7:c6\", \"00:14:bf:b1:97:90\", \"00:14:bf:b1:97:8d\",\n",
    "                       \"00:14:bf:b1:97:81\"))\n",
    "  {\n",
    "    txt = readLines(filename)\n",
    "    lines = txt[ substr(txt, 1, 1) != \"#\" ]\n",
    "    tmp = lapply(lines, processLine)\n",
    "    offline2 = as.data.frame(do.call(\"rbind\", tmp), \n",
    "                            stringsAsFactors= FALSE) \n",
    "    \n",
    "    names(offline2) = c(\"time\", \"scanMac\", \n",
    "                       \"posX\", \"posY\", \"posZ\", \"orientation\", \n",
    "                       \"mac\", \"signal\", \"channel\", \"type\")\n",
    "    \n",
    "     # keep only signals from access points\n",
    "    offline2 = offline2[ offline2$type == \"3\", ]\n",
    "    \n",
    "    # drop scanMac, posZ, channel, and type - no info in them\n",
    "    dropVars = c(\"scanMac\", \"posZ\", \"channel\", \"type\")\n",
    "    offline2 = offline2[ , !( names(offline2) %in% dropVars ) ]\n",
    "    \n",
    "    # drop more unwanted access points\n",
    "    offline2 = offline2[ offline2$mac %in% subMacs, ]\n",
    "    \n",
    "    # convert numeric values\n",
    "    numVars = c(\"time\", \"posX\", \"posY\", \"orientation\", \"signal\")\n",
    "    offline2[ numVars ] = lapply(offline2[ numVars ], as.numeric)\n",
    "\n",
    "    # convert time to POSIX\n",
    "    offline2$rawTime = offline2$time\n",
    "    offline2$time = offline2$time/1000\n",
    "    class(offline2$time) = c(\"POSIXt\", \"POSIXct\")\n",
    "    \n",
    "    # round orientations to nearest 45\n",
    "    offline2$angle = roundOrientation(offline2$orientation)\n",
    "      \n",
    "    return(offline2)\n",
    "  }"
   ]
  },
  {
   "cell_type": "code",
   "execution_count": 12,
   "metadata": {},
   "outputs": [
    {
     "data": {
      "text/html": [
       "FALSE"
      ],
      "text/latex": [
       "FALSE"
      ],
      "text/markdown": [
       "FALSE"
      ],
      "text/plain": [
       "[1] FALSE"
      ]
     },
     "metadata": {},
     "output_type": "display_data"
    }
   ],
   "source": [
    "offlineRedo = readData()\n",
    "offlinenew = readDataNew()\n",
    "offlineBoth = readDataBoth()\n",
    "\n",
    "identical(offline, offlineRedo)"
   ]
  },
  {
   "cell_type": "markdown",
   "metadata": {},
   "source": [
    "# Check for Original Data Set"
   ]
  },
  {
   "cell_type": "code",
   "execution_count": 13,
   "metadata": {},
   "outputs": [
    {
     "data": {
      "text/html": [
       "<dl class=dl-horizontal>\n",
       "\t<dt>00:0f:a3:39:e1:c0</dt>\n",
       "\t\t<dd>1</dd>\n",
       "\t<dt>00:14:bf:3b:c7:c6</dt>\n",
       "\t\t<dd>1</dd>\n",
       "\t<dt>00:14:bf:b1:97:81</dt>\n",
       "\t\t<dd>1</dd>\n",
       "\t<dt>00:14:bf:b1:97:8a</dt>\n",
       "\t\t<dd>1</dd>\n",
       "\t<dt>00:14:bf:b1:97:8d</dt>\n",
       "\t\t<dd>1</dd>\n",
       "\t<dt>00:14:bf:b1:97:90</dt>\n",
       "\t\t<dd>1</dd>\n",
       "</dl>\n"
      ],
      "text/latex": [
       "\\begin{description*}\n",
       "\\item[00:0f:a3:39:e1:c0] 1\n",
       "\\item[00:14:bf:3b:c7:c6] 1\n",
       "\\item[00:14:bf:b1:97:81] 1\n",
       "\\item[00:14:bf:b1:97:8a] 1\n",
       "\\item[00:14:bf:b1:97:8d] 1\n",
       "\\item[00:14:bf:b1:97:90] 1\n",
       "\\end{description*}\n"
      ],
      "text/markdown": [
       "00:0f:a3:39:e1:c0\n",
       ":   100:14:bf:3b:c7:c6\n",
       ":   100:14:bf:b1:97:81\n",
       ":   100:14:bf:b1:97:8a\n",
       ":   100:14:bf:b1:97:8d\n",
       ":   100:14:bf:b1:97:90\n",
       ":   1\n",
       "\n"
      ],
      "text/plain": [
       "00:0f:a3:39:e1:c0 00:14:bf:3b:c7:c6 00:14:bf:b1:97:81 00:14:bf:b1:97:8a \n",
       "                1                 1                 1                 1 \n",
       "00:14:bf:b1:97:8d 00:14:bf:b1:97:90 \n",
       "                1                 1 "
      ]
     },
     "metadata": {},
     "output_type": "display_data"
    }
   ],
   "source": [
    "macChannel0 = with(offlineRedo, table(mac))\n",
    "apply(macChannel0, 1, function(x) sum(x > 0))"
   ]
  },
  {
   "cell_type": "markdown",
   "metadata": {},
   "source": [
    "# Check for New MAC Data Set"
   ]
  },
  {
   "cell_type": "code",
   "execution_count": 14,
   "metadata": {},
   "outputs": [
    {
     "data": {
      "text/html": [
       "<dl class=dl-horizontal>\n",
       "\t<dt>00:0f:a3:39:dd:cd</dt>\n",
       "\t\t<dd>1</dd>\n",
       "\t<dt>00:14:bf:3b:c7:c6</dt>\n",
       "\t\t<dd>1</dd>\n",
       "\t<dt>00:14:bf:b1:97:81</dt>\n",
       "\t\t<dd>1</dd>\n",
       "\t<dt>00:14:bf:b1:97:8a</dt>\n",
       "\t\t<dd>1</dd>\n",
       "\t<dt>00:14:bf:b1:97:8d</dt>\n",
       "\t\t<dd>1</dd>\n",
       "\t<dt>00:14:bf:b1:97:90</dt>\n",
       "\t\t<dd>1</dd>\n",
       "</dl>\n"
      ],
      "text/latex": [
       "\\begin{description*}\n",
       "\\item[00:0f:a3:39:dd:cd] 1\n",
       "\\item[00:14:bf:3b:c7:c6] 1\n",
       "\\item[00:14:bf:b1:97:81] 1\n",
       "\\item[00:14:bf:b1:97:8a] 1\n",
       "\\item[00:14:bf:b1:97:8d] 1\n",
       "\\item[00:14:bf:b1:97:90] 1\n",
       "\\end{description*}\n"
      ],
      "text/markdown": [
       "00:0f:a3:39:dd:cd\n",
       ":   100:14:bf:3b:c7:c6\n",
       ":   100:14:bf:b1:97:81\n",
       ":   100:14:bf:b1:97:8a\n",
       ":   100:14:bf:b1:97:8d\n",
       ":   100:14:bf:b1:97:90\n",
       ":   1\n",
       "\n"
      ],
      "text/plain": [
       "00:0f:a3:39:dd:cd 00:14:bf:3b:c7:c6 00:14:bf:b1:97:81 00:14:bf:b1:97:8a \n",
       "                1                 1                 1                 1 \n",
       "00:14:bf:b1:97:8d 00:14:bf:b1:97:90 \n",
       "                1                 1 "
      ]
     },
     "metadata": {},
     "output_type": "display_data"
    }
   ],
   "source": [
    "macChannel1 = with(offlinenew, table(mac))\n",
    "apply(macChannel1, 1, function(x) sum(x > 0))"
   ]
  },
  {
   "cell_type": "markdown",
   "metadata": {},
   "source": [
    "# Check for Both MAC Data Set"
   ]
  },
  {
   "cell_type": "code",
   "execution_count": 15,
   "metadata": {},
   "outputs": [
    {
     "data": {
      "text/html": [
       "<dl class=dl-horizontal>\n",
       "\t<dt>00:0f:a3:39:dd:cd</dt>\n",
       "\t\t<dd>1</dd>\n",
       "\t<dt>00:0f:a3:39:e1:c0</dt>\n",
       "\t\t<dd>1</dd>\n",
       "\t<dt>00:14:bf:3b:c7:c6</dt>\n",
       "\t\t<dd>1</dd>\n",
       "\t<dt>00:14:bf:b1:97:81</dt>\n",
       "\t\t<dd>1</dd>\n",
       "\t<dt>00:14:bf:b1:97:8a</dt>\n",
       "\t\t<dd>1</dd>\n",
       "\t<dt>00:14:bf:b1:97:8d</dt>\n",
       "\t\t<dd>1</dd>\n",
       "\t<dt>00:14:bf:b1:97:90</dt>\n",
       "\t\t<dd>1</dd>\n",
       "</dl>\n"
      ],
      "text/latex": [
       "\\begin{description*}\n",
       "\\item[00:0f:a3:39:dd:cd] 1\n",
       "\\item[00:0f:a3:39:e1:c0] 1\n",
       "\\item[00:14:bf:3b:c7:c6] 1\n",
       "\\item[00:14:bf:b1:97:81] 1\n",
       "\\item[00:14:bf:b1:97:8a] 1\n",
       "\\item[00:14:bf:b1:97:8d] 1\n",
       "\\item[00:14:bf:b1:97:90] 1\n",
       "\\end{description*}\n"
      ],
      "text/markdown": [
       "00:0f:a3:39:dd:cd\n",
       ":   100:0f:a3:39:e1:c0\n",
       ":   100:14:bf:3b:c7:c6\n",
       ":   100:14:bf:b1:97:81\n",
       ":   100:14:bf:b1:97:8a\n",
       ":   100:14:bf:b1:97:8d\n",
       ":   100:14:bf:b1:97:90\n",
       ":   1\n",
       "\n"
      ],
      "text/plain": [
       "00:0f:a3:39:dd:cd 00:0f:a3:39:e1:c0 00:14:bf:3b:c7:c6 00:14:bf:b1:97:81 \n",
       "                1                 1                 1                 1 \n",
       "00:14:bf:b1:97:8a 00:14:bf:b1:97:8d 00:14:bf:b1:97:90 \n",
       "                1                 1                 1 "
      ]
     },
     "metadata": {},
     "output_type": "display_data"
    }
   ],
   "source": [
    "macChannel2 = with(offlineBoth, table(mac))\n",
    "apply(macChannel2, 1, function(x) sum(x > 0))"
   ]
  },
  {
   "cell_type": "markdown",
   "metadata": {},
   "source": [
    "# I would start here for the data cleaning. Note here is where the condensed version of the data cleaning"
   ]
  },
  {
   "cell_type": "markdown",
   "metadata": {},
   "source": [
    "# Graphs of the Box plots and Density Function of Original Data Set"
   ]
  },
  {
   "cell_type": "code",
   "execution_count": 16,
   "metadata": {},
   "outputs": [
    {
     "data": {},
     "metadata": {},
     "output_type": "display_data"
    },
    {
     "data": {
      "text/html": [
       "<strong>null device:</strong> 1"
      ],
      "text/latex": [
       "\\textbf{null device:} 1"
      ],
      "text/markdown": [
       "**null device:** 1"
      ],
      "text/plain": [
       "null device \n",
       "          1 "
      ]
     },
     "metadata": {},
     "output_type": "display_data"
    },
    {
     "data": {
      "image/png": "[encoded data removed]",
      "text/plain": [
       "plot without title"
      ]
     },
     "metadata": {},
     "output_type": "display_data"
    }
   ],
   "source": [
    "#pdf(file = \"Geo_BoxplotSignalByMacAngle.pdf\", width = 7)\n",
    "oldPar = par(mar = c(3.1, 3, 1, 1))\n",
    "\n",
    "library(lattice)\n",
    "bwplot(signal ~ factor(angle) | mac, data = offlineRedo, \n",
    "       subset = posX == 2 & posY == 12 \n",
    "                & mac != \"00:0f:a3:39:dd:cd\", \n",
    "       layout = c(2,3))\n",
    "\n",
    "par(oldPar)\n",
    "dev.off()"
   ]
  },
  {
   "cell_type": "code",
   "execution_count": 17,
   "metadata": {},
   "outputs": [
    {
     "data": {
      "text/plain": [
       "   Min. 1st Qu.  Median    Mean 3rd Qu.    Max. \n",
       "    -93     -64     -58     -58     -51     -25 "
      ]
     },
     "metadata": {},
     "output_type": "display_data"
    },
    {
     "data": {},
     "metadata": {},
     "output_type": "display_data"
    },
    {
     "data": {
      "text/html": [
       "<strong>null device:</strong> 1"
      ],
      "text/latex": [
       "\\textbf{null device:} 1"
      ],
      "text/markdown": [
       "**null device:** 1"
      ],
      "text/plain": [
       "null device \n",
       "          1 "
      ]
     },
     "metadata": {},
     "output_type": "display_data"
    },
    {
     "data": {
      "image/png": "[encoded data removed]",
      "text/plain": [
       "plot without title"
      ]
     },
     "metadata": {},
     "output_type": "display_data"
    }
   ],
   "source": [
    "summary(offlineRedo$signal)\n",
    "\n",
    "#pdf(file = \"Geo_DensitySignalByMacAngle.pdf\", width = 8, height = 12)\n",
    "oldPar = par(mar = c(3.1, 3, 1, 1))\n",
    "\n",
    "densityplot( ~ signal | mac + factor(angle), data = offlineRedo,\n",
    "             subset = posX == 24 & posY == 4 & \n",
    "                         mac != \"00:0f:a3:39:dd:cd\",\n",
    "             bw = 0.5, plot.points = FALSE)\n",
    "\n",
    "par(oldPar)\n",
    "dev.off()"
   ]
  },
  {
   "cell_type": "markdown",
   "metadata": {},
   "source": [
    "# Graphs of the Box plots and Density Function of New Data Set"
   ]
  },
  {
   "cell_type": "code",
   "execution_count": 18,
   "metadata": {},
   "outputs": [
    {
     "data": {},
     "metadata": {},
     "output_type": "display_data"
    },
    {
     "data": {
      "text/html": [
       "<strong>null device:</strong> 1"
      ],
      "text/latex": [
       "\\textbf{null device:} 1"
      ],
      "text/markdown": [
       "**null device:** 1"
      ],
      "text/plain": [
       "null device \n",
       "          1 "
      ]
     },
     "metadata": {},
     "output_type": "display_data"
    },
    {
     "data": {
      "image/png": "[encoded data removed]",
      "text/plain": [
       "plot without title"
      ]
     },
     "metadata": {},
     "output_type": "display_data"
    }
   ],
   "source": [
    "#pdf(file = \"Geo_BoxplotSignalByMacAngle.pdf\", width = 7)\n",
    "oldPar = par(mar = c(3.1, 3, 1, 1))\n",
    "\n",
    "library(lattice)\n",
    "bwplot(signal ~ factor(angle) | mac, data = offlinenew, \n",
    "       subset = posX == 2 & posY == 12 \n",
    "                , \n",
    "       layout = c(2,3))\n",
    "\n",
    "par(oldPar)\n",
    "dev.off()"
   ]
  },
  {
   "cell_type": "code",
   "execution_count": 19,
   "metadata": {},
   "outputs": [
    {
     "data": {
      "text/plain": [
       "   Min. 1st Qu.  Median    Mean 3rd Qu.    Max. \n",
       "    -98     -69     -61     -61     -54     -25 "
      ]
     },
     "metadata": {},
     "output_type": "display_data"
    },
    {
     "data": {},
     "metadata": {},
     "output_type": "display_data"
    },
    {
     "data": {
      "text/html": [
       "<strong>null device:</strong> 1"
      ],
      "text/latex": [
       "\\textbf{null device:} 1"
      ],
      "text/markdown": [
       "**null device:** 1"
      ],
      "text/plain": [
       "null device \n",
       "          1 "
      ]
     },
     "metadata": {},
     "output_type": "display_data"
    },
    {
     "data": {
      "image/png": "[encoded data removed]",
      "text/plain": [
       "plot without title"
      ]
     },
     "metadata": {},
     "output_type": "display_data"
    }
   ],
   "source": [
    "summary(offlinenew$signal)\n",
    "\n",
    "#pdf(file = \"Geo_DensitySignalByMacAngle.pdf\", width = 8, height = 12)\n",
    "oldPar = par(mar = c(3.1, 3, 1, 1))\n",
    "\n",
    "densityplot( ~ signal | mac + factor(angle), data = offlinenew,\n",
    "             subset = posX == 24 & posY == 4,\n",
    "             bw = 0.5, plot.points = FALSE)\n",
    "\n",
    "par(oldPar)\n",
    "dev.off()"
   ]
  },
  {
   "cell_type": "markdown",
   "metadata": {},
   "source": [
    "# Graphs of the Box plots and Density Function of Both Data Set"
   ]
  },
  {
   "cell_type": "code",
   "execution_count": 20,
   "metadata": {},
   "outputs": [
    {
     "data": {},
     "metadata": {},
     "output_type": "display_data"
    },
    {
     "data": {
      "text/html": [
       "<strong>null device:</strong> 1"
      ],
      "text/latex": [
       "\\textbf{null device:} 1"
      ],
      "text/markdown": [
       "**null device:** 1"
      ],
      "text/plain": [
       "null device \n",
       "          1 "
      ]
     },
     "metadata": {},
     "output_type": "display_data"
    },
    {
     "data": {
      "image/png": "[encoded data removed]",
      "text/plain": [
       "plot without title"
      ]
     },
     "metadata": {},
     "output_type": "display_data"
    }
   ],
   "source": [
    "#pdf(file = \"Geo_BoxplotSignalByMacAngle.pdf\", width = 7)\n",
    "oldPar = par(mar = c(3.1, 3, 1, 1))\n",
    "\n",
    "library(lattice)\n",
    "bwplot(signal ~ factor(angle) | mac, data = offlineBoth, \n",
    "       subset = posX == 2 & posY == 12 ,\n",
    "         xlab=\"Orientation\"       , \n",
    "       layout = c(2,4))\n",
    "\n",
    "par(oldPar)\n",
    "dev.off()"
   ]
  },
  {
   "cell_type": "code",
   "execution_count": null,
   "metadata": {},
   "outputs": [
    {
     "data": {
      "text/plain": [
       "   Min. 1st Qu.  Median    Mean 3rd Qu.    Max. \n",
       "    -98     -67     -59     -60     -53     -25 "
      ]
     },
     "metadata": {},
     "output_type": "display_data"
    }
   ],
   "source": [
    "summary(offlineBoth$signal)\n",
    "\n",
    "#pdf(file = \"Geo_DensitySignalByMacAngle.pdf\", width = 8, height = 12)\n",
    "oldPar = par(mar = c(3.1, 3, 1, 1))\n",
    "\n",
    "densityplot( ~ signal | mac + factor(angle), data = offlineBoth,\n",
    "             subset = posX == 24 & posY == 4,\n",
    "             bw = 0.5, plot.points = FALSE)\n",
    "\n",
    "par(oldPar)\n",
    "dev.off()"
   ]
  },
  {
   "cell_type": "markdown",
   "metadata": {},
   "source": [
    "# The SD of Signal Strength by Mean Signal Strength for the Original"
   ]
  },
  {
   "cell_type": "code",
   "execution_count": null,
   "metadata": {},
   "outputs": [],
   "source": [
    "#offline = offline[ offline$mac != \"00:0f:a3:39:dd:cd\", ]\n",
    "\n",
    "offlineRedo$posXY = paste(offlineRedo$posX, offlineRedo$posY, sep = \"-\")\n",
    "\n",
    "byLocAngleAPRedo = with(offlineRedo, \n",
    "                    by(offlineRedo, list(posXY, angle, mac), \n",
    "                       function(x) x))"
   ]
  },
  {
   "cell_type": "code",
   "execution_count": null,
   "metadata": {},
   "outputs": [],
   "source": [
    "signalSummaryRedo = \n",
    "  lapply(byLocAngleAPRedo,            \n",
    "         function(oneLoc) {\n",
    "           ans = oneLoc[1, ]\n",
    "           ans$medSignal = median(oneLoc$signal)\n",
    "           ans$avgSignal = mean(oneLoc$signal)\n",
    "           ans$num = length(oneLoc$signal)\n",
    "           ans$sdSignal = sd(oneLoc$signal)\n",
    "           ans$iqrSignal = IQR(oneLoc$signal)\n",
    "           ans\n",
    "           })"
   ]
  },
  {
   "cell_type": "code",
   "execution_count": null,
   "metadata": {},
   "outputs": [],
   "source": [
    "offlineSummaryRedo = do.call(\"rbind\", signalSummaryRedo)     \n",
    "\n",
    "#pdf(file = \"Geo_BoxplotSignalSDByAvg.pdf\", width = 10)\n",
    "oldPar = par(mar = c(3.1, 3, 1, 1))\n",
    "\n",
    "breaks = seq(-90, -30, by = 5)\n",
    "bwplot(sdSignal ~ cut(avgSignal, breaks = breaks),\n",
    "       data = offlineSummaryRedo, \n",
    "       subset = mac != \"00:0f:a3:39:dd:cd\",\n",
    "       xlab = \"Mean Signal\", ylab = \"SD Signal\")\n",
    "\n",
    "par(oldPar)\n",
    "dev.off()\n",
    "\n",
    "#pdf(file = \"Geo_ScatterMean-Median.pdf\", width = 10)\n",
    "oldPar = par(mar = c(4.1, 4.1, 1, 1))\n",
    "\n",
    "with(offlineSummaryRedo,\n",
    "     smoothScatter((avgSignal - medSignal) ~ num,\n",
    "                   xlab = \"Number of Observations\", \n",
    "                   ylab = \"mean - median\"))\n",
    "abline(h = 0, col = \"#984ea3\", lwd = 2)\n",
    "lo.obj = \n",
    "  with(offlineSummaryRedo,\n",
    "       loess(diff ~ num, \n",
    "             data = data.frame(diff = (avgSignal - medSignal),\n",
    "                               num = num)))\n",
    "\n",
    "lo.obj.pr = predict(lo.obj, newdata = data.frame(num = (70:120)))\n",
    "lines(x = 70:120, y = lo.obj.pr, col = \"#4daf4a\", lwd = 2)\n",
    "\n",
    "par(oldPar)\n",
    "dev.off()"
   ]
  },
  {
   "cell_type": "markdown",
   "metadata": {},
   "source": [
    "# The SD of Signal Strength by Mean Signal Strength for the New"
   ]
  },
  {
   "cell_type": "code",
   "execution_count": null,
   "metadata": {},
   "outputs": [],
   "source": [
    "#offline = offline[ offline$mac != \"00:0f:a3:39:dd:cd\", ]\n",
    "\n",
    "offlinenew$posXY = paste(offlinenew$posX, offlinenew$posY, sep = \"-\")\n",
    "\n",
    "byLocAngleAPnew = with(offlinenew, \n",
    "                    by(offlinenew, list(posXY, angle, mac), \n",
    "                       function(x) x))"
   ]
  },
  {
   "cell_type": "code",
   "execution_count": null,
   "metadata": {},
   "outputs": [],
   "source": [
    "signalSummarynew = \n",
    "  lapply(byLocAngleAPnew,            \n",
    "         function(oneLoc) {\n",
    "           ans = oneLoc[1, ]\n",
    "           ans$medSignal = median(oneLoc$signal)\n",
    "           ans$avgSignal = mean(oneLoc$signal)\n",
    "           ans$num = length(oneLoc$signal)\n",
    "           ans$sdSignal = sd(oneLoc$signal)\n",
    "           ans$iqrSignal = IQR(oneLoc$signal)\n",
    "           ans\n",
    "           })"
   ]
  },
  {
   "cell_type": "code",
   "execution_count": null,
   "metadata": {},
   "outputs": [],
   "source": [
    "offlineSummarynew = do.call(\"rbind\", signalSummarynew)     \n",
    "\n",
    "#pdf(file = \"Geo_BoxplotSignalSDByAvg.pdf\", width = 10)\n",
    "oldPar = par(mar = c(3.1, 3, 1, 1))\n",
    "\n",
    "breaks = seq(-90, -30, by = 5)\n",
    "bwplot(sdSignal ~ cut(avgSignal, breaks = breaks),\n",
    "       data = offlineSummarynew, \n",
    "       \n",
    "       xlab = \"Mean Signal\", ylab = \"SD Signal\")\n",
    "\n",
    "par(oldPar)\n",
    "dev.off()\n",
    "\n",
    "#pdf(file = \"Geo_ScatterMean-Median.pdf\", width = 10)\n",
    "oldPar = par(mar = c(4.1, 4.1, 1, 1))\n",
    "\n",
    "with(offlineSummarynew,\n",
    "     smoothScatter((avgSignal - medSignal) ~ num,\n",
    "                   xlab = \"Number of Observations\", \n",
    "                   ylab = \"mean - median\"))\n",
    "abline(h = 0, col = \"#984ea3\", lwd = 2)\n",
    "lo.obj = \n",
    "  with(offlineSummarynew,\n",
    "       loess(diff ~ num, \n",
    "             data = data.frame(diff = (avgSignal - medSignal),\n",
    "                               num = num)))\n",
    "\n",
    "lo.obj.pr = predict(lo.obj, newdata = data.frame(num = (70:120)))\n",
    "lines(x = 70:120, y = lo.obj.pr, col = \"#4daf4a\", lwd = 2)\n",
    "\n",
    "par(oldPar)\n",
    "dev.off()"
   ]
  },
  {
   "cell_type": "markdown",
   "metadata": {},
   "source": [
    "# The SD of Signal Strength by Mean Signal Strength for Both"
   ]
  },
  {
   "cell_type": "code",
   "execution_count": null,
   "metadata": {},
   "outputs": [],
   "source": [
    "#offline = offline[ offline$mac != \"00:0f:a3:39:dd:cd\", ]\n",
    "\n",
    "offlineBoth$posXY = paste(offlineBoth$posX, offlineBoth$posY, sep = \"-\")\n",
    "\n",
    "byLocAngleAPBoth = with(offlineBoth, \n",
    "                    by(offlineBoth, list(posXY, angle, mac), \n",
    "                       function(x) x))"
   ]
  },
  {
   "cell_type": "code",
   "execution_count": null,
   "metadata": {},
   "outputs": [],
   "source": [
    "signalSummaryBoth = \n",
    "  lapply(byLocAngleAPBoth,            \n",
    "         function(oneLoc) {\n",
    "           ans = oneLoc[1, ]\n",
    "           ans$medSignal = median(oneLoc$signal)\n",
    "           ans$avgSignal = mean(oneLoc$signal)\n",
    "           ans$num = length(oneLoc$signal)\n",
    "           ans$sdSignal = sd(oneLoc$signal)\n",
    "           ans$iqrSignal = IQR(oneLoc$signal)\n",
    "           ans\n",
    "           })"
   ]
  },
  {
   "cell_type": "code",
   "execution_count": null,
   "metadata": {},
   "outputs": [],
   "source": [
    "offlineSummaryBoth = do.call(\"rbind\", signalSummaryBoth)     \n",
    "\n",
    "#pdf(file = \"Geo_BoxplotSignalSDByAvg.pdf\", width = 10)\n",
    "oldPar = par(mar = c(3.1, 3, 1, 1))\n",
    "\n",
    "breaks = seq(-90, -30, by = 5)\n",
    "bwplot(sdSignal ~ cut(avgSignal, breaks = breaks),\n",
    "       data = offlineSummaryBoth, \n",
    "       \n",
    "       xlab = \"Mean Signal\", ylab = \"SD Signal\")\n",
    "\n",
    "par(oldPar)\n",
    "dev.off()\n",
    "\n",
    "#pdf(file = \"Geo_ScatterMean-Median.pdf\", width = 10)\n",
    "oldPar = par(mar = c(4.1, 4.1, 1, 1))\n",
    "\n",
    "with(offlineSummaryBoth,\n",
    "     smoothScatter((avgSignal - medSignal) ~ num,\n",
    "                   xlab = \"Number of Observations\", \n",
    "                   ylab = \"mean - median\"))\n",
    "abline(h = 0, col = \"#984ea3\", lwd = 2)\n",
    "lo.obj = \n",
    "  with(offlineSummaryBoth,\n",
    "       loess(diff ~ num, \n",
    "             data = data.frame(diff = (avgSignal - medSignal),\n",
    "                               num = num)))\n",
    "\n",
    "lo.obj.pr = predict(lo.obj, newdata = data.frame(num = (70:120)))\n",
    "lines(x = 70:120, y = lo.obj.pr, col = \"#4daf4a\", lwd = 2)\n",
    "\n",
    "par(oldPar)\n",
    "dev.off()"
   ]
  },
  {
   "cell_type": "markdown",
   "metadata": {},
   "source": [
    "# Examining the distribution of signal strength for all 166 locations, 8 angles, and 6 access points.  NOT Used Below"
   ]
  },
  {
   "cell_type": "code",
   "execution_count": null,
   "metadata": {},
   "outputs": [],
   "source": [
    "\n",
    " \n",
    "oneAPAngle = subset(offlineSummary, \n",
    "                    mac == subMacs[5] & angle == 0)\n",
    "\n",
    "\n",
    "\n"
   ]
  },
  {
   "cell_type": "code",
   "execution_count": null,
   "metadata": {},
   "outputs": [],
   "source": [
    "library(fields)\n",
    "smoothSS = Tps(oneAPAngle[, c(\"posX\",\"posY\")], \n",
    "               oneAPAngle$avgSignal)\n",
    "\n",
    "vizSmooth = predictSurface(smoothSS)\n",
    "\n",
    "plot.surface(vizSmooth, type = \"C\")\n",
    "\n",
    "points(oneAPAngle$posX, oneAPAngle$posY, pch=19, cex = 0.5)"
   ]
  },
  {
   "cell_type": "code",
   "execution_count": null,
   "metadata": {},
   "outputs": [],
   "source": [
    "surfaceSS = function(data, mac, angle = 45) {\n",
    "  require(fields)\n",
    "  oneAPAngle = data[ data$mac == mac & data$angle == angle, ]\n",
    "  smoothSS = Tps(oneAPAngle[, c(\"posX\",\"posY\")], \n",
    "                 oneAPAngle$avgSignal)\n",
    "  vizSmooth = predictSurface(smoothSS)\n",
    "  plot.surface(vizSmooth, type = \"C\", \n",
    "               xlab = \"\", ylab = \"\", xaxt = \"n\", yaxt = \"n\")\n",
    "  points(oneAPAngle$posX, oneAPAngle$posY, pch=19, cex = 0.5) \n",
    "}\n",
    "\n",
    "parCur = par(mfrow = c(2,2), mar = rep(1, 4))\n",
    "\n",
    "mapply(surfaceSS, mac = subMacs[ rep(c(5, 1), each = 2) ], \n",
    "       angle = rep(c(0, 135), 2),\n",
    "       data = list(data = offlineSummary))\n",
    " \n",
    "par(parCur)\n",
    "\n",
    "offlineSummary = subset(offlineSummary, mac != subMacs[2])"
   ]
  },
  {
   "cell_type": "code",
   "execution_count": null,
   "metadata": {},
   "outputs": [],
   "source": [
    "AP = matrix( c( 7.5, 6.3, 2.5, -.8, 12.8, -2.8,  \n",
    "                1, 14, 33.5, 9.3,  33.5, 2.8),\n",
    "            ncol = 2, byrow = TRUE,\n",
    "            dimnames = list(subMacs[ -2 ], c(\"x\", \"y\") ))\n",
    "\n",
    "AP\n",
    "\n",
    "diffs = offlineSummary[ , c(\"posX\", \"posY\")] - \n",
    "          AP[ offlineSummary$mac, ]\n",
    "\n",
    "offlineSummary$dist = sqrt(diffs[ , 1]^2 + diffs[ , 2]^2)\n",
    "\n",
    "xyplot(signal ~ dist | factor(mac) + factor(angle), \n",
    "       data = offlineSummary, pch = 19, cex = 0.3,\n",
    "       xlab =\"distance\")"
   ]
  },
  {
   "cell_type": "code",
   "execution_count": null,
   "metadata": {},
   "outputs": [],
   "source": [
    "#pdf(file=\"Geo_ScatterSignalDist.pdf\", width = 7, height = 10)\n",
    "oldPar = par(mar = c(3.1, 3.1, 1, 1))\n",
    "library(lattice)\n",
    "xyplot(signal ~ dist | factor(mac) + factor(angle), \n",
    "       data = offlineSummary, pch = 19, cex = 0.3,\n",
    "       xlab =\"distance\")\n",
    "par(oldPar)\n",
    "dev.off()"
   ]
  },
  {
   "cell_type": "markdown",
   "metadata": {},
   "source": [
    "# Looks at the Signal Strength and Distance Relationship"
   ]
  },
  {
   "cell_type": "markdown",
   "metadata": {},
   "source": [
    "# Creating Training and Testing Data set for Original"
   ]
  },
  {
   "cell_type": "code",
   "execution_count": null,
   "metadata": {},
   "outputs": [],
   "source": [
    "macs = unique(offlineSummaryRedo$mac)\n",
    "online = readData(\"online.final.trace.txt\", subMacs = macs)\n",
    "\n",
    "online$posXY = paste(online$posX, online$posY, sep = \"-\")\n",
    "\n",
    "length(unique(online$posXY))\n",
    "\n",
    "tabonlineXYA = table(online$posXY, online$angle)\n",
    "tabonlineXYA[1:6, ]\n",
    "\n",
    "keepVars = c(\"posXY\", \"posX\",\"posY\", \"orientation\", \"angle\")\n",
    "byLoc = with(online, \n",
    "             by(online, list(posXY), \n",
    "                function(x) {\n",
    "                  ans = x[1, keepVars]\n",
    "                  avgSS = tapply(x$signal, x$mac, mean)\n",
    "                  y = matrix(avgSS, nrow = 1, ncol = 6,\n",
    "                        dimnames = list(ans$posXY, names(avgSS)))\n",
    "                  cbind(ans, y)\n",
    "                }))\n",
    "\n",
    "onlineSummaryRedo = do.call(\"rbind\", byLoc)  \n",
    "\n",
    "dim(onlineSummaryRedo)"
   ]
  },
  {
   "cell_type": "code",
   "execution_count": null,
   "metadata": {},
   "outputs": [],
   "source": [
    "names(onlineSummaryRedo)\n",
    "m = 3; angleNewObs = 230\n",
    "refs = seq(0, by = 45, length  = 8)\n",
    "nearestAngle = roundOrientation(angleNewObs)\n",
    "  \n",
    "if (m %% 2 == 1) {\n",
    "  angles = seq(-45 * (m - 1) /2, 45 * (m - 1) /2, length = m)\n",
    "} else {\n",
    "  m = m + 1\n",
    "  angles = seq(-45 * (m - 1) /2, 45 * (m - 1) /2, length = m)\n",
    "  if (sign(angleNewObs - nearestAngle) > -1) \n",
    "    angles = angles[ -1 ]\n",
    "  else \n",
    "    angles = angles[ -m ]\n",
    "}\n",
    "angles = angles + nearestAngle\n",
    "angles[angles < 0] = angles[ angles < 0 ] + 360\n",
    "angles[angles > 360] = angles[ angles > 360 ] - 360\n"
   ]
  },
  {
   "cell_type": "code",
   "execution_count": null,
   "metadata": {},
   "outputs": [],
   "source": [
    "offlineSubset = \n",
    "  offlineSummaryRedo[ offlineSummaryRedo$angle %in% angles, ]\n",
    "\n",
    "reshapeSS = function(data, varSignal = \"signal\", \n",
    "                     keepVars = c(\"posXY\", \"posX\",\"posY\")) {\n",
    "  byLocation =\n",
    "    with(data, by(data, list(posXY), \n",
    "                  function(x) {\n",
    "                    ans = x[1, keepVars]\n",
    "                    avgSS = tapply(x[ , varSignal ], x$mac, mean)\n",
    "                    y = matrix(avgSS, nrow = 1, ncol = 6,\n",
    "                               dimnames = list(ans$posXY,\n",
    "                                               names(avgSS)))\n",
    "                    cbind(ans, y)\n",
    "                  }))\n",
    "\n",
    "  newDataSS = do.call(\"rbind\", byLocation)\n",
    "  return(newDataSS)\n",
    "}"
   ]
  },
  {
   "cell_type": "code",
   "execution_count": null,
   "metadata": {},
   "outputs": [],
   "source": [
    "trainSS = reshapeSS(offlineSubset, varSignal = \"avgSignal\")\n",
    "\n",
    "selectTrain = function(angleNewObs, signals = NULL, m = 1){\n",
    "  # m is the number of angles to keep between 1 and 5\n",
    "  refs = seq(0, by = 45, length  = 8)\n",
    "  nearestAngle = roundOrientation(angleNewObs)\n",
    "  \n",
    "  if (m %% 2 == 1) \n",
    "    angles = seq(-45 * (m - 1) /2, 45 * (m - 1) /2, length = m)\n",
    "  else {\n",
    "    m = m + 1\n",
    "    angles = seq(-45 * (m - 1) /2, 45 * (m - 1) /2, length = m)\n",
    "    if (sign(angleNewObs - nearestAngle) > -1) \n",
    "      angles = angles[ -1 ]\n",
    "    else \n",
    "      angles = angles[ -m ]\n",
    "  }\n",
    "  angles = angles + nearestAngle\n",
    "  angles[angles < 0] = angles[ angles < 0 ] + 360\n",
    "  angles[angles > 360] = angles[ angles > 360 ] - 360\n",
    "  angles = sort(angles) \n",
    "  \n",
    "  offlineSubset = signals[ signals$angle %in% angles, ]\n",
    "  reshapeSS(offlineSubset, varSignal = \"avgSignal\")\n",
    "}"
   ]
  },
  {
   "cell_type": "code",
   "execution_count": null,
   "metadata": {},
   "outputs": [],
   "source": [
    "train130 = selectTrain(130, offlineSummaryRedo, m = 3)\n",
    "\n",
    "head(train130)\n",
    "\n",
    "length(train130[[1]])\n",
    "\n",
    "findNN = function(newSignal, trainSubset) {\n",
    "  diffs = apply(trainSubset[ , 4:9], 1, \n",
    "                function(x) x - newSignal)\n",
    "  dists = apply(diffs, 2, function(x) sqrt(sum(x^2)) )\n",
    "  closest = order(dists)\n",
    "  return(trainSubset[closest, 1:3 ])\n",
    "}"
   ]
  },
  {
   "cell_type": "code",
   "execution_count": null,
   "metadata": {},
   "outputs": [],
   "source": [
    "predXY = function(newSignals, newAngles, trainData, \n",
    "                  numAngles = 1, k = 3){\n",
    "  \n",
    "  closeXY = list(length = nrow(newSignals))\n",
    "  \n",
    "  for (i in 1:nrow(newSignals)) {\n",
    "    trainSS = selectTrain(newAngles[i], trainData, m = numAngles)\n",
    "    closeXY[[i]] = \n",
    "      findNN(newSignal = as.numeric(newSignals[i, ]), trainSS)\n",
    "  }\n",
    "\n",
    "  estXY = lapply(closeXY, \n",
    "                 function(x) sapply(x[ , 2:3], \n",
    "                                    function(x) mean(x[1:k])))\n",
    "  estXY = do.call(\"rbind\", estXY)\n",
    "  return(estXY)\n",
    "}\n",
    "estXYkRedo = predXY(newSignals = onlineSummaryRedo[ , 6:11], \n",
    "                 newAngles = onlineSummaryRedo[ , 4], \n",
    "                 offlineSummaryRedo, numAngles = 3, k = 6)\n",
    "#estXYkRedo\n"
   ]
  },
  {
   "cell_type": "code",
   "execution_count": null,
   "metadata": {},
   "outputs": [],
   "source": [
    "predXYalt = function(newSignals, newAngles, trainData, \n",
    "                  numAngles = 1, k = 3){\n",
    "  \n",
    "  closeXY = list(length = nrow(newSignals))\n",
    "  \n",
    "  for (i in 1:nrow(newSignals)) {\n",
    "    trainSS = selectTrain(newAngles[i], trainData, m = numAngles)\n",
    "    closeXY[[i]] = \n",
    "      findNN(newSignal = as.numeric(newSignals[i, ]), trainSS)\n",
    "  }\n",
    "\n",
    " estXY= lapply(closeXY, \n",
    "                 function(x) sapply(x[ , 2:3], \n",
    "                                    function(x) sum((1/(x+0.01)*x)/sum(1/(x[1:k]+0.01))  )))\n",
    "  estXY = do.call(\"rbind\", estXY)\n",
    "  return(estXY)\n",
    "}\n",
    "estXYkRedoalt = predXYalt(newSignals = onlineSummaryRedo[ , 6:11], \n",
    "                 newAngles = onlineSummaryRedo[ , 4], \n",
    "                 offlineSummaryRedo, numAngles = 3, k = 6)\n",
    "\n",
    "#estXYkRedoalt\n",
    "#length(estXYkRedoalt)\n",
    "#((1/(x+0.00001))*(x))/\n"
   ]
  },
  {
   "cell_type": "markdown",
   "metadata": {},
   "source": [
    "# Creating Training and Testing Data set for New"
   ]
  },
  {
   "cell_type": "code",
   "execution_count": null,
   "metadata": {},
   "outputs": [],
   "source": [
    "macs = unique(offlineSummarynew$mac)\n",
    "online = readData(\"online.final.trace.txt\", subMacs = macs)\n",
    "\n",
    "online$posXY = paste(online$posX, online$posY, sep = \"-\")\n",
    "\n",
    "length(unique(online$posXY))\n",
    "\n",
    "tabonlineXYA = table(online$posXY, online$angle)\n",
    "tabonlineXYA[1:6, ]\n",
    "\n",
    "keepVars = c(\"posXY\", \"posX\",\"posY\", \"orientation\", \"angle\")\n",
    "byLoc = with(online, \n",
    "             by(online, list(posXY), \n",
    "                function(x) {\n",
    "                  ans = x[1, keepVars]\n",
    "                  avgSS = tapply(x$signal, x$mac, mean)\n",
    "                  y = matrix(avgSS, nrow = 1, ncol = 6,\n",
    "                        dimnames = list(ans$posXY, names(avgSS)))\n",
    "                  cbind(ans, y)\n",
    "                }))\n",
    "\n",
    "onlineSummarynew = do.call(\"rbind\", byLoc)  \n",
    "\n",
    "dim(onlineSummarynew)"
   ]
  },
  {
   "cell_type": "code",
   "execution_count": null,
   "metadata": {},
   "outputs": [],
   "source": [
    "names(onlineSummarynew)\n",
    "m = 3; angleNewObs = 230\n",
    "refs = seq(0, by = 45, length  = 8)\n",
    "nearestAngle = roundOrientation(angleNewObs)\n",
    "  \n",
    "if (m %% 2 == 1) {\n",
    "  angles = seq(-45 * (m - 1) /2, 45 * (m - 1) /2, length = m)\n",
    "} else {\n",
    "  m = m + 1\n",
    "  angles = seq(-45 * (m - 1) /2, 45 * (m - 1) /2, length = m)\n",
    "  if (sign(angleNewObs - nearestAngle) > -1) \n",
    "    angles = angles[ -1 ]\n",
    "  else \n",
    "    angles = angles[ -m ]\n",
    "}\n",
    "angles = angles + nearestAngle\n",
    "angles[angles < 0] = angles[ angles < 0 ] + 360\n",
    "angles[angles > 360] = angles[ angles > 360 ] - 360\n"
   ]
  },
  {
   "cell_type": "code",
   "execution_count": null,
   "metadata": {},
   "outputs": [],
   "source": [
    "offlineSubset = \n",
    "  offlineSummarynew[ offlineSummarynew$angle %in% angles, ]\n",
    "\n",
    "reshapeSS = function(data, varSignal = \"signal\", \n",
    "                     keepVars = c(\"posXY\", \"posX\",\"posY\")) {\n",
    "  byLocation =\n",
    "    with(data, by(data, list(posXY), \n",
    "                  function(x) {\n",
    "                    ans = x[1, keepVars]\n",
    "                    avgSS = tapply(x[ , varSignal ], x$mac, mean)\n",
    "                    y = matrix(avgSS, nrow = 1, ncol = 6,\n",
    "                               dimnames = list(ans$posXY,\n",
    "                                               names(avgSS)))\n",
    "                    cbind(ans, y)\n",
    "                  }))\n",
    "\n",
    "  newDataSS = do.call(\"rbind\", byLocation)\n",
    "  return(newDataSS)\n",
    "}"
   ]
  },
  {
   "cell_type": "code",
   "execution_count": null,
   "metadata": {},
   "outputs": [],
   "source": [
    "trainSS = reshapeSS(offlineSubset, varSignal = \"avgSignal\")\n",
    "\n",
    "selectTrain = function(angleNewObs, signals = NULL, m = 1){\n",
    "  # m is the number of angles to keep between 1 and 5\n",
    "  refs = seq(0, by = 45, length  = 8)\n",
    "  nearestAngle = roundOrientation(angleNewObs)\n",
    "  \n",
    "  if (m %% 2 == 1) \n",
    "    angles = seq(-45 * (m - 1) /2, 45 * (m - 1) /2, length = m)\n",
    "  else {\n",
    "    m = m + 1\n",
    "    angles = seq(-45 * (m - 1) /2, 45 * (m - 1) /2, length = m)\n",
    "    if (sign(angleNewObs - nearestAngle) > -1) \n",
    "      angles = angles[ -1 ]\n",
    "    else \n",
    "      angles = angles[ -m ]\n",
    "  }\n",
    "  angles = angles + nearestAngle\n",
    "  angles[angles < 0] = angles[ angles < 0 ] + 360\n",
    "  angles[angles > 360] = angles[ angles > 360 ] - 360\n",
    "  angles = sort(angles) \n",
    "  \n",
    "  offlineSubset = signals[ signals$angle %in% angles, ]\n",
    "  reshapeSS(offlineSubset, varSignal = \"avgSignal\")\n",
    "}"
   ]
  },
  {
   "cell_type": "code",
   "execution_count": null,
   "metadata": {},
   "outputs": [],
   "source": [
    "train130 = selectTrain(130, offlineSummarynew, m = 3)\n",
    "\n",
    "head(train130)\n",
    "\n",
    "length(train130[[1]])\n",
    "\n",
    "findNN = function(newSignal, trainSubset) {\n",
    "  diffs = apply(trainSubset[ , 4:9], 1, \n",
    "                function(x) x - newSignal)\n",
    "  dists = apply(diffs, 2, function(x) sqrt(sum(x^2)) )\n",
    "  closest = order(dists)\n",
    "  return(trainSubset[closest, 1:3 ])\n",
    "}"
   ]
  },
  {
   "cell_type": "code",
   "execution_count": null,
   "metadata": {},
   "outputs": [],
   "source": [
    "predXY = function(newSignals, newAngles, trainData, \n",
    "                  numAngles = 1, k = 3){\n",
    "  \n",
    "  closeXY = list(length = nrow(newSignals))\n",
    "  \n",
    "  for (i in 1:nrow(newSignals)) {\n",
    "    trainSS = selectTrain(newAngles[i], trainData, m = numAngles)\n",
    "    closeXY[[i]] = \n",
    "      findNN(newSignal = as.numeric(newSignals[i, ]), trainSS)\n",
    "  }\n",
    "\n",
    "  estXY = lapply(closeXY, \n",
    "                 function(x) sapply(x[ , 2:3], \n",
    "                                    function(x) mean(x[1:k])))\n",
    "  estXY = do.call(\"rbind\", estXY)\n",
    "  return(estXY)\n",
    "}\n",
    "estXYknew = predXY(newSignals = onlineSummarynew[ , 6:11], \n",
    "                 newAngles = onlineSummarynew[ , 4], \n",
    "                 offlineSummarynew, numAngles = 3, k = 6)\n",
    "                              "
   ]
  },
  {
   "cell_type": "code",
   "execution_count": null,
   "metadata": {},
   "outputs": [],
   "source": [
    "predXYalt = function(newSignals, newAngles, trainData, \n",
    "                  numAngles = 1, k = 3){\n",
    "  \n",
    "  closeXY = list(length = nrow(newSignals))\n",
    "  \n",
    "  for (i in 1:nrow(newSignals)) {\n",
    "    trainSS = selectTrain(newAngles[i], trainData, m = numAngles)\n",
    "    closeXY[[i]] = \n",
    "      findNN(newSignal = as.numeric(newSignals[i, ]), trainSS)\n",
    "  }\n",
    "\n",
    "  estXY = lapply(closeXY, \n",
    "                 function(x) sapply(x[ , 2:3], \n",
    "                                    function(x) sum(((1/(x+0.01))*(x))/sum(1/(x[1:k]+0.01)) )))\n",
    "  estXY = do.call(\"rbind\", estXY)\n",
    "  return(estXY)\n",
    "}\n",
    "estXYknewalt = predXYalt(newSignals = onlineSummarynew[ , 6:11], \n",
    "                 newAngles = onlineSummarynew[ , 4], \n",
    "                 offlineSummarynew, numAngles = 3, k = 6)"
   ]
  },
  {
   "cell_type": "markdown",
   "metadata": {},
   "source": [
    "# Creating Training and Testing Data set for Both"
   ]
  },
  {
   "cell_type": "code",
   "execution_count": null,
   "metadata": {},
   "outputs": [],
   "source": [
    "macs = unique(offlineSummaryBoth$mac)\n",
    "online = readData(\"online.final.trace.txt\", subMacs = macs)\n",
    "\n",
    "online$posXY = paste(online$posX, online$posY, sep = \"-\")\n",
    "\n",
    "length(unique(online$posXY))\n",
    "\n",
    "tabonlineXYA = table(online$posXY, online$angle)\n",
    "tabonlineXYA[1:6, ]\n",
    "\n",
    "keepVars = c(\"posXY\", \"posX\",\"posY\", \"orientation\", \"angle\")\n",
    "byLoc = with(online, \n",
    "             by(online, list(posXY), \n",
    "                function(x) {\n",
    "                  ans = x[1, keepVars]\n",
    "                  avgSS = tapply(x$signal, x$mac, mean)\n",
    "                  y = matrix(avgSS, nrow = 1, ncol = 7,\n",
    "                        dimnames = list(ans$posXY, names(avgSS)))\n",
    "                  cbind(ans, y)\n",
    "                }))\n",
    "\n",
    "onlineSummaryBoth = do.call(\"rbind\", byLoc)  \n",
    "\n",
    "dim(onlineSummaryBoth)"
   ]
  },
  {
   "cell_type": "code",
   "execution_count": null,
   "metadata": {},
   "outputs": [],
   "source": [
    "names(onlineSummaryBoth)\n",
    "m = 3; angleNewObs = 230\n",
    "refs = seq(0, by = 45, length  = 8)\n",
    "nearestAngle = roundOrientation(angleNewObs)\n",
    "  \n",
    "if (m %% 2 == 1) {\n",
    "  angles = seq(-45 * (m - 1) /2, 45 * (m - 1) /2, length = m)\n",
    "} else {\n",
    "  m = m + 1\n",
    "  angles = seq(-45 * (m - 1) /2, 45 * (m - 1) /2, length = m)\n",
    "  if (sign(angleNewObs - nearestAngle) > -1) \n",
    "    angles = angles[ -1 ]\n",
    "  else \n",
    "    angles = angles[ -m ]\n",
    "}\n",
    "angles = angles + nearestAngle\n",
    "angles[angles < 0] = angles[ angles < 0 ] + 360\n",
    "angles[angles > 360] = angles[ angles > 360 ] - 360\n"
   ]
  },
  {
   "cell_type": "code",
   "execution_count": null,
   "metadata": {},
   "outputs": [],
   "source": [
    "offlineSubset = \n",
    "  offlineSummaryBoth[ offlineSummaryBoth$angle %in% angles, ]\n",
    "\n",
    "reshapeSS = function(data, varSignal = \"signal\", \n",
    "                     keepVars = c(\"posXY\", \"posX\",\"posY\")) {\n",
    "  byLocation =\n",
    "    with(data, by(data, list(posXY), \n",
    "                  function(x) {\n",
    "                    ans = x[1, keepVars]\n",
    "                    avgSS = tapply(x[ , varSignal ], x$mac, mean)\n",
    "                    y = matrix(avgSS, nrow = 1, ncol = 7,\n",
    "                               dimnames = list(ans$posXY,\n",
    "                                               names(avgSS)))\n",
    "                    cbind(ans, y)\n",
    "                  }))\n",
    "\n",
    "  newDataSS = do.call(\"rbind\", byLocation)\n",
    "  return(newDataSS)\n",
    "}"
   ]
  },
  {
   "cell_type": "code",
   "execution_count": null,
   "metadata": {},
   "outputs": [],
   "source": [
    "trainSS = reshapeSS(offlineSubset, varSignal = \"avgSignal\")\n",
    "\n",
    "selectTrain = function(angleNewObs, signals = NULL, m = 1){\n",
    "  # m is the number of angles to keep between 1 and 5\n",
    "  refs = seq(0, by = 45, length  = 8)\n",
    "  nearestAngle = roundOrientation(angleNewObs)\n",
    "  \n",
    "  if (m %% 2 == 1) \n",
    "    angles = seq(-45 * (m - 1) /2, 45 * (m - 1) /2, length = m)\n",
    "  else {\n",
    "    m = m + 1\n",
    "    angles = seq(-45 * (m - 1) /2, 45 * (m - 1) /2, length = m)\n",
    "    if (sign(angleNewObs - nearestAngle) > -1) \n",
    "      angles = angles[ -1 ]\n",
    "    else \n",
    "      angles = angles[ -m ]\n",
    "  }\n",
    "  angles = angles + nearestAngle\n",
    "  angles[angles < 0] = angles[ angles < 0 ] + 360\n",
    "  angles[angles > 360] = angles[ angles > 360 ] - 360\n",
    "  angles = sort(angles) \n",
    "  \n",
    "  offlineSubset = signals[ signals$angle %in% angles, ]\n",
    "  reshapeSS(offlineSubset, varSignal = \"avgSignal\")\n",
    "}"
   ]
  },
  {
   "cell_type": "code",
   "execution_count": null,
   "metadata": {},
   "outputs": [],
   "source": [
    "train130 = selectTrain(130, offlineSummaryBoth, m = 3)\n",
    "\n",
    "head(train130)\n",
    "\n",
    "length(train130[[1]])\n",
    "\n",
    "findNN = function(newSignal, trainSubset) {\n",
    "  diffs = apply(trainSubset[ , 4:9], 1, \n",
    "                function(x) x - newSignal)\n",
    "  dists = apply(diffs, 2, function(x) sqrt(sum(x^2)) )\n",
    "  closest = order(dists)\n",
    "  return(trainSubset[closest, 1:3 ])\n",
    "}"
   ]
  },
  {
   "cell_type": "code",
   "execution_count": null,
   "metadata": {},
   "outputs": [],
   "source": [
    "predXY = function(newSignals, newAngles, trainData, \n",
    "                  numAngles = 1, k = 3){\n",
    "  \n",
    "  closeXY = list(length = nrow(newSignals))\n",
    "  \n",
    "  for (i in 1:nrow(newSignals)) {\n",
    "    trainSS = selectTrain(newAngles[i], trainData, m = numAngles)\n",
    "    closeXY[[i]] = \n",
    "      findNN(newSignal = as.numeric(newSignals[i, ]), trainSS)\n",
    "  }\n",
    "\n",
    "  estXY = lapply(closeXY, \n",
    "                 function(x) sapply(x[ , 2:3], \n",
    "                                    function(x) mean(x[1:k])))\n",
    "  estXY = do.call(\"rbind\", estXY)\n",
    "  return(estXY)\n",
    "}\n",
    "estXYkBoth = predXY(newSignals = onlineSummaryBoth[ , 6:11], \n",
    "                 newAngles = onlineSummaryBoth[ , 4], \n",
    "                 offlineSummaryBoth, numAngles = 3, k = 6)"
   ]
  },
  {
   "cell_type": "code",
   "execution_count": null,
   "metadata": {},
   "outputs": [],
   "source": [
    "predXYalt = function(newSignals, newAngles, trainData, \n",
    "                  numAngles = 1, k = 3){\n",
    "  \n",
    "  closeXY = list(length = nrow(newSignals))\n",
    "  \n",
    "  for (i in 1:nrow(newSignals)) {\n",
    "    trainSS = selectTrain(newAngles[i], trainData, m = numAngles)\n",
    "    closeXY[[i]] = \n",
    "      findNN(newSignal = as.numeric(newSignals[i, ]), trainSS)\n",
    "  }\n",
    "\n",
    "  estXY = lapply(closeXY, \n",
    "                 function(x) sapply(x[ , 2:3], \n",
    "                                    function(x) sum(((1/(x+0.01))*(x))/sum(1/(x[1:k]+0.01)) )))\n",
    "  estXY = do.call(\"rbind\", estXY)\n",
    "  return(estXY)\n",
    "}\n",
    "estXYkBothalt = predXYalt(newSignals = onlineSummaryBoth[ , 6:11], \n",
    "                 newAngles = onlineSummaryBoth[ , 4], \n",
    "                 offlineSummaryBoth, numAngles = 3, k = 6)\n",
    "#estXYkBothalt\n",
    "#nrow(estXYkBothalt)"
   ]
  },
  {
   "cell_type": "markdown",
   "metadata": {},
   "source": [
    "# Creates the functions for the KNN and cross validation - NOT Used Below"
   ]
  },
  {
   "cell_type": "code",
   "execution_count": null,
   "metadata": {
    "scrolled": true
   },
   "outputs": [],
   "source": [
    "predXY = function(newSignals, newAngles, trainData, \n",
    "                  numAngles = 1, k = 3){\n",
    "  \n",
    "  closeXY = list(length = nrow(newSignals))\n",
    "  \n",
    "  for (i in 1:nrow(newSignals)) {\n",
    "    trainSS = selectTrain(newAngles[i], trainData, m = numAngles)\n",
    "    closeXY[[i]] = \n",
    "      findNN(newSignal = as.numeric(newSignals[i, ]), trainSS)\n",
    "  }\n",
    "\n",
    "  estXY = lapply(closeXY, \n",
    "                 function(x) sapply(x[ , 2:3], \n",
    "                                    function(x) mean(x[1:k])))\n",
    "  estXY = do.call(\"rbind\", estXY)\n",
    "  return(estXY)\n",
    "}\n",
    "estXYkRedo = predXY(newSignals = onlineSummaryRedo[ , 6:11], \n",
    "                 newAngles = onlineSummaryRedo[ , 4], \n",
    "                 offlineSummaryRedo, numAngles = 3, k = 6)\n",
    "\n",
    "estXYknew = predXY(newSignals = onlineSummarynew[ , 6:11], \n",
    "                 newAngles = onlineSummarynew[ , 4], \n",
    "                 offlineSummarynew, numAngles = 3, k = 6)\n",
    "                                    \n",
    "estXYkBoth = predXY(newSignals = onlineSummaryBoth[ , 6:11], \n",
    "                 newAngles = onlineSummaryBoth[ , 4], \n",
    "                 offlineSummaryBoth, numAngles = 3, k = 6)"
   ]
  },
  {
   "cell_type": "markdown",
   "metadata": {},
   "source": [
    "# Predictions of the new locations."
   ]
  },
  {
   "cell_type": "markdown",
   "metadata": {},
   "source": [
    "# Mapping Not Used"
   ]
  },
  {
   "cell_type": "code",
   "execution_count": null,
   "metadata": {},
   "outputs": [],
   "source": [
    "floorErrorMap = function(estXY, actualXY, trainPoints = NULL, AP = NULL){\n",
    "  \n",
    "    plot(0, 0, xlim = c(0, 35), ylim = c(-3, 15), type = \"n\",\n",
    "         xlab = \"\", ylab = \"\", axes = FALSE)\n",
    "    box()\n",
    "    if ( !is.null(AP) ) points(AP, pch = 15)\n",
    "    if ( !is.null(trainPoints) )\n",
    "      points(trainPoints, pch = 19, col=\"grey\", cex = 0.6)\n",
    "    \n",
    "    points(x = actualXY[, 1], y = actualXY[, 2], \n",
    "           pch = 19, cex = 0.8 )\n",
    "    points(x = estXY[, 1], y = estXY[, 2], \n",
    "           pch = 8, cex = 0.8 )\n",
    "    segments(x0 = estXY[, 1], y0 = estXY[, 2],\n",
    "             x1 = actualXY[, 1], y1 = actualXY[ , 2],\n",
    "             lwd = 2, col = \"red\")\n",
    "}"
   ]
  },
  {
   "cell_type": "code",
   "execution_count": null,
   "metadata": {},
   "outputs": [],
   "source": [
    "trainPoints = offlineSummary[ offlineSummary$angle == 0 & \n",
    "                              offlineSummary$mac == \"00:0f:a3:39:e1:c0\" ,\n",
    "                        c(\"posX\", \"posY\")]\n",
    "\n",
    "#pdf(file=\"GEO_FloorPlanK3Errors.pdf\", width = 10, height = 7)\n",
    "oldPar = par(mar = c(1, 1, 1, 1))\n",
    "floorErrorMap(estXYk3, onlineSummary[ , c(\"posX\",\"posY\")], \n",
    "              trainPoints = trainPoints, AP = AP)\n",
    "par(oldPar)\n",
    "dev.off()"
   ]
  },
  {
   "cell_type": "code",
   "execution_count": null,
   "metadata": {
    "scrolled": false
   },
   "outputs": [],
   "source": [
    "#pdf(file=\"GEO_FloorPlanK1Errors.pdf\", width = 10, height = 7)\n",
    "oldPar = par(mar = c(1, 1, 1, 1))\n",
    "floorErrorMap(estXYk1, onlineSummary[ , c(\"posX\",\"posY\")], \n",
    "              trainPoints = trainPoints, AP = AP)\n",
    "par(oldPar)\n",
    "dev.off()"
   ]
  },
  {
   "cell_type": "markdown",
   "metadata": {},
   "source": [
    "# Mapping of the error of the locations - NOT Used"
   ]
  },
  {
   "cell_type": "code",
   "execution_count": null,
   "metadata": {},
   "outputs": [],
   "source": [
    "calcError = \n",
    "function(estXY, actualXY) \n",
    "   sum( rowSums( (estXY - actualXY)^2) )\n",
    "\n",
    "actualXYRedo = onlineSummaryRedo[ , c(\"posX\", \"posY\")]\n",
    "sapply(list(estXYkRedo,estXYkRedoalt), calcError, actualXYRedo)\n",
    "actualXYnew = onlineSummarynew[ , c(\"posX\", \"posY\")]\n",
    "sapply(list(estXYknew,estXYknewalt), calcError, actualXYnew)\n",
    "actualXYBoth = onlineSummaryBoth[ , c(\"posX\", \"posY\")]\n",
    "sapply(list(estXYkBoth,estXYkBothalt), calcError, actualXYBoth)\n",
    "\n",
    "#sapply(estXYkRedoalt, calcError, actualXY)\n"
   ]
  },
  {
   "cell_type": "code",
   "execution_count": null,
   "metadata": {},
   "outputs": [],
   "source": [
    "calcError = \n",
    "function(estXY, actualXY) \n",
    "   sum( rowSums( (estXY - actualXY)^2) )\n",
    "\n",
    "actualXY = onlineSummary[ , c(\"posX\", \"posY\")]\n",
    "sapply(list(estXYkRedo, estXYknew, estXYkBoth), calcError, actualXY)\n",
    "sapply(list(estXYkRedoalt, estXYknewalt, estXYkBothalt), calcError, actualXY)\n",
    "sapply(estXYkRedoalt,calcError,estXYkRedo)\n",
    "sapply(estXYknewalt,calcError,estXYknew)\n",
    "sapply(estXYkBothalt,calcError,estXYkBoth)\n",
    "\n"
   ]
  },
  {
   "cell_type": "code",
   "execution_count": null,
   "metadata": {},
   "outputs": [],
   "source": [
    "v = 11\n",
    "set.seed(2019)\n",
    "permuteLocs = sample(unique(offlineSummaryRedo$posXY))\n",
    "permuteLocs = matrix(permuteLocs, ncol = v, \n",
    "                     nrow = floor(length(permuteLocs)/v))\n",
    "\n",
    "onlineFold = subset(offlineSummaryRedo, posXY %in% permuteLocs[ , 1])\n",
    "\n",
    "reshapeSS = function(data, varSignal = \"signal\", \n",
    "                     keepVars = c(\"posXY\", \"posX\",\"posY\"),\n",
    "                     sampleAngle = FALSE, \n",
    "                     refs = seq(0, 315, by = 45)) {\n",
    "  set.seed(2019)\n",
    "    byLocation =\n",
    "    with(data, by(data, list(posXY), \n",
    "                  function(x) {\n",
    "                    if (sampleAngle) {\n",
    "                      x = x[x$angle == sample(refs, size = 1), ]}\n",
    "                    ans = x[1, keepVars]\n",
    "                    avgSS = tapply(x[ , varSignal ], x$mac, mean)\n",
    "                    y = matrix(avgSS, nrow = 1, ncol = 6,\n",
    "                               dimnames = list(ans$posXY,\n",
    "                                               names(avgSS)))\n",
    "                    cbind(ans, y)\n",
    "                  }))\n",
    "\n",
    "  newDataSS = do.call(\"rbind\", byLocation)\n",
    "  return(newDataSS)\n",
    "}\n",
    "\n",
    "offline = offlineRedo[ offlineRedo$mac != \"00:0f:a3:39:dd:cd\", ]"
   ]
  },
  {
   "cell_type": "code",
   "execution_count": null,
   "metadata": {},
   "outputs": [],
   "source": [
    "keepVars = c(\"posXY\", \"posX\",\"posY\", \"orientation\", \"angle\")\n",
    "\n",
    "onlineCVSummary = reshapeSS(offline, keepVars = keepVars, \n",
    "                            sampleAngle = TRUE)\n",
    "\n",
    "onlineFold = subset(onlineCVSummary, \n",
    "                    posXY %in% permuteLocs[ , 1])\n",
    "\n",
    "offlineFold = subset(offlineSummaryRedo,\n",
    "                     posXY %in% permuteLocs[ , -1])\n",
    "\n",
    "estFold = predXY(newSignals = onlineFold[ , 6:11], \n",
    "                 newAngles = onlineFold[ , 4], \n",
    "                 offlineFold, numAngles = 3, k = 3)\n",
    "\n",
    "actualFold = onlineFold[ , c(\"posX\", \"posY\")]\n",
    "calcError(estFold, actualFold)\n",
    "\n",
    "K = 20\n",
    "err = rep(0, K)"
   ]
  },
  {
   "cell_type": "markdown",
   "metadata": {},
   "source": [
    "### Next Cell takes a while.  Grab a Beverage of your choice.  (~5-10 mins)"
   ]
  },
  {
   "cell_type": "code",
   "execution_count": null,
   "metadata": {},
   "outputs": [],
   "source": [
    "\n",
    "for (j in 1:v) {\n",
    "  onlineFold = subset(onlineCVSummary, \n",
    "                      posXY %in% permuteLocs[ , j])\n",
    "  offlineFold = subset(offlineSummaryRedo,\n",
    "                       posXY %in% permuteLocs[ , -j])\n",
    "  actualFold = onlineFold[ , c(\"posX\", \"posY\")]\n",
    "  \n",
    "  for (k in 1:K) {\n",
    "    estFold = predXY(newSignals = onlineFold[ , 6:11],\n",
    "                     newAngles = onlineFold[ , 4], \n",
    "                     offlineFold, numAngles = 3, k = k)\n",
    "    err[k] = err[k] + calcError(estFold, actualFold)\n",
    "  }\n",
    "}"
   ]
  },
  {
   "cell_type": "code",
   "execution_count": null,
   "metadata": {},
   "outputs": [],
   "source": [
    "#pdf(file = \"Geo_CVChoiceOfK.pdf\", width = 10, height = 6)\n",
    "oldPar = par(mar = c(4, 3, 1, 1))\n",
    "plot(y = err, x = (1:K),  type = \"l\", lwd= 2,\n",
    "     ylim = c(1000, 2100),\n",
    "     xlab = \"Number of Neighbors\",\n",
    "     ylab = \"Sum of Square Errors\")\n",
    "\n",
    "rmseMin = min(err)\n",
    "kMin = which(err == rmseMin)[1]\n",
    "segments(x0 = 0, x1 = kMin, y0 = rmseMin, col = gray(0.4), \n",
    "         lty = 2, lwd = 2)\n",
    "segments(x0 = kMin, x1 = kMin, y0 = 900,  y1 = rmseMin, \n",
    "         col = grey(0.4), lty = 2, lwd = 2)\n",
    "\n",
    "#mtext(kMin, side = 1, line = 1, at = kMin, col = grey(0.4))\n",
    "text(x = kMin - 2, y = rmseMin + 40, \n",
    "     label = as.character(round(rmseMin)), col = grey(0.4))\n",
    "par(oldPar)\n",
    "dev.off()\n"
   ]
  },
  {
   "cell_type": "code",
   "execution_count": null,
   "metadata": {},
   "outputs": [],
   "source": [
    "estXYk5 = predXY(newSignals = onlineSummaryRedo[ , 6:11], \n",
    "                 newAngles = onlineSummaryRedo[ , 4], \n",
    "                 offlineSummaryRedo, numAngles = 3, k = 6)\n",
    "\n",
    "calcError(estXYk5, actualXY)"
   ]
  },
  {
   "cell_type": "code",
   "execution_count": null,
   "metadata": {},
   "outputs": [],
   "source": [
    "predXY = function(newSignals, newAngles, trainData, \n",
    "                  numAngles = 1, k = 3){\n",
    "  \n",
    "  closeXY = list(length = nrow(newSignals))\n",
    "  \n",
    "  for (i in 1:nrow(newSignals)) {\n",
    "    trainSS = selectTrain(newAngles[i], trainData, m = numAngles)\n",
    "    closeXY[[i]] = findNN(newSignal = as.numeric(newSignals[i, ]),\n",
    "                           trainSS)\n",
    "  }\n",
    "\n",
    "  estXY = lapply(closeXY, function(x)\n",
    "                            sapply(x[ , 2:3], \n",
    "                                    function(x) mean(x[1:k])))\n",
    "  estXY = do.call(\"rbind\", estXY)\n",
    "  return(estXY)\n",
    "}"
   ]
  },
  {
   "cell_type": "code",
   "execution_count": null,
   "metadata": {},
   "outputs": [],
   "source": []
  }
 ],
 "metadata": {
  "kernelspec": {
   "display_name": "R",
   "language": "R",
   "name": "ir"
  },
  "language_info": {
   "codemirror_mode": "r",
   "file_extension": ".r",
   "mimetype": "text/x-r-source",
   "name": "R",
   "pygments_lexer": "r",
   "version": "3.4.3"
  }
 },
 "nbformat": 4,
 "nbformat_minor": 2
}
