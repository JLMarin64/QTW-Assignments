{
 "cells": [
  {
   "cell_type": "code",
   "execution_count": 143,
   "metadata": {},
   "outputs": [
    {
     "data": {
      "text/html": [
       "5312"
      ],
      "text/latex": [
       "5312"
      ],
      "text/markdown": [
       "5312"
      ],
      "text/plain": [
       "[1] 5312"
      ]
     },
     "metadata": {},
     "output_type": "display_data"
    },
    {
     "data": {
      "text/html": [
       "151392"
      ],
      "text/latex": [
       "151392"
      ],
      "text/markdown": [
       "151392"
      ],
      "text/plain": [
       "[1] 151392"
      ]
     },
     "metadata": {},
     "output_type": "display_data"
    },
    {
     "data": {
      "text/html": [
       "<ol class=list-inline>\n",
       "\t<li>'t=1139643118358'</li>\n",
       "\t<li>'id=00:02:2D:21:0F:33'</li>\n",
       "\t<li>'pos=0.0,0.0,0.0'</li>\n",
       "\t<li>'degree=0.0'</li>\n",
       "\t<li>'00:14:bf:b1:97:8a=-38,2437000000,3'</li>\n",
       "\t<li>'00:14:bf:b1:97:90=-56,2427000000,3'</li>\n",
       "\t<li>'00:0f:a3:39:e1:c0=-53,2462000000,3'</li>\n",
       "\t<li>'00:14:bf:b1:97:8d=-65,2442000000,3'</li>\n",
       "\t<li>'00:14:bf:b1:97:81=-65,2422000000,3'</li>\n",
       "\t<li>'00:14:bf:3b:c7:c6=-66,2432000000,3'</li>\n",
       "\t<li>'00:0f:a3:39:dd:cd=-75,2412000000,3'</li>\n",
       "\t<li>'00:0f:a3:39:e0:4b=-78,2462000000,3'</li>\n",
       "\t<li>'00:0f:a3:39:e2:10=-87,2437000000,3'</li>\n",
       "\t<li>'02:64:fb:68:52:e6=-88,2447000000,1'</li>\n",
       "\t<li>'02:00:42:55:31:00=-84,2457000000,1'</li>\n",
       "</ol>\n"
      ],
      "text/latex": [
       "\\begin{enumerate*}\n",
       "\\item 't=1139643118358'\n",
       "\\item 'id=00:02:2D:21:0F:33'\n",
       "\\item 'pos=0.0,0.0,0.0'\n",
       "\\item 'degree=0.0'\n",
       "\\item '00:14:bf:b1:97:8a=-38,2437000000,3'\n",
       "\\item '00:14:bf:b1:97:90=-56,2427000000,3'\n",
       "\\item '00:0f:a3:39:e1:c0=-53,2462000000,3'\n",
       "\\item '00:14:bf:b1:97:8d=-65,2442000000,3'\n",
       "\\item '00:14:bf:b1:97:81=-65,2422000000,3'\n",
       "\\item '00:14:bf:3b:c7:c6=-66,2432000000,3'\n",
       "\\item '00:0f:a3:39:dd:cd=-75,2412000000,3'\n",
       "\\item '00:0f:a3:39:e0:4b=-78,2462000000,3'\n",
       "\\item '00:0f:a3:39:e2:10=-87,2437000000,3'\n",
       "\\item '02:64:fb:68:52:e6=-88,2447000000,1'\n",
       "\\item '02:00:42:55:31:00=-84,2457000000,1'\n",
       "\\end{enumerate*}\n"
      ],
      "text/markdown": [
       "1. 't=1139643118358'\n",
       "2. 'id=00:02:2D:21:0F:33'\n",
       "3. 'pos=0.0,0.0,0.0'\n",
       "4. 'degree=0.0'\n",
       "5. '00:14:bf:b1:97:8a=-38,2437000000,3'\n",
       "6. '00:14:bf:b1:97:90=-56,2427000000,3'\n",
       "7. '00:0f:a3:39:e1:c0=-53,2462000000,3'\n",
       "8. '00:14:bf:b1:97:8d=-65,2442000000,3'\n",
       "9. '00:14:bf:b1:97:81=-65,2422000000,3'\n",
       "10. '00:14:bf:3b:c7:c6=-66,2432000000,3'\n",
       "11. '00:0f:a3:39:dd:cd=-75,2412000000,3'\n",
       "12. '00:0f:a3:39:e0:4b=-78,2462000000,3'\n",
       "13. '00:0f:a3:39:e2:10=-87,2437000000,3'\n",
       "14. '02:64:fb:68:52:e6=-88,2447000000,1'\n",
       "15. '02:00:42:55:31:00=-84,2457000000,1'\n",
       "\n",
       "\n"
      ],
      "text/plain": [
       " [1] \"t=1139643118358\"                    \"id=00:02:2D:21:0F:33\"              \n",
       " [3] \"pos=0.0,0.0,0.0\"                    \"degree=0.0\"                        \n",
       " [5] \"00:14:bf:b1:97:8a=-38,2437000000,3\" \"00:14:bf:b1:97:90=-56,2427000000,3\"\n",
       " [7] \"00:0f:a3:39:e1:c0=-53,2462000000,3\" \"00:14:bf:b1:97:8d=-65,2442000000,3\"\n",
       " [9] \"00:14:bf:b1:97:81=-65,2422000000,3\" \"00:14:bf:3b:c7:c6=-66,2432000000,3\"\n",
       "[11] \"00:0f:a3:39:dd:cd=-75,2412000000,3\" \"00:0f:a3:39:e0:4b=-78,2462000000,3\"\n",
       "[13] \"00:0f:a3:39:e2:10=-87,2437000000,3\" \"02:64:fb:68:52:e6=-88,2447000000,1\"\n",
       "[15] \"02:00:42:55:31:00=-84,2457000000,1\""
      ]
     },
     "metadata": {},
     "output_type": "display_data"
    },
    {
     "data": {
      "text/html": [
       "<ol class=list-inline>\n",
       "\t<li>'t'</li>\n",
       "\t<li>'1139643118358'</li>\n",
       "\t<li>'id'</li>\n",
       "\t<li>'00:02:2D:21:0F:33'</li>\n",
       "\t<li>'pos'</li>\n",
       "\t<li>'0.0'</li>\n",
       "\t<li>'0.0'</li>\n",
       "\t<li>'0.0'</li>\n",
       "\t<li>'degree'</li>\n",
       "\t<li>'0.0'</li>\n",
       "</ol>\n"
      ],
      "text/latex": [
       "\\begin{enumerate*}\n",
       "\\item 't'\n",
       "\\item '1139643118358'\n",
       "\\item 'id'\n",
       "\\item '00:02:2D:21:0F:33'\n",
       "\\item 'pos'\n",
       "\\item '0.0'\n",
       "\\item '0.0'\n",
       "\\item '0.0'\n",
       "\\item 'degree'\n",
       "\\item '0.0'\n",
       "\\end{enumerate*}\n"
      ],
      "text/markdown": [
       "1. 't'\n",
       "2. '1139643118358'\n",
       "3. 'id'\n",
       "4. '00:02:2D:21:0F:33'\n",
       "5. 'pos'\n",
       "6. '0.0'\n",
       "7. '0.0'\n",
       "8. '0.0'\n",
       "9. 'degree'\n",
       "10. '0.0'\n",
       "\n",
       "\n"
      ],
      "text/plain": [
       " [1] \"t\"                 \"1139643118358\"     \"id\"               \n",
       " [4] \"00:02:2D:21:0F:33\" \"pos\"               \"0.0\"              \n",
       " [7] \"0.0\"               \"0.0\"               \"degree\"           \n",
       "[10] \"0.0\"              "
      ]
     },
     "metadata": {},
     "output_type": "display_data"
    },
    {
     "data": {
      "text/html": [
       "<ol class=list-inline>\n",
       "\t<li>'1139643118358'</li>\n",
       "\t<li>'00:02:2D:21:0F:33'</li>\n",
       "\t<li>'0.0'</li>\n",
       "\t<li>'0.0'</li>\n",
       "\t<li>'0.0'</li>\n",
       "\t<li>'0.0'</li>\n",
       "</ol>\n"
      ],
      "text/latex": [
       "\\begin{enumerate*}\n",
       "\\item '1139643118358'\n",
       "\\item '00:02:2D:21:0F:33'\n",
       "\\item '0.0'\n",
       "\\item '0.0'\n",
       "\\item '0.0'\n",
       "\\item '0.0'\n",
       "\\end{enumerate*}\n"
      ],
      "text/markdown": [
       "1. '1139643118358'\n",
       "2. '00:02:2D:21:0F:33'\n",
       "3. '0.0'\n",
       "4. '0.0'\n",
       "5. '0.0'\n",
       "6. '0.0'\n",
       "\n",
       "\n"
      ],
      "text/plain": [
       "[1] \"1139643118358\"     \"00:02:2D:21:0F:33\" \"0.0\"              \n",
       "[4] \"0.0\"               \"0.0\"               \"0.0\"              "
      ]
     },
     "metadata": {},
     "output_type": "display_data"
    },
    {
     "data": {
      "text/html": [
       "<ol class=list-inline>\n",
       "\t<li>'00:14:bf:b1:97:8a'</li>\n",
       "\t<li>'-38'</li>\n",
       "\t<li>'2437000000'</li>\n",
       "\t<li>'3'</li>\n",
       "\t<li>'00:14:bf:b1:97:90'</li>\n",
       "\t<li>'-56'</li>\n",
       "\t<li>'2427000000'</li>\n",
       "\t<li>'3'</li>\n",
       "\t<li>'00:0f:a3:39:e1:c0'</li>\n",
       "\t<li>'-53'</li>\n",
       "\t<li>'2462000000'</li>\n",
       "\t<li>'3'</li>\n",
       "\t<li>'00:14:bf:b1:97:8d'</li>\n",
       "\t<li>'-65'</li>\n",
       "\t<li>'2442000000'</li>\n",
       "\t<li>'3'</li>\n",
       "\t<li>'00:14:bf:b1:97:81'</li>\n",
       "\t<li>'-65'</li>\n",
       "\t<li>'2422000000'</li>\n",
       "\t<li>'3'</li>\n",
       "\t<li>'00:14:bf:3b:c7:c6'</li>\n",
       "\t<li>'-66'</li>\n",
       "\t<li>'2432000000'</li>\n",
       "\t<li>'3'</li>\n",
       "\t<li>'00:0f:a3:39:dd:cd'</li>\n",
       "\t<li>'-75'</li>\n",
       "\t<li>'2412000000'</li>\n",
       "\t<li>'3'</li>\n",
       "\t<li>'00:0f:a3:39:e0:4b'</li>\n",
       "\t<li>'-78'</li>\n",
       "\t<li>'2462000000'</li>\n",
       "\t<li>'3'</li>\n",
       "\t<li>'00:0f:a3:39:e2:10'</li>\n",
       "\t<li>'-87'</li>\n",
       "\t<li>'2437000000'</li>\n",
       "\t<li>'3'</li>\n",
       "\t<li>'02:64:fb:68:52:e6'</li>\n",
       "\t<li>'-88'</li>\n",
       "\t<li>'2447000000'</li>\n",
       "\t<li>'1'</li>\n",
       "\t<li>'02:00:42:55:31:00'</li>\n",
       "\t<li>'-84'</li>\n",
       "\t<li>'2457000000'</li>\n",
       "\t<li>'1'</li>\n",
       "</ol>\n"
      ],
      "text/latex": [
       "\\begin{enumerate*}\n",
       "\\item '00:14:bf:b1:97:8a'\n",
       "\\item '-38'\n",
       "\\item '2437000000'\n",
       "\\item '3'\n",
       "\\item '00:14:bf:b1:97:90'\n",
       "\\item '-56'\n",
       "\\item '2427000000'\n",
       "\\item '3'\n",
       "\\item '00:0f:a3:39:e1:c0'\n",
       "\\item '-53'\n",
       "\\item '2462000000'\n",
       "\\item '3'\n",
       "\\item '00:14:bf:b1:97:8d'\n",
       "\\item '-65'\n",
       "\\item '2442000000'\n",
       "\\item '3'\n",
       "\\item '00:14:bf:b1:97:81'\n",
       "\\item '-65'\n",
       "\\item '2422000000'\n",
       "\\item '3'\n",
       "\\item '00:14:bf:3b:c7:c6'\n",
       "\\item '-66'\n",
       "\\item '2432000000'\n",
       "\\item '3'\n",
       "\\item '00:0f:a3:39:dd:cd'\n",
       "\\item '-75'\n",
       "\\item '2412000000'\n",
       "\\item '3'\n",
       "\\item '00:0f:a3:39:e0:4b'\n",
       "\\item '-78'\n",
       "\\item '2462000000'\n",
       "\\item '3'\n",
       "\\item '00:0f:a3:39:e2:10'\n",
       "\\item '-87'\n",
       "\\item '2437000000'\n",
       "\\item '3'\n",
       "\\item '02:64:fb:68:52:e6'\n",
       "\\item '-88'\n",
       "\\item '2447000000'\n",
       "\\item '1'\n",
       "\\item '02:00:42:55:31:00'\n",
       "\\item '-84'\n",
       "\\item '2457000000'\n",
       "\\item '1'\n",
       "\\end{enumerate*}\n"
      ],
      "text/markdown": [
       "1. '00:14:bf:b1:97:8a'\n",
       "2. '-38'\n",
       "3. '2437000000'\n",
       "4. '3'\n",
       "5. '00:14:bf:b1:97:90'\n",
       "6. '-56'\n",
       "7. '2427000000'\n",
       "8. '3'\n",
       "9. '00:0f:a3:39:e1:c0'\n",
       "10. '-53'\n",
       "11. '2462000000'\n",
       "12. '3'\n",
       "13. '00:14:bf:b1:97:8d'\n",
       "14. '-65'\n",
       "15. '2442000000'\n",
       "16. '3'\n",
       "17. '00:14:bf:b1:97:81'\n",
       "18. '-65'\n",
       "19. '2422000000'\n",
       "20. '3'\n",
       "21. '00:14:bf:3b:c7:c6'\n",
       "22. '-66'\n",
       "23. '2432000000'\n",
       "24. '3'\n",
       "25. '00:0f:a3:39:dd:cd'\n",
       "26. '-75'\n",
       "27. '2412000000'\n",
       "28. '3'\n",
       "29. '00:0f:a3:39:e0:4b'\n",
       "30. '-78'\n",
       "31. '2462000000'\n",
       "32. '3'\n",
       "33. '00:0f:a3:39:e2:10'\n",
       "34. '-87'\n",
       "35. '2437000000'\n",
       "36. '3'\n",
       "37. '02:64:fb:68:52:e6'\n",
       "38. '-88'\n",
       "39. '2447000000'\n",
       "40. '1'\n",
       "41. '02:00:42:55:31:00'\n",
       "42. '-84'\n",
       "43. '2457000000'\n",
       "44. '1'\n",
       "\n",
       "\n"
      ],
      "text/plain": [
       " [1] \"00:14:bf:b1:97:8a\" \"-38\"               \"2437000000\"       \n",
       " [4] \"3\"                 \"00:14:bf:b1:97:90\" \"-56\"              \n",
       " [7] \"2427000000\"        \"3\"                 \"00:0f:a3:39:e1:c0\"\n",
       "[10] \"-53\"               \"2462000000\"        \"3\"                \n",
       "[13] \"00:14:bf:b1:97:8d\" \"-65\"               \"2442000000\"       \n",
       "[16] \"3\"                 \"00:14:bf:b1:97:81\" \"-65\"              \n",
       "[19] \"2422000000\"        \"3\"                 \"00:14:bf:3b:c7:c6\"\n",
       "[22] \"-66\"               \"2432000000\"        \"3\"                \n",
       "[25] \"00:0f:a3:39:dd:cd\" \"-75\"               \"2412000000\"       \n",
       "[28] \"3\"                 \"00:0f:a3:39:e0:4b\" \"-78\"              \n",
       "[31] \"2462000000\"        \"3\"                 \"00:0f:a3:39:e2:10\"\n",
       "[34] \"-87\"               \"2437000000\"        \"3\"                \n",
       "[37] \"02:64:fb:68:52:e6\" \"-88\"               \"2447000000\"       \n",
       "[40] \"1\"                 \"02:00:42:55:31:00\" \"-84\"              \n",
       "[43] \"2457000000\"        \"1\"                "
      ]
     },
     "metadata": {},
     "output_type": "display_data"
    },
    {
     "data": {
      "text/html": [
       "<ol class=list-inline>\n",
       "\t<li>11</li>\n",
       "\t<li>10</li>\n",
       "</ol>\n"
      ],
      "text/latex": [
       "\\begin{enumerate*}\n",
       "\\item 11\n",
       "\\item 10\n",
       "\\end{enumerate*}\n"
      ],
      "text/markdown": [
       "1. 11\n",
       "2. 10\n",
       "\n",
       "\n"
      ],
      "text/plain": [
       "[1] 11 10"
      ]
     },
     "metadata": {},
     "output_type": "display_data"
    },
    {
     "data": {
      "text/html": [
       "<ol class=list-inline>\n",
       "\t<li>11</li>\n",
       "\t<li>10</li>\n",
       "\t<li>10</li>\n",
       "\t<li>11</li>\n",
       "\t<li>9</li>\n",
       "\t<li>10</li>\n",
       "\t<li>9</li>\n",
       "\t<li>9</li>\n",
       "\t<li>10</li>\n",
       "\t<li>11</li>\n",
       "\t<li>11</li>\n",
       "\t<li>9</li>\n",
       "\t<li>9</li>\n",
       "\t<li>9</li>\n",
       "\t<li>8</li>\n",
       "\t<li>10</li>\n",
       "\t<li>14</li>\n",
       "</ol>\n"
      ],
      "text/latex": [
       "\\begin{enumerate*}\n",
       "\\item 11\n",
       "\\item 10\n",
       "\\item 10\n",
       "\\item 11\n",
       "\\item 9\n",
       "\\item 10\n",
       "\\item 9\n",
       "\\item 9\n",
       "\\item 10\n",
       "\\item 11\n",
       "\\item 11\n",
       "\\item 9\n",
       "\\item 9\n",
       "\\item 9\n",
       "\\item 8\n",
       "\\item 10\n",
       "\\item 14\n",
       "\\end{enumerate*}\n"
      ],
      "text/markdown": [
       "1. 11\n",
       "2. 10\n",
       "3. 10\n",
       "4. 11\n",
       "5. 9\n",
       "6. 10\n",
       "7. 9\n",
       "8. 9\n",
       "9. 10\n",
       "10. 11\n",
       "11. 11\n",
       "12. 9\n",
       "13. 9\n",
       "14. 9\n",
       "15. 8\n",
       "16. 10\n",
       "17. 14\n",
       "\n",
       "\n"
      ],
      "text/plain": [
       " [1] 11 10 10 11  9 10  9  9 10 11 11  9  9  9  8 10 14"
      ]
     },
     "metadata": {},
     "output_type": "display_data"
    },
    {
     "data": {
      "text/html": [
       "<ol class=list-inline>\n",
       "\t<li>170</li>\n",
       "\t<li>10</li>\n",
       "</ol>\n"
      ],
      "text/latex": [
       "\\begin{enumerate*}\n",
       "\\item 170\n",
       "\\item 10\n",
       "\\end{enumerate*}\n"
      ],
      "text/markdown": [
       "1. 170\n",
       "2. 10\n",
       "\n",
       "\n"
      ],
      "text/plain": [
       "[1] 170  10"
      ]
     },
     "metadata": {},
     "output_type": "display_data"
    },
    {
     "name": "stderr",
     "output_type": "stream",
     "text": [
      "Warning message in matrix(tokens[c(2, 4, 6:8, 10)], nrow = nrow(tmp), ncol = 6, :\n",
      "\"data length exceeds size of matrix\"Warning message in matrix(tokens[c(2, 4, 6:8, 10)], nrow = nrow(tmp), ncol = 6, :\n",
      "\"data length exceeds size of matrix\"Warning message in matrix(tokens[c(2, 4, 6:8, 10)], nrow = nrow(tmp), ncol = 6, :\n",
      "\"data length exceeds size of matrix\"Warning message in matrix(tokens[c(2, 4, 6:8, 10)], nrow = nrow(tmp), ncol = 6, :\n",
      "\"data length exceeds size of matrix\"Warning message in matrix(tokens[c(2, 4, 6:8, 10)], nrow = nrow(tmp), ncol = 6, :\n",
      "\"data length exceeds size of matrix\"Warning message in matrix(tokens[c(2, 4, 6:8, 10)], nrow = nrow(tmp), ncol = 6, :\n",
      "\"data length exceeds size of matrix\""
     ]
    }
   ],
   "source": [
    "\n",
    "options(digits = 2)\n",
    "\n",
    "txt = readLines(\"offline.final.trace.txt\")\n",
    "\n",
    "sum(substr(txt, 1, 1) == \"#\")\n",
    "\n",
    "length(txt)\n",
    "\n",
    "strsplit(txt[4], \";\")[[1]]\n",
    "\n",
    "tokens = strsplit(txt[4], \"[;=,]\")[[1]]\n",
    "\n",
    "tokens[1:10]\n",
    "\n",
    "tokens[c(2, 4, 6:8, 10)]\n",
    "\n",
    "tokens[ - ( 1:10 ) ]\n",
    "\n",
    "tmp = matrix(tokens[ - (1:10) ], ncol = 4, byrow = TRUE)\n",
    "mat = cbind(matrix(tokens[c(2, 4, 6:8, 10)], nrow = nrow(tmp),\n",
    "                   ncol = 6, byrow = TRUE), \n",
    "            tmp)\n",
    "\n",
    "dim(mat)\n",
    "\n",
    "processLine =\n",
    "function(x)\n",
    "{\n",
    "  tokens = strsplit(x, \"[;=,]\")[[1]]\n",
    "  tmp = matrix(tokens[ - (1:10) ], ncol = 4, byrow = TRUE)\n",
    "  cbind(matrix(tokens[c(2, 4, 6:8, 10)], nrow = nrow(tmp),\n",
    "               ncol = 6, byrow = TRUE), tmp)\n",
    "}\n",
    "\n",
    "tmp = lapply(txt[4:20], processLine)\n",
    "\n",
    "sapply(tmp, nrow)\n",
    "\n",
    "offline = as.data.frame(do.call(\"rbind\", tmp))\n",
    "dim(offline)\n",
    "\n",
    "lines = txt[ substr(txt, 1, 1) != \"#\" ]\n",
    "tmp = lapply(lines, processLine)\n",
    "\n",
    "processLine = function(x)\n",
    "{\n",
    "  tokens = strsplit(x, \"[;=,]\")[[1]]\n",
    "  \n",
    "  if (length(tokens) == 10) \n",
    "    return(NULL)\n",
    " \n",
    "  tmp = matrix(tokens[ - (1:10) ], , 4, byrow = TRUE)\n",
    "  cbind(matrix(tokens[c(2, 4, 6:8, 10)], nrow(tmp), 6, \n",
    "               byrow = TRUE), tmp)\n",
    "}\n",
    "\n",
    "options(error = recover, warn = 1)\n",
    "tmp = lapply(lines, processLine)\n",
    "offline = as.data.frame(do.call(\"rbind\", tmp), \n",
    "                        stringsAsFactors = FALSE)\n"
   ]
  },
  {
   "cell_type": "markdown",
   "metadata": {},
   "source": [
    "# Processing of data raw to format that can used for analysis. Separates the text file and creates a sort of data frame with fields given in the names(offline) in the next cell below."
   ]
  },
  {
   "cell_type": "code",
   "execution_count": 144,
   "metadata": {},
   "outputs": [
    {
     "data": {
      "text/html": [
       "<ol class=list-inline>\n",
       "\t<li>1181628</li>\n",
       "\t<li>10</li>\n",
       "</ol>\n"
      ],
      "text/latex": [
       "\\begin{enumerate*}\n",
       "\\item 1181628\n",
       "\\item 10\n",
       "\\end{enumerate*}\n"
      ],
      "text/markdown": [
       "1. 1181628\n",
       "2. 10\n",
       "\n",
       "\n"
      ],
      "text/plain": [
       "[1] 1181628      10"
      ]
     },
     "metadata": {},
     "output_type": "display_data"
    },
    {
     "data": {
      "text/html": [
       "<ol class=list-inline>\n",
       "\t<li>978443</li>\n",
       "\t<li>9</li>\n",
       "</ol>\n"
      ],
      "text/latex": [
       "\\begin{enumerate*}\n",
       "\\item 978443\n",
       "\\item 9\n",
       "\\end{enumerate*}\n"
      ],
      "text/markdown": [
       "1. 978443\n",
       "2. 9\n",
       "\n",
       "\n"
      ],
      "text/plain": [
       "[1] 978443      9"
      ]
     },
     "metadata": {},
     "output_type": "display_data"
    }
   ],
   "source": [
    "dim(offline)\n",
    "\n",
    "names(offline) = c(\"time\", \"scanMac\", \"posX\", \"posY\", \"posZ\", \n",
    "                   \"orientation\", \"mac\", \"signal\", \n",
    "                   \"channel\", \"type\")\n",
    "\n",
    "numVars = c(\"time\", \"posX\", \"posY\", \"posZ\", \n",
    "            \"orientation\", \"signal\")\n",
    "offline[ numVars ] =  lapply(offline[ numVars ], as.numeric)\n",
    "\n",
    "offline = offline[ offline$type == \"3\", ]\n",
    "offline = offline[ , \"type\" != names(offline) ]\n",
    "dim(offline)\n",
    "\n",
    "offline$rawTime = offline$time\n",
    "offline$time = offline$time/1000\n",
    "class(offline$time) = c(\"POSIXt\", \"POSIXct\")"
   ]
  },
  {
   "cell_type": "markdown",
   "metadata": {},
   "source": [
    "# Creates the field names and also changes the formatting of the variables to numeric since all were character before. Drops the adhoc data and coverts the time to milliseconds"
   ]
  },
  {
   "cell_type": "code",
   "execution_count": 145,
   "metadata": {},
   "outputs": [
    {
     "data": {
      "text/html": [
       "<dl class=dl-horizontal>\n",
       "\t<dt>time1</dt>\n",
       "\t\t<dd>'POSIXt'</dd>\n",
       "\t<dt>time2</dt>\n",
       "\t\t<dd>'POSIXct'</dd>\n",
       "\t<dt>scanMac</dt>\n",
       "\t\t<dd>'character'</dd>\n",
       "\t<dt>posX</dt>\n",
       "\t\t<dd>'numeric'</dd>\n",
       "\t<dt>posY</dt>\n",
       "\t\t<dd>'numeric'</dd>\n",
       "\t<dt>posZ</dt>\n",
       "\t\t<dd>'numeric'</dd>\n",
       "\t<dt>orientation</dt>\n",
       "\t\t<dd>'numeric'</dd>\n",
       "\t<dt>mac</dt>\n",
       "\t\t<dd>'character'</dd>\n",
       "\t<dt>signal</dt>\n",
       "\t\t<dd>'numeric'</dd>\n",
       "\t<dt>channel</dt>\n",
       "\t\t<dd>'character'</dd>\n",
       "\t<dt>rawTime</dt>\n",
       "\t\t<dd>'numeric'</dd>\n",
       "</dl>\n"
      ],
      "text/latex": [
       "\\begin{description*}\n",
       "\\item[time1] 'POSIXt'\n",
       "\\item[time2] 'POSIXct'\n",
       "\\item[scanMac] 'character'\n",
       "\\item[posX] 'numeric'\n",
       "\\item[posY] 'numeric'\n",
       "\\item[posZ] 'numeric'\n",
       "\\item[orientation] 'numeric'\n",
       "\\item[mac] 'character'\n",
       "\\item[signal] 'numeric'\n",
       "\\item[channel] 'character'\n",
       "\\item[rawTime] 'numeric'\n",
       "\\end{description*}\n"
      ],
      "text/markdown": [
       "time1\n",
       ":   'POSIXt'time2\n",
       ":   'POSIXct'scanMac\n",
       ":   'character'posX\n",
       ":   'numeric'posY\n",
       ":   'numeric'posZ\n",
       ":   'numeric'orientation\n",
       ":   'numeric'mac\n",
       ":   'character'signal\n",
       ":   'numeric'channel\n",
       ":   'character'rawTime\n",
       ":   'numeric'\n",
       "\n"
      ],
      "text/plain": [
       "      time1       time2     scanMac        posX        posY        posZ \n",
       "   \"POSIXt\"   \"POSIXct\" \"character\"   \"numeric\"   \"numeric\"   \"numeric\" \n",
       "orientation         mac      signal     channel     rawTime \n",
       "  \"numeric\" \"character\"   \"numeric\" \"character\"   \"numeric\" "
      ]
     },
     "metadata": {},
     "output_type": "display_data"
    },
    {
     "data": {
      "text/plain": [
       "      time                          posX         posY           posZ  \n",
       " Min.   :2006-02-11 01:31:58   Min.   : 0   Min.   : 0.0   Min.   :0  \n",
       " 1st Qu.:2006-02-11 07:21:27   1st Qu.: 2   1st Qu.: 3.0   1st Qu.:0  \n",
       " Median :2006-02-11 13:57:58   Median :12   Median : 6.0   Median :0  \n",
       " Mean   :2006-02-16 08:57:37   Mean   :14   Mean   : 5.9   Mean   :0  \n",
       " 3rd Qu.:2006-02-19 08:52:40   3rd Qu.:23   3rd Qu.: 8.0   3rd Qu.:0  \n",
       " Max.   :2006-03-09 14:41:10   Max.   :33   Max.   :13.0   Max.   :0  \n",
       "  orientation      signal   \n",
       " Min.   :  0   Min.   :-99  \n",
       " 1st Qu.: 90   1st Qu.:-69  \n",
       " Median :180   Median :-60  \n",
       " Mean   :167   Mean   :-62  \n",
       " 3rd Qu.:270   3rd Qu.:-53  \n",
       " Max.   :360   Max.   :-25  "
      ]
     },
     "metadata": {},
     "output_type": "display_data"
    },
    {
     "data": {
      "text/plain": [
       "                mac               channel                    scanMac      \n",
       " 00:0f:a3:39:e1:c0:145862   2462000000:189774   00:02:2D:21:0F:33:978443  \n",
       " 00:0f:a3:39:dd:cd:145619   2437000000:152124                             \n",
       " 00:14:bf:b1:97:8a:132962   2412000000:145619                             \n",
       " 00:14:bf:3b:c7:c6:126529   2432000000:126529                             \n",
       " 00:14:bf:b1:97:90:122315   2427000000:122315                             \n",
       " 00:14:bf:b1:97:8d:121325   2442000000:121325                             \n",
       " (Other)          :183831   (Other)   :120757                             "
      ]
     },
     "metadata": {},
     "output_type": "display_data"
    },
    {
     "data": {
      "text/html": [
       "203"
      ],
      "text/latex": [
       "203"
      ],
      "text/markdown": [
       "203"
      ],
      "text/plain": [
       "[1] 203"
      ]
     },
     "metadata": {},
     "output_type": "display_data"
    },
    {
     "data": {
      "image/png": "[encoded data removed]",
      "text/plain": [
       "Plot with title \"ecdf(offline$orientation)\""
      ]
     },
     "metadata": {},
     "output_type": "display_data"
    }
   ],
   "source": [
    "unlist(lapply(offline, class))\n",
    "\n",
    "summary(offline[, numVars])\n",
    "\n",
    " summary(sapply(offline[ , c(\"mac\", \"channel\", \"scanMac\")],\n",
    "                as.factor))\n",
    "\n",
    "offline = offline[ , !(names(offline) %in% c(\"scanMac\", \"posZ\"))]\n",
    "\n",
    "length(unique(offline$orientation))\n",
    "\n",
    "plot(ecdf(offline$orientation))"
   ]
  },
  {
   "cell_type": "markdown",
   "metadata": {},
   "source": [
    "# Checks the data for reasonableness. However, found the orientations are not exactly the same as the documentation for 8 basic orientations. Therefore, need to cleaning of data set later. "
   ]
  },
  {
   "cell_type": "code",
   "execution_count": 146,
   "metadata": {},
   "outputs": [
    {
     "data": {
      "text/html": [
       "<strong>null device:</strong> 1"
      ],
      "text/latex": [
       "\\textbf{null device:} 1"
      ],
      "text/markdown": [
       "**null device:** 1"
      ],
      "text/plain": [
       "null device \n",
       "          1 "
      ]
     },
     "metadata": {},
     "output_type": "display_data"
    },
    {
     "data": {
      "image/png": "[encoded data removed]",
      "text/plain": [
       "Plot with title \"\""
      ]
     },
     "metadata": {},
     "output_type": "display_data"
    }
   ],
   "source": [
    "#pdf(file = \"Geo_ECDFOrientation.pdf\", width = 10, height = 7)\n",
    "oldPar = par(mar = c(4, 4, 1, 1))\n",
    "plot(ecdf(offline$orientation), pch = 19, cex = 0.3,\n",
    "     xlim = c(-5, 365), axes = FALSE,\n",
    "     xlab = \"orientation\", ylab = \"Empirical CDF\", main = \"\")\n",
    "box()\n",
    "axis(2)\n",
    "axis(side = 1, at = seq(0, 360, by = 45))\n",
    "par(oldPar)\n",
    "dev.off()"
   ]
  },
  {
   "cell_type": "markdown",
   "metadata": {},
   "source": [
    "# Changes the graph to look like the text."
   ]
  },
  {
   "cell_type": "code",
   "execution_count": 147,
   "metadata": {},
   "outputs": [
    {
     "data": {
      "text/html": [
       "<strong>null device:</strong> 1"
      ],
      "text/latex": [
       "\\textbf{null device:} 1"
      ],
      "text/markdown": [
       "**null device:** 1"
      ],
      "text/plain": [
       "null device \n",
       "          1 "
      ]
     },
     "metadata": {},
     "output_type": "display_data"
    },
    {
     "data": {
      "text/html": [
       "<strong>null device:</strong> 1"
      ],
      "text/latex": [
       "\\textbf{null device:} 1"
      ],
      "text/markdown": [
       "**null device:** 1"
      ],
      "text/plain": [
       "null device \n",
       "          1 "
      ]
     },
     "metadata": {},
     "output_type": "display_data"
    },
    {
     "data": {
      "image/png": "[encoded data removed]",
      "text/plain": [
       "Plot with title \"\""
      ]
     },
     "metadata": {},
     "output_type": "display_data"
    }
   ],
   "source": [
    "#pdf(file = \"Geo_DensityOrientation.pdf\", width = 10, height = 5)\n",
    "oldPar = par(mar = c(4, 4, 1, 1))\n",
    "plot(density(offline$orientation, bw = 2), \n",
    " xlab = \"orientation\", main = \"\")\n",
    "par(oldPar)\n",
    "dev.off()\n",
    "\n",
    "roundOrientation = function(angles) {\n",
    "  refs = seq(0, by = 45, length  = 9)\n",
    "  q = sapply(angles, function(o) which.min(abs(o - refs)))\n",
    "  c(refs[1:8], 0)[q]\n",
    "}\n",
    "\n",
    "offline$angle = roundOrientation(offline$orientation)\n",
    "\n",
    "#pdf(file = \"Geo_BoxplotAngle.pdf\", width = 10)\n",
    "oldPar = par(mar = c(4, 4, 1, 1))\n",
    "\n",
    "par(oldPar)\n",
    "dev.off()"
   ]
  },
  {
   "cell_type": "markdown",
   "metadata": {},
   "source": [
    "# Looks at density instead of box plots but the same concept to see if there is separate distributions or the one continous distribution. "
   ]
  },
  {
   "cell_type": "code",
   "execution_count": 148,
   "metadata": {},
   "outputs": [
    {
     "data": {
      "text/html": [
       "<ol class=list-inline>\n",
       "\t<li>12</li>\n",
       "\t<li>8</li>\n",
       "</ol>\n"
      ],
      "text/latex": [
       "\\begin{enumerate*}\n",
       "\\item 12\n",
       "\\item 8\n",
       "\\end{enumerate*}\n"
      ],
      "text/markdown": [
       "1. 12\n",
       "2. 8\n",
       "\n",
       "\n"
      ],
      "text/plain": [
       "[1] 12  8"
      ]
     },
     "metadata": {},
     "output_type": "display_data"
    },
    {
     "data": {
      "text/plain": [
       "\n",
       "00:04:0e:5c:23:fc 00:0f:a3:39:dd:cd 00:0f:a3:39:e0:4b 00:0f:a3:39:e1:c0 \n",
       "              418            145619             43508            145862 \n",
       "00:0f:a3:39:e2:10 00:14:bf:3b:c7:c6 00:14:bf:b1:97:81 00:14:bf:b1:97:8a \n",
       "            19162            126529            120339            132962 \n",
       "00:14:bf:b1:97:8d 00:14:bf:b1:97:90 00:30:bd:f8:7f:c5 00:e0:63:82:8b:a9 \n",
       "           121325            122315               301               103 "
      ]
     },
     "metadata": {},
     "output_type": "display_data"
    },
    {
     "data": {
      "text/html": [
       "<dl class=dl-horizontal>\n",
       "\t<dt>00:0f:a3:39:dd:cd</dt>\n",
       "\t\t<dd>1</dd>\n",
       "\t<dt>00:0f:a3:39:e1:c0</dt>\n",
       "\t\t<dd>1</dd>\n",
       "\t<dt>00:14:bf:3b:c7:c6</dt>\n",
       "\t\t<dd>1</dd>\n",
       "\t<dt>00:14:bf:b1:97:81</dt>\n",
       "\t\t<dd>1</dd>\n",
       "\t<dt>00:14:bf:b1:97:8a</dt>\n",
       "\t\t<dd>1</dd>\n",
       "\t<dt>00:14:bf:b1:97:8d</dt>\n",
       "\t\t<dd>1</dd>\n",
       "\t<dt>00:14:bf:b1:97:90</dt>\n",
       "\t\t<dd>1</dd>\n",
       "</dl>\n"
      ],
      "text/latex": [
       "\\begin{description*}\n",
       "\\item[00:0f:a3:39:dd:cd] 1\n",
       "\\item[00:0f:a3:39:e1:c0] 1\n",
       "\\item[00:14:bf:3b:c7:c6] 1\n",
       "\\item[00:14:bf:b1:97:81] 1\n",
       "\\item[00:14:bf:b1:97:8a] 1\n",
       "\\item[00:14:bf:b1:97:8d] 1\n",
       "\\item[00:14:bf:b1:97:90] 1\n",
       "\\end{description*}\n"
      ],
      "text/markdown": [
       "00:0f:a3:39:dd:cd\n",
       ":   100:0f:a3:39:e1:c0\n",
       ":   100:14:bf:3b:c7:c6\n",
       ":   100:14:bf:b1:97:81\n",
       ":   100:14:bf:b1:97:8a\n",
       ":   100:14:bf:b1:97:8d\n",
       ":   100:14:bf:b1:97:90\n",
       ":   1\n",
       "\n"
      ],
      "text/plain": [
       "00:0f:a3:39:dd:cd 00:0f:a3:39:e1:c0 00:14:bf:3b:c7:c6 00:14:bf:b1:97:81 \n",
       "                1                 1                 1                 1 \n",
       "00:14:bf:b1:97:8a 00:14:bf:b1:97:8d 00:14:bf:b1:97:90 \n",
       "                1                 1                 1 "
      ]
     },
     "metadata": {},
     "output_type": "display_data"
    }
   ],
   "source": [
    "c(length(unique(offline$mac)), length(unique(offline$channel)))\n",
    "\n",
    "table(offline$mac)\n",
    "\n",
    "subMacs = names(sort(table(offline$mac), decreasing = TRUE))[1:7]\n",
    "offline = offline[ offline$mac %in% subMacs, ]\n",
    "\n",
    "macChannel = with(offline, table(mac, channel))\n",
    "apply(macChannel, 1, function(x) sum(x > 0))"
   ]
  },
  {
   "cell_type": "markdown",
   "metadata": {},
   "source": [
    "# This where the mac addresses are kept and dropped"
   ]
  },
  {
   "cell_type": "code",
   "execution_count": 149,
   "metadata": {},
   "outputs": [
    {
     "data": {
      "text/html": [
       "476"
      ],
      "text/latex": [
       "476"
      ],
      "text/markdown": [
       "476"
      ],
      "text/plain": [
       "[1] 476"
      ]
     },
     "metadata": {},
     "output_type": "display_data"
    },
    {
     "data": {
      "text/html": [
       "310"
      ],
      "text/latex": [
       "310"
      ],
      "text/markdown": [
       "310"
      ],
      "text/plain": [
       "[1] 310"
      ]
     },
     "metadata": {},
     "output_type": "display_data"
    },
    {
     "data": {
      "text/html": [
       "166"
      ],
      "text/latex": [
       "166"
      ],
      "text/markdown": [
       "166"
      ],
      "text/plain": [
       "[1] 166"
      ]
     },
     "metadata": {},
     "output_type": "display_data"
    },
    {
     "data": {
      "text/html": [
       "'matrix'"
      ],
      "text/latex": [
       "'matrix'"
      ],
      "text/markdown": [
       "'matrix'"
      ],
      "text/plain": [
       "[1] \"matrix\""
      ]
     },
     "metadata": {},
     "output_type": "display_data"
    },
    {
     "data": {
      "text/html": [
       "<ol class=list-inline>\n",
       "\t<li>3</li>\n",
       "\t<li>166</li>\n",
       "</ol>\n"
      ],
      "text/latex": [
       "\\begin{enumerate*}\n",
       "\\item 3\n",
       "\\item 166\n",
       "\\end{enumerate*}\n"
      ],
      "text/markdown": [
       "1. 3\n",
       "2. 166\n",
       "\n",
       "\n"
      ],
      "text/plain": [
       "[1]   3 166"
      ]
     },
     "metadata": {},
     "output_type": "display_data"
    },
    {
     "data": {
      "text/html": [
       "<table>\n",
       "<tbody>\n",
       "\t<tr><th scope=row>posX</th><td>0</td><td>1</td><td>2</td><td>0</td><td>1</td><td>2</td><td>0</td><td>1</td></tr>\n",
       "\t<tr><th scope=row>posY</th><td>0</td><td>0</td><td>0</td><td>1</td><td>1</td><td>1</td><td>2</td><td>2</td></tr>\n",
       "\t<tr><th scope=row>count</th><td>5505</td><td>5505</td><td>5506</td><td>5524</td><td>5543</td><td>5558</td><td>5503</td><td>5564</td></tr>\n",
       "</tbody>\n",
       "</table>\n"
      ],
      "text/latex": [
       "\\begin{tabular}{r|llllllll}\n",
       "\tposX & 0 & 1 & 2 & 0 & 1 & 2 & 0 & 1\\\\\n",
       "\tposY & 0 & 0 & 0 & 1 & 1 & 1 & 2 & 2\\\\\n",
       "\tcount & 5505 & 5505 & 5506 & 5524 & 5543 & 5558 & 5503 & 5564\\\\\n",
       "\\end{tabular}\n"
      ],
      "text/markdown": [
       "\n",
       "| posX | 0 | 1 | 2 | 0 | 1 | 2 | 0 | 1 | \n",
       "| posY | 0 | 0 | 0 | 1 | 1 | 1 | 2 | 2 | \n",
       "| count | 5505 | 5505 | 5506 | 5524 | 5543 | 5558 | 5503 | 5564 | \n",
       "\n",
       "\n"
      ],
      "text/plain": [
       "      [,1] [,2] [,3] [,4] [,5] [,6] [,7] [,8]\n",
       "posX  0    1    2    0    1    2    0    1   \n",
       "posY  0    0    0    1    1    1    2    2   \n",
       "count 5505 5505 5506 5524 5543 5558 5503 5564"
      ]
     },
     "metadata": {},
     "output_type": "display_data"
    }
   ],
   "source": [
    "offline = offline[ , \"channel\" != names(offline)]\n",
    "\n",
    "locDF = with(offline, \n",
    "             by(offline, list(posX, posY), function(x) x))\n",
    "length(locDF)\n",
    "\n",
    "\n",
    "sum(sapply(locDF, is.null))\n",
    "\n",
    "locDF = locDF[ !sapply(locDF, is.null) ]\n",
    "\n",
    "length(locDF)\n",
    "\n",
    "locCounts = sapply(locDF, nrow)\n",
    "\n",
    "locCounts = sapply(locDF, \n",
    "                   function(df) \n",
    "                     c(df[1, c(\"posX\", \"posY\")], count = nrow(df)))\n",
    "\n",
    "class(locCounts)\n",
    "\n",
    "dim(locCounts)\n",
    "\n",
    "locCounts[ , 1:8]"
   ]
  },
  {
   "cell_type": "code",
   "execution_count": 150,
   "metadata": {},
   "outputs": [
    {
     "data": {
      "text/html": [
       "<strong>null device:</strong> 1"
      ],
      "text/latex": [
       "\\textbf{null device:} 1"
      ],
      "text/markdown": [
       "**null device:** 1"
      ],
      "text/plain": [
       "null device \n",
       "          1 "
      ]
     },
     "metadata": {},
     "output_type": "display_data"
    },
    {
     "data": {
      "image/png": "[encoded data removed]",
      "text/plain": [
       "plot without title"
      ]
     },
     "metadata": {},
     "output_type": "display_data"
    }
   ],
   "source": [
    "#pdf(file = \"Geo_XYByCount.pdf\", width = 10)\n",
    "oldPar = par(mar = c(3.1, 3.1, 1, 1))\n",
    "\n",
    "locCounts = t(locCounts)\n",
    "plot(locCounts, type = \"n\", xlab = \"\", ylab = \"\")\n",
    "text(locCounts, labels = locCounts[,3], cex = .8, srt = 45)\n",
    "\n",
    "par(oldPar)\n",
    "dev.off()"
   ]
  },
  {
   "cell_type": "markdown",
   "metadata": {},
   "source": [
    "# Shows the distribution of the postition X and Y coordinates and where they are located on the map"
   ]
  },
  {
   "cell_type": "markdown",
   "metadata": {},
   "source": [
    "# START HERE Original Data Set With MAC Address 00:0f:a3:39:e1:c0 "
   ]
  },
  {
   "cell_type": "code",
   "execution_count": 151,
   "metadata": {},
   "outputs": [],
   "source": [
    "readData = \n",
    "  function(filename = 'offline.final.trace.txt', \n",
    "           subMacs = c(\"00:0f:a3:39:e1:c0\", \"00:14:bf:b1:97:8a\",\n",
    "                       \"00:14:bf:3b:c7:c6\", \"00:14:bf:b1:97:90\", \"00:14:bf:b1:97:8d\",\n",
    "                       \"00:14:bf:b1:97:81\"))\n",
    "  {\n",
    "    txt = readLines(filename)\n",
    "    lines = txt[ substr(txt, 1, 1) != \"#\" ]\n",
    "    tmp = lapply(lines, processLine)\n",
    "    offline0 = as.data.frame(do.call(\"rbind\", tmp), \n",
    "                            stringsAsFactors= FALSE) \n",
    "    \n",
    "    names(offline0) = c(\"time\", \"scanMac\", \n",
    "                       \"posX\", \"posY\", \"posZ\", \"orientation\", \n",
    "                       \"mac\", \"signal\", \"channel\", \"type\")\n",
    "    \n",
    "     # keep only signals from access points\n",
    "    offline0 = offline0[ offline0$type == \"3\", ]\n",
    "    \n",
    "    # drop scanMac, posZ, channel, and type - no info in them\n",
    "    dropVars = c(\"scanMac\", \"posZ\", \"channel\", \"type\")\n",
    "    offline0 = offline0[ , !( names(offline0) %in% dropVars ) ]\n",
    "    \n",
    "    # drop more unwanted access points\n",
    "    offline0 = offline0[ offline0$mac %in% subMacs, ]\n",
    "    \n",
    "    # convert numeric values\n",
    "    numVars = c(\"time\", \"posX\", \"posY\", \"orientation\", \"signal\")\n",
    "    offline0[ numVars ] = lapply(offline0[ numVars ], as.numeric)\n",
    "\n",
    "    # convert time to POSIX\n",
    "    offline0$rawTime = offline0$time\n",
    "    offline0$time = offline0$time/1000\n",
    "    class(offline0$time) = c(\"POSIXt\", \"POSIXct\")\n",
    "    \n",
    "    # round orientations to nearest 45\n",
    "    offline0$angle = roundOrientation(offline0$orientation)\n",
    "      \n",
    "    return(offline0)\n",
    "  }"
   ]
  },
  {
   "cell_type": "markdown",
   "metadata": {},
   "source": [
    "# New MAC Address with 00:0f:a3:39:dd:cd"
   ]
  },
  {
   "cell_type": "code",
   "execution_count": 152,
   "metadata": {},
   "outputs": [],
   "source": [
    "readDataNew = \n",
    "  function(filename = 'offline.final.trace.txt', \n",
    "           subMacs = c(\"00:0f:a3:39:dd:cd\", \"00:14:bf:b1:97:8a\",\n",
    "                       \"00:14:bf:3b:c7:c6\", \"00:14:bf:b1:97:90\", \"00:14:bf:b1:97:8d\",\n",
    "                       \"00:14:bf:b1:97:81\"))\n",
    "  {\n",
    "    txt = readLines(filename)\n",
    "    lines = txt[ substr(txt, 1, 1) != \"#\" ]\n",
    "    tmp = lapply(lines, processLine)\n",
    "    offline1 = as.data.frame(do.call(\"rbind\", tmp), \n",
    "                            stringsAsFactors= FALSE) \n",
    "    \n",
    "    names(offline1) = c(\"time\", \"scanMac\", \n",
    "                       \"posX\", \"posY\", \"posZ\", \"orientation\", \n",
    "                       \"mac\", \"signal\", \"channel\", \"type\")\n",
    "    \n",
    "     # keep only signals from access points\n",
    "    offline1 = offline1[ offline1$type == \"3\", ]\n",
    "    \n",
    "    # drop scanMac, posZ, channel, and type - no info in them\n",
    "    dropVars = c(\"scanMac\", \"posZ\", \"channel\", \"type\")\n",
    "    offline1 = offline1[ , !( names(offline1) %in% dropVars ) ]\n",
    "    \n",
    "    # drop more unwanted access points\n",
    "    offline1 = offline1[ offline1$mac %in% subMacs, ]\n",
    "    \n",
    "    # convert numeric values\n",
    "    numVars = c(\"time\", \"posX\", \"posY\", \"orientation\", \"signal\")\n",
    "    offline1[ numVars ] = lapply(offline1[ numVars ], as.numeric)\n",
    "\n",
    "    # convert time to POSIX\n",
    "    offline1$rawTime = offline1$time\n",
    "    offline1$time = offline1$time/1000\n",
    "    class(offline1$time) = c(\"POSIXt\", \"POSIXct\")\n",
    "    \n",
    "    # round orientations to nearest 45\n",
    "    offline1$angle = roundOrientation(offline1$orientation)\n",
    "      \n",
    "    return(offline1)\n",
    "  }"
   ]
  },
  {
   "cell_type": "markdown",
   "metadata": {},
   "source": [
    "# Both MAC Addresses"
   ]
  },
  {
   "cell_type": "code",
   "execution_count": 153,
   "metadata": {},
   "outputs": [],
   "source": [
    "readDataBoth = \n",
    "  function(filename = 'offline.final.trace.txt', \n",
    "           subMacs = c(\"00:0f:a3:39:e1:c0\", \"00:0f:a3:39:dd:cd\", \"00:14:bf:b1:97:8a\",\n",
    "                       \"00:14:bf:3b:c7:c6\", \"00:14:bf:b1:97:90\", \"00:14:bf:b1:97:8d\",\n",
    "                       \"00:14:bf:b1:97:81\"))\n",
    "  {\n",
    "    txt = readLines(filename)\n",
    "    lines = txt[ substr(txt, 1, 1) != \"#\" ]\n",
    "    tmp = lapply(lines, processLine)\n",
    "    offline2 = as.data.frame(do.call(\"rbind\", tmp), \n",
    "                            stringsAsFactors= FALSE) \n",
    "    \n",
    "    names(offline2) = c(\"time\", \"scanMac\", \n",
    "                       \"posX\", \"posY\", \"posZ\", \"orientation\", \n",
    "                       \"mac\", \"signal\", \"channel\", \"type\")\n",
    "    \n",
    "     # keep only signals from access points\n",
    "    offline2 = offline2[ offline2$type == \"3\", ]\n",
    "    \n",
    "    # drop scanMac, posZ, channel, and type - no info in them\n",
    "    dropVars = c(\"scanMac\", \"posZ\", \"channel\", \"type\")\n",
    "    offline2 = offline2[ , !( names(offline2) %in% dropVars ) ]\n",
    "    \n",
    "    # drop more unwanted access points\n",
    "    offline2 = offline2[ offline2$mac %in% subMacs, ]\n",
    "    \n",
    "    # convert numeric values\n",
    "    numVars = c(\"time\", \"posX\", \"posY\", \"orientation\", \"signal\")\n",
    "    offline2[ numVars ] = lapply(offline2[ numVars ], as.numeric)\n",
    "\n",
    "    # convert time to POSIX\n",
    "    offline2$rawTime = offline2$time\n",
    "    offline2$time = offline2$time/1000\n",
    "    class(offline2$time) = c(\"POSIXt\", \"POSIXct\")\n",
    "    \n",
    "    # round orientations to nearest 45\n",
    "    offline2$angle = roundOrientation(offline2$orientation)\n",
    "      \n",
    "    return(offline2)\n",
    "  }"
   ]
  },
  {
   "cell_type": "code",
   "execution_count": 154,
   "metadata": {},
   "outputs": [
    {
     "data": {
      "text/html": [
       "FALSE"
      ],
      "text/latex": [
       "FALSE"
      ],
      "text/markdown": [
       "FALSE"
      ],
      "text/plain": [
       "[1] FALSE"
      ]
     },
     "metadata": {},
     "output_type": "display_data"
    }
   ],
   "source": [
    "offlineRedo = readData()\n",
    "offlinenew = readDataNew()\n",
    "offlineBoth = readDataBoth()\n",
    "\n",
    "identical(offline, offlineRedo)"
   ]
  },
  {
   "cell_type": "markdown",
   "metadata": {},
   "source": [
    "# Check for Original Data Set"
   ]
  },
  {
   "cell_type": "code",
   "execution_count": 155,
   "metadata": {},
   "outputs": [
    {
     "data": {
      "text/html": [
       "<dl class=dl-horizontal>\n",
       "\t<dt>00:0f:a3:39:e1:c0</dt>\n",
       "\t\t<dd>1</dd>\n",
       "\t<dt>00:14:bf:3b:c7:c6</dt>\n",
       "\t\t<dd>1</dd>\n",
       "\t<dt>00:14:bf:b1:97:81</dt>\n",
       "\t\t<dd>1</dd>\n",
       "\t<dt>00:14:bf:b1:97:8a</dt>\n",
       "\t\t<dd>1</dd>\n",
       "\t<dt>00:14:bf:b1:97:8d</dt>\n",
       "\t\t<dd>1</dd>\n",
       "\t<dt>00:14:bf:b1:97:90</dt>\n",
       "\t\t<dd>1</dd>\n",
       "</dl>\n"
      ],
      "text/latex": [
       "\\begin{description*}\n",
       "\\item[00:0f:a3:39:e1:c0] 1\n",
       "\\item[00:14:bf:3b:c7:c6] 1\n",
       "\\item[00:14:bf:b1:97:81] 1\n",
       "\\item[00:14:bf:b1:97:8a] 1\n",
       "\\item[00:14:bf:b1:97:8d] 1\n",
       "\\item[00:14:bf:b1:97:90] 1\n",
       "\\end{description*}\n"
      ],
      "text/markdown": [
       "00:0f:a3:39:e1:c0\n",
       ":   100:14:bf:3b:c7:c6\n",
       ":   100:14:bf:b1:97:81\n",
       ":   100:14:bf:b1:97:8a\n",
       ":   100:14:bf:b1:97:8d\n",
       ":   100:14:bf:b1:97:90\n",
       ":   1\n",
       "\n"
      ],
      "text/plain": [
       "00:0f:a3:39:e1:c0 00:14:bf:3b:c7:c6 00:14:bf:b1:97:81 00:14:bf:b1:97:8a \n",
       "                1                 1                 1                 1 \n",
       "00:14:bf:b1:97:8d 00:14:bf:b1:97:90 \n",
       "                1                 1 "
      ]
     },
     "metadata": {},
     "output_type": "display_data"
    }
   ],
   "source": [
    "macChannel0 = with(offlineRedo, table(mac))\n",
    "apply(macChannel0, 1, function(x) sum(x > 0))"
   ]
  },
  {
   "cell_type": "markdown",
   "metadata": {},
   "source": [
    "# Check for New MAC Data Set"
   ]
  },
  {
   "cell_type": "code",
   "execution_count": 156,
   "metadata": {},
   "outputs": [
    {
     "data": {
      "text/html": [
       "<dl class=dl-horizontal>\n",
       "\t<dt>00:0f:a3:39:dd:cd</dt>\n",
       "\t\t<dd>1</dd>\n",
       "\t<dt>00:14:bf:3b:c7:c6</dt>\n",
       "\t\t<dd>1</dd>\n",
       "\t<dt>00:14:bf:b1:97:81</dt>\n",
       "\t\t<dd>1</dd>\n",
       "\t<dt>00:14:bf:b1:97:8a</dt>\n",
       "\t\t<dd>1</dd>\n",
       "\t<dt>00:14:bf:b1:97:8d</dt>\n",
       "\t\t<dd>1</dd>\n",
       "\t<dt>00:14:bf:b1:97:90</dt>\n",
       "\t\t<dd>1</dd>\n",
       "</dl>\n"
      ],
      "text/latex": [
       "\\begin{description*}\n",
       "\\item[00:0f:a3:39:dd:cd] 1\n",
       "\\item[00:14:bf:3b:c7:c6] 1\n",
       "\\item[00:14:bf:b1:97:81] 1\n",
       "\\item[00:14:bf:b1:97:8a] 1\n",
       "\\item[00:14:bf:b1:97:8d] 1\n",
       "\\item[00:14:bf:b1:97:90] 1\n",
       "\\end{description*}\n"
      ],
      "text/markdown": [
       "00:0f:a3:39:dd:cd\n",
       ":   100:14:bf:3b:c7:c6\n",
       ":   100:14:bf:b1:97:81\n",
       ":   100:14:bf:b1:97:8a\n",
       ":   100:14:bf:b1:97:8d\n",
       ":   100:14:bf:b1:97:90\n",
       ":   1\n",
       "\n"
      ],
      "text/plain": [
       "00:0f:a3:39:dd:cd 00:14:bf:3b:c7:c6 00:14:bf:b1:97:81 00:14:bf:b1:97:8a \n",
       "                1                 1                 1                 1 \n",
       "00:14:bf:b1:97:8d 00:14:bf:b1:97:90 \n",
       "                1                 1 "
      ]
     },
     "metadata": {},
     "output_type": "display_data"
    }
   ],
   "source": [
    "macChannel1 = with(offlinenew, table(mac))\n",
    "apply(macChannel1, 1, function(x) sum(x > 0))"
   ]
  },
  {
   "cell_type": "markdown",
   "metadata": {},
   "source": [
    "# Check for Both MAC Data Set"
   ]
  },
  {
   "cell_type": "code",
   "execution_count": 157,
   "metadata": {},
   "outputs": [
    {
     "data": {
      "text/html": [
       "<dl class=dl-horizontal>\n",
       "\t<dt>00:0f:a3:39:dd:cd</dt>\n",
       "\t\t<dd>1</dd>\n",
       "\t<dt>00:0f:a3:39:e1:c0</dt>\n",
       "\t\t<dd>1</dd>\n",
       "\t<dt>00:14:bf:3b:c7:c6</dt>\n",
       "\t\t<dd>1</dd>\n",
       "\t<dt>00:14:bf:b1:97:81</dt>\n",
       "\t\t<dd>1</dd>\n",
       "\t<dt>00:14:bf:b1:97:8a</dt>\n",
       "\t\t<dd>1</dd>\n",
       "\t<dt>00:14:bf:b1:97:8d</dt>\n",
       "\t\t<dd>1</dd>\n",
       "\t<dt>00:14:bf:b1:97:90</dt>\n",
       "\t\t<dd>1</dd>\n",
       "</dl>\n"
      ],
      "text/latex": [
       "\\begin{description*}\n",
       "\\item[00:0f:a3:39:dd:cd] 1\n",
       "\\item[00:0f:a3:39:e1:c0] 1\n",
       "\\item[00:14:bf:3b:c7:c6] 1\n",
       "\\item[00:14:bf:b1:97:81] 1\n",
       "\\item[00:14:bf:b1:97:8a] 1\n",
       "\\item[00:14:bf:b1:97:8d] 1\n",
       "\\item[00:14:bf:b1:97:90] 1\n",
       "\\end{description*}\n"
      ],
      "text/markdown": [
       "00:0f:a3:39:dd:cd\n",
       ":   100:0f:a3:39:e1:c0\n",
       ":   100:14:bf:3b:c7:c6\n",
       ":   100:14:bf:b1:97:81\n",
       ":   100:14:bf:b1:97:8a\n",
       ":   100:14:bf:b1:97:8d\n",
       ":   100:14:bf:b1:97:90\n",
       ":   1\n",
       "\n"
      ],
      "text/plain": [
       "00:0f:a3:39:dd:cd 00:0f:a3:39:e1:c0 00:14:bf:3b:c7:c6 00:14:bf:b1:97:81 \n",
       "                1                 1                 1                 1 \n",
       "00:14:bf:b1:97:8a 00:14:bf:b1:97:8d 00:14:bf:b1:97:90 \n",
       "                1                 1                 1 "
      ]
     },
     "metadata": {},
     "output_type": "display_data"
    }
   ],
   "source": [
    "macChannel2 = with(offlineBoth, table(mac))\n",
    "apply(macChannel2, 1, function(x) sum(x > 0))"
   ]
  },
  {
   "cell_type": "markdown",
   "metadata": {},
   "source": [
    "# I would start here for the data cleaning. Note here is where the condensed version of the data cleaning"
   ]
  },
  {
   "cell_type": "markdown",
   "metadata": {},
   "source": [
    "# Graphs of the Box plots and Density Function of Original Data Set"
   ]
  },
  {
   "cell_type": "code",
   "execution_count": 181,
   "metadata": {},
   "outputs": [
    {
     "data": {},
     "metadata": {},
     "output_type": "display_data"
    },
    {
     "data": {
      "text/html": [
       "<strong>null device:</strong> 1"
      ],
      "text/latex": [
       "\\textbf{null device:} 1"
      ],
      "text/markdown": [
       "**null device:** 1"
      ],
      "text/plain": [
       "null device \n",
       "          1 "
      ]
     },
     "metadata": {},
     "output_type": "display_data"
    },
    {
     "data": {
      "image/png": "[encoded data removed]",
      "text/plain": [
       "plot without title"
      ]
     },
     "metadata": {},
     "output_type": "display_data"
    }
   ],
   "source": [
    "#pdf(file = \"Geo_BoxplotSignalByMacAngle.pdf\", width = 7)\n",
    "oldPar = par(mar = c(3.1, 3, 1, 1))\n",
    "\n",
    "library(lattice)\n",
    "bwplot(signal ~ factor(angle) | mac, data = offlineRedo, \n",
    "       subset = posX == 2 & posY == 12 \n",
    "                & mac != \"00:0f:a3:39:dd:cd\", \n",
    "       layout = c(2,3))\n",
    "\n",
    "par(oldPar)\n",
    "dev.off()"
   ]
  },
  {
   "cell_type": "code",
   "execution_count": 17,
   "metadata": {},
   "outputs": [
    {
     "data": {
      "text/plain": [
       "   Min. 1st Qu.  Median    Mean 3rd Qu.    Max. \n",
       "    -93     -64     -58     -58     -51     -25 "
      ]
     },
     "metadata": {},
     "output_type": "display_data"
    },
    {
     "data": {},
     "metadata": {},
     "output_type": "display_data"
    },
    {
     "data": {
      "text/html": [
       "<strong>null device:</strong> 1"
      ],
      "text/latex": [
       "\\textbf{null device:} 1"
      ],
      "text/markdown": [
       "**null device:** 1"
      ],
      "text/plain": [
       "null device \n",
       "          1 "
      ]
     },
     "metadata": {},
     "output_type": "display_data"
    },
    {
     "data": {
      "image/png": "[encoded data removed]",
      "text/plain": [
       "plot without title"
      ]
     },
     "metadata": {},
     "output_type": "display_data"
    }
   ],
   "source": [
    "summary(offlineRedo$signal)\n",
    "\n",
    "#pdf(file = \"Geo_DensitySignalByMacAngle.pdf\", width = 8, height = 12)\n",
    "oldPar = par(mar = c(3.1, 3, 1, 1))\n",
    "\n",
    "densityplot( ~ signal | mac + factor(angle), data = offlineRedo,\n",
    "             subset = posX == 24 & posY == 4 & \n",
    "                         mac != \"00:0f:a3:39:dd:cd\",\n",
    "             bw = 0.5, plot.points = FALSE)\n",
    "\n",
    "par(oldPar)\n",
    "dev.off()"
   ]
  },
  {
   "cell_type": "markdown",
   "metadata": {},
   "source": [
    "# Graphs of the Box plots and Density Function of New Data Set"
   ]
  },
  {
   "cell_type": "code",
   "execution_count": 183,
   "metadata": {},
   "outputs": [
    {
     "data": {},
     "metadata": {},
     "output_type": "display_data"
    },
    {
     "data": {
      "text/html": [
       "<strong>null device:</strong> 1"
      ],
      "text/latex": [
       "\\textbf{null device:} 1"
      ],
      "text/markdown": [
       "**null device:** 1"
      ],
      "text/plain": [
       "null device \n",
       "          1 "
      ]
     },
     "metadata": {},
     "output_type": "display_data"
    },
    {
     "data": {
      "image/png": "[encoded data removed]",
      "text/plain": [
       "plot without title"
      ]
     },
     "metadata": {},
     "output_type": "display_data"
    }
   ],
   "source": [
    "#pdf(file = \"Geo_BoxplotSignalByMacAngle.pdf\", width = 7)\n",
    "oldPar = par(mar = c(3.1, 3, 1, 1))\n",
    "\n",
    "library(lattice)\n",
    "bwplot(signal ~ factor(angle) | mac, data = offlinenew, \n",
    "       subset = posX == 2 & posY == 12 \n",
    "                , \n",
    "       layout = c(2,3))\n",
    "\n",
    "par(oldPar)\n",
    "dev.off()"
   ]
  },
  {
   "cell_type": "code",
   "execution_count": 19,
   "metadata": {},
   "outputs": [
    {
     "data": {
      "text/plain": [
       "   Min. 1st Qu.  Median    Mean 3rd Qu.    Max. \n",
       "    -98     -69     -61     -61     -54     -25 "
      ]
     },
     "metadata": {},
     "output_type": "display_data"
    },
    {
     "data": {},
     "metadata": {},
     "output_type": "display_data"
    },
    {
     "data": {
      "text/html": [
       "<strong>null device:</strong> 1"
      ],
      "text/latex": [
       "\\textbf{null device:} 1"
      ],
      "text/markdown": [
       "**null device:** 1"
      ],
      "text/plain": [
       "null device \n",
       "          1 "
      ]
     },
     "metadata": {},
     "output_type": "display_data"
    },
    {
     "data": {
      "image/png": "[encoded data removed]",
      "text/plain": [
       "plot without title"
      ]
     },
     "metadata": {},
     "output_type": "display_data"
    }
   ],
   "source": [
    "summary(offlinenew$signal)\n",
    "\n",
    "#pdf(file = \"Geo_DensitySignalByMacAngle.pdf\", width = 8, height = 12)\n",
    "oldPar = par(mar = c(3.1, 3, 1, 1))\n",
    "\n",
    "densityplot( ~ signal | mac + factor(angle), data = offlinenew,\n",
    "             subset = posX == 24 & posY == 4,\n",
    "             bw = 0.5, plot.points = FALSE)\n",
    "\n",
    "par(oldPar)\n",
    "dev.off()"
   ]
  },
  {
   "cell_type": "markdown",
   "metadata": {},
   "source": [
    "# Graphs of the Box plots and Density Function of Both Data Set"
   ]
  },
  {
   "cell_type": "code",
   "execution_count": 185,
   "metadata": {},
   "outputs": [
    {
     "data": {},
     "metadata": {},
     "output_type": "display_data"
    },
    {
     "data": {
      "text/html": [
       "<strong>null device:</strong> 1"
      ],
      "text/latex": [
       "\\textbf{null device:} 1"
      ],
      "text/markdown": [
       "**null device:** 1"
      ],
      "text/plain": [
       "null device \n",
       "          1 "
      ]
     },
     "metadata": {},
     "output_type": "display_data"
    },
    {
     "data": {
      "image/png": "[encoded data removed]",
      "text/plain": [
       "plot without title"
      ]
     },
     "metadata": {},
     "output_type": "display_data"
    }
   ],
   "source": [
    "#pdf(file = \"Geo_BoxplotSignalByMacAngle.pdf\", width = 7)\n",
    "oldPar = par(mar = c(3.1, 3, 1, 1))\n",
    "\n",
    "library(lattice)\n",
    "bwplot(signal ~ factor(angle) | mac, data = offlineBoth, \n",
    "       subset = posX == 2 & posY == 12 ,\n",
    "         xlab=\"Orientation\"       , \n",
    "       layout = c(2,4))\n",
    "\n",
    "par(oldPar)\n",
    "dev.off()"
   ]
  },
  {
   "cell_type": "code",
   "execution_count": 21,
   "metadata": {},
   "outputs": [
    {
     "data": {
      "text/plain": [
       "   Min. 1st Qu.  Median    Mean 3rd Qu.    Max. \n",
       "    -98     -67     -59     -60     -53     -25 "
      ]
     },
     "metadata": {},
     "output_type": "display_data"
    },
    {
     "data": {},
     "metadata": {},
     "output_type": "display_data"
    },
    {
     "data": {
      "text/html": [
       "<strong>null device:</strong> 1"
      ],
      "text/latex": [
       "\\textbf{null device:} 1"
      ],
      "text/markdown": [
       "**null device:** 1"
      ],
      "text/plain": [
       "null device \n",
       "          1 "
      ]
     },
     "metadata": {},
     "output_type": "display_data"
    },
    {
     "data": {
      "image/png": "[encoded data removed]",
      "text/plain": [
       "plot without title"
      ]
     },
     "metadata": {},
     "output_type": "display_data"
    }
   ],
   "source": [
    "summary(offlineBoth$signal)\n",
    "\n",
    "#pdf(file = \"Geo_DensitySignalByMacAngle.pdf\", width = 8, height = 12)\n",
    "oldPar = par(mar = c(3.1, 3, 1, 1))\n",
    "\n",
    "densityplot( ~ signal | mac + factor(angle), data = offlineBoth,\n",
    "             subset = posX == 24 & posY == 4,\n",
    "             bw = 0.5, plot.points = FALSE)\n",
    "\n",
    "par(oldPar)\n",
    "dev.off()"
   ]
  },
  {
   "cell_type": "markdown",
   "metadata": {},
   "source": [
    "# The SD of Signal Strength by Mean Signal Strength for the Original"
   ]
  },
  {
   "cell_type": "code",
   "execution_count": 158,
   "metadata": {},
   "outputs": [],
   "source": [
    "#offline = offline[ offline$mac != \"00:0f:a3:39:dd:cd\", ]\n",
    "\n",
    "offlineRedo$posXY = paste(offlineRedo$posX, offlineRedo$posY, sep = \"-\")\n",
    "\n",
    "byLocAngleAPRedo = with(offlineRedo, \n",
    "                    by(offlineRedo, list(posXY, angle, mac), \n",
    "                       function(x) x))"
   ]
  },
  {
   "cell_type": "code",
   "execution_count": 159,
   "metadata": {},
   "outputs": [],
   "source": [
    "signalSummaryRedo = \n",
    "  lapply(byLocAngleAPRedo,            \n",
    "         function(oneLoc) {\n",
    "           ans = oneLoc[1, ]\n",
    "           ans$medSignal = median(oneLoc$signal)\n",
    "           ans$avgSignal = mean(oneLoc$signal)\n",
    "           ans$num = length(oneLoc$signal)\n",
    "           ans$sdSignal = sd(oneLoc$signal)\n",
    "           ans$iqrSignal = IQR(oneLoc$signal)\n",
    "           ans\n",
    "           })"
   ]
  },
  {
   "cell_type": "code",
   "execution_count": 160,
   "metadata": {},
   "outputs": [
    {
     "data": {},
     "metadata": {},
     "output_type": "display_data"
    },
    {
     "data": {
      "text/html": [
       "<strong>null device:</strong> 1"
      ],
      "text/latex": [
       "\\textbf{null device:} 1"
      ],
      "text/markdown": [
       "**null device:** 1"
      ],
      "text/plain": [
       "null device \n",
       "          1 "
      ]
     },
     "metadata": {},
     "output_type": "display_data"
    },
    {
     "data": {
      "text/html": [
       "<strong>null device:</strong> 1"
      ],
      "text/latex": [
       "\\textbf{null device:} 1"
      ],
      "text/markdown": [
       "**null device:** 1"
      ],
      "text/plain": [
       "null device \n",
       "          1 "
      ]
     },
     "metadata": {},
     "output_type": "display_data"
    },
    {
     "data": {
      "image/png": "[encoded data removed]",
      "text/plain": [
       "plot without title"
      ]
     },
     "metadata": {},
     "output_type": "display_data"
    }
   ],
   "source": [
    "offlineSummaryRedo = do.call(\"rbind\", signalSummaryRedo)     \n",
    "\n",
    "#pdf(file = \"Geo_BoxplotSignalSDByAvg.pdf\", width = 10)\n",
    "oldPar = par(mar = c(3.1, 3, 1, 1))\n",
    "\n",
    "breaks = seq(-90, -30, by = 5)\n",
    "bwplot(sdSignal ~ cut(avgSignal, breaks = breaks),\n",
    "       data = offlineSummaryRedo, \n",
    "       subset = mac != \"00:0f:a3:39:dd:cd\",\n",
    "       xlab = \"Mean Signal\", ylab = \"SD Signal\")\n",
    "\n",
    "par(oldPar)\n",
    "dev.off()\n",
    "\n",
    "#pdf(file = \"Geo_ScatterMean-Median.pdf\", width = 10)\n",
    "oldPar = par(mar = c(4.1, 4.1, 1, 1))\n",
    "\n",
    "with(offlineSummaryRedo,\n",
    "     smoothScatter((avgSignal - medSignal) ~ num,\n",
    "                   xlab = \"Number of Observations\", \n",
    "                   ylab = \"mean - median\"))\n",
    "abline(h = 0, col = \"#984ea3\", lwd = 2)\n",
    "lo.obj = \n",
    "  with(offlineSummaryRedo,\n",
    "       loess(diff ~ num, \n",
    "             data = data.frame(diff = (avgSignal - medSignal),\n",
    "                               num = num)))\n",
    "\n",
    "lo.obj.pr = predict(lo.obj, newdata = data.frame(num = (70:120)))\n",
    "lines(x = 70:120, y = lo.obj.pr, col = \"#4daf4a\", lwd = 2)\n",
    "\n",
    "par(oldPar)\n",
    "dev.off()"
   ]
  },
  {
   "cell_type": "markdown",
   "metadata": {},
   "source": [
    "# The SD of Signal Strength by Mean Signal Strength for the New"
   ]
  },
  {
   "cell_type": "code",
   "execution_count": 25,
   "metadata": {},
   "outputs": [],
   "source": [
    "#offline = offline[ offline$mac != \"00:0f:a3:39:dd:cd\", ]\n",
    "\n",
    "offlinenew$posXY = paste(offlinenew$posX, offlinenew$posY, sep = \"-\")\n",
    "\n",
    "byLocAngleAPnew = with(offlinenew, \n",
    "                    by(offlinenew, list(posXY, angle, mac), \n",
    "                       function(x) x))"
   ]
  },
  {
   "cell_type": "code",
   "execution_count": 26,
   "metadata": {},
   "outputs": [],
   "source": [
    "signalSummarynew = \n",
    "  lapply(byLocAngleAPnew,            \n",
    "         function(oneLoc) {\n",
    "           ans = oneLoc[1, ]\n",
    "           ans$medSignal = median(oneLoc$signal)\n",
    "           ans$avgSignal = mean(oneLoc$signal)\n",
    "           ans$num = length(oneLoc$signal)\n",
    "           ans$sdSignal = sd(oneLoc$signal)\n",
    "           ans$iqrSignal = IQR(oneLoc$signal)\n",
    "           ans\n",
    "           })"
   ]
  },
  {
   "cell_type": "code",
   "execution_count": 27,
   "metadata": {},
   "outputs": [
    {
     "data": {},
     "metadata": {},
     "output_type": "display_data"
    },
    {
     "data": {
      "text/html": [
       "<strong>null device:</strong> 1"
      ],
      "text/latex": [
       "\\textbf{null device:} 1"
      ],
      "text/markdown": [
       "**null device:** 1"
      ],
      "text/plain": [
       "null device \n",
       "          1 "
      ]
     },
     "metadata": {},
     "output_type": "display_data"
    },
    {
     "data": {
      "text/html": [
       "<strong>null device:</strong> 1"
      ],
      "text/latex": [
       "\\textbf{null device:} 1"
      ],
      "text/markdown": [
       "**null device:** 1"
      ],
      "text/plain": [
       "null device \n",
       "          1 "
      ]
     },
     "metadata": {},
     "output_type": "display_data"
    },
    {
     "data": {
      "image/png": "[encoded data removed]",
      "text/plain": [
       "plot without title"
      ]
     },
     "metadata": {},
     "output_type": "display_data"
    }
   ],
   "source": [
    "offlineSummarynew = do.call(\"rbind\", signalSummarynew)     \n",
    "\n",
    "#pdf(file = \"Geo_BoxplotSignalSDByAvg.pdf\", width = 10)\n",
    "oldPar = par(mar = c(3.1, 3, 1, 1))\n",
    "\n",
    "breaks = seq(-90, -30, by = 5)\n",
    "bwplot(sdSignal ~ cut(avgSignal, breaks = breaks),\n",
    "       data = offlineSummarynew, \n",
    "       \n",
    "       xlab = \"Mean Signal\", ylab = \"SD Signal\")\n",
    "\n",
    "par(oldPar)\n",
    "dev.off()\n",
    "\n",
    "#pdf(file = \"Geo_ScatterMean-Median.pdf\", width = 10)\n",
    "oldPar = par(mar = c(4.1, 4.1, 1, 1))\n",
    "\n",
    "with(offlineSummarynew,\n",
    "     smoothScatter((avgSignal - medSignal) ~ num,\n",
    "                   xlab = \"Number of Observations\", \n",
    "                   ylab = \"mean - median\"))\n",
    "abline(h = 0, col = \"#984ea3\", lwd = 2)\n",
    "lo.obj = \n",
    "  with(offlineSummarynew,\n",
    "       loess(diff ~ num, \n",
    "             data = data.frame(diff = (avgSignal - medSignal),\n",
    "                               num = num)))\n",
    "\n",
    "lo.obj.pr = predict(lo.obj, newdata = data.frame(num = (70:120)))\n",
    "lines(x = 70:120, y = lo.obj.pr, col = \"#4daf4a\", lwd = 2)\n",
    "\n",
    "par(oldPar)\n",
    "dev.off()"
   ]
  },
  {
   "cell_type": "markdown",
   "metadata": {},
   "source": [
    "# The SD of Signal Strength by Mean Signal Strength for Both"
   ]
  },
  {
   "cell_type": "code",
   "execution_count": 28,
   "metadata": {},
   "outputs": [],
   "source": [
    "#offline = offline[ offline$mac != \"00:0f:a3:39:dd:cd\", ]\n",
    "\n",
    "offlineBoth$posXY = paste(offlineBoth$posX, offlineBoth$posY, sep = \"-\")\n",
    "\n",
    "byLocAngleAPBoth = with(offlineBoth, \n",
    "                    by(offlineBoth, list(posXY, angle, mac), \n",
    "                       function(x) x))"
   ]
  },
  {
   "cell_type": "code",
   "execution_count": 29,
   "metadata": {},
   "outputs": [],
   "source": [
    "signalSummaryBoth = \n",
    "  lapply(byLocAngleAPBoth,            \n",
    "         function(oneLoc) {\n",
    "           ans = oneLoc[1, ]\n",
    "           ans$medSignal = median(oneLoc$signal)\n",
    "           ans$avgSignal = mean(oneLoc$signal)\n",
    "           ans$num = length(oneLoc$signal)\n",
    "           ans$sdSignal = sd(oneLoc$signal)\n",
    "           ans$iqrSignal = IQR(oneLoc$signal)\n",
    "           ans\n",
    "           })"
   ]
  },
  {
   "cell_type": "code",
   "execution_count": 31,
   "metadata": {},
   "outputs": [
    {
     "data": {},
     "metadata": {},
     "output_type": "display_data"
    },
    {
     "data": {
      "text/html": [
       "<strong>null device:</strong> 1"
      ],
      "text/latex": [
       "\\textbf{null device:} 1"
      ],
      "text/markdown": [
       "**null device:** 1"
      ],
      "text/plain": [
       "null device \n",
       "          1 "
      ]
     },
     "metadata": {},
     "output_type": "display_data"
    },
    {
     "data": {
      "text/html": [
       "<strong>null device:</strong> 1"
      ],
      "text/latex": [
       "\\textbf{null device:} 1"
      ],
      "text/markdown": [
       "**null device:** 1"
      ],
      "text/plain": [
       "null device \n",
       "          1 "
      ]
     },
     "metadata": {},
     "output_type": "display_data"
    },
    {
     "data": {
      "image/png": "[encoded data removed]",
      "text/plain": [
       "plot without title"
      ]
     },
     "metadata": {},
     "output_type": "display_data"
    }
   ],
   "source": [
    "offlineSummaryBoth = do.call(\"rbind\", signalSummaryBoth)     \n",
    "\n",
    "#pdf(file = \"Geo_BoxplotSignalSDByAvg.pdf\", width = 10)\n",
    "oldPar = par(mar = c(3.1, 3, 1, 1))\n",
    "\n",
    "breaks = seq(-90, -30, by = 5)\n",
    "bwplot(sdSignal ~ cut(avgSignal, breaks = breaks),\n",
    "       data = offlineSummaryBoth, \n",
    "       \n",
    "       xlab = \"Mean Signal\", ylab = \"SD Signal\")\n",
    "\n",
    "par(oldPar)\n",
    "dev.off()\n",
    "\n",
    "#pdf(file = \"Geo_ScatterMean-Median.pdf\", width = 10)\n",
    "oldPar = par(mar = c(4.1, 4.1, 1, 1))\n",
    "\n",
    "with(offlineSummaryBoth,\n",
    "     smoothScatter((avgSignal - medSignal) ~ num,\n",
    "                   xlab = \"Number of Observations\", \n",
    "                   ylab = \"mean - median\"))\n",
    "abline(h = 0, col = \"#984ea3\", lwd = 2)\n",
    "lo.obj = \n",
    "  with(offlineSummaryBoth,\n",
    "       loess(diff ~ num, \n",
    "             data = data.frame(diff = (avgSignal - medSignal),\n",
    "                               num = num)))\n",
    "\n",
    "lo.obj.pr = predict(lo.obj, newdata = data.frame(num = (70:120)))\n",
    "lines(x = 70:120, y = lo.obj.pr, col = \"#4daf4a\", lwd = 2)\n",
    "\n",
    "par(oldPar)\n",
    "dev.off()"
   ]
  },
  {
   "cell_type": "markdown",
   "metadata": {},
   "source": [
    "# Examining the distribution of signal strength for all 166 locations, 8 angles, and 6 access points.  NOT Used Below"
   ]
  },
  {
   "cell_type": "code",
   "execution_count": 17,
   "metadata": {},
   "outputs": [],
   "source": [
    "\n",
    " \n",
    "oneAPAngle = subset(offlineSummary, \n",
    "                    mac == subMacs[5] & angle == 0)\n",
    "\n",
    "\n",
    "\n"
   ]
  },
  {
   "cell_type": "code",
   "execution_count": 31,
   "metadata": {},
   "outputs": [
    {
     "name": "stderr",
     "output_type": "stream",
     "text": [
      "Loading required package: spam\n",
      "Loading required package: dotCall64\n",
      "Loading required package: grid\n",
      "Spam version 2.1-1 (2017-07-02) is loaded.\n",
      "Type 'help( Spam)' or 'demo( spam)' for a short introduction \n",
      "and overview of this package.\n",
      "Help for individual functions is also obtained by adding the\n",
      "suffix '.spam' to the function name, e.g. 'help( chol.spam)'.\n",
      "\n",
      "Attaching package: 'spam'\n",
      "\n",
      "The following objects are masked from 'package:base':\n",
      "\n",
      "    backsolve, forwardsolve\n",
      "\n",
      "Loading required package: maps\n"
     ]
    },
    {
     "data": {
      "image/png": "[encoded data removed]",
      "text/plain": [
       "plot without title"
      ]
     },
     "metadata": {},
     "output_type": "display_data"
    }
   ],
   "source": [
    "library(fields)\n",
    "smoothSS = Tps(oneAPAngle[, c(\"posX\",\"posY\")], \n",
    "               oneAPAngle$avgSignal)\n",
    "\n",
    "vizSmooth = predictSurface(smoothSS)\n",
    "\n",
    "plot.surface(vizSmooth, type = \"C\")\n",
    "\n",
    "points(oneAPAngle$posX, oneAPAngle$posY, pch=19, cex = 0.5)"
   ]
  },
  {
   "cell_type": "code",
   "execution_count": 32,
   "metadata": {},
   "outputs": [
    {
     "name": "stderr",
     "output_type": "stream",
     "text": [
      "ERROR while rich displaying an object: Error in vapply(seq_along(mapped), function(i) {: values must be length 1,\n",
      " but FUN(X[[1]]) result is length 0\n",
      "\n",
      "Traceback:\n",
      "1. FUN(X[[i]], ...)\n",
      "2. tryCatch(withCallingHandlers({\n",
      " .     rpr <- mime2repr[[mime]](obj)\n",
      " .     if (is.null(rpr)) \n",
      " .         return(NULL)\n",
      " .     prepare_content(is.raw(rpr), rpr)\n",
      " . }, error = error_handler), error = outer_handler)\n",
      "3. tryCatchList(expr, classes, parentenv, handlers)\n",
      "4. tryCatchOne(expr, names, parentenv, handlers[[1L]])\n",
      "5. doTryCatch(return(expr), name, parentenv, handler)\n",
      "6. withCallingHandlers({\n",
      " .     rpr <- mime2repr[[mime]](obj)\n",
      " .     if (is.null(rpr)) \n",
      " .         return(NULL)\n",
      " .     prepare_content(is.raw(rpr), rpr)\n",
      " . }, error = error_handler)\n",
      "7. mime2repr[[mime]](obj)\n",
      "8. repr_html.list(obj)\n",
      "9. repr_list_generic(obj, \"html\", \"\\t<li>%s</li>\\n\", \"\\t<dt>$%s</dt>\\n\\t\\t<dd>%s</dd>\\n\", \n",
      " .     \"<strong>$%s</strong> = %s\", \"<ol>\\n%s</ol>\\n\", \"<dl>\\n%s</dl>\\n\", \n",
      " .     numeric_item = \"\\t<dt>[[%s]]</dt>\\n\\t\\t<dd>%s</dd>\\n\", escape_fun = html_escape)\n",
      "10. vapply(seq_along(mapped), function(i) {\n",
      "  .     nm <- nms[[i]]\n",
      "  .     if (is.na(nm) || nchar(nm) == 0) {\n",
      "  .         sprintf(numeric_item, i, mapped[[i]])\n",
      "  .     }\n",
      "  .     else {\n",
      "  .         sprintf(named_item, nms[[i]], mapped[[i]])\n",
      "  .     }\n",
      "  . }, character(1))\n",
      "ERROR while rich displaying an object: Error in vapply(seq_along(mapped), function(i) {: values must be length 1,\n",
      " but FUN(X[[1]]) result is length 0\n",
      "\n",
      "Traceback:\n",
      "1. FUN(X[[i]], ...)\n",
      "2. tryCatch(withCallingHandlers({\n",
      " .     rpr <- mime2repr[[mime]](obj)\n",
      " .     if (is.null(rpr)) \n",
      " .         return(NULL)\n",
      " .     prepare_content(is.raw(rpr), rpr)\n",
      " . }, error = error_handler), error = outer_handler)\n",
      "3. tryCatchList(expr, classes, parentenv, handlers)\n",
      "4. tryCatchOne(expr, names, parentenv, handlers[[1L]])\n",
      "5. doTryCatch(return(expr), name, parentenv, handler)\n",
      "6. withCallingHandlers({\n",
      " .     rpr <- mime2repr[[mime]](obj)\n",
      " .     if (is.null(rpr)) \n",
      " .         return(NULL)\n",
      " .     prepare_content(is.raw(rpr), rpr)\n",
      " . }, error = error_handler)\n",
      "7. mime2repr[[mime]](obj)\n",
      "8. repr_markdown.list(obj)\n",
      "9. repr_list_generic(obj, \"markdown\", \"%s. %s\\n\", \"$%s\\n:   %s\\n\", \n",
      " .     \"**$%s** = %s\", \"%s\\n\\n\", numeric_item = \"[[%s]]\\n:   %s\\n\", \n",
      " .     item_uses_numbers = TRUE, escape_fun = html_escape)\n",
      "10. vapply(seq_along(mapped), function(i) {\n",
      "  .     nm <- nms[[i]]\n",
      "  .     if (is.na(nm) || nchar(nm) == 0) {\n",
      "  .         sprintf(numeric_item, i, mapped[[i]])\n",
      "  .     }\n",
      "  .     else {\n",
      "  .         sprintf(named_item, nms[[i]], mapped[[i]])\n",
      "  .     }\n",
      "  . }, character(1))\n",
      "ERROR while rich displaying an object: Error in vapply(seq_along(mapped), function(i) {: values must be length 1,\n",
      " but FUN(X[[1]]) result is length 0\n",
      "\n",
      "Traceback:\n",
      "1. FUN(X[[i]], ...)\n",
      "2. tryCatch(withCallingHandlers({\n",
      " .     rpr <- mime2repr[[mime]](obj)\n",
      " .     if (is.null(rpr)) \n",
      " .         return(NULL)\n",
      " .     prepare_content(is.raw(rpr), rpr)\n",
      " . }, error = error_handler), error = outer_handler)\n",
      "3. tryCatchList(expr, classes, parentenv, handlers)\n",
      "4. tryCatchOne(expr, names, parentenv, handlers[[1L]])\n",
      "5. doTryCatch(return(expr), name, parentenv, handler)\n",
      "6. withCallingHandlers({\n",
      " .     rpr <- mime2repr[[mime]](obj)\n",
      " .     if (is.null(rpr)) \n",
      " .         return(NULL)\n",
      " .     prepare_content(is.raw(rpr), rpr)\n",
      " . }, error = error_handler)\n",
      "7. mime2repr[[mime]](obj)\n",
      "8. repr_latex.list(obj)\n",
      "9. repr_list_generic(obj, \"latex\", \"\\\\item %s\\n\", \"\\\\item[\\\\$%s] %s\\n\", \n",
      " .     \"\\\\textbf{\\\\$%s} = %s\", enum_wrap = \"\\\\begin{enumerate}\\n%s\\\\end{enumerate}\\n\", \n",
      " .     named_wrap = \"\\\\begin{description}\\n%s\\\\end{description}\\n\", \n",
      " .     numeric_item = \"\\\\item[{[[%s]]}] %s\\n\", escape_fun = latex_escape)\n",
      "10. vapply(seq_along(mapped), function(i) {\n",
      "  .     nm <- nms[[i]]\n",
      "  .     if (is.na(nm) || nchar(nm) == 0) {\n",
      "  .         sprintf(numeric_item, i, mapped[[i]])\n",
      "  .     }\n",
      "  .     else {\n",
      "  .         sprintf(named_item, nms[[i]], mapped[[i]])\n",
      "  .     }\n",
      "  . }, character(1))\n"
     ]
    },
    {
     "data": {
      "text/plain": [
       "$`00:14:bf:b1:97:90`\n",
       "NULL\n",
       "\n",
       "$`00:14:bf:b1:97:90`\n",
       "NULL\n",
       "\n",
       "$`00:0f:a3:39:e1:c0`\n",
       "NULL\n",
       "\n",
       "$`00:0f:a3:39:e1:c0`\n",
       "NULL\n"
      ]
     },
     "metadata": {},
     "output_type": "display_data"
    },
    {
     "data": {
      "image/png": "[encoded data removed]",
      "text/plain": [
       "plot without title"
      ]
     },
     "metadata": {},
     "output_type": "display_data"
    }
   ],
   "source": [
    "surfaceSS = function(data, mac, angle = 45) {\n",
    "  require(fields)\n",
    "  oneAPAngle = data[ data$mac == mac & data$angle == angle, ]\n",
    "  smoothSS = Tps(oneAPAngle[, c(\"posX\",\"posY\")], \n",
    "                 oneAPAngle$avgSignal)\n",
    "  vizSmooth = predictSurface(smoothSS)\n",
    "  plot.surface(vizSmooth, type = \"C\", \n",
    "               xlab = \"\", ylab = \"\", xaxt = \"n\", yaxt = \"n\")\n",
    "  points(oneAPAngle$posX, oneAPAngle$posY, pch=19, cex = 0.5) \n",
    "}\n",
    "\n",
    "parCur = par(mfrow = c(2,2), mar = rep(1, 4))\n",
    "\n",
    "mapply(surfaceSS, mac = subMacs[ rep(c(5, 1), each = 2) ], \n",
    "       angle = rep(c(0, 135), 2),\n",
    "       data = list(data = offlineSummary))\n",
    " \n",
    "par(parCur)\n",
    "\n",
    "offlineSummary = subset(offlineSummary, mac != subMacs[2])"
   ]
  },
  {
   "cell_type": "code",
   "execution_count": 33,
   "metadata": {},
   "outputs": [
    {
     "data": {
      "text/html": [
       "<table>\n",
       "<thead><tr><th></th><th scope=col>x</th><th scope=col>y</th></tr></thead>\n",
       "<tbody>\n",
       "\t<tr><th scope=row>00:0f:a3:39:e1:c0</th><td> 7.5</td><td> 6.3</td></tr>\n",
       "\t<tr><th scope=row>00:14:bf:b1:97:8a</th><td> 2.5</td><td>-0.8</td></tr>\n",
       "\t<tr><th scope=row>00:14:bf:3b:c7:c6</th><td>12.8</td><td>-2.8</td></tr>\n",
       "\t<tr><th scope=row>00:14:bf:b1:97:90</th><td> 1.0</td><td>14.0</td></tr>\n",
       "\t<tr><th scope=row>00:14:bf:b1:97:8d</th><td>33.5</td><td> 9.3</td></tr>\n",
       "\t<tr><th scope=row>00:14:bf:b1:97:81</th><td>33.5</td><td> 2.8</td></tr>\n",
       "</tbody>\n",
       "</table>\n"
      ],
      "text/latex": [
       "\\begin{tabular}{r|ll}\n",
       "  & x & y\\\\\n",
       "\\hline\n",
       "\t00:0f:a3:39:e1:c0 &  7.5 &  6.3\\\\\n",
       "\t00:14:bf:b1:97:8a &  2.5 & -0.8\\\\\n",
       "\t00:14:bf:3b:c7:c6 & 12.8 & -2.8\\\\\n",
       "\t00:14:bf:b1:97:90 &  1.0 & 14.0\\\\\n",
       "\t00:14:bf:b1:97:8d & 33.5 &  9.3\\\\\n",
       "\t00:14:bf:b1:97:81 & 33.5 &  2.8\\\\\n",
       "\\end{tabular}\n"
      ],
      "text/markdown": [
       "\n",
       "| <!--/--> | x | y | \n",
       "|---|---|---|---|---|---|\n",
       "| 00:0f:a3:39:e1:c0 |  7.5 |  6.3 | \n",
       "| 00:14:bf:b1:97:8a |  2.5 | -0.8 | \n",
       "| 00:14:bf:3b:c7:c6 | 12.8 | -2.8 | \n",
       "| 00:14:bf:b1:97:90 |  1.0 | 14.0 | \n",
       "| 00:14:bf:b1:97:8d | 33.5 |  9.3 | \n",
       "| 00:14:bf:b1:97:81 | 33.5 |  2.8 | \n",
       "\n",
       "\n"
      ],
      "text/plain": [
       "                  x    y   \n",
       "00:0f:a3:39:e1:c0  7.5  6.3\n",
       "00:14:bf:b1:97:8a  2.5 -0.8\n",
       "00:14:bf:3b:c7:c6 12.8 -2.8\n",
       "00:14:bf:b1:97:90  1.0 14.0\n",
       "00:14:bf:b1:97:8d 33.5  9.3\n",
       "00:14:bf:b1:97:81 33.5  2.8"
      ]
     },
     "metadata": {},
     "output_type": "display_data"
    },
    {
     "data": {},
     "metadata": {},
     "output_type": "display_data"
    },
    {
     "data": {
      "image/png": "[encoded data removed]",
      "text/plain": [
       "plot without title"
      ]
     },
     "metadata": {},
     "output_type": "display_data"
    }
   ],
   "source": [
    "AP = matrix( c( 7.5, 6.3, 2.5, -.8, 12.8, -2.8,  \n",
    "                1, 14, 33.5, 9.3,  33.5, 2.8),\n",
    "            ncol = 2, byrow = TRUE,\n",
    "            dimnames = list(subMacs[ -2 ], c(\"x\", \"y\") ))\n",
    "\n",
    "AP\n",
    "\n",
    "diffs = offlineSummary[ , c(\"posX\", \"posY\")] - \n",
    "          AP[ offlineSummary$mac, ]\n",
    "\n",
    "offlineSummary$dist = sqrt(diffs[ , 1]^2 + diffs[ , 2]^2)\n",
    "\n",
    "xyplot(signal ~ dist | factor(mac) + factor(angle), \n",
    "       data = offlineSummary, pch = 19, cex = 0.3,\n",
    "       xlab =\"distance\")"
   ]
  },
  {
   "cell_type": "code",
   "execution_count": 34,
   "metadata": {},
   "outputs": [
    {
     "data": {},
     "metadata": {},
     "output_type": "display_data"
    },
    {
     "data": {
      "text/html": [
       "<strong>null device:</strong> 1"
      ],
      "text/latex": [
       "\\textbf{null device:} 1"
      ],
      "text/markdown": [
       "**null device:** 1"
      ],
      "text/plain": [
       "null device \n",
       "          1 "
      ]
     },
     "metadata": {},
     "output_type": "display_data"
    },
    {
     "data": {
      "image/png": "[encoded data removed]",
      "text/plain": [
       "plot without title"
      ]
     },
     "metadata": {},
     "output_type": "display_data"
    }
   ],
   "source": [
    "#pdf(file=\"Geo_ScatterSignalDist.pdf\", width = 7, height = 10)\n",
    "oldPar = par(mar = c(3.1, 3.1, 1, 1))\n",
    "library(lattice)\n",
    "xyplot(signal ~ dist | factor(mac) + factor(angle), \n",
    "       data = offlineSummary, pch = 19, cex = 0.3,\n",
    "       xlab =\"distance\")\n",
    "par(oldPar)\n",
    "dev.off()"
   ]
  },
  {
   "cell_type": "markdown",
   "metadata": {},
   "source": [
    "# Looks at the Signal Strength and Distance Relationship"
   ]
  },
  {
   "cell_type": "markdown",
   "metadata": {},
   "source": [
    "# Creating Training and Testing Data set for Original"
   ]
  },
  {
   "cell_type": "code",
   "execution_count": 161,
   "metadata": {},
   "outputs": [
    {
     "data": {
      "text/html": [
       "60"
      ],
      "text/latex": [
       "60"
      ],
      "text/markdown": [
       "60"
      ],
      "text/plain": [
       "[1] 60"
      ]
     },
     "metadata": {},
     "output_type": "display_data"
    },
    {
     "data": {
      "text/plain": [
       "            \n",
       "               0  45  90 135 180 225 270 315\n",
       "  0-0.05       0   0   0 593   0   0   0   0\n",
       "  0.15-9.42    0   0 606   0   0   0   0   0\n",
       "  0.31-11.09   0   0   0   0   0 573   0   0\n",
       "  0.47-8.2   590   0   0   0   0   0   0   0\n",
       "  0.78-10.94 586   0   0   0   0   0   0   0\n",
       "  0.93-11.69   0   0   0   0 583   0   0   0"
      ]
     },
     "metadata": {},
     "output_type": "display_data"
    },
    {
     "data": {
      "text/html": [
       "<ol class=list-inline>\n",
       "\t<li>60</li>\n",
       "\t<li>11</li>\n",
       "</ol>\n"
      ],
      "text/latex": [
       "\\begin{enumerate*}\n",
       "\\item 60\n",
       "\\item 11\n",
       "\\end{enumerate*}\n"
      ],
      "text/markdown": [
       "1. 60\n",
       "2. 11\n",
       "\n",
       "\n"
      ],
      "text/plain": [
       "[1] 60 11"
      ]
     },
     "metadata": {},
     "output_type": "display_data"
    }
   ],
   "source": [
    "macs = unique(offlineSummaryRedo$mac)\n",
    "online = readData(\"online.final.trace.txt\", subMacs = macs)\n",
    "\n",
    "online$posXY = paste(online$posX, online$posY, sep = \"-\")\n",
    "\n",
    "length(unique(online$posXY))\n",
    "\n",
    "tabonlineXYA = table(online$posXY, online$angle)\n",
    "tabonlineXYA[1:6, ]\n",
    "\n",
    "keepVars = c(\"posXY\", \"posX\",\"posY\", \"orientation\", \"angle\")\n",
    "byLoc = with(online, \n",
    "             by(online, list(posXY), \n",
    "                function(x) {\n",
    "                  ans = x[1, keepVars]\n",
    "                  avgSS = tapply(x$signal, x$mac, mean)\n",
    "                  y = matrix(avgSS, nrow = 1, ncol = 6,\n",
    "                        dimnames = list(ans$posXY, names(avgSS)))\n",
    "                  cbind(ans, y)\n",
    "                }))\n",
    "\n",
    "onlineSummaryRedo = do.call(\"rbind\", byLoc)  \n",
    "\n",
    "dim(onlineSummaryRedo)"
   ]
  },
  {
   "cell_type": "code",
   "execution_count": 162,
   "metadata": {},
   "outputs": [
    {
     "data": {
      "text/html": [
       "<ol class=list-inline>\n",
       "\t<li>'posXY'</li>\n",
       "\t<li>'posX'</li>\n",
       "\t<li>'posY'</li>\n",
       "\t<li>'orientation'</li>\n",
       "\t<li>'angle'</li>\n",
       "\t<li>'00:0f:a3:39:e1:c0'</li>\n",
       "\t<li>'00:14:bf:3b:c7:c6'</li>\n",
       "\t<li>'00:14:bf:b1:97:81'</li>\n",
       "\t<li>'00:14:bf:b1:97:8a'</li>\n",
       "\t<li>'00:14:bf:b1:97:8d'</li>\n",
       "\t<li>'00:14:bf:b1:97:90'</li>\n",
       "</ol>\n"
      ],
      "text/latex": [
       "\\begin{enumerate*}\n",
       "\\item 'posXY'\n",
       "\\item 'posX'\n",
       "\\item 'posY'\n",
       "\\item 'orientation'\n",
       "\\item 'angle'\n",
       "\\item '00:0f:a3:39:e1:c0'\n",
       "\\item '00:14:bf:3b:c7:c6'\n",
       "\\item '00:14:bf:b1:97:81'\n",
       "\\item '00:14:bf:b1:97:8a'\n",
       "\\item '00:14:bf:b1:97:8d'\n",
       "\\item '00:14:bf:b1:97:90'\n",
       "\\end{enumerate*}\n"
      ],
      "text/markdown": [
       "1. 'posXY'\n",
       "2. 'posX'\n",
       "3. 'posY'\n",
       "4. 'orientation'\n",
       "5. 'angle'\n",
       "6. '00:0f:a3:39:e1:c0'\n",
       "7. '00:14:bf:3b:c7:c6'\n",
       "8. '00:14:bf:b1:97:81'\n",
       "9. '00:14:bf:b1:97:8a'\n",
       "10. '00:14:bf:b1:97:8d'\n",
       "11. '00:14:bf:b1:97:90'\n",
       "\n",
       "\n"
      ],
      "text/plain": [
       " [1] \"posXY\"             \"posX\"              \"posY\"             \n",
       " [4] \"orientation\"       \"angle\"             \"00:0f:a3:39:e1:c0\"\n",
       " [7] \"00:14:bf:3b:c7:c6\" \"00:14:bf:b1:97:81\" \"00:14:bf:b1:97:8a\"\n",
       "[10] \"00:14:bf:b1:97:8d\" \"00:14:bf:b1:97:90\""
      ]
     },
     "metadata": {},
     "output_type": "display_data"
    }
   ],
   "source": [
    "names(onlineSummaryRedo)\n",
    "m = 3; angleNewObs = 230\n",
    "refs = seq(0, by = 45, length  = 8)\n",
    "nearestAngle = roundOrientation(angleNewObs)\n",
    "  \n",
    "if (m %% 2 == 1) {\n",
    "  angles = seq(-45 * (m - 1) /2, 45 * (m - 1) /2, length = m)\n",
    "} else {\n",
    "  m = m + 1\n",
    "  angles = seq(-45 * (m - 1) /2, 45 * (m - 1) /2, length = m)\n",
    "  if (sign(angleNewObs - nearestAngle) > -1) \n",
    "    angles = angles[ -1 ]\n",
    "  else \n",
    "    angles = angles[ -m ]\n",
    "}\n",
    "angles = angles + nearestAngle\n",
    "angles[angles < 0] = angles[ angles < 0 ] + 360\n",
    "angles[angles > 360] = angles[ angles > 360 ] - 360\n"
   ]
  },
  {
   "cell_type": "code",
   "execution_count": 163,
   "metadata": {},
   "outputs": [],
   "source": [
    "offlineSubset = \n",
    "  offlineSummaryRedo[ offlineSummaryRedo$angle %in% angles, ]\n",
    "\n",
    "reshapeSS = function(data, varSignal = \"signal\", \n",
    "                     keepVars = c(\"posXY\", \"posX\",\"posY\")) {\n",
    "  byLocation =\n",
    "    with(data, by(data, list(posXY), \n",
    "                  function(x) {\n",
    "                    ans = x[1, keepVars]\n",
    "                    avgSS = tapply(x[ , varSignal ], x$mac, mean)\n",
    "                    y = matrix(avgSS, nrow = 1, ncol = 6,\n",
    "                               dimnames = list(ans$posXY,\n",
    "                                               names(avgSS)))\n",
    "                    cbind(ans, y)\n",
    "                  }))\n",
    "\n",
    "  newDataSS = do.call(\"rbind\", byLocation)\n",
    "  return(newDataSS)\n",
    "}"
   ]
  },
  {
   "cell_type": "code",
   "execution_count": 164,
   "metadata": {},
   "outputs": [],
   "source": [
    "trainSS = reshapeSS(offlineSubset, varSignal = \"avgSignal\")\n",
    "\n",
    "selectTrain = function(angleNewObs, signals = NULL, m = 1){\n",
    "  # m is the number of angles to keep between 1 and 5\n",
    "  refs = seq(0, by = 45, length  = 8)\n",
    "  nearestAngle = roundOrientation(angleNewObs)\n",
    "  \n",
    "  if (m %% 2 == 1) \n",
    "    angles = seq(-45 * (m - 1) /2, 45 * (m - 1) /2, length = m)\n",
    "  else {\n",
    "    m = m + 1\n",
    "    angles = seq(-45 * (m - 1) /2, 45 * (m - 1) /2, length = m)\n",
    "    if (sign(angleNewObs - nearestAngle) > -1) \n",
    "      angles = angles[ -1 ]\n",
    "    else \n",
    "      angles = angles[ -m ]\n",
    "  }\n",
    "  angles = angles + nearestAngle\n",
    "  angles[angles < 0] = angles[ angles < 0 ] + 360\n",
    "  angles[angles > 360] = angles[ angles > 360 ] - 360\n",
    "  angles = sort(angles) \n",
    "  \n",
    "  offlineSubset = signals[ signals$angle %in% angles, ]\n",
    "  reshapeSS(offlineSubset, varSignal = \"avgSignal\")\n",
    "}"
   ]
  },
  {
   "cell_type": "code",
   "execution_count": 165,
   "metadata": {},
   "outputs": [
    {
     "data": {
      "text/html": [
       "<table>\n",
       "<thead><tr><th></th><th scope=col>posXY</th><th scope=col>posX</th><th scope=col>posY</th><th scope=col>00:0f:a3:39:e1:c0</th><th scope=col>00:14:bf:3b:c7:c6</th><th scope=col>00:14:bf:b1:97:81</th><th scope=col>00:14:bf:b1:97:8a</th><th scope=col>00:14:bf:b1:97:8d</th><th scope=col>00:14:bf:b1:97:90</th></tr></thead>\n",
       "<tbody>\n",
       "\t<tr><th scope=row>0-0</th><td>0-0 </td><td>0   </td><td> 0  </td><td>-52 </td><td>-66 </td><td>-63 </td><td>-36 </td><td>-64 </td><td>-55 </td></tr>\n",
       "\t<tr><th scope=row>0-1</th><td>0-1 </td><td>0   </td><td> 1  </td><td>-53 </td><td>-65 </td><td>-64 </td><td>-39 </td><td>-65 </td><td>-59 </td></tr>\n",
       "\t<tr><th scope=row>0-10</th><td>0-10</td><td>0   </td><td>10  </td><td>-56 </td><td>-66 </td><td>-69 </td><td>-45 </td><td>-67 </td><td>-50 </td></tr>\n",
       "\t<tr><th scope=row>0-11</th><td>0-11</td><td>0   </td><td>11  </td><td>-55 </td><td>-67 </td><td>-70 </td><td>-48 </td><td>-67 </td><td>-55 </td></tr>\n",
       "\t<tr><th scope=row>0-12</th><td>0-12</td><td>0   </td><td>12  </td><td>-56 </td><td>-70 </td><td>-72 </td><td>-45 </td><td>-67 </td><td>-50 </td></tr>\n",
       "\t<tr><th scope=row>0-13</th><td>0-13</td><td>0   </td><td>13  </td><td>-55 </td><td>-71 </td><td>-73 </td><td>-43 </td><td>-69 </td><td>-54 </td></tr>\n",
       "</tbody>\n",
       "</table>\n"
      ],
      "text/latex": [
       "\\begin{tabular}{r|lllllllll}\n",
       "  & posXY & posX & posY & 00:0f:a3:39:e1:c0 & 00:14:bf:3b:c7:c6 & 00:14:bf:b1:97:81 & 00:14:bf:b1:97:8a & 00:14:bf:b1:97:8d & 00:14:bf:b1:97:90\\\\\n",
       "\\hline\n",
       "\t0-0 & 0-0  & 0    &  0   & -52  & -66  & -63  & -36  & -64  & -55 \\\\\n",
       "\t0-1 & 0-1  & 0    &  1   & -53  & -65  & -64  & -39  & -65  & -59 \\\\\n",
       "\t0-10 & 0-10 & 0    & 10   & -56  & -66  & -69  & -45  & -67  & -50 \\\\\n",
       "\t0-11 & 0-11 & 0    & 11   & -55  & -67  & -70  & -48  & -67  & -55 \\\\\n",
       "\t0-12 & 0-12 & 0    & 12   & -56  & -70  & -72  & -45  & -67  & -50 \\\\\n",
       "\t0-13 & 0-13 & 0    & 13   & -55  & -71  & -73  & -43  & -69  & -54 \\\\\n",
       "\\end{tabular}\n"
      ],
      "text/markdown": [
       "\n",
       "| <!--/--> | posXY | posX | posY | 00:0f:a3:39:e1:c0 | 00:14:bf:3b:c7:c6 | 00:14:bf:b1:97:81 | 00:14:bf:b1:97:8a | 00:14:bf:b1:97:8d | 00:14:bf:b1:97:90 | \n",
       "|---|---|---|---|---|---|\n",
       "| 0-0 | 0-0  | 0    |  0   | -52  | -66  | -63  | -36  | -64  | -55  | \n",
       "| 0-1 | 0-1  | 0    |  1   | -53  | -65  | -64  | -39  | -65  | -59  | \n",
       "| 0-10 | 0-10 | 0    | 10   | -56  | -66  | -69  | -45  | -67  | -50  | \n",
       "| 0-11 | 0-11 | 0    | 11   | -55  | -67  | -70  | -48  | -67  | -55  | \n",
       "| 0-12 | 0-12 | 0    | 12   | -56  | -70  | -72  | -45  | -67  | -50  | \n",
       "| 0-13 | 0-13 | 0    | 13   | -55  | -71  | -73  | -43  | -69  | -54  | \n",
       "\n",
       "\n"
      ],
      "text/plain": [
       "     posXY posX posY 00:0f:a3:39:e1:c0 00:14:bf:3b:c7:c6 00:14:bf:b1:97:81\n",
       "0-0  0-0   0     0   -52               -66               -63              \n",
       "0-1  0-1   0     1   -53               -65               -64              \n",
       "0-10 0-10  0    10   -56               -66               -69              \n",
       "0-11 0-11  0    11   -55               -67               -70              \n",
       "0-12 0-12  0    12   -56               -70               -72              \n",
       "0-13 0-13  0    13   -55               -71               -73              \n",
       "     00:14:bf:b1:97:8a 00:14:bf:b1:97:8d 00:14:bf:b1:97:90\n",
       "0-0  -36               -64               -55              \n",
       "0-1  -39               -65               -59              \n",
       "0-10 -45               -67               -50              \n",
       "0-11 -48               -67               -55              \n",
       "0-12 -45               -67               -50              \n",
       "0-13 -43               -69               -54              "
      ]
     },
     "metadata": {},
     "output_type": "display_data"
    },
    {
     "data": {
      "text/html": [
       "166"
      ],
      "text/latex": [
       "166"
      ],
      "text/markdown": [
       "166"
      ],
      "text/plain": [
       "[1] 166"
      ]
     },
     "metadata": {},
     "output_type": "display_data"
    }
   ],
   "source": [
    "train130 = selectTrain(130, offlineSummaryRedo, m = 3)\n",
    "\n",
    "head(train130)\n",
    "\n",
    "length(train130[[1]])\n",
    "\n",
    "findNN = function(newSignal, trainSubset) {\n",
    "  diffs = apply(trainSubset[ , 4:9], 1, \n",
    "                function(x) x - newSignal)\n",
    "  dists = apply(diffs, 2, function(x) sqrt(sum(x^2)) )\n",
    "  closest = order(dists)\n",
    "  return(trainSubset[closest, 1:3 ])\n",
    "}"
   ]
  },
  {
   "cell_type": "code",
   "execution_count": 111,
   "metadata": {},
   "outputs": [],
   "source": [
    "predXY = function(newSignals, newAngles, trainData, \n",
    "                  numAngles = 1, k = 3){\n",
    "  \n",
    "  closeXY = list(length = nrow(newSignals))\n",
    "  \n",
    "  for (i in 1:nrow(newSignals)) {\n",
    "    trainSS = selectTrain(newAngles[i], trainData, m = numAngles)\n",
    "    closeXY[[i]] = \n",
    "      findNN(newSignal = as.numeric(newSignals[i, ]), trainSS)\n",
    "  }\n",
    "\n",
    "  estXY = lapply(closeXY, \n",
    "                 function(x) sapply(x[ , 2:3], \n",
    "                                    function(x) mean(x[1:k])))\n",
    "  estXY = do.call(\"rbind\", estXY)\n",
    "  return(estXY)\n",
    "}\n",
    "estXYkRedo = predXY(newSignals = onlineSummaryRedo[ , 6:11], \n",
    "                 newAngles = onlineSummaryRedo[ , 4], \n",
    "                 offlineSummaryRedo, numAngles = 3, k = 6)\n",
    "#estXYkRedo\n"
   ]
  },
  {
   "cell_type": "code",
   "execution_count": 112,
   "metadata": {},
   "outputs": [],
   "source": [
    "predXYalt = function(newSignals, newAngles, trainData, \n",
    "                  numAngles = 1, k = 3){\n",
    "  \n",
    "  closeXY = list(length = nrow(newSignals))\n",
    "  \n",
    "  for (i in 1:nrow(newSignals)) {\n",
    "    trainSS = selectTrain(newAngles[i], trainData, m = numAngles)\n",
    "    closeXY[[i]] = \n",
    "      findNN(newSignal = as.numeric(newSignals[i, ]), trainSS)\n",
    "  }\n",
    "\n",
    " estXY= lapply(closeXY, \n",
    "                 function(x) sapply(x[ , 2:3], \n",
    "                                    function(x) sum((1/(x+0.01)*x)/sum(1/(x[1:k]+0.01))  )))\n",
    "  estXY = do.call(\"rbind\", estXY)\n",
    "  return(estXY)\n",
    "}\n",
    "estXYkRedoalt = predXYalt(newSignals = onlineSummaryRedo[ , 6:11], \n",
    "                 newAngles = onlineSummaryRedo[ , 4], \n",
    "                 offlineSummaryRedo, numAngles = 3, k = 6)\n",
    "\n",
    "#estXYkRedoalt\n",
    "#length(estXYkRedoalt)\n",
    "#((1/(x+0.00001))*(x))/\n"
   ]
  },
  {
   "cell_type": "markdown",
   "metadata": {},
   "source": [
    "# Creating Training and Testing Data set for New"
   ]
  },
  {
   "cell_type": "code",
   "execution_count": 113,
   "metadata": {},
   "outputs": [
    {
     "data": {
      "text/html": [
       "60"
      ],
      "text/latex": [
       "60"
      ],
      "text/markdown": [
       "60"
      ],
      "text/plain": [
       "[1] 60"
      ]
     },
     "metadata": {},
     "output_type": "display_data"
    },
    {
     "data": {
      "text/plain": [
       "            \n",
       "               0  45  90 135 180 225 270 315\n",
       "  0-0.05       0   0   0 594   0   0   0   0\n",
       "  0.15-9.42    0   0 608   0   0   0   0   0\n",
       "  0.31-11.09   0   0   0   0   0 574   0   0\n",
       "  0.47-8.2   591   0   0   0   0   0   0   0\n",
       "  0.78-10.94 585   0   0   0   0   0   0   0\n",
       "  0.93-11.69   0   0   0   0 581   0   0   0"
      ]
     },
     "metadata": {},
     "output_type": "display_data"
    },
    {
     "data": {
      "text/html": [
       "<ol class=list-inline>\n",
       "\t<li>60</li>\n",
       "\t<li>11</li>\n",
       "</ol>\n"
      ],
      "text/latex": [
       "\\begin{enumerate*}\n",
       "\\item 60\n",
       "\\item 11\n",
       "\\end{enumerate*}\n"
      ],
      "text/markdown": [
       "1. 60\n",
       "2. 11\n",
       "\n",
       "\n"
      ],
      "text/plain": [
       "[1] 60 11"
      ]
     },
     "metadata": {},
     "output_type": "display_data"
    }
   ],
   "source": [
    "macs = unique(offlineSummarynew$mac)\n",
    "online = readData(\"online.final.trace.txt\", subMacs = macs)\n",
    "\n",
    "online$posXY = paste(online$posX, online$posY, sep = \"-\")\n",
    "\n",
    "length(unique(online$posXY))\n",
    "\n",
    "tabonlineXYA = table(online$posXY, online$angle)\n",
    "tabonlineXYA[1:6, ]\n",
    "\n",
    "keepVars = c(\"posXY\", \"posX\",\"posY\", \"orientation\", \"angle\")\n",
    "byLoc = with(online, \n",
    "             by(online, list(posXY), \n",
    "                function(x) {\n",
    "                  ans = x[1, keepVars]\n",
    "                  avgSS = tapply(x$signal, x$mac, mean)\n",
    "                  y = matrix(avgSS, nrow = 1, ncol = 6,\n",
    "                        dimnames = list(ans$posXY, names(avgSS)))\n",
    "                  cbind(ans, y)\n",
    "                }))\n",
    "\n",
    "onlineSummarynew = do.call(\"rbind\", byLoc)  \n",
    "\n",
    "dim(onlineSummarynew)"
   ]
  },
  {
   "cell_type": "code",
   "execution_count": 114,
   "metadata": {},
   "outputs": [
    {
     "data": {
      "text/html": [
       "<ol class=list-inline>\n",
       "\t<li>'posXY'</li>\n",
       "\t<li>'posX'</li>\n",
       "\t<li>'posY'</li>\n",
       "\t<li>'orientation'</li>\n",
       "\t<li>'angle'</li>\n",
       "\t<li>'00:0f:a3:39:dd:cd'</li>\n",
       "\t<li>'00:14:bf:3b:c7:c6'</li>\n",
       "\t<li>'00:14:bf:b1:97:81'</li>\n",
       "\t<li>'00:14:bf:b1:97:8a'</li>\n",
       "\t<li>'00:14:bf:b1:97:8d'</li>\n",
       "\t<li>'00:14:bf:b1:97:90'</li>\n",
       "</ol>\n"
      ],
      "text/latex": [
       "\\begin{enumerate*}\n",
       "\\item 'posXY'\n",
       "\\item 'posX'\n",
       "\\item 'posY'\n",
       "\\item 'orientation'\n",
       "\\item 'angle'\n",
       "\\item '00:0f:a3:39:dd:cd'\n",
       "\\item '00:14:bf:3b:c7:c6'\n",
       "\\item '00:14:bf:b1:97:81'\n",
       "\\item '00:14:bf:b1:97:8a'\n",
       "\\item '00:14:bf:b1:97:8d'\n",
       "\\item '00:14:bf:b1:97:90'\n",
       "\\end{enumerate*}\n"
      ],
      "text/markdown": [
       "1. 'posXY'\n",
       "2. 'posX'\n",
       "3. 'posY'\n",
       "4. 'orientation'\n",
       "5. 'angle'\n",
       "6. '00:0f:a3:39:dd:cd'\n",
       "7. '00:14:bf:3b:c7:c6'\n",
       "8. '00:14:bf:b1:97:81'\n",
       "9. '00:14:bf:b1:97:8a'\n",
       "10. '00:14:bf:b1:97:8d'\n",
       "11. '00:14:bf:b1:97:90'\n",
       "\n",
       "\n"
      ],
      "text/plain": [
       " [1] \"posXY\"             \"posX\"              \"posY\"             \n",
       " [4] \"orientation\"       \"angle\"             \"00:0f:a3:39:dd:cd\"\n",
       " [7] \"00:14:bf:3b:c7:c6\" \"00:14:bf:b1:97:81\" \"00:14:bf:b1:97:8a\"\n",
       "[10] \"00:14:bf:b1:97:8d\" \"00:14:bf:b1:97:90\""
      ]
     },
     "metadata": {},
     "output_type": "display_data"
    }
   ],
   "source": [
    "names(onlineSummarynew)\n",
    "m = 3; angleNewObs = 230\n",
    "refs = seq(0, by = 45, length  = 8)\n",
    "nearestAngle = roundOrientation(angleNewObs)\n",
    "  \n",
    "if (m %% 2 == 1) {\n",
    "  angles = seq(-45 * (m - 1) /2, 45 * (m - 1) /2, length = m)\n",
    "} else {\n",
    "  m = m + 1\n",
    "  angles = seq(-45 * (m - 1) /2, 45 * (m - 1) /2, length = m)\n",
    "  if (sign(angleNewObs - nearestAngle) > -1) \n",
    "    angles = angles[ -1 ]\n",
    "  else \n",
    "    angles = angles[ -m ]\n",
    "}\n",
    "angles = angles + nearestAngle\n",
    "angles[angles < 0] = angles[ angles < 0 ] + 360\n",
    "angles[angles > 360] = angles[ angles > 360 ] - 360\n"
   ]
  },
  {
   "cell_type": "code",
   "execution_count": 115,
   "metadata": {},
   "outputs": [],
   "source": [
    "offlineSubset = \n",
    "  offlineSummarynew[ offlineSummarynew$angle %in% angles, ]\n",
    "\n",
    "reshapeSS = function(data, varSignal = \"signal\", \n",
    "                     keepVars = c(\"posXY\", \"posX\",\"posY\")) {\n",
    "  byLocation =\n",
    "    with(data, by(data, list(posXY), \n",
    "                  function(x) {\n",
    "                    ans = x[1, keepVars]\n",
    "                    avgSS = tapply(x[ , varSignal ], x$mac, mean)\n",
    "                    y = matrix(avgSS, nrow = 1, ncol = 6,\n",
    "                               dimnames = list(ans$posXY,\n",
    "                                               names(avgSS)))\n",
    "                    cbind(ans, y)\n",
    "                  }))\n",
    "\n",
    "  newDataSS = do.call(\"rbind\", byLocation)\n",
    "  return(newDataSS)\n",
    "}"
   ]
  },
  {
   "cell_type": "code",
   "execution_count": 116,
   "metadata": {},
   "outputs": [],
   "source": [
    "trainSS = reshapeSS(offlineSubset, varSignal = \"avgSignal\")\n",
    "\n",
    "selectTrain = function(angleNewObs, signals = NULL, m = 1){\n",
    "  # m is the number of angles to keep between 1 and 5\n",
    "  refs = seq(0, by = 45, length  = 8)\n",
    "  nearestAngle = roundOrientation(angleNewObs)\n",
    "  \n",
    "  if (m %% 2 == 1) \n",
    "    angles = seq(-45 * (m - 1) /2, 45 * (m - 1) /2, length = m)\n",
    "  else {\n",
    "    m = m + 1\n",
    "    angles = seq(-45 * (m - 1) /2, 45 * (m - 1) /2, length = m)\n",
    "    if (sign(angleNewObs - nearestAngle) > -1) \n",
    "      angles = angles[ -1 ]\n",
    "    else \n",
    "      angles = angles[ -m ]\n",
    "  }\n",
    "  angles = angles + nearestAngle\n",
    "  angles[angles < 0] = angles[ angles < 0 ] + 360\n",
    "  angles[angles > 360] = angles[ angles > 360 ] - 360\n",
    "  angles = sort(angles) \n",
    "  \n",
    "  offlineSubset = signals[ signals$angle %in% angles, ]\n",
    "  reshapeSS(offlineSubset, varSignal = \"avgSignal\")\n",
    "}"
   ]
  },
  {
   "cell_type": "code",
   "execution_count": 117,
   "metadata": {},
   "outputs": [
    {
     "data": {
      "text/html": [
       "<table>\n",
       "<thead><tr><th></th><th scope=col>posXY</th><th scope=col>posX</th><th scope=col>posY</th><th scope=col>00:0f:a3:39:dd:cd</th><th scope=col>00:14:bf:3b:c7:c6</th><th scope=col>00:14:bf:b1:97:81</th><th scope=col>00:14:bf:b1:97:8a</th><th scope=col>00:14:bf:b1:97:8d</th><th scope=col>00:14:bf:b1:97:90</th></tr></thead>\n",
       "<tbody>\n",
       "\t<tr><th scope=row>0-0</th><td>0-0 </td><td>0   </td><td> 0  </td><td>-72 </td><td>-66 </td><td>-63 </td><td>-36 </td><td>-64 </td><td>-55 </td></tr>\n",
       "\t<tr><th scope=row>0-1</th><td>0-1 </td><td>0   </td><td> 1  </td><td>-70 </td><td>-65 </td><td>-64 </td><td>-39 </td><td>-65 </td><td>-59 </td></tr>\n",
       "\t<tr><th scope=row>0-10</th><td>0-10</td><td>0   </td><td>10  </td><td>-70 </td><td>-66 </td><td>-69 </td><td>-45 </td><td>-67 </td><td>-50 </td></tr>\n",
       "\t<tr><th scope=row>0-11</th><td>0-11</td><td>0   </td><td>11  </td><td>-71 </td><td>-67 </td><td>-70 </td><td>-48 </td><td>-67 </td><td>-55 </td></tr>\n",
       "\t<tr><th scope=row>0-12</th><td>0-12</td><td>0   </td><td>12  </td><td>-69 </td><td>-70 </td><td>-72 </td><td>-45 </td><td>-67 </td><td>-50 </td></tr>\n",
       "\t<tr><th scope=row>0-13</th><td>0-13</td><td>0   </td><td>13  </td><td>-73 </td><td>-71 </td><td>-73 </td><td>-43 </td><td>-69 </td><td>-54 </td></tr>\n",
       "</tbody>\n",
       "</table>\n"
      ],
      "text/latex": [
       "\\begin{tabular}{r|lllllllll}\n",
       "  & posXY & posX & posY & 00:0f:a3:39:dd:cd & 00:14:bf:3b:c7:c6 & 00:14:bf:b1:97:81 & 00:14:bf:b1:97:8a & 00:14:bf:b1:97:8d & 00:14:bf:b1:97:90\\\\\n",
       "\\hline\n",
       "\t0-0 & 0-0  & 0    &  0   & -72  & -66  & -63  & -36  & -64  & -55 \\\\\n",
       "\t0-1 & 0-1  & 0    &  1   & -70  & -65  & -64  & -39  & -65  & -59 \\\\\n",
       "\t0-10 & 0-10 & 0    & 10   & -70  & -66  & -69  & -45  & -67  & -50 \\\\\n",
       "\t0-11 & 0-11 & 0    & 11   & -71  & -67  & -70  & -48  & -67  & -55 \\\\\n",
       "\t0-12 & 0-12 & 0    & 12   & -69  & -70  & -72  & -45  & -67  & -50 \\\\\n",
       "\t0-13 & 0-13 & 0    & 13   & -73  & -71  & -73  & -43  & -69  & -54 \\\\\n",
       "\\end{tabular}\n"
      ],
      "text/markdown": [
       "\n",
       "| <!--/--> | posXY | posX | posY | 00:0f:a3:39:dd:cd | 00:14:bf:3b:c7:c6 | 00:14:bf:b1:97:81 | 00:14:bf:b1:97:8a | 00:14:bf:b1:97:8d | 00:14:bf:b1:97:90 | \n",
       "|---|---|---|---|---|---|\n",
       "| 0-0 | 0-0  | 0    |  0   | -72  | -66  | -63  | -36  | -64  | -55  | \n",
       "| 0-1 | 0-1  | 0    |  1   | -70  | -65  | -64  | -39  | -65  | -59  | \n",
       "| 0-10 | 0-10 | 0    | 10   | -70  | -66  | -69  | -45  | -67  | -50  | \n",
       "| 0-11 | 0-11 | 0    | 11   | -71  | -67  | -70  | -48  | -67  | -55  | \n",
       "| 0-12 | 0-12 | 0    | 12   | -69  | -70  | -72  | -45  | -67  | -50  | \n",
       "| 0-13 | 0-13 | 0    | 13   | -73  | -71  | -73  | -43  | -69  | -54  | \n",
       "\n",
       "\n"
      ],
      "text/plain": [
       "     posXY posX posY 00:0f:a3:39:dd:cd 00:14:bf:3b:c7:c6 00:14:bf:b1:97:81\n",
       "0-0  0-0   0     0   -72               -66               -63              \n",
       "0-1  0-1   0     1   -70               -65               -64              \n",
       "0-10 0-10  0    10   -70               -66               -69              \n",
       "0-11 0-11  0    11   -71               -67               -70              \n",
       "0-12 0-12  0    12   -69               -70               -72              \n",
       "0-13 0-13  0    13   -73               -71               -73              \n",
       "     00:14:bf:b1:97:8a 00:14:bf:b1:97:8d 00:14:bf:b1:97:90\n",
       "0-0  -36               -64               -55              \n",
       "0-1  -39               -65               -59              \n",
       "0-10 -45               -67               -50              \n",
       "0-11 -48               -67               -55              \n",
       "0-12 -45               -67               -50              \n",
       "0-13 -43               -69               -54              "
      ]
     },
     "metadata": {},
     "output_type": "display_data"
    },
    {
     "data": {
      "text/html": [
       "166"
      ],
      "text/latex": [
       "166"
      ],
      "text/markdown": [
       "166"
      ],
      "text/plain": [
       "[1] 166"
      ]
     },
     "metadata": {},
     "output_type": "display_data"
    }
   ],
   "source": [
    "train130 = selectTrain(130, offlineSummarynew, m = 3)\n",
    "\n",
    "head(train130)\n",
    "\n",
    "length(train130[[1]])\n",
    "\n",
    "findNN = function(newSignal, trainSubset) {\n",
    "  diffs = apply(trainSubset[ , 4:9], 1, \n",
    "                function(x) x - newSignal)\n",
    "  dists = apply(diffs, 2, function(x) sqrt(sum(x^2)) )\n",
    "  closest = order(dists)\n",
    "  return(trainSubset[closest, 1:3 ])\n",
    "}"
   ]
  },
  {
   "cell_type": "code",
   "execution_count": 118,
   "metadata": {},
   "outputs": [],
   "source": [
    "predXY = function(newSignals, newAngles, trainData, \n",
    "                  numAngles = 1, k = 3){\n",
    "  \n",
    "  closeXY = list(length = nrow(newSignals))\n",
    "  \n",
    "  for (i in 1:nrow(newSignals)) {\n",
    "    trainSS = selectTrain(newAngles[i], trainData, m = numAngles)\n",
    "    closeXY[[i]] = \n",
    "      findNN(newSignal = as.numeric(newSignals[i, ]), trainSS)\n",
    "  }\n",
    "\n",
    "  estXY = lapply(closeXY, \n",
    "                 function(x) sapply(x[ , 2:3], \n",
    "                                    function(x) mean(x[1:k])))\n",
    "  estXY = do.call(\"rbind\", estXY)\n",
    "  return(estXY)\n",
    "}\n",
    "estXYknew = predXY(newSignals = onlineSummarynew[ , 6:11], \n",
    "                 newAngles = onlineSummarynew[ , 4], \n",
    "                 offlineSummarynew, numAngles = 3, k = 6)\n",
    "                              "
   ]
  },
  {
   "cell_type": "code",
   "execution_count": 119,
   "metadata": {},
   "outputs": [],
   "source": [
    "predXYalt = function(newSignals, newAngles, trainData, \n",
    "                  numAngles = 1, k = 3){\n",
    "  \n",
    "  closeXY = list(length = nrow(newSignals))\n",
    "  \n",
    "  for (i in 1:nrow(newSignals)) {\n",
    "    trainSS = selectTrain(newAngles[i], trainData, m = numAngles)\n",
    "    closeXY[[i]] = \n",
    "      findNN(newSignal = as.numeric(newSignals[i, ]), trainSS)\n",
    "  }\n",
    "\n",
    "  estXY = lapply(closeXY, \n",
    "                 function(x) sapply(x[ , 2:3], \n",
    "                                    function(x) sum(((1/(x+0.01))*(x))/sum(1/(x[1:k]+0.01)) )))\n",
    "  estXY = do.call(\"rbind\", estXY)\n",
    "  return(estXY)\n",
    "}\n",
    "estXYknewalt = predXYalt(newSignals = onlineSummarynew[ , 6:11], \n",
    "                 newAngles = onlineSummarynew[ , 4], \n",
    "                 offlineSummarynew, numAngles = 3, k = 6)"
   ]
  },
  {
   "cell_type": "markdown",
   "metadata": {},
   "source": [
    "# Creating Training and Testing Data set for Both"
   ]
  },
  {
   "cell_type": "code",
   "execution_count": 120,
   "metadata": {},
   "outputs": [
    {
     "data": {
      "text/html": [
       "60"
      ],
      "text/latex": [
       "60"
      ],
      "text/markdown": [
       "60"
      ],
      "text/plain": [
       "[1] 60"
      ]
     },
     "metadata": {},
     "output_type": "display_data"
    },
    {
     "data": {
      "text/plain": [
       "            \n",
       "               0  45  90 135 180 225 270 315\n",
       "  0-0.05       0   0   0 704   0   0   0   0\n",
       "  0.15-9.42    0   0 717   0   0   0   0   0\n",
       "  0.31-11.09   0   0   0   0   0 684   0   0\n",
       "  0.47-8.2   701   0   0   0   0   0   0   0\n",
       "  0.78-10.94 695   0   0   0   0   0   0   0\n",
       "  0.93-11.69   0   0   0   0 691   0   0   0"
      ]
     },
     "metadata": {},
     "output_type": "display_data"
    },
    {
     "data": {
      "text/html": [
       "<ol class=list-inline>\n",
       "\t<li>60</li>\n",
       "\t<li>12</li>\n",
       "</ol>\n"
      ],
      "text/latex": [
       "\\begin{enumerate*}\n",
       "\\item 60\n",
       "\\item 12\n",
       "\\end{enumerate*}\n"
      ],
      "text/markdown": [
       "1. 60\n",
       "2. 12\n",
       "\n",
       "\n"
      ],
      "text/plain": [
       "[1] 60 12"
      ]
     },
     "metadata": {},
     "output_type": "display_data"
    }
   ],
   "source": [
    "macs = unique(offlineSummaryBoth$mac)\n",
    "online = readData(\"online.final.trace.txt\", subMacs = macs)\n",
    "\n",
    "online$posXY = paste(online$posX, online$posY, sep = \"-\")\n",
    "\n",
    "length(unique(online$posXY))\n",
    "\n",
    "tabonlineXYA = table(online$posXY, online$angle)\n",
    "tabonlineXYA[1:6, ]\n",
    "\n",
    "keepVars = c(\"posXY\", \"posX\",\"posY\", \"orientation\", \"angle\")\n",
    "byLoc = with(online, \n",
    "             by(online, list(posXY), \n",
    "                function(x) {\n",
    "                  ans = x[1, keepVars]\n",
    "                  avgSS = tapply(x$signal, x$mac, mean)\n",
    "                  y = matrix(avgSS, nrow = 1, ncol = 7,\n",
    "                        dimnames = list(ans$posXY, names(avgSS)))\n",
    "                  cbind(ans, y)\n",
    "                }))\n",
    "\n",
    "onlineSummaryBoth = do.call(\"rbind\", byLoc)  \n",
    "\n",
    "dim(onlineSummaryBoth)"
   ]
  },
  {
   "cell_type": "code",
   "execution_count": 121,
   "metadata": {},
   "outputs": [
    {
     "data": {
      "text/html": [
       "<ol class=list-inline>\n",
       "\t<li>'posXY'</li>\n",
       "\t<li>'posX'</li>\n",
       "\t<li>'posY'</li>\n",
       "\t<li>'orientation'</li>\n",
       "\t<li>'angle'</li>\n",
       "\t<li>'00:0f:a3:39:dd:cd'</li>\n",
       "\t<li>'00:0f:a3:39:e1:c0'</li>\n",
       "\t<li>'00:14:bf:3b:c7:c6'</li>\n",
       "\t<li>'00:14:bf:b1:97:81'</li>\n",
       "\t<li>'00:14:bf:b1:97:8a'</li>\n",
       "\t<li>'00:14:bf:b1:97:8d'</li>\n",
       "\t<li>'00:14:bf:b1:97:90'</li>\n",
       "</ol>\n"
      ],
      "text/latex": [
       "\\begin{enumerate*}\n",
       "\\item 'posXY'\n",
       "\\item 'posX'\n",
       "\\item 'posY'\n",
       "\\item 'orientation'\n",
       "\\item 'angle'\n",
       "\\item '00:0f:a3:39:dd:cd'\n",
       "\\item '00:0f:a3:39:e1:c0'\n",
       "\\item '00:14:bf:3b:c7:c6'\n",
       "\\item '00:14:bf:b1:97:81'\n",
       "\\item '00:14:bf:b1:97:8a'\n",
       "\\item '00:14:bf:b1:97:8d'\n",
       "\\item '00:14:bf:b1:97:90'\n",
       "\\end{enumerate*}\n"
      ],
      "text/markdown": [
       "1. 'posXY'\n",
       "2. 'posX'\n",
       "3. 'posY'\n",
       "4. 'orientation'\n",
       "5. 'angle'\n",
       "6. '00:0f:a3:39:dd:cd'\n",
       "7. '00:0f:a3:39:e1:c0'\n",
       "8. '00:14:bf:3b:c7:c6'\n",
       "9. '00:14:bf:b1:97:81'\n",
       "10. '00:14:bf:b1:97:8a'\n",
       "11. '00:14:bf:b1:97:8d'\n",
       "12. '00:14:bf:b1:97:90'\n",
       "\n",
       "\n"
      ],
      "text/plain": [
       " [1] \"posXY\"             \"posX\"              \"posY\"             \n",
       " [4] \"orientation\"       \"angle\"             \"00:0f:a3:39:dd:cd\"\n",
       " [7] \"00:0f:a3:39:e1:c0\" \"00:14:bf:3b:c7:c6\" \"00:14:bf:b1:97:81\"\n",
       "[10] \"00:14:bf:b1:97:8a\" \"00:14:bf:b1:97:8d\" \"00:14:bf:b1:97:90\""
      ]
     },
     "metadata": {},
     "output_type": "display_data"
    }
   ],
   "source": [
    "names(onlineSummaryBoth)\n",
    "m = 3; angleNewObs = 230\n",
    "refs = seq(0, by = 45, length  = 8)\n",
    "nearestAngle = roundOrientation(angleNewObs)\n",
    "  \n",
    "if (m %% 2 == 1) {\n",
    "  angles = seq(-45 * (m - 1) /2, 45 * (m - 1) /2, length = m)\n",
    "} else {\n",
    "  m = m + 1\n",
    "  angles = seq(-45 * (m - 1) /2, 45 * (m - 1) /2, length = m)\n",
    "  if (sign(angleNewObs - nearestAngle) > -1) \n",
    "    angles = angles[ -1 ]\n",
    "  else \n",
    "    angles = angles[ -m ]\n",
    "}\n",
    "angles = angles + nearestAngle\n",
    "angles[angles < 0] = angles[ angles < 0 ] + 360\n",
    "angles[angles > 360] = angles[ angles > 360 ] - 360\n"
   ]
  },
  {
   "cell_type": "code",
   "execution_count": 122,
   "metadata": {},
   "outputs": [],
   "source": [
    "offlineSubset = \n",
    "  offlineSummaryBoth[ offlineSummaryBoth$angle %in% angles, ]\n",
    "\n",
    "reshapeSS = function(data, varSignal = \"signal\", \n",
    "                     keepVars = c(\"posXY\", \"posX\",\"posY\")) {\n",
    "  byLocation =\n",
    "    with(data, by(data, list(posXY), \n",
    "                  function(x) {\n",
    "                    ans = x[1, keepVars]\n",
    "                    avgSS = tapply(x[ , varSignal ], x$mac, mean)\n",
    "                    y = matrix(avgSS, nrow = 1, ncol = 7,\n",
    "                               dimnames = list(ans$posXY,\n",
    "                                               names(avgSS)))\n",
    "                    cbind(ans, y)\n",
    "                  }))\n",
    "\n",
    "  newDataSS = do.call(\"rbind\", byLocation)\n",
    "  return(newDataSS)\n",
    "}"
   ]
  },
  {
   "cell_type": "code",
   "execution_count": 123,
   "metadata": {},
   "outputs": [],
   "source": [
    "trainSS = reshapeSS(offlineSubset, varSignal = \"avgSignal\")\n",
    "\n",
    "selectTrain = function(angleNewObs, signals = NULL, m = 1){\n",
    "  # m is the number of angles to keep between 1 and 5\n",
    "  refs = seq(0, by = 45, length  = 8)\n",
    "  nearestAngle = roundOrientation(angleNewObs)\n",
    "  \n",
    "  if (m %% 2 == 1) \n",
    "    angles = seq(-45 * (m - 1) /2, 45 * (m - 1) /2, length = m)\n",
    "  else {\n",
    "    m = m + 1\n",
    "    angles = seq(-45 * (m - 1) /2, 45 * (m - 1) /2, length = m)\n",
    "    if (sign(angleNewObs - nearestAngle) > -1) \n",
    "      angles = angles[ -1 ]\n",
    "    else \n",
    "      angles = angles[ -m ]\n",
    "  }\n",
    "  angles = angles + nearestAngle\n",
    "  angles[angles < 0] = angles[ angles < 0 ] + 360\n",
    "  angles[angles > 360] = angles[ angles > 360 ] - 360\n",
    "  angles = sort(angles) \n",
    "  \n",
    "  offlineSubset = signals[ signals$angle %in% angles, ]\n",
    "  reshapeSS(offlineSubset, varSignal = \"avgSignal\")\n",
    "}"
   ]
  },
  {
   "cell_type": "code",
   "execution_count": 124,
   "metadata": {},
   "outputs": [
    {
     "data": {
      "text/html": [
       "<table>\n",
       "<thead><tr><th></th><th scope=col>posXY</th><th scope=col>posX</th><th scope=col>posY</th><th scope=col>00:0f:a3:39:dd:cd</th><th scope=col>00:0f:a3:39:e1:c0</th><th scope=col>00:14:bf:3b:c7:c6</th><th scope=col>00:14:bf:b1:97:81</th><th scope=col>00:14:bf:b1:97:8a</th><th scope=col>00:14:bf:b1:97:8d</th><th scope=col>00:14:bf:b1:97:90</th></tr></thead>\n",
       "<tbody>\n",
       "\t<tr><th scope=row>0-0</th><td>0-0 </td><td>0   </td><td> 0  </td><td>-72 </td><td>-52 </td><td>-66 </td><td>-63 </td><td>-36 </td><td>-64 </td><td>-55 </td></tr>\n",
       "\t<tr><th scope=row>0-1</th><td>0-1 </td><td>0   </td><td> 1  </td><td>-70 </td><td>-53 </td><td>-65 </td><td>-64 </td><td>-39 </td><td>-65 </td><td>-59 </td></tr>\n",
       "\t<tr><th scope=row>0-10</th><td>0-10</td><td>0   </td><td>10  </td><td>-70 </td><td>-56 </td><td>-66 </td><td>-69 </td><td>-45 </td><td>-67 </td><td>-50 </td></tr>\n",
       "\t<tr><th scope=row>0-11</th><td>0-11</td><td>0   </td><td>11  </td><td>-71 </td><td>-55 </td><td>-67 </td><td>-70 </td><td>-48 </td><td>-67 </td><td>-55 </td></tr>\n",
       "\t<tr><th scope=row>0-12</th><td>0-12</td><td>0   </td><td>12  </td><td>-69 </td><td>-56 </td><td>-70 </td><td>-72 </td><td>-45 </td><td>-67 </td><td>-50 </td></tr>\n",
       "\t<tr><th scope=row>0-13</th><td>0-13</td><td>0   </td><td>13  </td><td>-73 </td><td>-55 </td><td>-71 </td><td>-73 </td><td>-43 </td><td>-69 </td><td>-54 </td></tr>\n",
       "</tbody>\n",
       "</table>\n"
      ],
      "text/latex": [
       "\\begin{tabular}{r|llllllllll}\n",
       "  & posXY & posX & posY & 00:0f:a3:39:dd:cd & 00:0f:a3:39:e1:c0 & 00:14:bf:3b:c7:c6 & 00:14:bf:b1:97:81 & 00:14:bf:b1:97:8a & 00:14:bf:b1:97:8d & 00:14:bf:b1:97:90\\\\\n",
       "\\hline\n",
       "\t0-0 & 0-0  & 0    &  0   & -72  & -52  & -66  & -63  & -36  & -64  & -55 \\\\\n",
       "\t0-1 & 0-1  & 0    &  1   & -70  & -53  & -65  & -64  & -39  & -65  & -59 \\\\\n",
       "\t0-10 & 0-10 & 0    & 10   & -70  & -56  & -66  & -69  & -45  & -67  & -50 \\\\\n",
       "\t0-11 & 0-11 & 0    & 11   & -71  & -55  & -67  & -70  & -48  & -67  & -55 \\\\\n",
       "\t0-12 & 0-12 & 0    & 12   & -69  & -56  & -70  & -72  & -45  & -67  & -50 \\\\\n",
       "\t0-13 & 0-13 & 0    & 13   & -73  & -55  & -71  & -73  & -43  & -69  & -54 \\\\\n",
       "\\end{tabular}\n"
      ],
      "text/markdown": [
       "\n",
       "| <!--/--> | posXY | posX | posY | 00:0f:a3:39:dd:cd | 00:0f:a3:39:e1:c0 | 00:14:bf:3b:c7:c6 | 00:14:bf:b1:97:81 | 00:14:bf:b1:97:8a | 00:14:bf:b1:97:8d | 00:14:bf:b1:97:90 | \n",
       "|---|---|---|---|---|---|\n",
       "| 0-0 | 0-0  | 0    |  0   | -72  | -52  | -66  | -63  | -36  | -64  | -55  | \n",
       "| 0-1 | 0-1  | 0    |  1   | -70  | -53  | -65  | -64  | -39  | -65  | -59  | \n",
       "| 0-10 | 0-10 | 0    | 10   | -70  | -56  | -66  | -69  | -45  | -67  | -50  | \n",
       "| 0-11 | 0-11 | 0    | 11   | -71  | -55  | -67  | -70  | -48  | -67  | -55  | \n",
       "| 0-12 | 0-12 | 0    | 12   | -69  | -56  | -70  | -72  | -45  | -67  | -50  | \n",
       "| 0-13 | 0-13 | 0    | 13   | -73  | -55  | -71  | -73  | -43  | -69  | -54  | \n",
       "\n",
       "\n"
      ],
      "text/plain": [
       "     posXY posX posY 00:0f:a3:39:dd:cd 00:0f:a3:39:e1:c0 00:14:bf:3b:c7:c6\n",
       "0-0  0-0   0     0   -72               -52               -66              \n",
       "0-1  0-1   0     1   -70               -53               -65              \n",
       "0-10 0-10  0    10   -70               -56               -66              \n",
       "0-11 0-11  0    11   -71               -55               -67              \n",
       "0-12 0-12  0    12   -69               -56               -70              \n",
       "0-13 0-13  0    13   -73               -55               -71              \n",
       "     00:14:bf:b1:97:81 00:14:bf:b1:97:8a 00:14:bf:b1:97:8d 00:14:bf:b1:97:90\n",
       "0-0  -63               -36               -64               -55              \n",
       "0-1  -64               -39               -65               -59              \n",
       "0-10 -69               -45               -67               -50              \n",
       "0-11 -70               -48               -67               -55              \n",
       "0-12 -72               -45               -67               -50              \n",
       "0-13 -73               -43               -69               -54              "
      ]
     },
     "metadata": {},
     "output_type": "display_data"
    },
    {
     "data": {
      "text/html": [
       "166"
      ],
      "text/latex": [
       "166"
      ],
      "text/markdown": [
       "166"
      ],
      "text/plain": [
       "[1] 166"
      ]
     },
     "metadata": {},
     "output_type": "display_data"
    }
   ],
   "source": [
    "train130 = selectTrain(130, offlineSummaryBoth, m = 3)\n",
    "\n",
    "head(train130)\n",
    "\n",
    "length(train130[[1]])\n",
    "\n",
    "findNN = function(newSignal, trainSubset) {\n",
    "  diffs = apply(trainSubset[ , 4:9], 1, \n",
    "                function(x) x - newSignal)\n",
    "  dists = apply(diffs, 2, function(x) sqrt(sum(x^2)) )\n",
    "  closest = order(dists)\n",
    "  return(trainSubset[closest, 1:3 ])\n",
    "}"
   ]
  },
  {
   "cell_type": "code",
   "execution_count": 125,
   "metadata": {},
   "outputs": [],
   "source": [
    "predXY = function(newSignals, newAngles, trainData, \n",
    "                  numAngles = 1, k = 3){\n",
    "  \n",
    "  closeXY = list(length = nrow(newSignals))\n",
    "  \n",
    "  for (i in 1:nrow(newSignals)) {\n",
    "    trainSS = selectTrain(newAngles[i], trainData, m = numAngles)\n",
    "    closeXY[[i]] = \n",
    "      findNN(newSignal = as.numeric(newSignals[i, ]), trainSS)\n",
    "  }\n",
    "\n",
    "  estXY = lapply(closeXY, \n",
    "                 function(x) sapply(x[ , 2:3], \n",
    "                                    function(x) mean(x[1:k])))\n",
    "  estXY = do.call(\"rbind\", estXY)\n",
    "  return(estXY)\n",
    "}\n",
    "estXYkBoth = predXY(newSignals = onlineSummaryBoth[ , 6:11], \n",
    "                 newAngles = onlineSummaryBoth[ , 4], \n",
    "                 offlineSummaryBoth, numAngles = 3, k = 6)"
   ]
  },
  {
   "cell_type": "code",
   "execution_count": 126,
   "metadata": {},
   "outputs": [],
   "source": [
    "predXYalt = function(newSignals, newAngles, trainData, \n",
    "                  numAngles = 1, k = 3){\n",
    "  \n",
    "  closeXY = list(length = nrow(newSignals))\n",
    "  \n",
    "  for (i in 1:nrow(newSignals)) {\n",
    "    trainSS = selectTrain(newAngles[i], trainData, m = numAngles)\n",
    "    closeXY[[i]] = \n",
    "      findNN(newSignal = as.numeric(newSignals[i, ]), trainSS)\n",
    "  }\n",
    "\n",
    "  estXY = lapply(closeXY, \n",
    "                 function(x) sapply(x[ , 2:3], \n",
    "                                    function(x) sum(((1/(x+0.01))*(x))/sum(1/(x[1:k]+0.01)) )))\n",
    "  estXY = do.call(\"rbind\", estXY)\n",
    "  return(estXY)\n",
    "}\n",
    "estXYkBothalt = predXYalt(newSignals = onlineSummaryBoth[ , 6:11], \n",
    "                 newAngles = onlineSummaryBoth[ , 4], \n",
    "                 offlineSummaryBoth, numAngles = 3, k = 6)\n",
    "#estXYkBothalt\n",
    "#nrow(estXYkBothalt)"
   ]
  },
  {
   "cell_type": "markdown",
   "metadata": {},
   "source": [
    "# Creates the functions for the KNN and cross validation - NOT Used Below"
   ]
  },
  {
   "cell_type": "code",
   "execution_count": 184,
   "metadata": {
    "scrolled": true
   },
   "outputs": [
    {
     "name": "stderr",
     "output_type": "stream",
     "text": [
      "Warning message in matrix(avgSS, nrow = 1, ncol = 7, dimnames = list(ans$posXY, :\n",
      "\"data length [6] is not a sub-multiple or multiple of the number of columns [7]\""
     ]
    },
    {
     "ename": "ERROR",
     "evalue": "Error in matrix(avgSS, nrow = 1, ncol = 7, dimnames = list(ans$posXY, : length of 'dimnames' [2] not equal to array extent\n",
     "output_type": "error",
     "traceback": [
      "Error in matrix(avgSS, nrow = 1, ncol = 7, dimnames = list(ans$posXY, : length of 'dimnames' [2] not equal to array extent\nTraceback:\n",
      "1. predXY(newSignals = onlineSummaryRedo[, 6:11], newAngles = onlineSummaryRedo[, \n .     4], offlineSummaryRedo, numAngles = 3, k = 6)",
      "2. selectTrain(newAngles[i], trainData, m = numAngles)   # at line 7 of file <text>",
      "3. reshapeSS(offlineSubset, varSignal = \"avgSignal\")   # at line 24 of file <text>",
      "4. with(data, by(data, list(posXY), function(x) {\n .     ans = x[1, keepVars]\n .     avgSS = tapply(x[, varSignal], x$mac, mean)\n .     y = matrix(avgSS, nrow = 1, ncol = 7, dimnames = list(ans$posXY, \n .         names(avgSS)))\n .     cbind(ans, y)\n . }))   # at line 6-15 of file <text>",
      "5. with.default(data, by(data, list(posXY), function(x) {\n .     ans = x[1, keepVars]\n .     avgSS = tapply(x[, varSignal], x$mac, mean)\n .     y = matrix(avgSS, nrow = 1, ncol = 7, dimnames = list(ans$posXY, \n .         names(avgSS)))\n .     cbind(ans, y)\n . }))",
      "6. eval(substitute(expr), data, enclos = parent.frame())",
      "7. eval(substitute(expr), data, enclos = parent.frame())",
      "8. by(data, list(posXY), function(x) {\n .     ans = x[1, keepVars]\n .     avgSS = tapply(x[, varSignal], x$mac, mean)\n .     y = matrix(avgSS, nrow = 1, ncol = 7, dimnames = list(ans$posXY, \n .         names(avgSS)))\n .     cbind(ans, y)\n . })",
      "9. by.data.frame(data, list(posXY), function(x) {\n .     ans = x[1, keepVars]\n .     avgSS = tapply(x[, varSignal], x$mac, mean)\n .     y = matrix(avgSS, nrow = 1, ncol = 7, dimnames = list(ans$posXY, \n .         names(avgSS)))\n .     cbind(ans, y)\n . })",
      "10. structure(eval(substitute(tapply(seq_len(nd), IND, FUNx, simplify = simplify)), \n  .     data), call = match.call(), class = \"by\")",
      "11. eval(substitute(tapply(seq_len(nd), IND, FUNx, simplify = simplify)), \n  .     data)",
      "12. eval(substitute(tapply(seq_len(nd), IND, FUNx, simplify = simplify)), \n  .     data)",
      "13. tapply(seq_len(2988L), list(c(\"0-0\", \"0-1\", \"0-10\", \"0-11\", \"0-12\", \n  . \"0-13\", \"0-2\", \"0-3\", \"0-4\", \"0-7\", \"0-8\", \"0-9\", \"1-0\", \"1-1\", \n  . \"1-10\", \"1-11\", \"1-12\", \"1-13\", \"1-2\", \"1-3\", \"1-4\", \"1-5\", \"1-6\", \n  . \"1-7\", \"1-8\", \"1-9\", \"10-3\", \"10-4\", \"10-5\", \"10-6\", \"10-7\", \n  . \"10-8\", \"11-3\", \"11-4\", \"11-5\", \"11-6\", \"11-7\", \"11-8\", \"12-3\", \n  . \"12-4\", \"12-5\", \"12-6\", \"12-7\", \"12-8\", \"13-3\", \"13-4\", \"13-5\", \n  . \"13-6\", \"13-7\", \"13-8\", \"14-3\", \"14-7\", \"14-8\", \"15-3\", \"15-7\", \n  . \"15-8\", \"16-3\", \"16-7\", \"16-8\", \"17-3\", \"17-7\", \"17-8\", \"18-3\", \n  . \"18-7\", \"18-8\", \"19-3\", \"19-7\", \"19-8\", \"2-0\", \"2-1\", \"2-10\", \n  . \"2-11\", \"2-12\", \"2-13\", \"2-2\", \"2-3\", \"2-4\", \"2-5\", \"2-6\", \"2-7\", \n  . \"2-8\", \"2-9\", \"20-3\", \"20-7\", \"20-8\", \"21-3\", \"21-4\", \"21-5\", \n  . \"21-6\", \"21-7\", \"21-8\", \"22-3\", \"22-4\", \"22-5\", \"22-6\", \"22-7\", \n  . \"22-8\", \"23-3\", \"23-4\", \"23-5\", \"23-6\", \"23-7\", \"23-8\", \"24-3\", \n  . \"24-4\", \"24-5\", \"24-6\", \"24-7\", \"24-8\", \"25-3\", \"25-4\", \"25-7\", \n  . \"25-8\", \"26-3\", \"26-4\", \"26-5\", \"26-6\", \"26-7\", \"26-8\", \"27-3\", \n  . \"27-7\", \"27-8\", \"28-3\", \"28-7\", \"28-8\", \"29-3\", \"29-7\", \"29-8\", \n  . \"3-3\", \"3-7\", \"3-8\", \"30-3\", \"30-7\", \"30-8\", \"31-3\", \"31-7\", \n  . \"31-8\", \"32-3\", \"32-4\", \"32-5\", \"32-6\", \"32-7\", \"32-8\", \"33-3\", \n  . \"33-4\", \"33-7\", \"33-8\", \"4-3\", \"4-7\", \"4-8\", \"5-3\", \"5-7\", \"5-8\", \n  . \"6-3\", \"6-7\", \"6-8\", \"7-3\", \"7-7\", \"7-8\", \"8-3\", \"8-7\", \"8-8\", \n  . \"9-3\", \"9-4\", \"9-7\", \"9-8\", \"0-0\", \"0-1\", \"0-10\", \"0-11\", \"0-12\", \n  . \"0-13\", \"0-2\", \"0-3\", \"0-4\", \"0-7\", \"0-8\", \"0-9\", \"1-0\", \"1-1\", \n  . \"1-10\", \"1-11\", \"1-12\", \"1-13\", \"1-2\", \"1-3\", \"1-4\", \"1-5\", \"1-6\", \n  . \"1-7\", \"1-8\", \"1-9\", \"10-3\", \"10-4\", \"10-5\", \"10-6\", \"10-7\", \n  . \"10-8\", \"11-3\", \"11-4\", \"11-5\", \"11-6\", \"11-7\", \"11-8\", \"12-3\", \n  . \"12-4\", \"12-5\", \"12-6\", \"12-7\", \"12-8\", \"13-3\", \"13-4\", \"13-5\", \n  . \"13-6\", \"13-7\", \"13-8\", \"14-3\", \"14-7\", \"14-8\", \"15-3\", \"15-7\", \n  . \"15-8\", \"16-3\", \"16-7\", \"16-8\", \"17-3\", \"17-7\", \"17-8\", \"18-3\", \n  . \"18-7\", \"18-8\", \"19-3\", \"19-7\", \"19-8\", \"2-0\", \"2-1\", \"2-10\", \n  . \"2-11\", \"2-12\", \"2-13\", \"2-2\", \"2-3\", \"2-4\", \"2-5\", \"2-6\", \"2-7\", \n  . \"2-8\", \"2-9\", \"20-3\", \"20-7\", \"20-8\", \"21-3\", \"21-4\", \"21-5\", \n  . \"21-6\", \"21-7\", \"21-8\", \"22-3\", \"22-4\", \"22-5\", \"22-6\", \"22-7\", \n  . \"22-8\", \"23-3\", \"23-4\", \"23-5\", \"23-6\", \"23-7\", \"23-8\", \"24-3\", \n  . \"24-4\", \"24-5\", \"24-6\", \"24-7\", \"24-8\", \"25-3\", \"25-4\", \"25-7\", \n  . \"25-8\", \"26-3\", \"26-4\", \"26-5\", \"26-6\", \"26-7\", \"26-8\", \"27-3\", \n  . \"27-7\", \"27-8\", \"28-3\", \"28-7\", \"28-8\", \"29-3\", \"29-7\", \"29-8\", \n  . \"3-3\", \"3-7\", \"3-8\", \"30-3\", \"30-7\", \"30-8\", \"31-3\", \"31-7\", \n  . \"31-8\", \"32-3\", \"32-4\", \"32-5\", \"32-6\", \"32-7\", \"32-8\", \"33-3\", \n  . \"33-4\", \"33-7\", \"33-8\", \"4-3\", \"4-7\", \"4-8\", \"5-3\", \"5-7\", \"5-8\", \n  . \"6-3\", \"6-7\", \"6-8\", \"7-3\", \"7-7\", \"7-8\", \"8-3\", \"8-7\", \"8-8\", \n  . \"9-3\", \"9-4\", \"9-7\", \"9-8\", \"0-0\", \"0-1\", \"0-10\", \"0-11\", \"0-12\", \n  . \"0-13\", \"0-2\", \"0-3\", \"0-4\", \"0-7\", \"0-8\", \"0-9\", \"1-0\", \"1-1\", \n  . \"1-10\", \"1-11\", \"1-12\", \"1-13\", \"1-2\", \"1-3\", \"1-4\", \"1-5\", \"1-6\", \n  . \"1-7\", \"1-8\", \"1-9\", \"10-3\", \"10-4\", \"10-5\", \"10-6\", \"10-7\", \n  . \"10-8\", \"11-3\", \"11-4\", \"11-5\", \"11-6\", \"11-7\", \"11-8\", \"12-3\", \n  . \"12-4\", \"12-5\", \"12-6\", \"12-7\", \"12-8\", \"13-3\", \"13-4\", \"13-5\", \n  . \"13-6\", \"13-7\", \"13-8\", \"14-3\", \"14-7\", \"14-8\", \"15-3\", \"15-7\", \n  . \"15-8\", \"16-3\", \"16-7\", \"16-8\", \"17-3\", \"17-7\", \"17-8\", \"18-3\", \n  . \"18-7\", \"18-8\", \"19-3\", \"19-7\", \"19-8\", \"2-0\", \"2-1\", \"2-10\", \n  . \"2-11\", \"2-12\", \"2-13\", \"2-2\", \"2-3\", \"2-4\", \"2-5\", \"2-6\", \"2-7\", \n  . \"2-8\", \"2-9\", \"20-3\", \"20-7\", \"20-8\", \"21-3\", \"21-4\", \"21-5\", \n  . \"21-6\", \"21-7\", \"21-8\", \"22-3\", \"22-4\", \"22-5\", \"22-6\", \"22-7\", \n  . \"22-8\", \"23-3\", \"23-4\", \"23-5\", \"23-6\", \"23-7\", \"23-8\", \"24-3\", \n  . \"24-4\", \"24-5\", \"24-6\", \"24-7\", \"24-8\", \"25-3\", \"25-4\", \"25-7\", \n  . \"25-8\", \"26-3\", \"26-4\", \"26-5\", \"26-6\", \"26-7\", \"26-8\", \"27-3\", \n  . \"27-7\", \"27-8\", \"28-3\", \"28-7\", \"28-8\", \"29-3\", \"29-7\", \"29-8\", \n  . \"3-3\", \"3-7\", \"3-8\", \"30-3\", \"30-7\", \"30-8\", \"31-3\", \"31-7\", \n  . \"31-8\", \"32-3\", \"32-4\", \"32-5\", \"32-6\", \"32-7\", \"32-8\", \"33-3\", \n  . \"33-4\", \"33-7\", \"33-8\", \"4-3\", \"4-7\", \"4-8\", \"5-3\", \"5-7\", \"5-8\", \n  . \"6-3\", \"6-7\", \"6-8\", \"7-3\", \"7-7\", \"7-8\", \"8-3\", \"8-7\", \"8-8\", \n  . \"9-3\", \"9-4\", \"9-7\", \"9-8\", \"0-0\", \"0-1\", \"0-10\", \"0-11\", \"0-12\", \n  . \"0-13\", \"0-2\", \"0-3\", \"0-4\", \"0-7\", \"0-8\", \"0-9\", \"1-0\", \"1-1\", \n  . \"1-10\", \"1-11\", \"1-12\", \"1-13\", \"1-2\", \"1-3\", \"1-4\", \"1-5\", \"1-6\", \n  . \"1-7\", \"1-8\", \"1-9\", \"10-3\", \"10-4\", \"10-5\", \"10-6\", \"10-7\", \n  . \"10-8\", \"11-3\", \"11-4\", \"11-5\", \"11-6\", \"11-7\", \"11-8\", \"12-3\", \n  . \"12-4\", \"12-5\", \"12-6\", \"12-7\", \"12-8\", \"13-3\", \"13-4\", \"13-5\", \n  . \"13-6\", \"13-7\", \"13-8\", \"14-3\", \"14-7\", \"14-8\", \"15-3\", \"15-7\", \n  . \"15-8\", \"16-3\", \"16-7\", \"16-8\", \"17-3\", \"17-7\", \"17-8\", \"18-3\", \n  . \"18-7\", \"18-8\", \"19-3\", \"19-7\", \"19-8\", \"2-0\", \"2-1\", \"2-10\", \n  . \"2-11\", \"2-12\", \"2-13\", \"2-2\", \"2-3\", \"2-4\", \"2-5\", \"2-6\", \"2-7\", \n  . \"2-8\", \"2-9\", \"20-3\", \"20-7\", \"20-8\", \"21-3\", \"21-4\", \"21-5\", \n  . \"21-6\", \"21-7\", \"21-8\", \"22-3\", \"22-4\", \"22-5\", \"22-6\", \"22-7\", \n  . \"22-8\", \"23-3\", \"23-4\", \"23-5\", \"23-6\", \"23-7\", \"23-8\", \"24-3\", \n  . \"24-4\", \"24-5\", \"24-6\", \"24-7\", \"24-8\", \"25-3\", \"25-4\", \"25-7\", \n  . \"25-8\", \"26-3\", \"26-4\", \"26-5\", \"26-6\", \"26-7\", \"26-8\", \"27-3\", \n  . \"27-7\", \"27-8\", \"28-3\", \"28-7\", \"28-8\", \"29-3\", \"29-7\", \"29-8\", \n  . \"3-3\", \"3-7\", \"3-8\", \"30-3\", \"30-7\", \"30-8\", \"31-3\", \"31-7\", \n  . \"31-8\", \"32-3\", \"32-4\", \"32-5\", \"32-6\", \"32-7\", \"32-8\", \"33-3\", \n  . \"33-4\", \"33-7\", \"33-8\", \"4-3\", \"4-7\", \"4-8\", \"5-3\", \"5-7\", \"5-8\", \n  . \"6-3\", \"6-7\", \"6-8\", \"7-3\", \"7-7\", \"7-8\", \"8-3\", \"8-7\", \"8-8\", \n  . \"9-3\", \"9-4\", \"9-7\", \"9-8\", \"0-0\", \"0-1\", \"0-10\", \"0-11\", \"0-12\", \n  . \"0-13\", \"0-2\", \"0-3\", \"0-4\", \"0-7\", \"0-8\", \"0-9\", \"1-0\", \"1-1\", \n  . \"1-10\", \"1-11\", \"1-12\", \"1-13\", \"1-2\", \"1-3\", \"1-4\", \"1-5\", \"1-6\", \n  . \"1-7\", \"1-8\", \"1-9\", \"10-3\", \"10-4\", \"10-5\", \"10-6\", \"10-7\", \n  . \"10-8\", \"11-3\", \"11-4\", \"11-5\", \"11-6\", \"11-7\", \"11-8\", \"12-3\", \n  . \"12-4\", \"12-5\", \"12-6\", \"12-7\", \"12-8\", \"13-3\", \"13-4\", \"13-5\", \n  . \"13-6\", \"13-7\", \"13-8\", \"14-3\", \"14-7\", \"14-8\", \"15-3\", \"15-7\", \n  . \"15-8\", \"16-3\", \"16-7\", \"16-8\", \"17-3\", \"17-7\", \"17-8\", \"18-3\", \n  . \"18-7\", \"18-8\", \"19-3\", \"19-7\", \"19-8\", \"2-0\", \"2-1\", \"2-10\", \n  . \"2-11\", \"2-12\", \"2-13\", \"2-2\", \"2-3\", \"2-4\", \"2-5\", \"2-6\", \"2-7\", \n  . \"2-8\", \"2-9\", \"20-3\", \"20-7\", \"20-8\", \"21-3\", \"21-4\", \"21-5\", \n  . \"21-6\", \"21-7\", \"21-8\", \"22-3\", \"22-4\", \"22-5\", \"22-6\", \"22-7\", \n  . \"22-8\", \"23-3\", \"23-4\", \"23-5\", \"23-6\", \"23-7\", \"23-8\", \"24-3\", \n  . \"24-4\", \"24-5\", \"24-6\", \"24-7\", \"24-8\", \"25-3\", \"25-4\", \"25-7\", \n  . \"25-8\", \"26-3\", \"26-4\", \"26-5\", \"26-6\", \"26-7\", \"26-8\", \"27-3\", \n  . \"27-7\", \"27-8\", \"28-3\", \"28-7\", \"28-8\", \"29-3\", \"29-7\", \"29-8\", \n  . \"3-3\", \"3-7\", \"3-8\", \"30-3\", \"30-7\", \"30-8\", \"31-3\", \"31-7\", \n  . \"31-8\", \"32-3\", \"32-4\", \"32-5\", \"32-6\", \"32-7\", \"32-8\", \"33-3\", \n  . \"33-4\", \"33-7\", \"33-8\", \"4-3\", \"4-7\", \"4-8\", \"5-3\", \"5-7\", \"5-8\", \n  . \"6-3\", \"6-7\", \"6-8\", \"7-3\", \"7-7\", \"7-8\", \"8-3\", \"8-7\", \"8-8\", \n  . \"9-3\", \"9-4\", \"9-7\", \"9-8\", \"0-0\", \"0-1\", \"0-10\", \"0-11\", \"0-12\", \n  . \"0-13\", \"0-2\", \"0-3\", \"0-4\", \"0-7\", \"0-8\", \"0-9\", \"1-0\", \"1-1\", \n  . \"1-10\", \"1-11\", \"1-12\", \"1-13\", \"1-2\", \"1-3\", \"1-4\", \"1-5\", \"1-6\", \n  . \"1-7\", \"1-8\", \"1-9\", \"10-3\", \"10-4\", \"10-5\", \"10-6\", \"10-7\", \n  . \"10-8\", \"11-3\", \"11-4\", \"11-5\", \"11-6\", \"11-7\", \"11-8\", \"12-3\", \n  . \"12-4\", \"12-5\", \"12-6\", \"12-7\", \"12-8\", \"13-3\", \"13-4\", \"13-5\", \n  . \"13-6\", \"13-7\", \"13-8\", \"14-3\", \"14-7\", \"14-8\", \"15-3\", \"15-7\", \n  . \"15-8\", \"16-3\", \"16-7\", \"16-8\", \"17-3\", \"17-7\", \"17-8\", \"18-3\", \n  . \"18-7\", \"18-8\", \"19-3\", \"19-7\", \"19-8\", \"2-0\", \"2-1\", \"2-10\", \n  . \"2-11\", \"2-12\", \"2-13\", \"2-2\", \"2-3\", \"2-4\", \"2-5\", \"2-6\", \"2-7\", \n  . \"2-8\", \"2-9\", \"20-3\", \"20-7\", \"20-8\", \"21-3\", \"21-4\", \"21-5\", \n  . \"21-6\", \"21-7\", \"21-8\", \"22-3\", \"22-4\", \"22-5\", \"22-6\", \"22-7\", \n  . \"22-8\", \"23-3\", \"23-4\", \"23-5\", \"23-6\", \"23-7\", \"23-8\", \"24-3\", \n  . \"24-4\", \"24-5\", \"24-6\", \"24-7\", \"24-8\", \"25-3\", \"25-4\", \"25-7\", \n  . \"25-8\", \"26-3\", \"26-4\", \"26-5\", \"26-6\", \"26-7\", \"26-8\", \"27-3\", \n  . \"27-7\", \"27-8\", \"28-3\", \"28-7\", \"28-8\", \"29-3\", \"29-7\", \"29-8\", \n  . \"3-3\", \"3-7\", \"3-8\", \"30-3\", \"30-7\", \"30-8\", \"31-3\", \"31-7\", \n  . \"31-8\", \"32-3\", \"32-4\", \"32-5\", \"32-6\", \"32-7\", \"32-8\", \"33-3\", \n  . \"33-4\", \"33-7\", \"33-8\", \"4-3\", \"4-7\", \"4-8\", \"5-3\", \"5-7\", \"5-8\", \n  . \"6-3\", \"6-7\", \"6-8\", \"7-3\", \"7-7\", \"7-8\", \"8-3\", \"8-7\", \"8-8\", \n  . \"9-3\", \"9-4\", \"9-7\", \"9-8\", \"0-0\", \"0-1\", \"0-10\", \"0-11\", \"0-12\", \n  . \"0-13\", \"0-2\", \"0-3\", \"0-4\", \"0-7\", \"0-8\", \"0-9\", \"1-0\", \"1-1\", \n  . \"1-10\", \"1-11\", \"1-12\", \"1-13\", \"1-2\", \"1-3\", \"1-4\", \"1-5\", \"1-6\", \n  . \"1-7\", \"1-8\", \"1-9\", \"10-3\", \"10-4\", \"10-5\", \"10-6\", \"10-7\", \n  . \"10-8\", \"11-3\", \"11-4\", \"11-5\", \"11-6\", \"11-7\", \"11-8\", \"12-3\", \n  . \"12-4\", \"12-5\", \"12-6\", \"12-7\", \"12-8\", \"13-3\", \"13-4\", \"13-5\", \n  . \"13-6\", \"13-7\", \"13-8\", \"14-3\", \"14-7\", \"14-8\", \"15-3\", \"15-7\", \n  . \"15-8\", \"16-3\", \"16-7\", \"16-8\", \"17-3\", \"17-7\", \"17-8\", \"18-3\", \n  . \"18-7\", \"18-8\", \"19-3\", \"19-7\", \"19-8\", \"2-0\", \"2-1\", \"2-10\", \n  . \"2-11\", \"2-12\", \"2-13\", \"2-2\", \"2-3\", \"2-4\", \"2-5\", \"2-6\", \"2-7\", \n  . \"2-8\", \"2-9\", \"20-3\", \"20-7\", \"20-8\", \"21-3\", \"21-4\", \"21-5\", \n  . \"21-6\", \"21-7\", \"21-8\", \"22-3\", \"22-4\", \"22-5\", \"22-6\", \"22-7\", \n  . \"22-8\", \"23-3\", \"23-4\", \"23-5\", \"23-6\", \"23-7\", \"23-8\", \"24-3\", \n  . \"24-4\", \"24-5\", \"24-6\", \"24-7\", \"24-8\", \"25-3\", \"25-4\", \"25-7\", \n  . \"25-8\", \"26-3\", \"26-4\", \"26-5\", \"26-6\", \"26-7\", \"26-8\", \"27-3\", \n  . \"27-7\", \"27-8\", \"28-3\", \"28-7\", \"28-8\", \"29-3\", \"29-7\", \"29-8\", \n  . \"3-3\", \"3-7\", \"3-8\", \"30-3\", \"30-7\", \"30-8\", \"31-3\", \"31-7\", \n  . \"31-8\", \"32-3\", \"32-4\", \"32-5\", \"32-6\", \"32-7\", \"32-8\", \"33-3\", \n  . \"33-4\", \"33-7\", \"33-8\", \"4-3\", \"4-7\", \"4-8\", \"5-3\", \"5-7\", \"5-8\", \n  . \"6-3\", \"6-7\", \"6-8\", \"7-3\", \"7-7\", \"7-8\", \"8-3\", \"8-7\", \"8-8\", \n  . \"9-3\", \"9-4\", \"9-7\", \"9-8\", \"0-0\", \"0-1\", \"0-10\", \"0-11\", \"0-12\", \n  . \"0-13\", \"0-2\", \"0-3\", \"0-4\", \"0-7\", \"0-8\", \"0-9\", \"1-0\", \"1-1\", \n  . \"1-10\", \"1-11\", \"1-12\", \"1-13\", \"1-2\", \"1-3\", \"1-4\", \"1-5\", \"1-6\", \n  . \"1-7\", \"1-8\", \"1-9\", \"10-3\", \"10-4\", \"10-5\", \"10-6\", \"10-7\", \n  . \"10-8\", \"11-3\", \"11-4\", \"11-5\", \"11-6\", \"11-7\", \"11-8\", \"12-3\", \n  . \"12-4\", \"12-5\", \"12-6\", \"12-7\", \"12-8\", \"13-3\", \"13-4\", \"13-5\", \n  . \"13-6\", \"13-7\", \"13-8\", \"14-3\", \"14-7\", \"14-8\", \"15-3\", \"15-7\", \n  . \"15-8\", \"16-3\", \"16-7\", \"16-8\", \"17-3\", \"17-7\", \"17-8\", \"18-3\", \n  . \"18-7\", \"18-8\", \"19-3\", \"19-7\", \"19-8\", \"2-0\", \"2-1\", \"2-10\", \n  . \"2-11\", \"2-12\", \"2-13\", \"2-2\", \"2-3\", \"2-4\", \"2-5\", \"2-6\", \"2-7\", \n  . \"2-8\", \"2-9\", \"20-3\", \"20-7\", \"20-8\", \"21-3\", \"21-4\", \"21-5\", \n  . \"21-6\", \"21-7\", \"21-8\", \"22-3\", \"22-4\", \"22-5\", \"22-6\", \"22-7\", \n  . \"22-8\", \"23-3\", \"23-4\", \"23-5\", \"23-6\", \"23-7\", \"23-8\", \"24-3\", \n  . \"24-4\", \"24-5\", \"24-6\", \"24-7\", \"24-8\", \"25-3\", \"25-4\", \"25-7\", \n  . \"25-8\", \"26-3\", \"26-4\", \"26-5\", \"26-6\", \"26-7\", \"26-8\", \"27-3\", \n  . \"27-7\", \"27-8\", \"28-3\", \"28-7\", \"28-8\", \"29-3\", \"29-7\", \"29-8\", \n  . \"3-3\", \"3-7\", \"3-8\", \"30-3\", \"30-7\", \"30-8\", \"31-3\", \"31-7\", \n  . \"31-8\", \"32-3\", \"32-4\", \"32-5\", \"32-6\", \"32-7\", \"32-8\", \"33-3\", \n  . \"33-4\", \"33-7\", \"33-8\", \"4-3\", \"4-7\", \"4-8\", \"5-3\", \"5-7\", \"5-8\", \n  . \"6-3\", \"6-7\", \"6-8\", \"7-3\", \"7-7\", \"7-8\", \"8-3\", \"8-7\", \"8-8\", \n  . \"9-3\", \"9-4\", \"9-7\", \"9-8\", \"0-0\", \"0-1\", \"0-10\", \"0-11\", \"0-12\", \n  . \"0-13\", \"0-2\", \"0-3\", \"0-4\", \"0-7\", \"0-8\", \"0-9\", \"1-0\", \"1-1\", \n  . \"1-10\", \"1-11\", \"1-12\", \"1-13\", \"1-2\", \"1-3\", \"1-4\", \"1-5\", \"1-6\", \n  . \"1-7\", \"1-8\", \"1-9\", \"10-3\", \"10-4\", \"10-5\", \"10-6\", \"10-7\", \n  . \"10-8\", \"11-3\", \"11-4\", \"11-5\", \"11-6\", \"11-7\", \"11-8\", \"12-3\", \n  . \"12-4\", \"12-5\", \"12-6\", \"12-7\", \"12-8\", \"13-3\", \"13-4\", \"13-5\", \n  . \"13-6\", \"13-7\", \"13-8\", \"14-3\", \"14-7\", \"14-8\", \"15-3\", \"15-7\", \n  . \"15-8\", \"16-3\", \"16-7\", \"16-8\", \"17-3\", \"17-7\", \"17-8\", \"18-3\", \n  . \"18-7\", \"18-8\", \"19-3\", \"19-7\", \"19-8\", \"2-0\", \"2-1\", \"2-10\", \n  . \"2-11\", \"2-12\", \"2-13\", \"2-2\", \"2-3\", \"2-4\", \"2-5\", \"2-6\", \"2-7\", \n  . \"2-8\", \"2-9\", \"20-3\", \"20-7\", \"20-8\", \"21-3\", \"21-4\", \"21-5\", \n  . \"21-6\", \"21-7\", \"21-8\", \"22-3\", \"22-4\", \"22-5\", \"22-6\", \"22-7\", \n  . \"22-8\", \"23-3\", \"23-4\", \"23-5\", \"23-6\", \"23-7\", \"23-8\", \"24-3\", \n  . \"24-4\", \"24-5\", \"24-6\", \"24-7\", \"24-8\", \"25-3\", \"25-4\", \"25-7\", \n  . \"25-8\", \"26-3\", \"26-4\", \"26-5\", \"26-6\", \"26-7\", \"26-8\", \"27-3\", \n  . \"27-7\", \"27-8\", \"28-3\", \"28-7\", \"28-8\", \"29-3\", \"29-7\", \"29-8\", \n  . \"3-3\", \"3-7\", \"3-8\", \"30-3\", \"30-7\", \"30-8\", \"31-3\", \"31-7\", \n  . \"31-8\", \"32-3\", \"32-4\", \"32-5\", \"32-6\", \"32-7\", \"32-8\", \"33-3\", \n  . \"33-4\", \"33-7\", \"33-8\", \"4-3\", \"4-7\", \"4-8\", \"5-3\", \"5-7\", \"5-8\", \n  . \"6-3\", \"6-7\", \"6-8\", \"7-3\", \"7-7\", \"7-8\", \"8-3\", \"8-7\", \"8-8\", \n  . \"9-3\", \"9-4\", \"9-7\", \"9-8\", \"0-0\", \"0-1\", \"0-10\", \"0-11\", \"0-12\", \n  . \"0-13\", \"0-2\", \"0-3\", \"0-4\", \"0-7\", \"0-8\", \"0-9\", \"1-0\", \"1-1\", \n  . \"1-10\", \"1-11\", \"1-12\", \"1-13\", \"1-2\", \"1-3\", \"1-4\", \"1-5\", \"1-6\", \n  . \"1-7\", \"1-8\", \"1-9\", \"10-3\", \"10-4\", \"10-5\", \"10-6\", \"10-7\", \n  . \"10-8\", \"11-3\", \"11-4\", \"11-5\", \"11-6\", \"11-7\", \"11-8\", \"12-3\", \n  . \"12-4\", \"12-5\", \"12-6\", \"12-7\", \"12-8\", \"13-3\", \"13-4\", \"13-5\", \n  . \"13-6\", \"13-7\", \"13-8\", \"14-3\", \"14-7\", \"14-8\", \"15-3\", \"15-7\", \n  . \"15-8\", \"16-3\", \"16-7\", \"16-8\", \"17-3\", \"17-7\", \"17-8\", \"18-3\", \n  . \"18-7\", \"18-8\", \"19-3\", \"19-7\", \"19-8\", \"2-0\", \"2-1\", \"2-10\", \n  . \"2-11\", \"2-12\", \"2-13\", \"2-2\", \"2-3\", \"2-4\", \"2-5\", \"2-6\", \"2-7\", \n  . \"2-8\", \"2-9\", \"20-3\", \"20-7\", \"20-8\", \"21-3\", \"21-4\", \"21-5\", \n  . \"21-6\", \"21-7\", \"21-8\", \"22-3\", \"22-4\", \"22-5\", \"22-6\", \"22-7\", \n  . \"22-8\", \"23-3\", \"23-4\", \"23-5\", \"23-6\", \"23-7\", \"23-8\", \"24-3\", \n  . \"24-4\", \"24-5\", \"24-6\", \"24-7\", \"24-8\", \"25-3\", \"25-4\", \"25-7\", \n  . \"25-8\", \"26-3\", \"26-4\", \"26-5\", \"26-6\", \"26-7\", \"26-8\", \"27-3\", \n  . \"27-7\", \"27-8\", \"28-3\", \"28-7\", \"28-8\", \"29-3\", \"29-7\", \"29-8\", \n  . \"3-3\", \"3-7\", \"3-8\", \"30-3\", \"30-7\", \"30-8\", \"31-3\", \"31-7\", \n  . \"31-8\", \"32-3\", \"32-4\", \"32-5\", \"32-6\", \"32-7\", \"32-8\", \"33-3\", \n  . \"33-4\", \"33-7\", \"33-8\", \"4-3\", \"4-7\", \"4-8\", \"5-3\", \"5-7\", \"5-8\", \n  . \"6-3\", \"6-7\", \"6-8\", \"7-3\", \"7-7\", \"7-8\", \"8-3\", \"8-7\", \"8-8\", \n  . \"9-3\", \"9-4\", \"9-7\", \"9-8\", \"0-0\", \"0-1\", \"0-10\", \"0-11\", \"0-12\", \n  . \"0-13\", \"0-2\", \"0-3\", \"0-4\", \"0-7\", \"0-8\", \"0-9\", \"1-0\", \"1-1\", \n  . \"1-10\", \"1-11\", \"1-12\", \"1-13\", \"1-2\", \"1-3\", \"1-4\", \"1-5\", \"1-6\", \n  . \"1-7\", \"1-8\", \"1-9\", \"10-3\", \"10-4\", \"10-5\", \"10-6\", \"10-7\", \n  . \"10-8\", \"11-3\", \"11-4\", \"11-5\", \"11-6\", \"11-7\", \"11-8\", \"12-3\", \n  . \"12-4\", \"12-5\", \"12-6\", \"12-7\", \"12-8\", \"13-3\", \"13-4\", \"13-5\", \n  . \"13-6\", \"13-7\", \"13-8\", \"14-3\", \"14-7\", \"14-8\", \"15-3\", \"15-7\", \n  . \"15-8\", \"16-3\", \"16-7\", \"16-8\", \"17-3\", \"17-7\", \"17-8\", \"18-3\", \n  . \"18-7\", \"18-8\", \"19-3\", \"19-7\", \"19-8\", \"2-0\", \"2-1\", \"2-10\", \n  . \"2-11\", \"2-12\", \"2-13\", \"2-2\", \"2-3\", \"2-4\", \"2-5\", \"2-6\", \"2-7\", \n  . \"2-8\", \"2-9\", \"20-3\", \"20-7\", \"20-8\", \"21-3\", \"21-4\", \"21-5\", \n  . \"21-6\", \"21-7\", \"21-8\", \"22-3\", \"22-4\", \"22-5\", \"22-6\", \"22-7\", \n  . \"22-8\", \"23-3\", \"23-4\", \"23-5\", \"23-6\", \"23-7\", \"23-8\", \"24-3\", \n  . \"24-4\", \"24-5\", \"24-6\", \"24-7\", \"24-8\", \"25-3\", \"25-4\", \"25-7\", \n  . \"25-8\", \"26-3\", \"26-4\", \"26-5\", \"26-6\", \"26-7\", \"26-8\", \"27-3\", \n  . \"27-7\", \"27-8\", \"28-3\", \"28-7\", \"28-8\", \"29-3\", \"29-7\", \"29-8\", \n  . \"3-3\", \"3-7\", \"3-8\", \"30-3\", \"30-7\", \"30-8\", \"31-3\", \"31-7\", \n  . \"31-8\", \"32-3\", \"32-4\", \"32-5\", \"32-6\", \"32-7\", \"32-8\", \"33-3\", \n  . \"33-4\", \"33-7\", \"33-8\", \"4-3\", \"4-7\", \"4-8\", \"5-3\", \"5-7\", \"5-8\", \n  . \"6-3\", \"6-7\", \"6-8\", \"7-3\", \"7-7\", \"7-8\", \"8-3\", \"8-7\", \"8-8\", \n  . \"9-3\", \"9-4\", \"9-7\", \"9-8\", \"0-0\", \"0-1\", \"0-10\", \"0-11\", \"0-12\", \n  . \"0-13\", \"0-2\", \"0-3\", \"0-4\", \"0-7\", \"0-8\", \"0-9\", \"1-0\", \"1-1\", \n  . \"1-10\", \"1-11\", \"1-12\", \"1-13\", \"1-2\", \"1-3\", \"1-4\", \"1-5\", \"1-6\", \n  . \"1-7\", \"1-8\", \"1-9\", \"10-3\", \"10-4\", \"10-5\", \"10-6\", \"10-7\", \n  . \"10-8\", \"11-3\", \"11-4\", \"11-5\", \"11-6\", \"11-7\", \"11-8\", \"12-3\", \n  . \"12-4\", \"12-5\", \"12-6\", \"12-7\", \"12-8\", \"13-3\", \"13-4\", \"13-5\", \n  . \"13-6\", \"13-7\", \"13-8\", \"14-3\", \"14-7\", \"14-8\", \"15-3\", \"15-7\", \n  . \"15-8\", \"16-3\", \"16-7\", \"16-8\", \"17-3\", \"17-7\", \"17-8\", \"18-3\", \n  . \"18-7\", \"18-8\", \"19-3\", \"19-7\", \"19-8\", \"2-0\", \"2-1\", \"2-10\", \n  . \"2-11\", \"2-12\", \"2-13\", \"2-2\", \"2-3\", \"2-4\", \"2-5\", \"2-6\", \"2-7\", \n  . \"2-8\", \"2-9\", \"20-3\", \"20-7\", \"20-8\", \"21-3\", \"21-4\", \"21-5\", \n  . \"21-6\", \"21-7\", \"21-8\", \"22-3\", \"22-4\", \"22-5\", \"22-6\", \"22-7\", \n  . \"22-8\", \"23-3\", \"23-4\", \"23-5\", \"23-6\", \"23-7\", \"23-8\", \"24-3\", \n  . \"24-4\", \"24-5\", \"24-6\", \"24-7\", \"24-8\", \"25-3\", \"25-4\", \"25-7\", \n  . \"25-8\", \"26-3\", \"26-4\", \"26-5\", \"26-6\", \"26-7\", \"26-8\", \"27-3\", \n  . \"27-7\", \"27-8\", \"28-3\", \"28-7\", \"28-8\", \"29-3\", \"29-7\", \"29-8\", \n  . \"3-3\", \"3-7\", \"3-8\", \"30-3\", \"30-7\", \"30-8\", \"31-3\", \"31-7\", \n  . \"31-8\", \"32-3\", \"32-4\", \"32-5\", \"32-6\", \"32-7\", \"32-8\", \"33-3\", \n  . \"33-4\", \"33-7\", \"33-8\", \"4-3\", \"4-7\", \"4-8\", \"5-3\", \"5-7\", \"5-8\", \n  . \"6-3\", \"6-7\", \"6-8\", \"7-3\", \"7-7\", \"7-8\", \"8-3\", \"8-7\", \"8-8\", \n  . \"9-3\", \"9-4\", \"9-7\", \"9-8\", \"0-0\", \"0-1\", \"0-10\", \"0-11\", \"0-12\", \n  . \"0-13\", \"0-2\", \"0-3\", \"0-4\", \"0-7\", \"0-8\", \"0-9\", \"1-0\", \"1-1\", \n  . \"1-10\", \"1-11\", \"1-12\", \"1-13\", \"1-2\", \"1-3\", \"1-4\", \"1-5\", \"1-6\", \n  . \"1-7\", \"1-8\", \"1-9\", \"10-3\", \"10-4\", \"10-5\", \"10-6\", \"10-7\", \n  . \"10-8\", \"11-3\", \"11-4\", \"11-5\", \"11-6\", \"11-7\", \"11-8\", \"12-3\", \n  . \"12-4\", \"12-5\", \"12-6\", \"12-7\", \"12-8\", \"13-3\", \"13-4\", \"13-5\", \n  . \"13-6\", \"13-7\", \"13-8\", \"14-3\", \"14-7\", \"14-8\", \"15-3\", \"15-7\", \n  . \"15-8\", \"16-3\", \"16-7\", \"16-8\", \"17-3\", \"17-7\", \"17-8\", \"18-3\", \n  . \"18-7\", \"18-8\", \"19-3\", \"19-7\", \"19-8\", \"2-0\", \"2-1\", \"2-10\", \n  . \"2-11\", \"2-12\", \"2-13\", \"2-2\", \"2-3\", \"2-4\", \"2-5\", \"2-6\", \"2-7\", \n  . \"2-8\", \"2-9\", \"20-3\", \"20-7\", \"20-8\", \"21-3\", \"21-4\", \"21-5\", \n  . \"21-6\", \"21-7\", \"21-8\", \"22-3\", \"22-4\", \"22-5\", \"22-6\", \"22-7\", \n  . \"22-8\", \"23-3\", \"23-4\", \"23-5\", \"23-6\", \"23-7\", \"23-8\", \"24-3\", \n  . \"24-4\", \"24-5\", \"24-6\", \"24-7\", \"24-8\", \"25-3\", \"25-4\", \"25-7\", \n  . \"25-8\", \"26-3\", \"26-4\", \"26-5\", \"26-6\", \"26-7\", \"26-8\", \"27-3\", \n  . \"27-7\", \"27-8\", \"28-3\", \"28-7\", \"28-8\", \"29-3\", \"29-7\", \"29-8\", \n  . \"3-3\", \"3-7\", \"3-8\", \"30-3\", \"30-7\", \"30-8\", \"31-3\", \"31-7\", \n  . \"31-8\", \"32-3\", \"32-4\", \"32-5\", \"32-6\", \"32-7\", \"32-8\", \"33-3\", \n  . \"33-4\", \"33-7\", \"33-8\", \"4-3\", \"4-7\", \"4-8\", \"5-3\", \"5-7\", \"5-8\", \n  . \"6-3\", \"6-7\", \"6-8\", \"7-3\", \"7-7\", \"7-8\", \"8-3\", \"8-7\", \"8-8\", \n  . \"9-3\", \"9-4\", \"9-7\", \"9-8\", \"0-0\", \"0-1\", \"0-10\", \"0-11\", \"0-12\", \n  . \"0-13\", \"0-2\", \"0-3\", \"0-4\", \"0-7\", \"0-8\", \"0-9\", \"1-0\", \"1-1\", \n  . \"1-10\", \"1-11\", \"1-12\", \"1-13\", \"1-2\", \"1-3\", \"1-4\", \"1-5\", \"1-6\", \n  . \"1-7\", \"1-8\", \"1-9\", \"10-3\", \"10-4\", \"10-5\", \"10-6\", \"10-7\", \n  . \"10-8\", \"11-3\", \"11-4\", \"11-5\", \"11-6\", \"11-7\", \"11-8\", \"12-3\", \n  . \"12-4\", \"12-5\", \"12-6\", \"12-7\", \"12-8\", \"13-3\", \"13-4\", \"13-5\", \n  . \"13-6\", \"13-7\", \"13-8\", \"14-3\", \"14-7\", \"14-8\", \"15-3\", \"15-7\", \n  . \"15-8\", \"16-3\", \"16-7\", \"16-8\", \"17-3\", \"17-7\", \"17-8\", \"18-3\", \n  . \"18-7\", \"18-8\", \"19-3\", \"19-7\", \"19-8\", \"2-0\", \"2-1\", \"2-10\", \n  . \"2-11\", \"2-12\", \"2-13\", \"2-2\", \"2-3\", \"2-4\", \"2-5\", \"2-6\", \"2-7\", \n  . \"2-8\", \"2-9\", \"20-3\", \"20-7\", \"20-8\", \"21-3\", \"21-4\", \"21-5\", \n  . \"21-6\", \"21-7\", \"21-8\", \"22-3\", \"22-4\", \"22-5\", \"22-6\", \"22-7\", \n  . \"22-8\", \"23-3\", \"23-4\", \"23-5\", \"23-6\", \"23-7\", \"23-8\", \"24-3\", \n  . \"24-4\", \"24-5\", \"24-6\", \"24-7\", \"24-8\", \"25-3\", \"25-4\", \"25-7\", \n  . \"25-8\", \"26-3\", \"26-4\", \"26-5\", \"26-6\", \"26-7\", \"26-8\", \"27-3\", \n  . \"27-7\", \"27-8\", \"28-3\", \"28-7\", \"28-8\", \"29-3\", \"29-7\", \"29-8\", \n  . \"3-3\", \"3-7\", \"3-8\", \"30-3\", \"30-7\", \"30-8\", \"31-3\", \"31-7\", \n  . \"31-8\", \"32-3\", \"32-4\", \"32-5\", \"32-6\", \"32-7\", \"32-8\", \"33-3\", \n  . \"33-4\", \"33-7\", \"33-8\", \"4-3\", \"4-7\", \"4-8\", \"5-3\", \"5-7\", \"5-8\", \n  . \"6-3\", \"6-7\", \"6-8\", \"7-3\", \"7-7\", \"7-8\", \"8-3\", \"8-7\", \"8-8\", \n  . \"9-3\", \"9-4\", \"9-7\", \"9-8\", \"0-0\", \"0-1\", \"0-10\", \"0-11\", \"0-12\", \n  . \"0-13\", \"0-2\", \"0-3\", \"0-4\", \"0-7\", \"0-8\", \"0-9\", \"1-0\", \"1-1\", \n  . \"1-10\", \"1-11\", \"1-12\", \"1-13\", \"1-2\", \"1-3\", \"1-4\", \"1-5\", \"1-6\", \n  . \"1-7\", \"1-8\", \"1-9\", \"10-3\", \"10-4\", \"10-5\", \"10-6\", \"10-7\", \n  . \"10-8\", \"11-3\", \"11-4\", \"11-5\", \"11-6\", \"11-7\", \"11-8\", \"12-3\", \n  . \"12-4\", \"12-5\", \"12-6\", \"12-7\", \"12-8\", \"13-3\", \"13-4\", \"13-5\", \n  . \"13-6\", \"13-7\", \"13-8\", \"14-3\", \"14-7\", \"14-8\", \"15-3\", \"15-7\", \n  . \"15-8\", \"16-3\", \"16-7\", \"16-8\", \"17-3\", \"17-7\", \"17-8\", \"18-3\", \n  . \"18-7\", \"18-8\", \"19-3\", \"19-7\", \"19-8\", \"2-0\", \"2-1\", \"2-10\", \n  . \"2-11\", \"2-12\", \"2-13\", \"2-2\", \"2-3\", \"2-4\", \"2-5\", \"2-6\", \"2-7\", \n  . \"2-8\", \"2-9\", \"20-3\", \"20-7\", \"20-8\", \"21-3\", \"21-4\", \"21-5\", \n  . \"21-6\", \"21-7\", \"21-8\", \"22-3\", \"22-4\", \"22-5\", \"22-6\", \"22-7\", \n  . \"22-8\", \"23-3\", \"23-4\", \"23-5\", \"23-6\", \"23-7\", \"23-8\", \"24-3\", \n  . \"24-4\", \"24-5\", \"24-6\", \"24-7\", \"24-8\", \"25-3\", \"25-4\", \"25-7\", \n  . \"25-8\", \"26-3\", \"26-4\", \"26-5\", \"26-6\", \"26-7\", \"26-8\", \"27-3\", \n  . \"27-7\", \"27-8\", \"28-3\", \"28-7\", \"28-8\", \"29-3\", \"29-7\", \"29-8\", \n  . \"3-3\", \"3-7\", \"3-8\", \"30-3\", \"30-7\", \"30-8\", \"31-3\", \"31-7\", \n  . \"31-8\", \"32-3\", \"32-4\", \"32-5\", \"32-6\", \"32-7\", \"32-8\", \"33-3\", \n  . \"33-4\", \"33-7\", \"33-8\", \"4-3\", \"4-7\", \"4-8\", \"5-3\", \"5-7\", \"5-8\", \n  . \"6-3\", \"6-7\", \"6-8\", \"7-3\", \"7-7\", \"7-8\", \"8-3\", \"8-7\", \"8-8\", \n  . \"9-3\", \"9-4\", \"9-7\", \"9-8\", \"0-0\", \"0-1\", \"0-10\", \"0-11\", \"0-12\", \n  . \"0-13\", \"0-2\", \"0-3\", \"0-4\", \"0-7\", \"0-8\", \"0-9\", \"1-0\", \"1-1\", \n  . \"1-10\", \"1-11\", \"1-12\", \"1-13\", \"1-2\", \"1-3\", \"1-4\", \"1-5\", \"1-6\", \n  . \"1-7\", \"1-8\", \"1-9\", \"10-3\", \"10-4\", \"10-5\", \"10-6\", \"10-7\", \n  . \"10-8\", \"11-3\", \"11-4\", \"11-5\", \"11-6\", \"11-7\", \"11-8\", \"12-3\", \n  . \"12-4\", \"12-5\", \"12-6\", \"12-7\", \"12-8\", \"13-3\", \"13-4\", \"13-5\", \n  . \"13-6\", \"13-7\", \"13-8\", \"14-3\", \"14-7\", \"14-8\", \"15-3\", \"15-7\", \n  . \"15-8\", \"16-3\", \"16-7\", \"16-8\", \"17-3\", \"17-7\", \"17-8\", \"18-3\", \n  . \"18-7\", \"18-8\", \"19-3\", \"19-7\", \"19-8\", \"2-0\", \"2-1\", \"2-10\", \n  . \"2-11\", \"2-12\", \"2-13\", \"2-2\", \"2-3\", \"2-4\", \"2-5\", \"2-6\", \"2-7\", \n  . \"2-8\", \"2-9\", \"20-3\", \"20-7\", \"20-8\", \"21-3\", \"21-4\", \"21-5\", \n  . \"21-6\", \"21-7\", \"21-8\", \"22-3\", \"22-4\", \"22-5\", \"22-6\", \"22-7\", \n  . \"22-8\", \"23-3\", \"23-4\", \"23-5\", \"23-6\", \"23-7\", \"23-8\", \"24-3\", \n  . \"24-4\", \"24-5\", \"24-6\", \"24-7\", \"24-8\", \"25-3\", \"25-4\", \"25-7\", \n  . \"25-8\", \"26-3\", \"26-4\", \"26-5\", \"26-6\", \"26-7\", \"26-8\", \"27-3\", \n  . \"27-7\", \"27-8\", \"28-3\", \"28-7\", \"28-8\", \"29-3\", \"29-7\", \"29-8\", \n  . \"3-3\", \"3-7\", \"3-8\", \"30-3\", \"30-7\", \"30-8\", \"31-3\", \"31-7\", \n  . \"31-8\", \"32-3\", \"32-4\", \"32-5\", \"32-6\", \"32-7\", \"32-8\", \"33-3\", \n  . \"33-4\", \"33-7\", \"33-8\", \"4-3\", \"4-7\", \"4-8\", \"5-3\", \"5-7\", \"5-8\", \n  . \"6-3\", \"6-7\", \"6-8\", \"7-3\", \"7-7\", \"7-8\", \"8-3\", \"8-7\", \"8-8\", \n  . \"9-3\", \"9-4\", \"9-7\", \"9-8\", \"0-0\", \"0-1\", \"0-10\", \"0-11\", \"0-12\", \n  . \"0-13\", \"0-2\", \"0-3\", \"0-4\", \"0-7\", \"0-8\", \"0-9\", \"1-0\", \"1-1\", \n  . \"1-10\", \"1-11\", \"1-12\", \"1-13\", \"1-2\", \"1-3\", \"1-4\", \"1-5\", \"1-6\", \n  . \"1-7\", \"1-8\", \"1-9\", \"10-3\", \"10-4\", \"10-5\", \"10-6\", \"10-7\", \n  . \"10-8\", \"11-3\", \"11-4\", \"11-5\", \"11-6\", \"11-7\", \"11-8\", \"12-3\", \n  . \"12-4\", \"12-5\", \"12-6\", \"12-7\", \"12-8\", \"13-3\", \"13-4\", \"13-5\", \n  . \"13-6\", \"13-7\", \"13-8\", \"14-3\", \"14-7\", \"14-8\", \"15-3\", \"15-7\", \n  . \"15-8\", \"16-3\", \"16-7\", \"16-8\", \"17-3\", \"17-7\", \"17-8\", \"18-3\", \n  . \"18-7\", \"18-8\", \"19-3\", \"19-7\", \"19-8\", \"2-0\", \"2-1\", \"2-10\", \n  . \"2-11\", \"2-12\", \"2-13\", \"2-2\", \"2-3\", \"2-4\", \"2-5\", \"2-6\", \"2-7\", \n  . \"2-8\", \"2-9\", \"20-3\", \"20-7\", \"20-8\", \"21-3\", \"21-4\", \"21-5\", \n  . \"21-6\", \"21-7\", \"21-8\", \"22-3\", \"22-4\", \"22-5\", \"22-6\", \"22-7\", \n  . \"22-8\", \"23-3\", \"23-4\", \"23-5\", \"23-6\", \"23-7\", \"23-8\", \"24-3\", \n  . \"24-4\", \"24-5\", \"24-6\", \"24-7\", \"24-8\", \"25-3\", \"25-4\", \"25-7\", \n  . \"25-8\", \"26-3\", \"26-4\", \"26-5\", \"26-6\", \"26-7\", \"26-8\", \"27-3\", \n  . \"27-7\", \"27-8\", \"28-3\", \"28-7\", \"28-8\", \"29-3\", \"29-7\", \"29-8\", \n  . \"3-3\", \"3-7\", \"3-8\", \"30-3\", \"30-7\", \"30-8\", \"31-3\", \"31-7\", \n  . \"31-8\", \"32-3\", \"32-4\", \"32-5\", \"32-6\", \"32-7\", \"32-8\", \"33-3\", \n  . \"33-4\", \"33-7\", \"33-8\", \"4-3\", \"4-7\", \"4-8\", \"5-3\", \"5-7\", \"5-8\", \n  . \"6-3\", \"6-7\", \"6-8\", \"7-3\", \"7-7\", \"7-8\", \"8-3\", \"8-7\", \"8-8\", \n  . \"9-3\", \"9-4\", \"9-7\", \"9-8\", \"0-0\", \"0-1\", \"0-10\", \"0-11\", \"0-12\", \n  . \"0-13\", \"0-2\", \"0-3\", \"0-4\", \"0-7\", \"0-8\", \"0-9\", \"1-0\", \"1-1\", \n  . \"1-10\", \"1-11\", \"1-12\", \"1-13\", \"1-2\", \"1-3\", \"1-4\", \"1-5\", \"1-6\", \n  . \"1-7\", \"1-8\", \"1-9\", \"10-3\", \"10-4\", \"10-5\", \"10-6\", \"10-7\", \n  . \"10-8\", \"11-3\", \"11-4\", \"11-5\", \"11-6\", \"11-7\", \"11-8\", \"12-3\", \n  . \"12-4\", \"12-5\", \"12-6\", \"12-7\", \"12-8\", \"13-3\", \"13-4\", \"13-5\", \n  . \"13-6\", \"13-7\", \"13-8\", \"14-3\", \"14-7\", \"14-8\", \"15-3\", \"15-7\", \n  . \"15-8\", \"16-3\", \"16-7\", \"16-8\", \"17-3\", \"17-7\", \"17-8\", \"18-3\", \n  . \"18-7\", \"18-8\", \"19-3\", \"19-7\", \"19-8\", \"2-0\", \"2-1\", \"2-10\", \n  . \"2-11\", \"2-12\", \"2-13\", \"2-2\", \"2-3\", \"2-4\", \"2-5\", \"2-6\", \"2-7\", \n  . \"2-8\", \"2-9\", \"20-3\", \"20-7\", \"20-8\", \"21-3\", \"21-4\", \"21-5\", \n  . \"21-6\", \"21-7\", \"21-8\", \"22-3\", \"22-4\", \"22-5\", \"22-6\", \"22-7\", \n  . \"22-8\", \"23-3\", \"23-4\", \"23-5\", \"23-6\", \"23-7\", \"23-8\", \"24-3\", \n  . \"24-4\", \"24-5\", \"24-6\", \"24-7\", \"24-8\", \"25-3\", \"25-4\", \"25-7\", \n  . \"25-8\", \"26-3\", \"26-4\", \"26-5\", \"26-6\", \"26-7\", \"26-8\", \"27-3\", \n  . \"27-7\", \"27-8\", \"28-3\", \"28-7\", \"28-8\", \"29-3\", \"29-7\", \"29-8\", \n  . \"3-3\", \"3-7\", \"3-8\", \"30-3\", \"30-7\", \"30-8\", \"31-3\", \"31-7\", \n  . \"31-8\", \"32-3\", \"32-4\", \"32-5\", \"32-6\", \"32-7\", \"32-8\", \"33-3\", \n  . \"33-4\", \"33-7\", \"33-8\", \"4-3\", \"4-7\", \"4-8\", \"5-3\", \"5-7\", \"5-8\", \n  . \"6-3\", \"6-7\", \"6-8\", \"7-3\", \"7-7\", \"7-8\", \"8-3\", \"8-7\", \"8-8\", \n  . \"9-3\", \"9-4\", \"9-7\", \"9-8\")), function (x) \n  . FUN(data[x, , drop = FALSE], ...), simplify = TRUE)",
      "14. lapply(X = ans[index], FUN = FUN, ...)",
      "15. FUN(X[[i]], ...)",
      "16. FUN(data[x, , drop = FALSE], ...)",
      "17. matrix(avgSS, nrow = 1, ncol = 7, dimnames = list(ans$posXY, \n  .     names(avgSS)))   # at line 11-13 of file <text>"
     ]
    }
   ],
   "source": [
    "predXY = function(newSignals, newAngles, trainData, \n",
    "                  numAngles = 1, k = 3){\n",
    "  \n",
    "  closeXY = list(length = nrow(newSignals))\n",
    "  \n",
    "  for (i in 1:nrow(newSignals)) {\n",
    "    trainSS = selectTrain(newAngles[i], trainData, m = numAngles)\n",
    "    closeXY[[i]] = \n",
    "      findNN(newSignal = as.numeric(newSignals[i, ]), trainSS)\n",
    "  }\n",
    "\n",
    "  estXY = lapply(closeXY, \n",
    "                 function(x) sapply(x[ , 2:3], \n",
    "                                    function(x) mean(x[1:k])))\n",
    "  estXY = do.call(\"rbind\", estXY)\n",
    "  return(estXY)\n",
    "}\n",
    "estXYkRedo = predXY(newSignals = onlineSummaryRedo[ , 6:11], \n",
    "                 newAngles = onlineSummaryRedo[ , 4], \n",
    "                 offlineSummaryRedo, numAngles = 3, k = 6)\n",
    "\n",
    "estXYknew = predXY(newSignals = onlineSummarynew[ , 6:11], \n",
    "                 newAngles = onlineSummarynew[ , 4], \n",
    "                 offlineSummarynew, numAngles = 3, k = 6)\n",
    "                                    \n",
    "estXYkBoth = predXY(newSignals = onlineSummaryBoth[ , 6:11], \n",
    "                 newAngles = onlineSummaryBoth[ , 4], \n",
    "                 offlineSummaryBoth, numAngles = 3, k = 6)"
   ]
  },
  {
   "cell_type": "markdown",
   "metadata": {},
   "source": [
    "# Predictions of the new locations."
   ]
  },
  {
   "cell_type": "markdown",
   "metadata": {},
   "source": [
    "# Mapping Not Used"
   ]
  },
  {
   "cell_type": "code",
   "execution_count": 41,
   "metadata": {},
   "outputs": [],
   "source": [
    "floorErrorMap = function(estXY, actualXY, trainPoints = NULL, AP = NULL){\n",
    "  \n",
    "    plot(0, 0, xlim = c(0, 35), ylim = c(-3, 15), type = \"n\",\n",
    "         xlab = \"\", ylab = \"\", axes = FALSE)\n",
    "    box()\n",
    "    if ( !is.null(AP) ) points(AP, pch = 15)\n",
    "    if ( !is.null(trainPoints) )\n",
    "      points(trainPoints, pch = 19, col=\"grey\", cex = 0.6)\n",
    "    \n",
    "    points(x = actualXY[, 1], y = actualXY[, 2], \n",
    "           pch = 19, cex = 0.8 )\n",
    "    points(x = estXY[, 1], y = estXY[, 2], \n",
    "           pch = 8, cex = 0.8 )\n",
    "    segments(x0 = estXY[, 1], y0 = estXY[, 2],\n",
    "             x1 = actualXY[, 1], y1 = actualXY[ , 2],\n",
    "             lwd = 2, col = \"red\")\n",
    "}"
   ]
  },
  {
   "cell_type": "code",
   "execution_count": 42,
   "metadata": {},
   "outputs": [
    {
     "data": {
      "text/html": [
       "<strong>null device:</strong> 1"
      ],
      "text/latex": [
       "\\textbf{null device:} 1"
      ],
      "text/markdown": [
       "**null device:** 1"
      ],
      "text/plain": [
       "null device \n",
       "          1 "
      ]
     },
     "metadata": {},
     "output_type": "display_data"
    },
    {
     "data": {
      "image/png": "[encoded data removed]",
      "text/plain": [
       "plot without title"
      ]
     },
     "metadata": {},
     "output_type": "display_data"
    }
   ],
   "source": [
    "trainPoints = offlineSummary[ offlineSummary$angle == 0 & \n",
    "                              offlineSummary$mac == \"00:0f:a3:39:e1:c0\" ,\n",
    "                        c(\"posX\", \"posY\")]\n",
    "\n",
    "#pdf(file=\"GEO_FloorPlanK3Errors.pdf\", width = 10, height = 7)\n",
    "oldPar = par(mar = c(1, 1, 1, 1))\n",
    "floorErrorMap(estXYk3, onlineSummary[ , c(\"posX\",\"posY\")], \n",
    "              trainPoints = trainPoints, AP = AP)\n",
    "par(oldPar)\n",
    "dev.off()"
   ]
  },
  {
   "cell_type": "code",
   "execution_count": 43,
   "metadata": {
    "scrolled": false
   },
   "outputs": [
    {
     "data": {
      "text/html": [
       "<strong>null device:</strong> 1"
      ],
      "text/latex": [
       "\\textbf{null device:} 1"
      ],
      "text/markdown": [
       "**null device:** 1"
      ],
      "text/plain": [
       "null device \n",
       "          1 "
      ]
     },
     "metadata": {},
     "output_type": "display_data"
    },
    {
     "data": {
      "image/png": "[encoded data removed]",
      "text/plain": [
       "plot without title"
      ]
     },
     "metadata": {},
     "output_type": "display_data"
    }
   ],
   "source": [
    "#pdf(file=\"GEO_FloorPlanK1Errors.pdf\", width = 10, height = 7)\n",
    "oldPar = par(mar = c(1, 1, 1, 1))\n",
    "floorErrorMap(estXYk1, onlineSummary[ , c(\"posX\",\"posY\")], \n",
    "              trainPoints = trainPoints, AP = AP)\n",
    "par(oldPar)\n",
    "dev.off()"
   ]
  },
  {
   "cell_type": "markdown",
   "metadata": {},
   "source": [
    "# Mapping of the error of the locations - NOT Used"
   ]
  },
  {
   "cell_type": "code",
   "execution_count": 131,
   "metadata": {},
   "outputs": [
    {
     "data": {
      "text/html": [
       "<ol class=list-inline>\n",
       "\t<li>272.409188888889</li>\n",
       "\t<li>11996155.8240088</li>\n",
       "</ol>\n"
      ],
      "text/latex": [
       "\\begin{enumerate*}\n",
       "\\item 272.409188888889\n",
       "\\item 11996155.8240088\n",
       "\\end{enumerate*}\n"
      ],
      "text/markdown": [
       "1. 272.409188888889\n",
       "2. 11996155.8240088\n",
       "\n",
       "\n"
      ],
      "text/plain": [
       "[1] 2.7e+02 1.2e+07"
      ]
     },
     "metadata": {},
     "output_type": "display_data"
    },
    {
     "data": {
      "text/html": [
       "<ol class=list-inline>\n",
       "\t<li>252.336966666667</li>\n",
       "\t<li>11876041.6171001</li>\n",
       "</ol>\n"
      ],
      "text/latex": [
       "\\begin{enumerate*}\n",
       "\\item 252.336966666667\n",
       "\\item 11876041.6171001\n",
       "\\end{enumerate*}\n"
      ],
      "text/markdown": [
       "1. 252.336966666667\n",
       "2. 11876041.6171001\n",
       "\n",
       "\n"
      ],
      "text/plain": [
       "[1] 2.5e+02 1.2e+07"
      ]
     },
     "metadata": {},
     "output_type": "display_data"
    },
    {
     "data": {
      "text/html": [
       "<ol class=list-inline>\n",
       "\t<li>229.794744444444</li>\n",
       "\t<li>11963938.4746602</li>\n",
       "</ol>\n"
      ],
      "text/latex": [
       "\\begin{enumerate*}\n",
       "\\item 229.794744444444\n",
       "\\item 11963938.4746602\n",
       "\\end{enumerate*}\n"
      ],
      "text/markdown": [
       "1. 229.794744444444\n",
       "2. 11963938.4746602\n",
       "\n",
       "\n"
      ],
      "text/plain": [
       "[1] 2.3e+02 1.2e+07"
      ]
     },
     "metadata": {},
     "output_type": "display_data"
    }
   ],
   "source": [
    "calcError = \n",
    "function(estXY, actualXY) \n",
    "   sum( rowSums( (estXY - actualXY)^2) )\n",
    "\n",
    "actualXYRedo = onlineSummaryRedo[ , c(\"posX\", \"posY\")]\n",
    "sapply(list(estXYkRedo,estXYkRedoalt), calcError, actualXYRedo)\n",
    "actualXYnew = onlineSummarynew[ , c(\"posX\", \"posY\")]\n",
    "sapply(list(estXYknew,estXYknewalt), calcError, actualXYnew)\n",
    "actualXYBoth = onlineSummaryBoth[ , c(\"posX\", \"posY\")]\n",
    "sapply(list(estXYkBoth,estXYkBothalt), calcError, actualXYBoth)\n",
    "\n",
    "#sapply(estXYkRedoalt, calcError, actualXY)\n"
   ]
  },
  {
   "cell_type": "code",
   "execution_count": 309,
   "metadata": {},
   "outputs": [
    {
     "data": {
      "text/html": [
       "<ol class=list-inline>\n",
       "\t<li>272.409188888889</li>\n",
       "\t<li>252.336966666667</li>\n",
       "\t<li>229.794744444444</li>\n",
       "</ol>\n"
      ],
      "text/latex": [
       "\\begin{enumerate*}\n",
       "\\item 272.409188888889\n",
       "\\item 252.336966666667\n",
       "\\item 229.794744444444\n",
       "\\end{enumerate*}\n"
      ],
      "text/markdown": [
       "1. 272.409188888889\n",
       "2. 252.336966666667\n",
       "3. 229.794744444444\n",
       "\n",
       "\n"
      ],
      "text/plain": [
       "[1] 272 252 230"
      ]
     },
     "metadata": {},
     "output_type": "display_data"
    },
    {
     "data": {
      "text/html": [
       "<ol class=list-inline>\n",
       "\t<li>13848311.1103251</li>\n",
       "\t<li>13709588.9678387</li>\n",
       "\t<li>13805127.1766327</li>\n",
       "</ol>\n"
      ],
      "text/latex": [
       "\\begin{enumerate*}\n",
       "\\item 13848311.1103251\n",
       "\\item 13709588.9678387\n",
       "\\item 13805127.1766327\n",
       "\\end{enumerate*}\n"
      ],
      "text/markdown": [
       "1. 13848311.1103251\n",
       "2. 13709588.9678387\n",
       "3. 13805127.1766327\n",
       "\n",
       "\n"
      ],
      "text/plain": [
       "[1] 1.4e+07 1.4e+07 1.4e+07"
      ]
     },
     "metadata": {},
     "output_type": "display_data"
    },
    {
     "data": {
      "text/html": [
       "<ol class=list-inline>\n",
       "\t<li>20275.8067515375</li>\n",
       "\t<li>20273.8081927892</li>\n",
       "\t<li>20275.8067565341</li>\n",
       "\t<li>104119.794195803</li>\n",
       "\t<li>20276.806121637</li>\n",
       "\t<li>20273.8081927892</li>\n",
       "\t<li>20275.8067515375</li>\n",
       "\t<li>20276.4729922901</li>\n",
       "\t<li>20275.8067515375</li>\n",
       "\t<li>20273.8081861278</li>\n",
       "\t<li>20276.4729900692</li>\n",
       "\t<li>20273.8082327572</li>\n",
       "\t<li>20273.8082127733</li>\n",
       "\t<li>20273.8081761356</li>\n",
       "\t<li>5921149.79936389</li>\n",
       "\t<li>8003940.43836463</li>\n",
       "\t<li>11120507.0361409</li>\n",
       "\t<li>9865502.58981901</li>\n",
       "\t<li>12611496.8078959</li>\n",
       "\t<li>7078155.75043859</li>\n",
       "\t<li>8892867.68704473</li>\n",
       "\t<li>14818026.6061162</li>\n",
       "\t<li>13979791.9299357</li>\n",
       "\t<li>9768462.61122912</li>\n",
       "\t<li>10846882.910297</li>\n",
       "\t<li>28941134.5502492</li>\n",
       "\t<li>37070868.3770021</li>\n",
       "\t<li>20275.8067448752</li>\n",
       "\t<li>127004.322688139</li>\n",
       "\t<li>49496386.1778478</li>\n",
       "\t<li>46947989.1468884</li>\n",
       "\t<li>47076074.1493415</li>\n",
       "\t<li>48971187.9539031</li>\n",
       "\t<li>54689336.8953305</li>\n",
       "\t<li>46617770.9029207</li>\n",
       "\t<li>49618896.8448489</li>\n",
       "\t<li>49529940.9402981</li>\n",
       "\t<li>34642382.6173278</li>\n",
       "\t<li>42141928.1293415</li>\n",
       "\t<li>50019332.1835715</li>\n",
       "\t<li>39906121.6893318</li>\n",
       "\t<li>49967939.3825414</li>\n",
       "\t<li>55980308.0179466</li>\n",
       "\t<li>64650841.7025954</li>\n",
       "\t<li>54489341.3700077</li>\n",
       "\t<li>58787569.8529107</li>\n",
       "\t<li>49909937.5385804</li>\n",
       "\t<li>80240539.1135488</li>\n",
       "\t<li>1112342.13543453</li>\n",
       "\t<li>87952974.7647348</li>\n",
       "\t<li>65557520.6856152</li>\n",
       "\t<li>91824888.9709773</li>\n",
       "\t<li>73207980.5047922</li>\n",
       "\t<li>20273.8081241756</li>\n",
       "\t<li>1862278.32613575</li>\n",
       "\t<li>3490638.6482044</li>\n",
       "\t<li>9353148.83551804</li>\n",
       "\t<li>9380811.83344653</li>\n",
       "\t<li>10501834.952829</li>\n",
       "\t<li>10652464.9792236</li>\n",
       "\t<li>182219.161079243</li>\n",
       "\t<li>13067419.1129565</li>\n",
       "\t<li>11237945.5727824</li>\n",
       "\t<li>20273.8080732938</li>\n",
       "\t<li>8319998.69030258</li>\n",
       "\t<li>11881258.221565</li>\n",
       "\t<li>10910657.7674371</li>\n",
       "\t<li>20273.8081561512</li>\n",
       "\t<li>2107046.57757157</li>\n",
       "\t<li>7249357.18959749</li>\n",
       "\t<li>1906781.45325997</li>\n",
       "\t<li>802171.645764725</li>\n",
       "\t<li>20276.4729909576</li>\n",
       "\t<li>4643708.15847012</li>\n",
       "\t<li>4643708.15847012</li>\n",
       "\t<li>1762071.23703981</li>\n",
       "\t<li>786037.124137145</li>\n",
       "\t<li>1498164.62969776</li>\n",
       "\t<li>2207102.11344713</li>\n",
       "\t<li>4019351.47605987</li>\n",
       "\t<li>1843116.5981788</li>\n",
       "\t<li>970833.25005618</li>\n",
       "\t<li>4434294.41196896</li>\n",
       "\t<li>3938613.29962983</li>\n",
       "\t<li>1624070.16950758</li>\n",
       "\t<li>4643708.15847012</li>\n",
       "\t<li>4643708.15847012</li>\n",
       "\t<li>3638113.98258759</li>\n",
       "\t<li>1181289.14988728</li>\n",
       "\t<li>1602063.06938182</li>\n",
       "\t<li>786037.124137145</li>\n",
       "\t<li>4175796.85286911</li>\n",
       "\t<li>2626139.62068484</li>\n",
       "\t<li>2411910.76731779</li>\n",
       "\t<li>2503893.03623401</li>\n",
       "\t<li>1595853.90266564</li>\n",
       "\t<li>1862278.32613575</li>\n",
       "\t<li>898422.062606269</li>\n",
       "\t<li>786037.124137145</li>\n",
       "\t<li>970833.071641888</li>\n",
       "\t<li>1123542.2339357</li>\n",
       "\t<li>1716557.75419212</li>\n",
       "\t<li>4114596.64720909</li>\n",
       "\t<li>4867815.90617959</li>\n",
       "\t<li>4643708.15847012</li>\n",
       "\t<li>2683969.90394393</li>\n",
       "\t<li>2819231.42108462</li>\n",
       "\t<li>4643708.15847012</li>\n",
       "\t<li>4434294.41196896</li>\n",
       "\t<li>2964553.14531414</li>\n",
       "\t<li>4175796.85286911</li>\n",
       "\t<li>3568192.0847554</li>\n",
       "\t<li>3996039.97346755</li>\n",
       "\t<li>2580339.13764927</li>\n",
       "\t<li>1975043.06700546</li>\n",
       "\t<li>3080747.16802645</li>\n",
       "\t<li>2716893.33600016</li>\n",
       "\t<li>3137230.80187539</li>\n",
       "\t<li>4434294.41196896</li>\n",
       "\t<li>835864.157915403</li>\n",
       "</ol>\n"
      ],
      "text/latex": [
       "\\begin{enumerate*}\n",
       "\\item 20275.8067515375\n",
       "\\item 20273.8081927892\n",
       "\\item 20275.8067565341\n",
       "\\item 104119.794195803\n",
       "\\item 20276.806121637\n",
       "\\item 20273.8081927892\n",
       "\\item 20275.8067515375\n",
       "\\item 20276.4729922901\n",
       "\\item 20275.8067515375\n",
       "\\item 20273.8081861278\n",
       "\\item 20276.4729900692\n",
       "\\item 20273.8082327572\n",
       "\\item 20273.8082127733\n",
       "\\item 20273.8081761356\n",
       "\\item 5921149.79936389\n",
       "\\item 8003940.43836463\n",
       "\\item 11120507.0361409\n",
       "\\item 9865502.58981901\n",
       "\\item 12611496.8078959\n",
       "\\item 7078155.75043859\n",
       "\\item 8892867.68704473\n",
       "\\item 14818026.6061162\n",
       "\\item 13979791.9299357\n",
       "\\item 9768462.61122912\n",
       "\\item 10846882.910297\n",
       "\\item 28941134.5502492\n",
       "\\item 37070868.3770021\n",
       "\\item 20275.8067448752\n",
       "\\item 127004.322688139\n",
       "\\item 49496386.1778478\n",
       "\\item 46947989.1468884\n",
       "\\item 47076074.1493415\n",
       "\\item 48971187.9539031\n",
       "\\item 54689336.8953305\n",
       "\\item 46617770.9029207\n",
       "\\item 49618896.8448489\n",
       "\\item 49529940.9402981\n",
       "\\item 34642382.6173278\n",
       "\\item 42141928.1293415\n",
       "\\item 50019332.1835715\n",
       "\\item 39906121.6893318\n",
       "\\item 49967939.3825414\n",
       "\\item 55980308.0179466\n",
       "\\item 64650841.7025954\n",
       "\\item 54489341.3700077\n",
       "\\item 58787569.8529107\n",
       "\\item 49909937.5385804\n",
       "\\item 80240539.1135488\n",
       "\\item 1112342.13543453\n",
       "\\item 87952974.7647348\n",
       "\\item 65557520.6856152\n",
       "\\item 91824888.9709773\n",
       "\\item 73207980.5047922\n",
       "\\item 20273.8081241756\n",
       "\\item 1862278.32613575\n",
       "\\item 3490638.6482044\n",
       "\\item 9353148.83551804\n",
       "\\item 9380811.83344653\n",
       "\\item 10501834.952829\n",
       "\\item 10652464.9792236\n",
       "\\item 182219.161079243\n",
       "\\item 13067419.1129565\n",
       "\\item 11237945.5727824\n",
       "\\item 20273.8080732938\n",
       "\\item 8319998.69030258\n",
       "\\item 11881258.221565\n",
       "\\item 10910657.7674371\n",
       "\\item 20273.8081561512\n",
       "\\item 2107046.57757157\n",
       "\\item 7249357.18959749\n",
       "\\item 1906781.45325997\n",
       "\\item 802171.645764725\n",
       "\\item 20276.4729909576\n",
       "\\item 4643708.15847012\n",
       "\\item 4643708.15847012\n",
       "\\item 1762071.23703981\n",
       "\\item 786037.124137145\n",
       "\\item 1498164.62969776\n",
       "\\item 2207102.11344713\n",
       "\\item 4019351.47605987\n",
       "\\item 1843116.5981788\n",
       "\\item 970833.25005618\n",
       "\\item 4434294.41196896\n",
       "\\item 3938613.29962983\n",
       "\\item 1624070.16950758\n",
       "\\item 4643708.15847012\n",
       "\\item 4643708.15847012\n",
       "\\item 3638113.98258759\n",
       "\\item 1181289.14988728\n",
       "\\item 1602063.06938182\n",
       "\\item 786037.124137145\n",
       "\\item 4175796.85286911\n",
       "\\item 2626139.62068484\n",
       "\\item 2411910.76731779\n",
       "\\item 2503893.03623401\n",
       "\\item 1595853.90266564\n",
       "\\item 1862278.32613575\n",
       "\\item 898422.062606269\n",
       "\\item 786037.124137145\n",
       "\\item 970833.071641888\n",
       "\\item 1123542.2339357\n",
       "\\item 1716557.75419212\n",
       "\\item 4114596.64720909\n",
       "\\item 4867815.90617959\n",
       "\\item 4643708.15847012\n",
       "\\item 2683969.90394393\n",
       "\\item 2819231.42108462\n",
       "\\item 4643708.15847012\n",
       "\\item 4434294.41196896\n",
       "\\item 2964553.14531414\n",
       "\\item 4175796.85286911\n",
       "\\item 3568192.0847554\n",
       "\\item 3996039.97346755\n",
       "\\item 2580339.13764927\n",
       "\\item 1975043.06700546\n",
       "\\item 3080747.16802645\n",
       "\\item 2716893.33600016\n",
       "\\item 3137230.80187539\n",
       "\\item 4434294.41196896\n",
       "\\item 835864.157915403\n",
       "\\end{enumerate*}\n"
      ],
      "text/markdown": [
       "1. 20275.8067515375\n",
       "2. 20273.8081927892\n",
       "3. 20275.8067565341\n",
       "4. 104119.794195803\n",
       "5. 20276.806121637\n",
       "6. 20273.8081927892\n",
       "7. 20275.8067515375\n",
       "8. 20276.4729922901\n",
       "9. 20275.8067515375\n",
       "10. 20273.8081861278\n",
       "11. 20276.4729900692\n",
       "12. 20273.8082327572\n",
       "13. 20273.8082127733\n",
       "14. 20273.8081761356\n",
       "15. 5921149.79936389\n",
       "16. 8003940.43836463\n",
       "17. 11120507.0361409\n",
       "18. 9865502.58981901\n",
       "19. 12611496.8078959\n",
       "20. 7078155.75043859\n",
       "21. 8892867.68704473\n",
       "22. 14818026.6061162\n",
       "23. 13979791.9299357\n",
       "24. 9768462.61122912\n",
       "25. 10846882.910297\n",
       "26. 28941134.5502492\n",
       "27. 37070868.3770021\n",
       "28. 20275.8067448752\n",
       "29. 127004.322688139\n",
       "30. 49496386.1778478\n",
       "31. 46947989.1468884\n",
       "32. 47076074.1493415\n",
       "33. 48971187.9539031\n",
       "34. 54689336.8953305\n",
       "35. 46617770.9029207\n",
       "36. 49618896.8448489\n",
       "37. 49529940.9402981\n",
       "38. 34642382.6173278\n",
       "39. 42141928.1293415\n",
       "40. 50019332.1835715\n",
       "41. 39906121.6893318\n",
       "42. 49967939.3825414\n",
       "43. 55980308.0179466\n",
       "44. 64650841.7025954\n",
       "45. 54489341.3700077\n",
       "46. 58787569.8529107\n",
       "47. 49909937.5385804\n",
       "48. 80240539.1135488\n",
       "49. 1112342.13543453\n",
       "50. 87952974.7647348\n",
       "51. 65557520.6856152\n",
       "52. 91824888.9709773\n",
       "53. 73207980.5047922\n",
       "54. 20273.8081241756\n",
       "55. 1862278.32613575\n",
       "56. 3490638.6482044\n",
       "57. 9353148.83551804\n",
       "58. 9380811.83344653\n",
       "59. 10501834.952829\n",
       "60. 10652464.9792236\n",
       "61. 182219.161079243\n",
       "62. 13067419.1129565\n",
       "63. 11237945.5727824\n",
       "64. 20273.8080732938\n",
       "65. 8319998.69030258\n",
       "66. 11881258.221565\n",
       "67. 10910657.7674371\n",
       "68. 20273.8081561512\n",
       "69. 2107046.57757157\n",
       "70. 7249357.18959749\n",
       "71. 1906781.45325997\n",
       "72. 802171.645764725\n",
       "73. 20276.4729909576\n",
       "74. 4643708.15847012\n",
       "75. 4643708.15847012\n",
       "76. 1762071.23703981\n",
       "77. 786037.124137145\n",
       "78. 1498164.62969776\n",
       "79. 2207102.11344713\n",
       "80. 4019351.47605987\n",
       "81. 1843116.5981788\n",
       "82. 970833.25005618\n",
       "83. 4434294.41196896\n",
       "84. 3938613.29962983\n",
       "85. 1624070.16950758\n",
       "86. 4643708.15847012\n",
       "87. 4643708.15847012\n",
       "88. 3638113.98258759\n",
       "89. 1181289.14988728\n",
       "90. 1602063.06938182\n",
       "91. 786037.124137145\n",
       "92. 4175796.85286911\n",
       "93. 2626139.62068484\n",
       "94. 2411910.76731779\n",
       "95. 2503893.03623401\n",
       "96. 1595853.90266564\n",
       "97. 1862278.32613575\n",
       "98. 898422.062606269\n",
       "99. 786037.124137145\n",
       "100. 970833.071641888\n",
       "101. 1123542.2339357\n",
       "102. 1716557.75419212\n",
       "103. 4114596.64720909\n",
       "104. 4867815.90617959\n",
       "105. 4643708.15847012\n",
       "106. 2683969.90394393\n",
       "107. 2819231.42108462\n",
       "108. 4643708.15847012\n",
       "109. 4434294.41196896\n",
       "110. 2964553.14531414\n",
       "111. 4175796.85286911\n",
       "112. 3568192.0847554\n",
       "113. 3996039.97346755\n",
       "114. 2580339.13764927\n",
       "115. 1975043.06700546\n",
       "116. 3080747.16802645\n",
       "117. 2716893.33600016\n",
       "118. 3137230.80187539\n",
       "119. 4434294.41196896\n",
       "120. 835864.157915403\n",
       "\n",
       "\n"
      ],
      "text/plain": [
       "  [1] 2.0e+04 2.0e+04 2.0e+04 1.0e+05 2.0e+04 2.0e+04 2.0e+04 2.0e+04 2.0e+04\n",
       " [10] 2.0e+04 2.0e+04 2.0e+04 2.0e+04 2.0e+04 5.9e+06 8.0e+06 1.1e+07 9.9e+06\n",
       " [19] 1.3e+07 7.1e+06 8.9e+06 1.5e+07 1.4e+07 9.8e+06 1.1e+07 2.9e+07 3.7e+07\n",
       " [28] 2.0e+04 1.3e+05 4.9e+07 4.7e+07 4.7e+07 4.9e+07 5.5e+07 4.7e+07 5.0e+07\n",
       " [37] 5.0e+07 3.5e+07 4.2e+07 5.0e+07 4.0e+07 5.0e+07 5.6e+07 6.5e+07 5.4e+07\n",
       " [46] 5.9e+07 5.0e+07 8.0e+07 1.1e+06 8.8e+07 6.6e+07 9.2e+07 7.3e+07 2.0e+04\n",
       " [55] 1.9e+06 3.5e+06 9.4e+06 9.4e+06 1.1e+07 1.1e+07 1.8e+05 1.3e+07 1.1e+07\n",
       " [64] 2.0e+04 8.3e+06 1.2e+07 1.1e+07 2.0e+04 2.1e+06 7.2e+06 1.9e+06 8.0e+05\n",
       " [73] 2.0e+04 4.6e+06 4.6e+06 1.8e+06 7.9e+05 1.5e+06 2.2e+06 4.0e+06 1.8e+06\n",
       " [82] 9.7e+05 4.4e+06 3.9e+06 1.6e+06 4.6e+06 4.6e+06 3.6e+06 1.2e+06 1.6e+06\n",
       " [91] 7.9e+05 4.2e+06 2.6e+06 2.4e+06 2.5e+06 1.6e+06 1.9e+06 9.0e+05 7.9e+05\n",
       "[100] 9.7e+05 1.1e+06 1.7e+06 4.1e+06 4.9e+06 4.6e+06 2.7e+06 2.8e+06 4.6e+06\n",
       "[109] 4.4e+06 3.0e+06 4.2e+06 3.6e+06 4.0e+06 2.6e+06 2.0e+06 3.1e+06 2.7e+06\n",
       "[118] 3.1e+06 4.4e+06 8.4e+05"
      ]
     },
     "metadata": {},
     "output_type": "display_data"
    },
    {
     "data": {
      "text/html": [
       "<ol class=list-inline>\n",
       "\t<li>19994.9480762267</li>\n",
       "\t<li>19994.9480960669</li>\n",
       "\t<li>19996.9322540601</li>\n",
       "\t<li>72888.1830842398</li>\n",
       "\t<li>19997.9244272947</li>\n",
       "\t<li>19996.9322490994</li>\n",
       "\t<li>19997.5936944324</li>\n",
       "\t<li>19996.9322540601</li>\n",
       "\t<li>19994.9480663064</li>\n",
       "\t<li>19994.9480696132</li>\n",
       "\t<li>19997.5936944324</li>\n",
       "\t<li>19996.9322490994</li>\n",
       "\t<li>19994.9480960669</li>\n",
       "\t<li>19994.9480596929</li>\n",
       "\t<li>5292991.21905185</li>\n",
       "\t<li>10111962.0415244</li>\n",
       "\t<li>12726588.8530044</li>\n",
       "\t<li>9288900.78757152</li>\n",
       "\t<li>10915777.4226273</li>\n",
       "\t<li>11585141.9129499</li>\n",
       "\t<li>11092806.9982534</li>\n",
       "\t<li>12257981.5975771</li>\n",
       "\t<li>9546794.20112417</li>\n",
       "\t<li>11211348.6041499</li>\n",
       "\t<li>13500650.145382</li>\n",
       "\t<li>23956604.9317294</li>\n",
       "\t<li>37428664.4895548</li>\n",
       "\t<li>19996.9322424852</li>\n",
       "\t<li>141492.79227102</li>\n",
       "\t<li>48663268.820346</li>\n",
       "\t<li>49401431.4346169</li>\n",
       "\t<li>41608542.3570043</li>\n",
       "\t<li>51549512.5618314</li>\n",
       "\t<li>37215691.4666841</li>\n",
       "\t<li>46628468.5678579</li>\n",
       "\t<li>45178396.3827778</li>\n",
       "\t<li>50297284.5869744</li>\n",
       "\t<li>43886191.0768351</li>\n",
       "\t<li>26320031.3920788</li>\n",
       "\t<li>50030417.0945263</li>\n",
       "\t<li>50857423.6991422</li>\n",
       "\t<li>49979018.5425143</li>\n",
       "\t<li>55992041.0365503</li>\n",
       "\t<li>55447181.3360507</li>\n",
       "\t<li>56954826.5080994</li>\n",
       "\t<li>58799596.1044317</li>\n",
       "\t<li>50654468.6698194</li>\n",
       "\t<li>83976306.5331562</li>\n",
       "\t<li>1952170.03936175</li>\n",
       "\t<li>88853601.981993</li>\n",
       "\t<li>65614721.1239533</li>\n",
       "\t<li>92846112.1106278</li>\n",
       "\t<li>82411904.5878235</li>\n",
       "\t<li>19994.9479862815</li>\n",
       "\t<li>1619641.49327798</li>\n",
       "\t<li>2542103.99301105</li>\n",
       "\t<li>5931754.75463622</li>\n",
       "\t<li>8675957.30481139</li>\n",
       "\t<li>10108292.2488119</li>\n",
       "\t<li>9773301.01871503</li>\n",
       "\t<li>624602.508830031</li>\n",
       "\t<li>11585141.9129499</li>\n",
       "\t<li>10915777.4226273</li>\n",
       "\t<li>19994.947955497</li>\n",
       "\t<li>8928763.30138173</li>\n",
       "\t<li>10851987.262185</li>\n",
       "\t<li>11243143.0684924</li>\n",
       "\t<li>19994.9480378682</li>\n",
       "\t<li>4623031.6700812</li>\n",
       "\t<li>7518431.89930208</li>\n",
       "\t<li>1656016.90213847</li>\n",
       "\t<li>408892.43761543</li>\n",
       "\t<li>19996.9322386819</li>\n",
       "\t<li>4647009.95587958</li>\n",
       "\t<li>4871199.08271213</li>\n",
       "\t<li>1582358.24000129</li>\n",
       "\t<li>787327.694668531</li>\n",
       "\t<li>1603955.75805655</li>\n",
       "\t<li>2046068.53276883</li>\n",
       "\t<li>3036138.75103398</li>\n",
       "\t<li>1625976.97258552</li>\n",
       "\t<li>1088352.08399511</li>\n",
       "\t<li>4437518.36847347</li>\n",
       "\t<li>4647009.95587958</li>\n",
       "\t<li>1872076.33357035</li>\n",
       "\t<li>4647009.95587958</li>\n",
       "\t<li>4241476.93389588</li>\n",
       "\t<li>3641023.70022327</li>\n",
       "\t<li>1113234.74607344</li>\n",
       "\t<li>972280.766202624</li>\n",
       "\t<li>787327.694668531</li>\n",
       "\t<li>4117698.1268349</li>\n",
       "\t<li>2679933.58782524</li>\n",
       "\t<li>3852187.15288989</li>\n",
       "\t<li>2726049.55310268</li>\n",
       "\t<li>2857147.10530282</li>\n",
       "\t<li>1039688.45689736</li>\n",
       "\t<li>1125108.13842976</li>\n",
       "\t<li>713050.602290545</li>\n",
       "\t<li>972280.587644466</li>\n",
       "\t<li>1268578.3485401</li>\n",
       "\t<li>2072801.37392006</li>\n",
       "\t<li>4117698.1268349</li>\n",
       "\t<li>4370734.58936116</li>\n",
       "\t<li>4871199.08271213</li>\n",
       "\t<li>3522293.03160342</li>\n",
       "\t<li>1923588.99499745</li>\n",
       "\t<li>1552217.17054217</li>\n",
       "\t<li>4437518.36847347</li>\n",
       "\t<li>2305913.59655894</li>\n",
       "\t<li>2719393.34270057</li>\n",
       "\t<li>3139924.8087305</li>\n",
       "\t<li>4241476.93389588</li>\n",
       "\t<li>2093942.14641639</li>\n",
       "\t<li>1915533.63701017</li>\n",
       "\t<li>2041663.20951086</li>\n",
       "\t<li>4647009.95587958</li>\n",
       "\t<li>4370734.58936116</li>\n",
       "\t<li>4647009.95587958</li>\n",
       "\t<li>1039688.45689736</li>\n",
       "</ol>\n"
      ],
      "text/latex": [
       "\\begin{enumerate*}\n",
       "\\item 19994.9480762267\n",
       "\\item 19994.9480960669\n",
       "\\item 19996.9322540601\n",
       "\\item 72888.1830842398\n",
       "\\item 19997.9244272947\n",
       "\\item 19996.9322490994\n",
       "\\item 19997.5936944324\n",
       "\\item 19996.9322540601\n",
       "\\item 19994.9480663064\n",
       "\\item 19994.9480696132\n",
       "\\item 19997.5936944324\n",
       "\\item 19996.9322490994\n",
       "\\item 19994.9480960669\n",
       "\\item 19994.9480596929\n",
       "\\item 5292991.21905185\n",
       "\\item 10111962.0415244\n",
       "\\item 12726588.8530044\n",
       "\\item 9288900.78757152\n",
       "\\item 10915777.4226273\n",
       "\\item 11585141.9129499\n",
       "\\item 11092806.9982534\n",
       "\\item 12257981.5975771\n",
       "\\item 9546794.20112417\n",
       "\\item 11211348.6041499\n",
       "\\item 13500650.145382\n",
       "\\item 23956604.9317294\n",
       "\\item 37428664.4895548\n",
       "\\item 19996.9322424852\n",
       "\\item 141492.79227102\n",
       "\\item 48663268.820346\n",
       "\\item 49401431.4346169\n",
       "\\item 41608542.3570043\n",
       "\\item 51549512.5618314\n",
       "\\item 37215691.4666841\n",
       "\\item 46628468.5678579\n",
       "\\item 45178396.3827778\n",
       "\\item 50297284.5869744\n",
       "\\item 43886191.0768351\n",
       "\\item 26320031.3920788\n",
       "\\item 50030417.0945263\n",
       "\\item 50857423.6991422\n",
       "\\item 49979018.5425143\n",
       "\\item 55992041.0365503\n",
       "\\item 55447181.3360507\n",
       "\\item 56954826.5080994\n",
       "\\item 58799596.1044317\n",
       "\\item 50654468.6698194\n",
       "\\item 83976306.5331562\n",
       "\\item 1952170.03936175\n",
       "\\item 88853601.981993\n",
       "\\item 65614721.1239533\n",
       "\\item 92846112.1106278\n",
       "\\item 82411904.5878235\n",
       "\\item 19994.9479862815\n",
       "\\item 1619641.49327798\n",
       "\\item 2542103.99301105\n",
       "\\item 5931754.75463622\n",
       "\\item 8675957.30481139\n",
       "\\item 10108292.2488119\n",
       "\\item 9773301.01871503\n",
       "\\item 624602.508830031\n",
       "\\item 11585141.9129499\n",
       "\\item 10915777.4226273\n",
       "\\item 19994.947955497\n",
       "\\item 8928763.30138173\n",
       "\\item 10851987.262185\n",
       "\\item 11243143.0684924\n",
       "\\item 19994.9480378682\n",
       "\\item 4623031.6700812\n",
       "\\item 7518431.89930208\n",
       "\\item 1656016.90213847\n",
       "\\item 408892.43761543\n",
       "\\item 19996.9322386819\n",
       "\\item 4647009.95587958\n",
       "\\item 4871199.08271213\n",
       "\\item 1582358.24000129\n",
       "\\item 787327.694668531\n",
       "\\item 1603955.75805655\n",
       "\\item 2046068.53276883\n",
       "\\item 3036138.75103398\n",
       "\\item 1625976.97258552\n",
       "\\item 1088352.08399511\n",
       "\\item 4437518.36847347\n",
       "\\item 4647009.95587958\n",
       "\\item 1872076.33357035\n",
       "\\item 4647009.95587958\n",
       "\\item 4241476.93389588\n",
       "\\item 3641023.70022327\n",
       "\\item 1113234.74607344\n",
       "\\item 972280.766202624\n",
       "\\item 787327.694668531\n",
       "\\item 4117698.1268349\n",
       "\\item 2679933.58782524\n",
       "\\item 3852187.15288989\n",
       "\\item 2726049.55310268\n",
       "\\item 2857147.10530282\n",
       "\\item 1039688.45689736\n",
       "\\item 1125108.13842976\n",
       "\\item 713050.602290545\n",
       "\\item 972280.587644466\n",
       "\\item 1268578.3485401\n",
       "\\item 2072801.37392006\n",
       "\\item 4117698.1268349\n",
       "\\item 4370734.58936116\n",
       "\\item 4871199.08271213\n",
       "\\item 3522293.03160342\n",
       "\\item 1923588.99499745\n",
       "\\item 1552217.17054217\n",
       "\\item 4437518.36847347\n",
       "\\item 2305913.59655894\n",
       "\\item 2719393.34270057\n",
       "\\item 3139924.8087305\n",
       "\\item 4241476.93389588\n",
       "\\item 2093942.14641639\n",
       "\\item 1915533.63701017\n",
       "\\item 2041663.20951086\n",
       "\\item 4647009.95587958\n",
       "\\item 4370734.58936116\n",
       "\\item 4647009.95587958\n",
       "\\item 1039688.45689736\n",
       "\\end{enumerate*}\n"
      ],
      "text/markdown": [
       "1. 19994.9480762267\n",
       "2. 19994.9480960669\n",
       "3. 19996.9322540601\n",
       "4. 72888.1830842398\n",
       "5. 19997.9244272947\n",
       "6. 19996.9322490994\n",
       "7. 19997.5936944324\n",
       "8. 19996.9322540601\n",
       "9. 19994.9480663064\n",
       "10. 19994.9480696132\n",
       "11. 19997.5936944324\n",
       "12. 19996.9322490994\n",
       "13. 19994.9480960669\n",
       "14. 19994.9480596929\n",
       "15. 5292991.21905185\n",
       "16. 10111962.0415244\n",
       "17. 12726588.8530044\n",
       "18. 9288900.78757152\n",
       "19. 10915777.4226273\n",
       "20. 11585141.9129499\n",
       "21. 11092806.9982534\n",
       "22. 12257981.5975771\n",
       "23. 9546794.20112417\n",
       "24. 11211348.6041499\n",
       "25. 13500650.145382\n",
       "26. 23956604.9317294\n",
       "27. 37428664.4895548\n",
       "28. 19996.9322424852\n",
       "29. 141492.79227102\n",
       "30. 48663268.820346\n",
       "31. 49401431.4346169\n",
       "32. 41608542.3570043\n",
       "33. 51549512.5618314\n",
       "34. 37215691.4666841\n",
       "35. 46628468.5678579\n",
       "36. 45178396.3827778\n",
       "37. 50297284.5869744\n",
       "38. 43886191.0768351\n",
       "39. 26320031.3920788\n",
       "40. 50030417.0945263\n",
       "41. 50857423.6991422\n",
       "42. 49979018.5425143\n",
       "43. 55992041.0365503\n",
       "44. 55447181.3360507\n",
       "45. 56954826.5080994\n",
       "46. 58799596.1044317\n",
       "47. 50654468.6698194\n",
       "48. 83976306.5331562\n",
       "49. 1952170.03936175\n",
       "50. 88853601.981993\n",
       "51. 65614721.1239533\n",
       "52. 92846112.1106278\n",
       "53. 82411904.5878235\n",
       "54. 19994.9479862815\n",
       "55. 1619641.49327798\n",
       "56. 2542103.99301105\n",
       "57. 5931754.75463622\n",
       "58. 8675957.30481139\n",
       "59. 10108292.2488119\n",
       "60. 9773301.01871503\n",
       "61. 624602.508830031\n",
       "62. 11585141.9129499\n",
       "63. 10915777.4226273\n",
       "64. 19994.947955497\n",
       "65. 8928763.30138173\n",
       "66. 10851987.262185\n",
       "67. 11243143.0684924\n",
       "68. 19994.9480378682\n",
       "69. 4623031.6700812\n",
       "70. 7518431.89930208\n",
       "71. 1656016.90213847\n",
       "72. 408892.43761543\n",
       "73. 19996.9322386819\n",
       "74. 4647009.95587958\n",
       "75. 4871199.08271213\n",
       "76. 1582358.24000129\n",
       "77. 787327.694668531\n",
       "78. 1603955.75805655\n",
       "79. 2046068.53276883\n",
       "80. 3036138.75103398\n",
       "81. 1625976.97258552\n",
       "82. 1088352.08399511\n",
       "83. 4437518.36847347\n",
       "84. 4647009.95587958\n",
       "85. 1872076.33357035\n",
       "86. 4647009.95587958\n",
       "87. 4241476.93389588\n",
       "88. 3641023.70022327\n",
       "89. 1113234.74607344\n",
       "90. 972280.766202624\n",
       "91. 787327.694668531\n",
       "92. 4117698.1268349\n",
       "93. 2679933.58782524\n",
       "94. 3852187.15288989\n",
       "95. 2726049.55310268\n",
       "96. 2857147.10530282\n",
       "97. 1039688.45689736\n",
       "98. 1125108.13842976\n",
       "99. 713050.602290545\n",
       "100. 972280.587644466\n",
       "101. 1268578.3485401\n",
       "102. 2072801.37392006\n",
       "103. 4117698.1268349\n",
       "104. 4370734.58936116\n",
       "105. 4871199.08271213\n",
       "106. 3522293.03160342\n",
       "107. 1923588.99499745\n",
       "108. 1552217.17054217\n",
       "109. 4437518.36847347\n",
       "110. 2305913.59655894\n",
       "111. 2719393.34270057\n",
       "112. 3139924.8087305\n",
       "113. 4241476.93389588\n",
       "114. 2093942.14641639\n",
       "115. 1915533.63701017\n",
       "116. 2041663.20951086\n",
       "117. 4647009.95587958\n",
       "118. 4370734.58936116\n",
       "119. 4647009.95587958\n",
       "120. 1039688.45689736\n",
       "\n",
       "\n"
      ],
      "text/plain": [
       "  [1] 2.0e+04 2.0e+04 2.0e+04 7.3e+04 2.0e+04 2.0e+04 2.0e+04 2.0e+04 2.0e+04\n",
       " [10] 2.0e+04 2.0e+04 2.0e+04 2.0e+04 2.0e+04 5.3e+06 1.0e+07 1.3e+07 9.3e+06\n",
       " [19] 1.1e+07 1.2e+07 1.1e+07 1.2e+07 9.5e+06 1.1e+07 1.4e+07 2.4e+07 3.7e+07\n",
       " [28] 2.0e+04 1.4e+05 4.9e+07 4.9e+07 4.2e+07 5.2e+07 3.7e+07 4.7e+07 4.5e+07\n",
       " [37] 5.0e+07 4.4e+07 2.6e+07 5.0e+07 5.1e+07 5.0e+07 5.6e+07 5.5e+07 5.7e+07\n",
       " [46] 5.9e+07 5.1e+07 8.4e+07 2.0e+06 8.9e+07 6.6e+07 9.3e+07 8.2e+07 2.0e+04\n",
       " [55] 1.6e+06 2.5e+06 5.9e+06 8.7e+06 1.0e+07 9.8e+06 6.2e+05 1.2e+07 1.1e+07\n",
       " [64] 2.0e+04 8.9e+06 1.1e+07 1.1e+07 2.0e+04 4.6e+06 7.5e+06 1.7e+06 4.1e+05\n",
       " [73] 2.0e+04 4.6e+06 4.9e+06 1.6e+06 7.9e+05 1.6e+06 2.0e+06 3.0e+06 1.6e+06\n",
       " [82] 1.1e+06 4.4e+06 4.6e+06 1.9e+06 4.6e+06 4.2e+06 3.6e+06 1.1e+06 9.7e+05\n",
       " [91] 7.9e+05 4.1e+06 2.7e+06 3.9e+06 2.7e+06 2.9e+06 1.0e+06 1.1e+06 7.1e+05\n",
       "[100] 9.7e+05 1.3e+06 2.1e+06 4.1e+06 4.4e+06 4.9e+06 3.5e+06 1.9e+06 1.6e+06\n",
       "[109] 4.4e+06 2.3e+06 2.7e+06 3.1e+06 4.2e+06 2.1e+06 1.9e+06 2.0e+06 4.6e+06\n",
       "[118] 4.4e+06 4.6e+06 1.0e+06"
      ]
     },
     "metadata": {},
     "output_type": "display_data"
    },
    {
     "data": {
      "text/html": [
       "<ol class=list-inline>\n",
       "\t<li>20016.8969471829</li>\n",
       "\t<li>20019.5396144201</li>\n",
       "\t<li>20018.8789117992</li>\n",
       "\t<li>20018.8789117992</li>\n",
       "\t<li>20018.8789018889</li>\n",
       "\t<li>20018.878906844</li>\n",
       "\t<li>20018.878906844</li>\n",
       "\t<li>20019.5396144201</li>\n",
       "\t<li>20016.8969372737</li>\n",
       "\t<li>20016.8969207584</li>\n",
       "\t<li>20018.8789018889</li>\n",
       "\t<li>20018.878906844</li>\n",
       "\t<li>20016.8969868188</li>\n",
       "\t<li>20018.8789043664</li>\n",
       "\t<li>4815551.1421673</li>\n",
       "\t<li>10288989.859552</li>\n",
       "\t<li>10658365.3139979</li>\n",
       "\t<li>9600434.03897782</li>\n",
       "\t<li>12335204.5976729</li>\n",
       "\t<li>10213884.2486747</li>\n",
       "\t<li>12727505.2223118</li>\n",
       "\t<li>11586018.7039624</li>\n",
       "\t<li>9172821.52718437</li>\n",
       "\t<li>9774110.23952483</li>\n",
       "\t<li>13501592.837232</li>\n",
       "\t<li>18778731.1161109</li>\n",
       "\t<li>35865370.5655758</li>\n",
       "\t<li>20018.8788969337</li>\n",
       "\t<li>20018.8789117992</li>\n",
       "\t<li>48857268.6189833</li>\n",
       "\t<li>49403190.7972411</li>\n",
       "\t<li>42168525.8440054</li>\n",
       "\t<li>48446515.4464801</li>\n",
       "\t<li>30168292.1612548</li>\n",
       "\t<li>46630179.2128909</li>\n",
       "\t<li>47877049.9478</li>\n",
       "\t<li>49509173.6282298</li>\n",
       "\t<li>50032187.3158698</li>\n",
       "\t<li>41173785.9742156</li>\n",
       "\t<li>47339103.3941277</li>\n",
       "\t<li>49980787.8790913</li>\n",
       "\t<li>44749418.0149493</li>\n",
       "\t<li>55068178.775866</li>\n",
       "\t<li>57262445.3858898</li>\n",
       "\t<li>58219598.3250145</li>\n",
       "\t<li>63291316.960285</li>\n",
       "\t<li>47842053.8433272</li>\n",
       "\t<li>80256836.4915648</li>\n",
       "\t<li>570781.751083905</li>\n",
       "\t<li>87970040.1171167</li>\n",
       "\t<li>75049786.645354</li>\n",
       "\t<li>91842327.1672049</li>\n",
       "\t<li>86307645.3565264</li>\n",
       "\t<li>20016.8968745146</li>\n",
       "\t<li>1663086.84989069</li>\n",
       "\t<li>2635377.65265008</li>\n",
       "\t<li>5270400.21357924</li>\n",
       "\t<li>8327966.62066019</li>\n",
       "\t<li>9289690.90103349</li>\n",
       "\t<li>11126536.9213975</li>\n",
       "\t<li>911163.123484029</li>\n",
       "\t<li>11244007.5336444</li>\n",
       "\t<li>10916629.9123147</li>\n",
       "\t<li>20016.8968622025</li>\n",
       "\t<li>9289690.90103349</li>\n",
       "\t<li>11887492.9873531</li>\n",
       "\t<li>11244007.5336444</li>\n",
       "\t<li>20016.8969405767</li>\n",
       "\t<li>4623603.13252761</li>\n",
       "\t<li>5247349.86301499</li>\n",
       "\t<li>1909240.87886552</li>\n",
       "\t<li>1167914.63649225</li>\n",
       "\t<li>20019.5396108962</li>\n",
       "\t<li>4438079.21220921</li>\n",
       "\t<li>4871784.4218368</li>\n",
       "\t<li>2780621.38030205</li>\n",
       "\t<li>873221.443850343</li>\n",
       "\t<li>1789674.572393</li>\n",
       "\t<li>2046464.56247288</li>\n",
       "\t<li>3328100.80283006</li>\n",
       "\t<li>1872457.19769197</li>\n",
       "\t<li>1114203.48070787</li>\n",
       "\t<li>4438079.21220921</li>\n",
       "\t<li>4371291.55613502</li>\n",
       "\t<li>1872457.19769197</li>\n",
       "\t<li>4438079.21220921</li>\n",
       "\t<li>4242026.31170388</li>\n",
       "\t<li>4529460.52879153</li>\n",
       "\t<li>20016.896873871</li>\n",
       "\t<li>1319361.37243595</li>\n",
       "\t<li>787591.094408403</li>\n",
       "\t<li>4118240.12797392</li>\n",
       "\t<li>3181691.90687085</li>\n",
       "\t<li>2857606.50945092</li>\n",
       "\t<li>2506721.05315918</li>\n",
       "\t<li>2306331.11633991</li>\n",
       "\t<li>931006.93173664</li>\n",
       "\t<li>1208553.97624744</li>\n",
       "\t<li>1003875.93102709</li>\n",
       "\t<li>873221.443850343</li>\n",
       "\t<li>1558530.50644352</li>\n",
       "\t<li>1558530.85522742</li>\n",
       "\t<li>4576179.69930288</li>\n",
       "\t<li>4871784.4218368</li>\n",
       "\t<li>4871784.4218368</li>\n",
       "\t<li>3723944.28310162</li>\n",
       "\t<li>1845533.48537046</li>\n",
       "\t<li>4647582.77513915</li>\n",
       "\t<li>4438079.21220921</li>\n",
       "\t<li>2967636.08778874</li>\n",
       "\t<li>4438079.21220921</li>\n",
       "\t<li>2386921.26296841</li>\n",
       "\t<li>4438079.21220921</li>\n",
       "\t<li>3178917.35611603</li>\n",
       "\t<li>1837943.30374979</li>\n",
       "\t<li>2109633.11419121</li>\n",
       "\t<li>4647582.77513915</li>\n",
       "\t<li>4371291.55613502</li>\n",
       "\t<li>4647582.77513915</li>\n",
       "\t<li>931006.93173664</li>\n",
       "</ol>\n"
      ],
      "text/latex": [
       "\\begin{enumerate*}\n",
       "\\item 20016.8969471829\n",
       "\\item 20019.5396144201\n",
       "\\item 20018.8789117992\n",
       "\\item 20018.8789117992\n",
       "\\item 20018.8789018889\n",
       "\\item 20018.878906844\n",
       "\\item 20018.878906844\n",
       "\\item 20019.5396144201\n",
       "\\item 20016.8969372737\n",
       "\\item 20016.8969207584\n",
       "\\item 20018.8789018889\n",
       "\\item 20018.878906844\n",
       "\\item 20016.8969868188\n",
       "\\item 20018.8789043664\n",
       "\\item 4815551.1421673\n",
       "\\item 10288989.859552\n",
       "\\item 10658365.3139979\n",
       "\\item 9600434.03897782\n",
       "\\item 12335204.5976729\n",
       "\\item 10213884.2486747\n",
       "\\item 12727505.2223118\n",
       "\\item 11586018.7039624\n",
       "\\item 9172821.52718437\n",
       "\\item 9774110.23952483\n",
       "\\item 13501592.837232\n",
       "\\item 18778731.1161109\n",
       "\\item 35865370.5655758\n",
       "\\item 20018.8788969337\n",
       "\\item 20018.8789117992\n",
       "\\item 48857268.6189833\n",
       "\\item 49403190.7972411\n",
       "\\item 42168525.8440054\n",
       "\\item 48446515.4464801\n",
       "\\item 30168292.1612548\n",
       "\\item 46630179.2128909\n",
       "\\item 47877049.9478\n",
       "\\item 49509173.6282298\n",
       "\\item 50032187.3158698\n",
       "\\item 41173785.9742156\n",
       "\\item 47339103.3941277\n",
       "\\item 49980787.8790913\n",
       "\\item 44749418.0149493\n",
       "\\item 55068178.775866\n",
       "\\item 57262445.3858898\n",
       "\\item 58219598.3250145\n",
       "\\item 63291316.960285\n",
       "\\item 47842053.8433272\n",
       "\\item 80256836.4915648\n",
       "\\item 570781.751083905\n",
       "\\item 87970040.1171167\n",
       "\\item 75049786.645354\n",
       "\\item 91842327.1672049\n",
       "\\item 86307645.3565264\n",
       "\\item 20016.8968745146\n",
       "\\item 1663086.84989069\n",
       "\\item 2635377.65265008\n",
       "\\item 5270400.21357924\n",
       "\\item 8327966.62066019\n",
       "\\item 9289690.90103349\n",
       "\\item 11126536.9213975\n",
       "\\item 911163.123484029\n",
       "\\item 11244007.5336444\n",
       "\\item 10916629.9123147\n",
       "\\item 20016.8968622025\n",
       "\\item 9289690.90103349\n",
       "\\item 11887492.9873531\n",
       "\\item 11244007.5336444\n",
       "\\item 20016.8969405767\n",
       "\\item 4623603.13252761\n",
       "\\item 5247349.86301499\n",
       "\\item 1909240.87886552\n",
       "\\item 1167914.63649225\n",
       "\\item 20019.5396108962\n",
       "\\item 4438079.21220921\n",
       "\\item 4871784.4218368\n",
       "\\item 2780621.38030205\n",
       "\\item 873221.443850343\n",
       "\\item 1789674.572393\n",
       "\\item 2046464.56247288\n",
       "\\item 3328100.80283006\n",
       "\\item 1872457.19769197\n",
       "\\item 1114203.48070787\n",
       "\\item 4438079.21220921\n",
       "\\item 4371291.55613502\n",
       "\\item 1872457.19769197\n",
       "\\item 4438079.21220921\n",
       "\\item 4242026.31170388\n",
       "\\item 4529460.52879153\n",
       "\\item 20016.896873871\n",
       "\\item 1319361.37243595\n",
       "\\item 787591.094408403\n",
       "\\item 4118240.12797392\n",
       "\\item 3181691.90687085\n",
       "\\item 2857606.50945092\n",
       "\\item 2506721.05315918\n",
       "\\item 2306331.11633991\n",
       "\\item 931006.93173664\n",
       "\\item 1208553.97624744\n",
       "\\item 1003875.93102709\n",
       "\\item 873221.443850343\n",
       "\\item 1558530.50644352\n",
       "\\item 1558530.85522742\n",
       "\\item 4576179.69930288\n",
       "\\item 4871784.4218368\n",
       "\\item 4871784.4218368\n",
       "\\item 3723944.28310162\n",
       "\\item 1845533.48537046\n",
       "\\item 4647582.77513915\n",
       "\\item 4438079.21220921\n",
       "\\item 2967636.08778874\n",
       "\\item 4438079.21220921\n",
       "\\item 2386921.26296841\n",
       "\\item 4438079.21220921\n",
       "\\item 3178917.35611603\n",
       "\\item 1837943.30374979\n",
       "\\item 2109633.11419121\n",
       "\\item 4647582.77513915\n",
       "\\item 4371291.55613502\n",
       "\\item 4647582.77513915\n",
       "\\item 931006.93173664\n",
       "\\end{enumerate*}\n"
      ],
      "text/markdown": [
       "1. 20016.8969471829\n",
       "2. 20019.5396144201\n",
       "3. 20018.8789117992\n",
       "4. 20018.8789117992\n",
       "5. 20018.8789018889\n",
       "6. 20018.878906844\n",
       "7. 20018.878906844\n",
       "8. 20019.5396144201\n",
       "9. 20016.8969372737\n",
       "10. 20016.8969207584\n",
       "11. 20018.8789018889\n",
       "12. 20018.878906844\n",
       "13. 20016.8969868188\n",
       "14. 20018.8789043664\n",
       "15. 4815551.1421673\n",
       "16. 10288989.859552\n",
       "17. 10658365.3139979\n",
       "18. 9600434.03897782\n",
       "19. 12335204.5976729\n",
       "20. 10213884.2486747\n",
       "21. 12727505.2223118\n",
       "22. 11586018.7039624\n",
       "23. 9172821.52718437\n",
       "24. 9774110.23952483\n",
       "25. 13501592.837232\n",
       "26. 18778731.1161109\n",
       "27. 35865370.5655758\n",
       "28. 20018.8788969337\n",
       "29. 20018.8789117992\n",
       "30. 48857268.6189833\n",
       "31. 49403190.7972411\n",
       "32. 42168525.8440054\n",
       "33. 48446515.4464801\n",
       "34. 30168292.1612548\n",
       "35. 46630179.2128909\n",
       "36. 47877049.9478\n",
       "37. 49509173.6282298\n",
       "38. 50032187.3158698\n",
       "39. 41173785.9742156\n",
       "40. 47339103.3941277\n",
       "41. 49980787.8790913\n",
       "42. 44749418.0149493\n",
       "43. 55068178.775866\n",
       "44. 57262445.3858898\n",
       "45. 58219598.3250145\n",
       "46. 63291316.960285\n",
       "47. 47842053.8433272\n",
       "48. 80256836.4915648\n",
       "49. 570781.751083905\n",
       "50. 87970040.1171167\n",
       "51. 75049786.645354\n",
       "52. 91842327.1672049\n",
       "53. 86307645.3565264\n",
       "54. 20016.8968745146\n",
       "55. 1663086.84989069\n",
       "56. 2635377.65265008\n",
       "57. 5270400.21357924\n",
       "58. 8327966.62066019\n",
       "59. 9289690.90103349\n",
       "60. 11126536.9213975\n",
       "61. 911163.123484029\n",
       "62. 11244007.5336444\n",
       "63. 10916629.9123147\n",
       "64. 20016.8968622025\n",
       "65. 9289690.90103349\n",
       "66. 11887492.9873531\n",
       "67. 11244007.5336444\n",
       "68. 20016.8969405767\n",
       "69. 4623603.13252761\n",
       "70. 5247349.86301499\n",
       "71. 1909240.87886552\n",
       "72. 1167914.63649225\n",
       "73. 20019.5396108962\n",
       "74. 4438079.21220921\n",
       "75. 4871784.4218368\n",
       "76. 2780621.38030205\n",
       "77. 873221.443850343\n",
       "78. 1789674.572393\n",
       "79. 2046464.56247288\n",
       "80. 3328100.80283006\n",
       "81. 1872457.19769197\n",
       "82. 1114203.48070787\n",
       "83. 4438079.21220921\n",
       "84. 4371291.55613502\n",
       "85. 1872457.19769197\n",
       "86. 4438079.21220921\n",
       "87. 4242026.31170388\n",
       "88. 4529460.52879153\n",
       "89. 20016.896873871\n",
       "90. 1319361.37243595\n",
       "91. 787591.094408403\n",
       "92. 4118240.12797392\n",
       "93. 3181691.90687085\n",
       "94. 2857606.50945092\n",
       "95. 2506721.05315918\n",
       "96. 2306331.11633991\n",
       "97. 931006.93173664\n",
       "98. 1208553.97624744\n",
       "99. 1003875.93102709\n",
       "100. 873221.443850343\n",
       "101. 1558530.50644352\n",
       "102. 1558530.85522742\n",
       "103. 4576179.69930288\n",
       "104. 4871784.4218368\n",
       "105. 4871784.4218368\n",
       "106. 3723944.28310162\n",
       "107. 1845533.48537046\n",
       "108. 4647582.77513915\n",
       "109. 4438079.21220921\n",
       "110. 2967636.08778874\n",
       "111. 4438079.21220921\n",
       "112. 2386921.26296841\n",
       "113. 4438079.21220921\n",
       "114. 3178917.35611603\n",
       "115. 1837943.30374979\n",
       "116. 2109633.11419121\n",
       "117. 4647582.77513915\n",
       "118. 4371291.55613502\n",
       "119. 4647582.77513915\n",
       "120. 931006.93173664\n",
       "\n",
       "\n"
      ],
      "text/plain": [
       "  [1] 2.0e+04 2.0e+04 2.0e+04 2.0e+04 2.0e+04 2.0e+04 2.0e+04 2.0e+04 2.0e+04\n",
       " [10] 2.0e+04 2.0e+04 2.0e+04 2.0e+04 2.0e+04 4.8e+06 1.0e+07 1.1e+07 9.6e+06\n",
       " [19] 1.2e+07 1.0e+07 1.3e+07 1.2e+07 9.2e+06 9.8e+06 1.4e+07 1.9e+07 3.6e+07\n",
       " [28] 2.0e+04 2.0e+04 4.9e+07 4.9e+07 4.2e+07 4.8e+07 3.0e+07 4.7e+07 4.8e+07\n",
       " [37] 5.0e+07 5.0e+07 4.1e+07 4.7e+07 5.0e+07 4.5e+07 5.5e+07 5.7e+07 5.8e+07\n",
       " [46] 6.3e+07 4.8e+07 8.0e+07 5.7e+05 8.8e+07 7.5e+07 9.2e+07 8.6e+07 2.0e+04\n",
       " [55] 1.7e+06 2.6e+06 5.3e+06 8.3e+06 9.3e+06 1.1e+07 9.1e+05 1.1e+07 1.1e+07\n",
       " [64] 2.0e+04 9.3e+06 1.2e+07 1.1e+07 2.0e+04 4.6e+06 5.2e+06 1.9e+06 1.2e+06\n",
       " [73] 2.0e+04 4.4e+06 4.9e+06 2.8e+06 8.7e+05 1.8e+06 2.0e+06 3.3e+06 1.9e+06\n",
       " [82] 1.1e+06 4.4e+06 4.4e+06 1.9e+06 4.4e+06 4.2e+06 4.5e+06 2.0e+04 1.3e+06\n",
       " [91] 7.9e+05 4.1e+06 3.2e+06 2.9e+06 2.5e+06 2.3e+06 9.3e+05 1.2e+06 1.0e+06\n",
       "[100] 8.7e+05 1.6e+06 1.6e+06 4.6e+06 4.9e+06 4.9e+06 3.7e+06 1.8e+06 4.6e+06\n",
       "[109] 4.4e+06 3.0e+06 4.4e+06 2.4e+06 4.4e+06 3.2e+06 1.8e+06 2.1e+06 4.6e+06\n",
       "[118] 4.4e+06 4.6e+06 9.3e+05"
      ]
     },
     "metadata": {},
     "output_type": "display_data"
    }
   ],
   "source": [
    "calcError = \n",
    "function(estXY, actualXY) \n",
    "   sum( rowSums( (estXY - actualXY)^2) )\n",
    "\n",
    "actualXY = onlineSummary[ , c(\"posX\", \"posY\")]\n",
    "sapply(list(estXYkRedo, estXYknew, estXYkBoth), calcError, actualXY)\n",
    "sapply(list(estXYkRedoalt, estXYknewalt, estXYkBothalt), calcError, actualXY)\n",
    "sapply(estXYkRedoalt,calcError,estXYkRedo)\n",
    "sapply(estXYknewalt,calcError,estXYknew)\n",
    "sapply(estXYkBothalt,calcError,estXYkBoth)\n",
    "\n"
   ]
  },
  {
   "cell_type": "code",
   "execution_count": 168,
   "metadata": {},
   "outputs": [
    {
     "name": "stderr",
     "output_type": "stream",
     "text": [
      "Warning message in matrix(permuteLocs, ncol = v, nrow = floor(length(permuteLocs)/v)):\n",
      "\"data length [166] is not a sub-multiple or multiple of the number of rows [15]\""
     ]
    }
   ],
   "source": [
    "v = 11\n",
    "set.seed(2019)\n",
    "permuteLocs = sample(unique(offlineSummaryRedo$posXY))\n",
    "permuteLocs = matrix(permuteLocs, ncol = v, \n",
    "                     nrow = floor(length(permuteLocs)/v))\n",
    "\n",
    "onlineFold = subset(offlineSummaryRedo, posXY %in% permuteLocs[ , 1])\n",
    "\n",
    "reshapeSS = function(data, varSignal = \"signal\", \n",
    "                     keepVars = c(\"posXY\", \"posX\",\"posY\"),\n",
    "                     sampleAngle = FALSE, \n",
    "                     refs = seq(0, 315, by = 45)) {\n",
    "  set.seed(2019)\n",
    "    byLocation =\n",
    "    with(data, by(data, list(posXY), \n",
    "                  function(x) {\n",
    "                    if (sampleAngle) {\n",
    "                      x = x[x$angle == sample(refs, size = 1), ]}\n",
    "                    ans = x[1, keepVars]\n",
    "                    avgSS = tapply(x[ , varSignal ], x$mac, mean)\n",
    "                    y = matrix(avgSS, nrow = 1, ncol = 6,\n",
    "                               dimnames = list(ans$posXY,\n",
    "                                               names(avgSS)))\n",
    "                    cbind(ans, y)\n",
    "                  }))\n",
    "\n",
    "  newDataSS = do.call(\"rbind\", byLocation)\n",
    "  return(newDataSS)\n",
    "}\n",
    "\n",
    "offline = offlineRedo[ offlineRedo$mac != \"00:0f:a3:39:dd:cd\", ]"
   ]
  },
  {
   "cell_type": "code",
   "execution_count": 170,
   "metadata": {},
   "outputs": [
    {
     "data": {
      "text/html": [
       "152.777777777778"
      ],
      "text/latex": [
       "152.777777777778"
      ],
      "text/markdown": [
       "152.777777777778"
      ],
      "text/plain": [
       "[1] 153"
      ]
     },
     "metadata": {},
     "output_type": "display_data"
    }
   ],
   "source": [
    "keepVars = c(\"posXY\", \"posX\",\"posY\", \"orientation\", \"angle\")\n",
    "\n",
    "onlineCVSummary = reshapeSS(offline, keepVars = keepVars, \n",
    "                            sampleAngle = TRUE)\n",
    "\n",
    "onlineFold = subset(onlineCVSummary, \n",
    "                    posXY %in% permuteLocs[ , 1])\n",
    "\n",
    "offlineFold = subset(offlineSummaryRedo,\n",
    "                     posXY %in% permuteLocs[ , -1])\n",
    "\n",
    "estFold = predXY(newSignals = onlineFold[ , 6:11], \n",
    "                 newAngles = onlineFold[ , 4], \n",
    "                 offlineFold, numAngles = 3, k = 3)\n",
    "\n",
    "actualFold = onlineFold[ , c(\"posX\", \"posY\")]\n",
    "calcError(estFold, actualFold)\n",
    "\n",
    "K = 20\n",
    "err = rep(0, K)"
   ]
  },
  {
   "cell_type": "markdown",
   "metadata": {},
   "source": [
    "### Next Cell takes a while.  Grab a Beverage of your choice.  (~5-10 mins)"
   ]
  },
  {
   "cell_type": "code",
   "execution_count": 172,
   "metadata": {},
   "outputs": [],
   "source": [
    "\n",
    "for (j in 1:v) {\n",
    "  onlineFold = subset(onlineCVSummary, \n",
    "                      posXY %in% permuteLocs[ , j])\n",
    "  offlineFold = subset(offlineSummaryRedo,\n",
    "                       posXY %in% permuteLocs[ , -j])\n",
    "  actualFold = onlineFold[ , c(\"posX\", \"posY\")]\n",
    "  \n",
    "  for (k in 1:K) {\n",
    "    estFold = predXY(newSignals = onlineFold[ , 6:11],\n",
    "                     newAngles = onlineFold[ , 4], \n",
    "                     offlineFold, numAngles = 3, k = k)\n",
    "    err[k] = err[k] + calcError(estFold, actualFold)\n",
    "  }\n",
    "}"
   ]
  },
  {
   "cell_type": "code",
   "execution_count": 173,
   "metadata": {},
   "outputs": [
    {
     "data": {
      "text/html": [
       "<strong>null device:</strong> 1"
      ],
      "text/latex": [
       "\\textbf{null device:} 1"
      ],
      "text/markdown": [
       "**null device:** 1"
      ],
      "text/plain": [
       "null device \n",
       "          1 "
      ]
     },
     "metadata": {},
     "output_type": "display_data"
    },
    {
     "data": {
      "image/png": "[encoded data removed]",
      "text/plain": [
       "plot without title"
      ]
     },
     "metadata": {},
     "output_type": "display_data"
    }
   ],
   "source": [
    "#pdf(file = \"Geo_CVChoiceOfK.pdf\", width = 10, height = 6)\n",
    "oldPar = par(mar = c(4, 3, 1, 1))\n",
    "plot(y = err, x = (1:K),  type = \"l\", lwd= 2,\n",
    "     ylim = c(1000, 2100),\n",
    "     xlab = \"Number of Neighbors\",\n",
    "     ylab = \"Sum of Square Errors\")\n",
    "\n",
    "rmseMin = min(err)\n",
    "kMin = which(err == rmseMin)[1]\n",
    "segments(x0 = 0, x1 = kMin, y0 = rmseMin, col = gray(0.4), \n",
    "         lty = 2, lwd = 2)\n",
    "segments(x0 = kMin, x1 = kMin, y0 = 900,  y1 = rmseMin, \n",
    "         col = grey(0.4), lty = 2, lwd = 2)\n",
    "\n",
    "#mtext(kMin, side = 1, line = 1, at = kMin, col = grey(0.4))\n",
    "text(x = kMin - 2, y = rmseMin + 40, \n",
    "     label = as.character(round(rmseMin)), col = grey(0.4))\n",
    "par(oldPar)\n",
    "dev.off()\n"
   ]
  },
  {
   "cell_type": "code",
   "execution_count": 179,
   "metadata": {},
   "outputs": [
    {
     "data": {
      "text/html": [
       "272.409188888889"
      ],
      "text/latex": [
       "272.409188888889"
      ],
      "text/markdown": [
       "272.409188888889"
      ],
      "text/plain": [
       "[1] 272"
      ]
     },
     "metadata": {},
     "output_type": "display_data"
    }
   ],
   "source": [
    "estXYk5 = predXY(newSignals = onlineSummaryRedo[ , 6:11], \n",
    "                 newAngles = onlineSummaryRedo[ , 4], \n",
    "                 offlineSummaryRedo, numAngles = 3, k = 6)\n",
    "\n",
    "calcError(estXYk5, actualXY)"
   ]
  },
  {
   "cell_type": "code",
   "execution_count": 81,
   "metadata": {},
   "outputs": [],
   "source": [
    "predXY = function(newSignals, newAngles, trainData, \n",
    "                  numAngles = 1, k = 3){\n",
    "  \n",
    "  closeXY = list(length = nrow(newSignals))\n",
    "  \n",
    "  for (i in 1:nrow(newSignals)) {\n",
    "    trainSS = selectTrain(newAngles[i], trainData, m = numAngles)\n",
    "    closeXY[[i]] = findNN(newSignal = as.numeric(newSignals[i, ]),\n",
    "                           trainSS)\n",
    "  }\n",
    "\n",
    "  estXY = lapply(closeXY, function(x)\n",
    "                            sapply(x[ , 2:3], \n",
    "                                    function(x) mean(x[1:k])))\n",
    "  estXY = do.call(\"rbind\", estXY)\n",
    "  return(estXY)\n",
    "}"
   ]
  },
  {
   "cell_type": "code",
   "execution_count": null,
   "metadata": {},
   "outputs": [],
   "source": []
  }
 ],
 "metadata": {
  "kernelspec": {
   "display_name": "R",
   "language": "R",
   "name": "ir"
  },
  "language_info": {
   "codemirror_mode": "r",
   "file_extension": ".r",
   "mimetype": "text/x-r-source",
   "name": "R",
   "pygments_lexer": "r",
   "version": "3.4.3"
  }
 },
 "nbformat": 4,
 "nbformat_minor": 2
}
