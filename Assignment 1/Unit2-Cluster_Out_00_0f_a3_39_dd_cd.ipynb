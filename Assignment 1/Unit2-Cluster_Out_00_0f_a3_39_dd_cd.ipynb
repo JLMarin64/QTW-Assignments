{
 "cells": [
  {
   "cell_type": "code",
   "execution_count": 90,
   "metadata": {},
   "outputs": [
    {
     "data": {
      "text/html": [
       "5312"
      ],
      "text/latex": [
       "5312"
      ],
      "text/markdown": [
       "5312"
      ],
      "text/plain": [
       "[1] 5312"
      ]
     },
     "metadata": {},
     "output_type": "display_data"
    },
    {
     "data": {
      "text/html": [
       "151392"
      ],
      "text/latex": [
       "151392"
      ],
      "text/markdown": [
       "151392"
      ],
      "text/plain": [
       "[1] 151392"
      ]
     },
     "metadata": {},
     "output_type": "display_data"
    },
    {
     "data": {
      "text/html": [
       "<ol class=list-inline>\n",
       "\t<li>'t=1139643118358'</li>\n",
       "\t<li>'id=00:02:2D:21:0F:33'</li>\n",
       "\t<li>'pos=0.0,0.0,0.0'</li>\n",
       "\t<li>'degree=0.0'</li>\n",
       "\t<li>'00:14:bf:b1:97:8a=-38,2437000000,3'</li>\n",
       "\t<li>'00:14:bf:b1:97:90=-56,2427000000,3'</li>\n",
       "\t<li>'00:0f:a3:39:e1:c0=-53,2462000000,3'</li>\n",
       "\t<li>'00:14:bf:b1:97:8d=-65,2442000000,3'</li>\n",
       "\t<li>'00:14:bf:b1:97:81=-65,2422000000,3'</li>\n",
       "\t<li>'00:14:bf:3b:c7:c6=-66,2432000000,3'</li>\n",
       "\t<li>'00:0f:a3:39:dd:cd=-75,2412000000,3'</li>\n",
       "\t<li>'00:0f:a3:39:e0:4b=-78,2462000000,3'</li>\n",
       "\t<li>'00:0f:a3:39:e2:10=-87,2437000000,3'</li>\n",
       "\t<li>'02:64:fb:68:52:e6=-88,2447000000,1'</li>\n",
       "\t<li>'02:00:42:55:31:00=-84,2457000000,1'</li>\n",
       "</ol>\n"
      ],
      "text/latex": [
       "\\begin{enumerate*}\n",
       "\\item 't=1139643118358'\n",
       "\\item 'id=00:02:2D:21:0F:33'\n",
       "\\item 'pos=0.0,0.0,0.0'\n",
       "\\item 'degree=0.0'\n",
       "\\item '00:14:bf:b1:97:8a=-38,2437000000,3'\n",
       "\\item '00:14:bf:b1:97:90=-56,2427000000,3'\n",
       "\\item '00:0f:a3:39:e1:c0=-53,2462000000,3'\n",
       "\\item '00:14:bf:b1:97:8d=-65,2442000000,3'\n",
       "\\item '00:14:bf:b1:97:81=-65,2422000000,3'\n",
       "\\item '00:14:bf:3b:c7:c6=-66,2432000000,3'\n",
       "\\item '00:0f:a3:39:dd:cd=-75,2412000000,3'\n",
       "\\item '00:0f:a3:39:e0:4b=-78,2462000000,3'\n",
       "\\item '00:0f:a3:39:e2:10=-87,2437000000,3'\n",
       "\\item '02:64:fb:68:52:e6=-88,2447000000,1'\n",
       "\\item '02:00:42:55:31:00=-84,2457000000,1'\n",
       "\\end{enumerate*}\n"
      ],
      "text/markdown": [
       "1. 't=1139643118358'\n",
       "2. 'id=00:02:2D:21:0F:33'\n",
       "3. 'pos=0.0,0.0,0.0'\n",
       "4. 'degree=0.0'\n",
       "5. '00:14:bf:b1:97:8a=-38,2437000000,3'\n",
       "6. '00:14:bf:b1:97:90=-56,2427000000,3'\n",
       "7. '00:0f:a3:39:e1:c0=-53,2462000000,3'\n",
       "8. '00:14:bf:b1:97:8d=-65,2442000000,3'\n",
       "9. '00:14:bf:b1:97:81=-65,2422000000,3'\n",
       "10. '00:14:bf:3b:c7:c6=-66,2432000000,3'\n",
       "11. '00:0f:a3:39:dd:cd=-75,2412000000,3'\n",
       "12. '00:0f:a3:39:e0:4b=-78,2462000000,3'\n",
       "13. '00:0f:a3:39:e2:10=-87,2437000000,3'\n",
       "14. '02:64:fb:68:52:e6=-88,2447000000,1'\n",
       "15. '02:00:42:55:31:00=-84,2457000000,1'\n",
       "\n",
       "\n"
      ],
      "text/plain": [
       " [1] \"t=1139643118358\"                    \"id=00:02:2D:21:0F:33\"              \n",
       " [3] \"pos=0.0,0.0,0.0\"                    \"degree=0.0\"                        \n",
       " [5] \"00:14:bf:b1:97:8a=-38,2437000000,3\" \"00:14:bf:b1:97:90=-56,2427000000,3\"\n",
       " [7] \"00:0f:a3:39:e1:c0=-53,2462000000,3\" \"00:14:bf:b1:97:8d=-65,2442000000,3\"\n",
       " [9] \"00:14:bf:b1:97:81=-65,2422000000,3\" \"00:14:bf:3b:c7:c6=-66,2432000000,3\"\n",
       "[11] \"00:0f:a3:39:dd:cd=-75,2412000000,3\" \"00:0f:a3:39:e0:4b=-78,2462000000,3\"\n",
       "[13] \"00:0f:a3:39:e2:10=-87,2437000000,3\" \"02:64:fb:68:52:e6=-88,2447000000,1\"\n",
       "[15] \"02:00:42:55:31:00=-84,2457000000,1\""
      ]
     },
     "metadata": {},
     "output_type": "display_data"
    },
    {
     "data": {
      "text/html": [
       "<ol class=list-inline>\n",
       "\t<li>'t'</li>\n",
       "\t<li>'1139643118358'</li>\n",
       "\t<li>'id'</li>\n",
       "\t<li>'00:02:2D:21:0F:33'</li>\n",
       "\t<li>'pos'</li>\n",
       "\t<li>'0.0'</li>\n",
       "\t<li>'0.0'</li>\n",
       "\t<li>'0.0'</li>\n",
       "\t<li>'degree'</li>\n",
       "\t<li>'0.0'</li>\n",
       "</ol>\n"
      ],
      "text/latex": [
       "\\begin{enumerate*}\n",
       "\\item 't'\n",
       "\\item '1139643118358'\n",
       "\\item 'id'\n",
       "\\item '00:02:2D:21:0F:33'\n",
       "\\item 'pos'\n",
       "\\item '0.0'\n",
       "\\item '0.0'\n",
       "\\item '0.0'\n",
       "\\item 'degree'\n",
       "\\item '0.0'\n",
       "\\end{enumerate*}\n"
      ],
      "text/markdown": [
       "1. 't'\n",
       "2. '1139643118358'\n",
       "3. 'id'\n",
       "4. '00:02:2D:21:0F:33'\n",
       "5. 'pos'\n",
       "6. '0.0'\n",
       "7. '0.0'\n",
       "8. '0.0'\n",
       "9. 'degree'\n",
       "10. '0.0'\n",
       "\n",
       "\n"
      ],
      "text/plain": [
       " [1] \"t\"                 \"1139643118358\"     \"id\"               \n",
       " [4] \"00:02:2D:21:0F:33\" \"pos\"               \"0.0\"              \n",
       " [7] \"0.0\"               \"0.0\"               \"degree\"           \n",
       "[10] \"0.0\"              "
      ]
     },
     "metadata": {},
     "output_type": "display_data"
    },
    {
     "data": {
      "text/html": [
       "<ol class=list-inline>\n",
       "\t<li>'1139643118358'</li>\n",
       "\t<li>'00:02:2D:21:0F:33'</li>\n",
       "\t<li>'0.0'</li>\n",
       "\t<li>'0.0'</li>\n",
       "\t<li>'0.0'</li>\n",
       "\t<li>'0.0'</li>\n",
       "</ol>\n"
      ],
      "text/latex": [
       "\\begin{enumerate*}\n",
       "\\item '1139643118358'\n",
       "\\item '00:02:2D:21:0F:33'\n",
       "\\item '0.0'\n",
       "\\item '0.0'\n",
       "\\item '0.0'\n",
       "\\item '0.0'\n",
       "\\end{enumerate*}\n"
      ],
      "text/markdown": [
       "1. '1139643118358'\n",
       "2. '00:02:2D:21:0F:33'\n",
       "3. '0.0'\n",
       "4. '0.0'\n",
       "5. '0.0'\n",
       "6. '0.0'\n",
       "\n",
       "\n"
      ],
      "text/plain": [
       "[1] \"1139643118358\"     \"00:02:2D:21:0F:33\" \"0.0\"              \n",
       "[4] \"0.0\"               \"0.0\"               \"0.0\"              "
      ]
     },
     "metadata": {},
     "output_type": "display_data"
    },
    {
     "data": {
      "text/html": [
       "<ol class=list-inline>\n",
       "\t<li>'00:14:bf:b1:97:8a'</li>\n",
       "\t<li>'-38'</li>\n",
       "\t<li>'2437000000'</li>\n",
       "\t<li>'3'</li>\n",
       "\t<li>'00:14:bf:b1:97:90'</li>\n",
       "\t<li>'-56'</li>\n",
       "\t<li>'2427000000'</li>\n",
       "\t<li>'3'</li>\n",
       "\t<li>'00:0f:a3:39:e1:c0'</li>\n",
       "\t<li>'-53'</li>\n",
       "\t<li>'2462000000'</li>\n",
       "\t<li>'3'</li>\n",
       "\t<li>'00:14:bf:b1:97:8d'</li>\n",
       "\t<li>'-65'</li>\n",
       "\t<li>'2442000000'</li>\n",
       "\t<li>'3'</li>\n",
       "\t<li>'00:14:bf:b1:97:81'</li>\n",
       "\t<li>'-65'</li>\n",
       "\t<li>'2422000000'</li>\n",
       "\t<li>'3'</li>\n",
       "\t<li>'00:14:bf:3b:c7:c6'</li>\n",
       "\t<li>'-66'</li>\n",
       "\t<li>'2432000000'</li>\n",
       "\t<li>'3'</li>\n",
       "\t<li>'00:0f:a3:39:dd:cd'</li>\n",
       "\t<li>'-75'</li>\n",
       "\t<li>'2412000000'</li>\n",
       "\t<li>'3'</li>\n",
       "\t<li>'00:0f:a3:39:e0:4b'</li>\n",
       "\t<li>'-78'</li>\n",
       "\t<li>'2462000000'</li>\n",
       "\t<li>'3'</li>\n",
       "\t<li>'00:0f:a3:39:e2:10'</li>\n",
       "\t<li>'-87'</li>\n",
       "\t<li>'2437000000'</li>\n",
       "\t<li>'3'</li>\n",
       "\t<li>'02:64:fb:68:52:e6'</li>\n",
       "\t<li>'-88'</li>\n",
       "\t<li>'2447000000'</li>\n",
       "\t<li>'1'</li>\n",
       "\t<li>'02:00:42:55:31:00'</li>\n",
       "\t<li>'-84'</li>\n",
       "\t<li>'2457000000'</li>\n",
       "\t<li>'1'</li>\n",
       "</ol>\n"
      ],
      "text/latex": [
       "\\begin{enumerate*}\n",
       "\\item '00:14:bf:b1:97:8a'\n",
       "\\item '-38'\n",
       "\\item '2437000000'\n",
       "\\item '3'\n",
       "\\item '00:14:bf:b1:97:90'\n",
       "\\item '-56'\n",
       "\\item '2427000000'\n",
       "\\item '3'\n",
       "\\item '00:0f:a3:39:e1:c0'\n",
       "\\item '-53'\n",
       "\\item '2462000000'\n",
       "\\item '3'\n",
       "\\item '00:14:bf:b1:97:8d'\n",
       "\\item '-65'\n",
       "\\item '2442000000'\n",
       "\\item '3'\n",
       "\\item '00:14:bf:b1:97:81'\n",
       "\\item '-65'\n",
       "\\item '2422000000'\n",
       "\\item '3'\n",
       "\\item '00:14:bf:3b:c7:c6'\n",
       "\\item '-66'\n",
       "\\item '2432000000'\n",
       "\\item '3'\n",
       "\\item '00:0f:a3:39:dd:cd'\n",
       "\\item '-75'\n",
       "\\item '2412000000'\n",
       "\\item '3'\n",
       "\\item '00:0f:a3:39:e0:4b'\n",
       "\\item '-78'\n",
       "\\item '2462000000'\n",
       "\\item '3'\n",
       "\\item '00:0f:a3:39:e2:10'\n",
       "\\item '-87'\n",
       "\\item '2437000000'\n",
       "\\item '3'\n",
       "\\item '02:64:fb:68:52:e6'\n",
       "\\item '-88'\n",
       "\\item '2447000000'\n",
       "\\item '1'\n",
       "\\item '02:00:42:55:31:00'\n",
       "\\item '-84'\n",
       "\\item '2457000000'\n",
       "\\item '1'\n",
       "\\end{enumerate*}\n"
      ],
      "text/markdown": [
       "1. '00:14:bf:b1:97:8a'\n",
       "2. '-38'\n",
       "3. '2437000000'\n",
       "4. '3'\n",
       "5. '00:14:bf:b1:97:90'\n",
       "6. '-56'\n",
       "7. '2427000000'\n",
       "8. '3'\n",
       "9. '00:0f:a3:39:e1:c0'\n",
       "10. '-53'\n",
       "11. '2462000000'\n",
       "12. '3'\n",
       "13. '00:14:bf:b1:97:8d'\n",
       "14. '-65'\n",
       "15. '2442000000'\n",
       "16. '3'\n",
       "17. '00:14:bf:b1:97:81'\n",
       "18. '-65'\n",
       "19. '2422000000'\n",
       "20. '3'\n",
       "21. '00:14:bf:3b:c7:c6'\n",
       "22. '-66'\n",
       "23. '2432000000'\n",
       "24. '3'\n",
       "25. '00:0f:a3:39:dd:cd'\n",
       "26. '-75'\n",
       "27. '2412000000'\n",
       "28. '3'\n",
       "29. '00:0f:a3:39:e0:4b'\n",
       "30. '-78'\n",
       "31. '2462000000'\n",
       "32. '3'\n",
       "33. '00:0f:a3:39:e2:10'\n",
       "34. '-87'\n",
       "35. '2437000000'\n",
       "36. '3'\n",
       "37. '02:64:fb:68:52:e6'\n",
       "38. '-88'\n",
       "39. '2447000000'\n",
       "40. '1'\n",
       "41. '02:00:42:55:31:00'\n",
       "42. '-84'\n",
       "43. '2457000000'\n",
       "44. '1'\n",
       "\n",
       "\n"
      ],
      "text/plain": [
       " [1] \"00:14:bf:b1:97:8a\" \"-38\"               \"2437000000\"       \n",
       " [4] \"3\"                 \"00:14:bf:b1:97:90\" \"-56\"              \n",
       " [7] \"2427000000\"        \"3\"                 \"00:0f:a3:39:e1:c0\"\n",
       "[10] \"-53\"               \"2462000000\"        \"3\"                \n",
       "[13] \"00:14:bf:b1:97:8d\" \"-65\"               \"2442000000\"       \n",
       "[16] \"3\"                 \"00:14:bf:b1:97:81\" \"-65\"              \n",
       "[19] \"2422000000\"        \"3\"                 \"00:14:bf:3b:c7:c6\"\n",
       "[22] \"-66\"               \"2432000000\"        \"3\"                \n",
       "[25] \"00:0f:a3:39:dd:cd\" \"-75\"               \"2412000000\"       \n",
       "[28] \"3\"                 \"00:0f:a3:39:e0:4b\" \"-78\"              \n",
       "[31] \"2462000000\"        \"3\"                 \"00:0f:a3:39:e2:10\"\n",
       "[34] \"-87\"               \"2437000000\"        \"3\"                \n",
       "[37] \"02:64:fb:68:52:e6\" \"-88\"               \"2447000000\"       \n",
       "[40] \"1\"                 \"02:00:42:55:31:00\" \"-84\"              \n",
       "[43] \"2457000000\"        \"1\"                "
      ]
     },
     "metadata": {},
     "output_type": "display_data"
    },
    {
     "data": {
      "text/html": [
       "<ol class=list-inline>\n",
       "\t<li>11</li>\n",
       "\t<li>10</li>\n",
       "</ol>\n"
      ],
      "text/latex": [
       "\\begin{enumerate*}\n",
       "\\item 11\n",
       "\\item 10\n",
       "\\end{enumerate*}\n"
      ],
      "text/markdown": [
       "1. 11\n",
       "2. 10\n",
       "\n",
       "\n"
      ],
      "text/plain": [
       "[1] 11 10"
      ]
     },
     "metadata": {},
     "output_type": "display_data"
    },
    {
     "data": {
      "text/html": [
       "<ol class=list-inline>\n",
       "\t<li>11</li>\n",
       "\t<li>10</li>\n",
       "\t<li>10</li>\n",
       "\t<li>11</li>\n",
       "\t<li>9</li>\n",
       "\t<li>10</li>\n",
       "\t<li>9</li>\n",
       "\t<li>9</li>\n",
       "\t<li>10</li>\n",
       "\t<li>11</li>\n",
       "\t<li>11</li>\n",
       "\t<li>9</li>\n",
       "\t<li>9</li>\n",
       "\t<li>9</li>\n",
       "\t<li>8</li>\n",
       "\t<li>10</li>\n",
       "\t<li>14</li>\n",
       "</ol>\n"
      ],
      "text/latex": [
       "\\begin{enumerate*}\n",
       "\\item 11\n",
       "\\item 10\n",
       "\\item 10\n",
       "\\item 11\n",
       "\\item 9\n",
       "\\item 10\n",
       "\\item 9\n",
       "\\item 9\n",
       "\\item 10\n",
       "\\item 11\n",
       "\\item 11\n",
       "\\item 9\n",
       "\\item 9\n",
       "\\item 9\n",
       "\\item 8\n",
       "\\item 10\n",
       "\\item 14\n",
       "\\end{enumerate*}\n"
      ],
      "text/markdown": [
       "1. 11\n",
       "2. 10\n",
       "3. 10\n",
       "4. 11\n",
       "5. 9\n",
       "6. 10\n",
       "7. 9\n",
       "8. 9\n",
       "9. 10\n",
       "10. 11\n",
       "11. 11\n",
       "12. 9\n",
       "13. 9\n",
       "14. 9\n",
       "15. 8\n",
       "16. 10\n",
       "17. 14\n",
       "\n",
       "\n"
      ],
      "text/plain": [
       " [1] 11 10 10 11  9 10  9  9 10 11 11  9  9  9  8 10 14"
      ]
     },
     "metadata": {},
     "output_type": "display_data"
    },
    {
     "data": {
      "text/html": [
       "<ol class=list-inline>\n",
       "\t<li>170</li>\n",
       "\t<li>10</li>\n",
       "</ol>\n"
      ],
      "text/latex": [
       "\\begin{enumerate*}\n",
       "\\item 170\n",
       "\\item 10\n",
       "\\end{enumerate*}\n"
      ],
      "text/markdown": [
       "1. 170\n",
       "2. 10\n",
       "\n",
       "\n"
      ],
      "text/plain": [
       "[1] 170  10"
      ]
     },
     "metadata": {},
     "output_type": "display_data"
    },
    {
     "name": "stderr",
     "output_type": "stream",
     "text": [
      "Warning message in matrix(tokens[c(2, 4, 6:8, 10)], nrow = nrow(tmp), ncol = 6, :\n",
      "\"data length exceeds size of matrix\"Warning message in matrix(tokens[c(2, 4, 6:8, 10)], nrow = nrow(tmp), ncol = 6, :\n",
      "\"data length exceeds size of matrix\"Warning message in matrix(tokens[c(2, 4, 6:8, 10)], nrow = nrow(tmp), ncol = 6, :\n",
      "\"data length exceeds size of matrix\"Warning message in matrix(tokens[c(2, 4, 6:8, 10)], nrow = nrow(tmp), ncol = 6, :\n",
      "\"data length exceeds size of matrix\"Warning message in matrix(tokens[c(2, 4, 6:8, 10)], nrow = nrow(tmp), ncol = 6, :\n",
      "\"data length exceeds size of matrix\"Warning message in matrix(tokens[c(2, 4, 6:8, 10)], nrow = nrow(tmp), ncol = 6, :\n",
      "\"data length exceeds size of matrix\""
     ]
    }
   ],
   "source": [
    "set.seed(1234)\n",
    "\n",
    "options(digits = 2)\n",
    "\n",
    "txt = readLines(\"offline.final.trace.txt\")\n",
    "\n",
    "sum(substr(txt, 1, 1) == \"#\")\n",
    "\n",
    "length(txt)\n",
    "\n",
    "strsplit(txt[4], \";\")[[1]]\n",
    "\n",
    "tokens = strsplit(txt[4], \"[;=,]\")[[1]]\n",
    "\n",
    "tokens[1:10]\n",
    "\n",
    "tokens[c(2, 4, 6:8, 10)]\n",
    "\n",
    "tokens[ - ( 1:10 ) ]\n",
    "\n",
    "tmp = matrix(tokens[ - (1:10) ], ncol = 4, byrow = TRUE)\n",
    "mat = cbind(matrix(tokens[c(2, 4, 6:8, 10)], nrow = nrow(tmp),\n",
    "                   ncol = 6, byrow = TRUE), \n",
    "            tmp)\n",
    "\n",
    "dim(mat)\n",
    "\n",
    "processLine =\n",
    "function(x)\n",
    "{\n",
    "  tokens = strsplit(x, \"[;=,]\")[[1]]\n",
    "  tmp = matrix(tokens[ - (1:10) ], ncol = 4, byrow = TRUE)\n",
    "  cbind(matrix(tokens[c(2, 4, 6:8, 10)], nrow = nrow(tmp),\n",
    "               ncol = 6, byrow = TRUE), tmp)\n",
    "}\n",
    "\n",
    "tmp = lapply(txt[4:20], processLine)\n",
    "\n",
    "sapply(tmp, nrow)\n",
    "\n",
    "offline = as.data.frame(do.call(\"rbind\", tmp))\n",
    "dim(offline)\n",
    "\n",
    "lines = txt[ substr(txt, 1, 1) != \"#\" ]\n",
    "tmp = lapply(lines, processLine)\n",
    "\n",
    "processLine = function(x)\n",
    "{\n",
    "  tokens = strsplit(x, \"[;=,]\")[[1]]\n",
    "  \n",
    "  if (length(tokens) == 10) \n",
    "    return(NULL)\n",
    " \n",
    "  tmp = matrix(tokens[ - (1:10) ], , 4, byrow = TRUE)\n",
    "  cbind(matrix(tokens[c(2, 4, 6:8, 10)], nrow(tmp), 6, \n",
    "               byrow = TRUE), tmp)\n",
    "}\n",
    "\n",
    "options(error = recover, warn = 1)\n",
    "tmp = lapply(lines, processLine)\n",
    "offline = as.data.frame(do.call(\"rbind\", tmp), \n",
    "                        stringsAsFactors = FALSE)\n"
   ]
  },
  {
   "cell_type": "code",
   "execution_count": 91,
   "metadata": {},
   "outputs": [
    {
     "data": {
      "text/html": [
       "<ol class=list-inline>\n",
       "\t<li>1181628</li>\n",
       "\t<li>10</li>\n",
       "</ol>\n"
      ],
      "text/latex": [
       "\\begin{enumerate*}\n",
       "\\item 1181628\n",
       "\\item 10\n",
       "\\end{enumerate*}\n"
      ],
      "text/markdown": [
       "1. 1181628\n",
       "2. 10\n",
       "\n",
       "\n"
      ],
      "text/plain": [
       "[1] 1181628      10"
      ]
     },
     "metadata": {},
     "output_type": "display_data"
    },
    {
     "data": {
      "text/html": [
       "<ol class=list-inline>\n",
       "\t<li>978443</li>\n",
       "\t<li>9</li>\n",
       "</ol>\n"
      ],
      "text/latex": [
       "\\begin{enumerate*}\n",
       "\\item 978443\n",
       "\\item 9\n",
       "\\end{enumerate*}\n"
      ],
      "text/markdown": [
       "1. 978443\n",
       "2. 9\n",
       "\n",
       "\n"
      ],
      "text/plain": [
       "[1] 978443      9"
      ]
     },
     "metadata": {},
     "output_type": "display_data"
    }
   ],
   "source": [
    "dim(offline)\n",
    "\n",
    "names(offline) = c(\"time\", \"scanMac\", \"posX\", \"posY\", \"posZ\", \n",
    "                   \"orientation\", \"mac\", \"signal\", \n",
    "                   \"channel\", \"type\")\n",
    "\n",
    "numVars = c(\"time\", \"posX\", \"posY\", \"posZ\", \n",
    "            \"orientation\", \"signal\")\n",
    "offline[ numVars ] =  lapply(offline[ numVars ], as.numeric)\n",
    "\n",
    "offline = offline[ offline$type == \"3\", ]\n",
    "offline = offline[ , \"type\" != names(offline) ]\n",
    "dim(offline)\n",
    "\n",
    "offline$rawTime = offline$time\n",
    "offline$time = offline$time/1000\n",
    "class(offline$time) = c(\"POSIXt\", \"POSIXct\")"
   ]
  },
  {
   "cell_type": "code",
   "execution_count": 55,
   "metadata": {},
   "outputs": [
    {
     "data": {
      "text/html": [
       "<dl class=dl-horizontal>\n",
       "\t<dt>time1</dt>\n",
       "\t\t<dd>'POSIXt'</dd>\n",
       "\t<dt>time2</dt>\n",
       "\t\t<dd>'POSIXct'</dd>\n",
       "\t<dt>scanMac</dt>\n",
       "\t\t<dd>'character'</dd>\n",
       "\t<dt>posX</dt>\n",
       "\t\t<dd>'numeric'</dd>\n",
       "\t<dt>posY</dt>\n",
       "\t\t<dd>'numeric'</dd>\n",
       "\t<dt>posZ</dt>\n",
       "\t\t<dd>'numeric'</dd>\n",
       "\t<dt>orientation</dt>\n",
       "\t\t<dd>'numeric'</dd>\n",
       "\t<dt>mac</dt>\n",
       "\t\t<dd>'character'</dd>\n",
       "\t<dt>signal</dt>\n",
       "\t\t<dd>'numeric'</dd>\n",
       "\t<dt>channel</dt>\n",
       "\t\t<dd>'character'</dd>\n",
       "\t<dt>rawTime</dt>\n",
       "\t\t<dd>'numeric'</dd>\n",
       "</dl>\n"
      ],
      "text/latex": [
       "\\begin{description*}\n",
       "\\item[time1] 'POSIXt'\n",
       "\\item[time2] 'POSIXct'\n",
       "\\item[scanMac] 'character'\n",
       "\\item[posX] 'numeric'\n",
       "\\item[posY] 'numeric'\n",
       "\\item[posZ] 'numeric'\n",
       "\\item[orientation] 'numeric'\n",
       "\\item[mac] 'character'\n",
       "\\item[signal] 'numeric'\n",
       "\\item[channel] 'character'\n",
       "\\item[rawTime] 'numeric'\n",
       "\\end{description*}\n"
      ],
      "text/markdown": [
       "time1\n",
       ":   'POSIXt'time2\n",
       ":   'POSIXct'scanMac\n",
       ":   'character'posX\n",
       ":   'numeric'posY\n",
       ":   'numeric'posZ\n",
       ":   'numeric'orientation\n",
       ":   'numeric'mac\n",
       ":   'character'signal\n",
       ":   'numeric'channel\n",
       ":   'character'rawTime\n",
       ":   'numeric'\n",
       "\n"
      ],
      "text/plain": [
       "      time1       time2     scanMac        posX        posY        posZ \n",
       "   \"POSIXt\"   \"POSIXct\" \"character\"   \"numeric\"   \"numeric\"   \"numeric\" \n",
       "orientation         mac      signal     channel     rawTime \n",
       "  \"numeric\" \"character\"   \"numeric\" \"character\"   \"numeric\" "
      ]
     },
     "metadata": {},
     "output_type": "display_data"
    },
    {
     "data": {
      "text/plain": [
       "      time                          posX         posY           posZ  \n",
       " Min.   :2006-02-11 02:31:58   Min.   : 0   Min.   : 0.0   Min.   :0  \n",
       " 1st Qu.:2006-02-11 08:21:27   1st Qu.: 2   1st Qu.: 3.0   1st Qu.:0  \n",
       " Median :2006-02-11 14:57:58   Median :12   Median : 6.0   Median :0  \n",
       " Mean   :2006-02-16 09:57:37   Mean   :14   Mean   : 5.9   Mean   :0  \n",
       " 3rd Qu.:2006-02-19 09:52:40   3rd Qu.:23   3rd Qu.: 8.0   3rd Qu.:0  \n",
       " Max.   :2006-03-09 15:41:10   Max.   :33   Max.   :13.0   Max.   :0  \n",
       "  orientation      signal   \n",
       " Min.   :  0   Min.   :-99  \n",
       " 1st Qu.: 90   1st Qu.:-69  \n",
       " Median :180   Median :-60  \n",
       " Mean   :167   Mean   :-62  \n",
       " 3rd Qu.:270   3rd Qu.:-53  \n",
       " Max.   :360   Max.   :-25  "
      ]
     },
     "metadata": {},
     "output_type": "display_data"
    },
    {
     "data": {
      "text/plain": [
       "                mac               channel                    scanMac      \n",
       " 00:0f:a3:39:e1:c0:145862   2462000000:189774   00:02:2D:21:0F:33:978443  \n",
       " 00:0f:a3:39:dd:cd:145619   2437000000:152124                             \n",
       " 00:14:bf:b1:97:8a:132962   2412000000:145619                             \n",
       " 00:14:bf:3b:c7:c6:126529   2432000000:126529                             \n",
       " 00:14:bf:b1:97:90:122315   2427000000:122315                             \n",
       " 00:14:bf:b1:97:8d:121325   2442000000:121325                             \n",
       " (Other)          :183831   (Other)   :120757                             "
      ]
     },
     "metadata": {},
     "output_type": "display_data"
    },
    {
     "data": {
      "text/html": [
       "203"
      ],
      "text/latex": [
       "203"
      ],
      "text/markdown": [
       "203"
      ],
      "text/plain": [
       "[1] 203"
      ]
     },
     "metadata": {},
     "output_type": "display_data"
    },
    {
     "data": {
      "image/png": "[encoded data removed]",
      "text/plain": [
       "Plot with title \"ecdf(offline$orientation)\""
      ]
     },
     "metadata": {},
     "output_type": "display_data"
    }
   ],
   "source": [
    "unlist(lapply(offline, class))\n",
    "\n",
    "summary(offline[, numVars])\n",
    "\n",
    " summary(sapply(offline[ , c(\"mac\", \"channel\", \"scanMac\")],\n",
    "                as.factor))\n",
    "\n",
    "offline = offline[ , !(names(offline) %in% c(\"scanMac\", \"posZ\"))]\n",
    "\n",
    "length(unique(offline$orientation))\n",
    "\n",
    "plot(ecdf(offline$orientation))"
   ]
  },
  {
   "cell_type": "code",
   "execution_count": 56,
   "metadata": {},
   "outputs": [
    {
     "data": {
      "text/html": [
       "<strong>null device:</strong> 1"
      ],
      "text/latex": [
       "\\textbf{null device:} 1"
      ],
      "text/markdown": [
       "**null device:** 1"
      ],
      "text/plain": [
       "null device \n",
       "          1 "
      ]
     },
     "metadata": {},
     "output_type": "display_data"
    },
    {
     "data": {
      "image/png": "[encoded data removed]",
      "text/plain": [
       "Plot with title \"\""
      ]
     },
     "metadata": {},
     "output_type": "display_data"
    }
   ],
   "source": [
    "#pdf(file = \"Geo_ECDFOrientation.pdf\", width = 10, height = 7)\n",
    "oldPar = par(mar = c(4, 4, 1, 1))\n",
    "plot(ecdf(offline$orientation), pch = 19, cex = 0.3,\n",
    "     xlim = c(-5, 365), axes = FALSE,\n",
    "     xlab = \"orientation\", ylab = \"Empirical CDF\", main = \"\")\n",
    "box()\n",
    "axis(2)\n",
    "axis(side = 1, at = seq(0, 360, by = 45))\n",
    "par(oldPar)\n",
    "dev.off()"
   ]
  },
  {
   "cell_type": "code",
   "execution_count": 57,
   "metadata": {},
   "outputs": [
    {
     "data": {
      "text/html": [
       "<strong>null device:</strong> 1"
      ],
      "text/latex": [
       "\\textbf{null device:} 1"
      ],
      "text/markdown": [
       "**null device:** 1"
      ],
      "text/plain": [
       "null device \n",
       "          1 "
      ]
     },
     "metadata": {},
     "output_type": "display_data"
    },
    {
     "data": {
      "text/html": [
       "<strong>null device:</strong> 1"
      ],
      "text/latex": [
       "\\textbf{null device:} 1"
      ],
      "text/markdown": [
       "**null device:** 1"
      ],
      "text/plain": [
       "null device \n",
       "          1 "
      ]
     },
     "metadata": {},
     "output_type": "display_data"
    },
    {
     "data": {
      "image/png": "[encoded data removed]",
      "text/plain": [
       "Plot with title \"\""
      ]
     },
     "metadata": {},
     "output_type": "display_data"
    }
   ],
   "source": [
    "#pdf(file = \"Geo_DensityOrientation.pdf\", width = 10, height = 5)\n",
    "oldPar = par(mar = c(4, 4, 1, 1))\n",
    "plot(density(offline$orientation, bw = 2), \n",
    " xlab = \"orientation\", main = \"\")\n",
    "par(oldPar)\n",
    "dev.off()\n",
    "\n",
    "roundOrientation = function(angles) {\n",
    "  refs = seq(0, by = 45, length  = 9)\n",
    "  q = sapply(angles, function(o) which.min(abs(o - refs)))\n",
    "  c(refs[1:8], 0)[q]\n",
    "}\n",
    "\n",
    "offline$angle = roundOrientation(offline$orientation)\n",
    "\n",
    "#pdf(file = \"Geo_BoxplotAngle.pdf\", width = 10)\n",
    "oldPar = par(mar = c(4, 4, 1, 1))\n",
    "\n",
    "par(oldPar)\n",
    "dev.off()"
   ]
  },
  {
   "cell_type": "code",
   "execution_count": 58,
   "metadata": {},
   "outputs": [
    {
     "data": {
      "text/html": [
       "<ol class=list-inline>\n",
       "\t<li>12</li>\n",
       "\t<li>8</li>\n",
       "</ol>\n"
      ],
      "text/latex": [
       "\\begin{enumerate*}\n",
       "\\item 12\n",
       "\\item 8\n",
       "\\end{enumerate*}\n"
      ],
      "text/markdown": [
       "1. 12\n",
       "2. 8\n",
       "\n",
       "\n"
      ],
      "text/plain": [
       "[1] 12  8"
      ]
     },
     "metadata": {},
     "output_type": "display_data"
    },
    {
     "data": {
      "text/plain": [
       "\n",
       "00:04:0e:5c:23:fc 00:0f:a3:39:dd:cd 00:0f:a3:39:e0:4b 00:0f:a3:39:e1:c0 \n",
       "              418            145619             43508            145862 \n",
       "00:0f:a3:39:e2:10 00:14:bf:3b:c7:c6 00:14:bf:b1:97:81 00:14:bf:b1:97:8a \n",
       "            19162            126529            120339            132962 \n",
       "00:14:bf:b1:97:8d 00:14:bf:b1:97:90 00:30:bd:f8:7f:c5 00:e0:63:82:8b:a9 \n",
       "           121325            122315               301               103 "
      ]
     },
     "metadata": {},
     "output_type": "display_data"
    },
    {
     "data": {
      "text/html": [
       "<dl class=dl-horizontal>\n",
       "\t<dt>00:0f:a3:39:dd:cd</dt>\n",
       "\t\t<dd>1</dd>\n",
       "\t<dt>00:0f:a3:39:e1:c0</dt>\n",
       "\t\t<dd>1</dd>\n",
       "\t<dt>00:14:bf:3b:c7:c6</dt>\n",
       "\t\t<dd>1</dd>\n",
       "\t<dt>00:14:bf:b1:97:81</dt>\n",
       "\t\t<dd>1</dd>\n",
       "\t<dt>00:14:bf:b1:97:8a</dt>\n",
       "\t\t<dd>1</dd>\n",
       "\t<dt>00:14:bf:b1:97:8d</dt>\n",
       "\t\t<dd>1</dd>\n",
       "\t<dt>00:14:bf:b1:97:90</dt>\n",
       "\t\t<dd>1</dd>\n",
       "</dl>\n"
      ],
      "text/latex": [
       "\\begin{description*}\n",
       "\\item[00:0f:a3:39:dd:cd] 1\n",
       "\\item[00:0f:a3:39:e1:c0] 1\n",
       "\\item[00:14:bf:3b:c7:c6] 1\n",
       "\\item[00:14:bf:b1:97:81] 1\n",
       "\\item[00:14:bf:b1:97:8a] 1\n",
       "\\item[00:14:bf:b1:97:8d] 1\n",
       "\\item[00:14:bf:b1:97:90] 1\n",
       "\\end{description*}\n"
      ],
      "text/markdown": [
       "00:0f:a3:39:dd:cd\n",
       ":   100:0f:a3:39:e1:c0\n",
       ":   100:14:bf:3b:c7:c6\n",
       ":   100:14:bf:b1:97:81\n",
       ":   100:14:bf:b1:97:8a\n",
       ":   100:14:bf:b1:97:8d\n",
       ":   100:14:bf:b1:97:90\n",
       ":   1\n",
       "\n"
      ],
      "text/plain": [
       "00:0f:a3:39:dd:cd 00:0f:a3:39:e1:c0 00:14:bf:3b:c7:c6 00:14:bf:b1:97:81 \n",
       "                1                 1                 1                 1 \n",
       "00:14:bf:b1:97:8a 00:14:bf:b1:97:8d 00:14:bf:b1:97:90 \n",
       "                1                 1                 1 "
      ]
     },
     "metadata": {},
     "output_type": "display_data"
    }
   ],
   "source": [
    "c(length(unique(offline$mac)), length(unique(offline$channel)))\n",
    "\n",
    "table(offline$mac)\n",
    "\n",
    "subMacs = names(sort(table(offline$mac), decreasing = TRUE))[1:7]\n",
    "offline = offline[ offline$mac %in% subMacs, ]\n",
    "\n",
    "macChannel = with(offline, table(mac, channel))\n",
    "apply(macChannel, 1, function(x) sum(x > 0))"
   ]
  },
  {
   "cell_type": "code",
   "execution_count": 59,
   "metadata": {},
   "outputs": [
    {
     "data": {
      "text/html": [
       "476"
      ],
      "text/latex": [
       "476"
      ],
      "text/markdown": [
       "476"
      ],
      "text/plain": [
       "[1] 476"
      ]
     },
     "metadata": {},
     "output_type": "display_data"
    },
    {
     "data": {
      "text/html": [
       "310"
      ],
      "text/latex": [
       "310"
      ],
      "text/markdown": [
       "310"
      ],
      "text/plain": [
       "[1] 310"
      ]
     },
     "metadata": {},
     "output_type": "display_data"
    },
    {
     "data": {
      "text/html": [
       "166"
      ],
      "text/latex": [
       "166"
      ],
      "text/markdown": [
       "166"
      ],
      "text/plain": [
       "[1] 166"
      ]
     },
     "metadata": {},
     "output_type": "display_data"
    },
    {
     "data": {
      "text/html": [
       "'matrix'"
      ],
      "text/latex": [
       "'matrix'"
      ],
      "text/markdown": [
       "'matrix'"
      ],
      "text/plain": [
       "[1] \"matrix\""
      ]
     },
     "metadata": {},
     "output_type": "display_data"
    },
    {
     "data": {
      "text/html": [
       "<ol class=list-inline>\n",
       "\t<li>3</li>\n",
       "\t<li>166</li>\n",
       "</ol>\n"
      ],
      "text/latex": [
       "\\begin{enumerate*}\n",
       "\\item 3\n",
       "\\item 166\n",
       "\\end{enumerate*}\n"
      ],
      "text/markdown": [
       "1. 3\n",
       "2. 166\n",
       "\n",
       "\n"
      ],
      "text/plain": [
       "[1]   3 166"
      ]
     },
     "metadata": {},
     "output_type": "display_data"
    },
    {
     "data": {
      "text/html": [
       "<table>\n",
       "<tbody>\n",
       "\t<tr><th scope=row>posX</th><td>0</td><td>1</td><td>2</td><td>0</td><td>1</td><td>2</td><td>0</td><td>1</td></tr>\n",
       "\t<tr><th scope=row>posY</th><td>0</td><td>0</td><td>0</td><td>1</td><td>1</td><td>1</td><td>2</td><td>2</td></tr>\n",
       "\t<tr><th scope=row>count</th><td>5505</td><td>5505</td><td>5506</td><td>5524</td><td>5543</td><td>5558</td><td>5503</td><td>5564</td></tr>\n",
       "</tbody>\n",
       "</table>\n"
      ],
      "text/latex": [
       "\\begin{tabular}{r|llllllll}\n",
       "\tposX & 0 & 1 & 2 & 0 & 1 & 2 & 0 & 1\\\\\n",
       "\tposY & 0 & 0 & 0 & 1 & 1 & 1 & 2 & 2\\\\\n",
       "\tcount & 5505 & 5505 & 5506 & 5524 & 5543 & 5558 & 5503 & 5564\\\\\n",
       "\\end{tabular}\n"
      ],
      "text/markdown": [
       "\n",
       "| posX | 0 | 1 | 2 | 0 | 1 | 2 | 0 | 1 | \n",
       "| posY | 0 | 0 | 0 | 1 | 1 | 1 | 2 | 2 | \n",
       "| count | 5505 | 5505 | 5506 | 5524 | 5543 | 5558 | 5503 | 5564 | \n",
       "\n",
       "\n"
      ],
      "text/plain": [
       "      [,1] [,2] [,3] [,4] [,5] [,6] [,7] [,8]\n",
       "posX  0    1    2    0    1    2    0    1   \n",
       "posY  0    0    0    1    1    1    2    2   \n",
       "count 5505 5505 5506 5524 5543 5558 5503 5564"
      ]
     },
     "metadata": {},
     "output_type": "display_data"
    }
   ],
   "source": [
    "offline = offline[ , \"channel\" != names(offline)]\n",
    "\n",
    "locDF = with(offline, \n",
    "             by(offline, list(posX, posY), function(x) x))\n",
    "length(locDF)\n",
    "\n",
    "\n",
    "sum(sapply(locDF, is.null))\n",
    "\n",
    "locDF = locDF[ !sapply(locDF, is.null) ]\n",
    "\n",
    "length(locDF)\n",
    "\n",
    "locCounts = sapply(locDF, nrow)\n",
    "\n",
    "locCounts = sapply(locDF, \n",
    "                   function(df) \n",
    "                     c(df[1, c(\"posX\", \"posY\")], count = nrow(df)))\n",
    "\n",
    "class(locCounts)\n",
    "\n",
    "dim(locCounts)\n",
    "\n",
    "locCounts[ , 1:8]"
   ]
  },
  {
   "cell_type": "code",
   "execution_count": 60,
   "metadata": {},
   "outputs": [
    {
     "data": {
      "text/html": [
       "<strong>null device:</strong> 1"
      ],
      "text/latex": [
       "\\textbf{null device:} 1"
      ],
      "text/markdown": [
       "**null device:** 1"
      ],
      "text/plain": [
       "null device \n",
       "          1 "
      ]
     },
     "metadata": {},
     "output_type": "display_data"
    },
    {
     "data": {
      "image/png": "[encoded data removed]",
      "text/plain": [
       "plot without title"
      ]
     },
     "metadata": {},
     "output_type": "display_data"
    }
   ],
   "source": [
    "#pdf(file = \"Geo_XYByCount.pdf\", width = 10)\n",
    "oldPar = par(mar = c(3.1, 3.1, 1, 1))\n",
    "\n",
    "locCounts = t(locCounts)\n",
    "plot(locCounts, type = \"n\", xlab = \"\", ylab = \"\")\n",
    "text(locCounts, labels = locCounts[,3], cex = .8, srt = 45)\n",
    "\n",
    "par(oldPar)\n",
    "dev.off()"
   ]
  },
  {
   "cell_type": "code",
   "execution_count": 61,
   "metadata": {},
   "outputs": [],
   "source": [
    "readData = \n",
    "  function(filename = 'offline.final.trace.txt', \n",
    "           subMacs = c(\"00:0f:a3:39:e1:c0\", \"00:0f:a3:39:dd:cd\", \"00:14:bf:b1:97:8a\",\n",
    "                       \"00:14:bf:3b:c7:c6\", \"00:14:bf:b1:97:90\", \"00:14:bf:b1:97:8d\",\n",
    "                       \"00:14:bf:b1:97:81\"))\n",
    "  {\n",
    "    txt = readLines(filename)\n",
    "    lines = txt[ substr(txt, 1, 1) != \"#\" ]\n",
    "    tmp = lapply(lines, processLine)\n",
    "    offline = as.data.frame(do.call(\"rbind\", tmp), \n",
    "                            stringsAsFactors= FALSE) \n",
    "    \n",
    "    names(offline) = c(\"time\", \"scanMac\", \n",
    "                       \"posX\", \"posY\", \"posZ\", \"orientation\", \n",
    "                       \"mac\", \"signal\", \"channel\", \"type\")\n",
    "    \n",
    "     # keep only signals from access points\n",
    "    offline = offline[ offline$type == \"3\", ]\n",
    "    \n",
    "    # drop scanMac, posZ, channel, and type - no info in them\n",
    "    dropVars = c(\"scanMac\", \"posZ\", \"channel\", \"type\")\n",
    "    offline = offline[ , !( names(offline) %in% dropVars ) ]\n",
    "    \n",
    "    # drop more unwanted access points\n",
    "    offline = offline[ offline$mac %in% subMacs, ]\n",
    "    \n",
    "    # convert numeric values\n",
    "    numVars = c(\"time\", \"posX\", \"posY\", \"orientation\", \"signal\")\n",
    "    offline[ numVars ] = lapply(offline[ numVars ], as.numeric)\n",
    "\n",
    "    # convert time to POSIX\n",
    "    offline$rawTime = offline$time\n",
    "    offline$time = offline$time/1000\n",
    "    class(offline$time) = c(\"POSIXt\", \"POSIXct\")\n",
    "    \n",
    "    # round orientations to nearest 45\n",
    "    offline$angle = roundOrientation(offline$orientation)\n",
    "      \n",
    "    return(offline)\n",
    "  }"
   ]
  },
  {
   "cell_type": "code",
   "execution_count": 62,
   "metadata": {},
   "outputs": [
    {
     "data": {
      "text/html": [
       "TRUE"
      ],
      "text/latex": [
       "TRUE"
      ],
      "text/markdown": [
       "TRUE"
      ],
      "text/plain": [
       "[1] TRUE"
      ]
     },
     "metadata": {},
     "output_type": "display_data"
    }
   ],
   "source": [
    "offlineRedo = readData()\n",
    "\n",
    "identical(offline, offlineRedo)"
   ]
  },
  {
   "cell_type": "code",
   "execution_count": 63,
   "metadata": {},
   "outputs": [
    {
     "data": {},
     "metadata": {},
     "output_type": "display_data"
    },
    {
     "data": {
      "text/html": [
       "<strong>null device:</strong> 1"
      ],
      "text/latex": [
       "\\textbf{null device:} 1"
      ],
      "text/markdown": [
       "**null device:** 1"
      ],
      "text/plain": [
       "null device \n",
       "          1 "
      ]
     },
     "metadata": {},
     "output_type": "display_data"
    },
    {
     "data": {
      "image/png": "[encoded data removed]",
      "text/plain": [
       "plot without title"
      ]
     },
     "metadata": {},
     "output_type": "display_data"
    }
   ],
   "source": [
    "#pdf(file = \"Geo_BoxplotSignalByMacAngle.pdf\", width = 7)\n",
    "oldPar = par(mar = c(3.1, 3, 1, 1))\n",
    "\n",
    "library(lattice)\n",
    "bwplot(signal ~ factor(angle) | mac, data = offline, \n",
    "       subset = posX == 2 & posY == 12 \n",
    "                & mac != \"00:0f:a3:39:dd:cd\", \n",
    "       layout = c(2,3))\n",
    "\n",
    "par(oldPar)\n",
    "dev.off()"
   ]
  },
  {
   "cell_type": "code",
   "execution_count": 64,
   "metadata": {},
   "outputs": [
    {
     "data": {
      "text/plain": [
       "   Min. 1st Qu.  Median    Mean 3rd Qu.    Max. \n",
       "    -98     -67     -59     -60     -53     -25 "
      ]
     },
     "metadata": {},
     "output_type": "display_data"
    },
    {
     "data": {},
     "metadata": {},
     "output_type": "display_data"
    },
    {
     "data": {
      "text/html": [
       "<strong>null device:</strong> 1"
      ],
      "text/latex": [
       "\\textbf{null device:} 1"
      ],
      "text/markdown": [
       "**null device:** 1"
      ],
      "text/plain": [
       "null device \n",
       "          1 "
      ]
     },
     "metadata": {},
     "output_type": "display_data"
    },
    {
     "data": {
      "image/png": "[encoded data removed]",
      "text/plain": [
       "plot without title"
      ]
     },
     "metadata": {},
     "output_type": "display_data"
    }
   ],
   "source": [
    "summary(offline$signal)\n",
    "\n",
    "#pdf(file = \"Geo_DensitySignalByMacAngle.pdf\", width = 8, height = 12)\n",
    "oldPar = par(mar = c(3.1, 3, 1, 1))\n",
    "\n",
    "densityplot( ~ signal | mac + factor(angle), data = offline,\n",
    "             subset = posX == 24 & posY == 4 & \n",
    "                         mac != \"00:0f:a3:39:dd:cd\",\n",
    "             bw = 0.5, plot.points = FALSE)\n",
    "\n",
    "par(oldPar)\n",
    "dev.off()"
   ]
  },
  {
   "cell_type": "code",
   "execution_count": 65,
   "metadata": {},
   "outputs": [],
   "source": [
    "#offline = offline[ offline$mac != \"00:0f:a3:39:dd:cd\", ]\n",
    "\n",
    "offline$posXY = paste(offline$posX, offline$posY, sep = \"-\")\n",
    "\n",
    "byLocAngleAP = with(offline, \n",
    "                    by(offline, list(posXY, angle, mac), \n",
    "                       function(x) x))"
   ]
  },
  {
   "cell_type": "code",
   "execution_count": 66,
   "metadata": {},
   "outputs": [],
   "source": [
    "signalSummary = \n",
    "  lapply(byLocAngleAP,            \n",
    "         function(oneLoc) {\n",
    "           ans = oneLoc[1, ]\n",
    "           ans$medSignal = median(oneLoc$signal)\n",
    "           ans$avgSignal = mean(oneLoc$signal)\n",
    "           ans$num = length(oneLoc$signal)\n",
    "           ans$sdSignal = sd(oneLoc$signal)\n",
    "           ans$iqrSignal = IQR(oneLoc$signal)\n",
    "           ans\n",
    "           })"
   ]
  },
  {
   "cell_type": "code",
   "execution_count": 67,
   "metadata": {},
   "outputs": [
    {
     "data": {},
     "metadata": {},
     "output_type": "display_data"
    },
    {
     "data": {
      "text/html": [
       "<strong>null device:</strong> 1"
      ],
      "text/latex": [
       "\\textbf{null device:} 1"
      ],
      "text/markdown": [
       "**null device:** 1"
      ],
      "text/plain": [
       "null device \n",
       "          1 "
      ]
     },
     "metadata": {},
     "output_type": "display_data"
    },
    {
     "data": {
      "text/html": [
       "<strong>null device:</strong> 1"
      ],
      "text/latex": [
       "\\textbf{null device:} 1"
      ],
      "text/markdown": [
       "**null device:** 1"
      ],
      "text/plain": [
       "null device \n",
       "          1 "
      ]
     },
     "metadata": {},
     "output_type": "display_data"
    },
    {
     "data": {
      "image/png": "[encoded data removed]",
      "text/plain": [
       "plot without title"
      ]
     },
     "metadata": {},
     "output_type": "display_data"
    }
   ],
   "source": [
    "offlineSummary = do.call(\"rbind\", signalSummary)     \n",
    "\n",
    "#pdf(file = \"Geo_BoxplotSignalSDByAvg.pdf\", width = 10)\n",
    "oldPar = par(mar = c(3.1, 3, 1, 1))\n",
    "\n",
    "breaks = seq(-90, -30, by = 5)\n",
    "bwplot(sdSignal ~ cut(avgSignal, breaks = breaks),\n",
    "       data = offlineSummary, \n",
    "       subset = mac != \"00:0f:a3:39:dd:cd\",\n",
    "       xlab = \"Mean Signal\", ylab = \"SD Signal\")\n",
    "\n",
    "par(oldPar)\n",
    "dev.off()\n",
    "\n",
    "#pdf(file = \"Geo_ScatterMean-Median.pdf\", width = 10)\n",
    "oldPar = par(mar = c(4.1, 4.1, 1, 1))\n",
    "\n",
    "with(offlineSummary,\n",
    "     smoothScatter((avgSignal - medSignal) ~ num,\n",
    "                   xlab = \"Number of Observations\", \n",
    "                   ylab = \"mean - median\"))\n",
    "abline(h = 0, col = \"#984ea3\", lwd = 2)\n",
    "lo.obj = \n",
    "  with(offlineSummary,\n",
    "       loess(diff ~ num, \n",
    "             data = data.frame(diff = (avgSignal - medSignal),\n",
    "                               num = num)))\n",
    "\n",
    "lo.obj.pr = predict(lo.obj, newdata = data.frame(num = (70:120)))\n",
    "lines(x = 70:120, y = lo.obj.pr, col = \"#4daf4a\", lwd = 2)\n",
    "\n",
    "par(oldPar)\n",
    "dev.off()"
   ]
  },
  {
   "cell_type": "code",
   "execution_count": 68,
   "metadata": {},
   "outputs": [],
   "source": [
    "\n",
    " \n",
    "oneAPAngle = subset(offlineSummary, \n",
    "                    mac == subMacs[5] & angle == 0)\n",
    "\n",
    "\n",
    "\n"
   ]
  },
  {
   "cell_type": "code",
   "execution_count": 69,
   "metadata": {},
   "outputs": [
    {
     "name": "stderr",
     "output_type": "stream",
     "text": [
      "Loading required package: spam\n",
      "Loading required package: dotCall64\n",
      "Loading required package: grid\n",
      "Spam version 2.2-0 (2018-06-19) is loaded.\n",
      "Type 'help( Spam)' or 'demo( spam)' for a short introduction \n",
      "and overview of this package.\n",
      "Help for individual functions is also obtained by adding the\n",
      "suffix '.spam' to the function name, e.g. 'help( chol.spam)'.\n",
      "\n",
      "Attaching package: 'spam'\n",
      "\n",
      "The following objects are masked from 'package:base':\n",
      "\n",
      "    backsolve, forwardsolve\n",
      "\n",
      "Loading required package: maps\n",
      "See www.image.ucar.edu/~nychka/Fields for\n",
      " a vignette and other supplements. \n"
     ]
    },
    {
     "data": {
      "image/png": "[encoded data removed]",
      "text/plain": [
       "plot without title"
      ]
     },
     "metadata": {},
     "output_type": "display_data"
    }
   ],
   "source": [
    "library(fields)\n",
    "smoothSS = Tps(oneAPAngle[, c(\"posX\",\"posY\")], \n",
    "               oneAPAngle$avgSignal)\n",
    "\n",
    "vizSmooth = predictSurface(smoothSS)\n",
    "\n",
    "plot.surface(vizSmooth, type = \"C\")\n",
    "\n",
    "points(oneAPAngle$posX, oneAPAngle$posY, pch=19, cex = 0.5)"
   ]
  },
  {
   "cell_type": "code",
   "execution_count": 70,
   "metadata": {},
   "outputs": [
    {
     "data": {
      "text/html": [
       "<dl>\n",
       "\t<dt>$`00:14:bf:b1:97:90`</dt>\n",
       "\t\t<dd>NULL</dd>\n",
       "\t<dt>$`00:14:bf:b1:97:90`</dt>\n",
       "\t\t<dd>NULL</dd>\n",
       "\t<dt>$`00:0f:a3:39:e1:c0`</dt>\n",
       "\t\t<dd>NULL</dd>\n",
       "\t<dt>$`00:0f:a3:39:e1:c0`</dt>\n",
       "\t\t<dd>NULL</dd>\n",
       "</dl>\n"
      ],
      "text/latex": [
       "\\begin{description}\n",
       "\\item[\\$`00:14:bf:b1:97:90`] NULL\n",
       "\\item[\\$`00:14:bf:b1:97:90`] NULL\n",
       "\\item[\\$`00:0f:a3:39:e1:c0`] NULL\n",
       "\\item[\\$`00:0f:a3:39:e1:c0`] NULL\n",
       "\\end{description}\n"
      ],
      "text/markdown": [
       "$`00:14:bf:b1:97:90`\n",
       ":   NULL\n",
       "$`00:14:bf:b1:97:90`\n",
       ":   NULL\n",
       "$`00:0f:a3:39:e1:c0`\n",
       ":   NULL\n",
       "$`00:0f:a3:39:e1:c0`\n",
       ":   NULL\n",
       "\n",
       "\n"
      ],
      "text/plain": [
       "$`00:14:bf:b1:97:90`\n",
       "NULL\n",
       "\n",
       "$`00:14:bf:b1:97:90`\n",
       "NULL\n",
       "\n",
       "$`00:0f:a3:39:e1:c0`\n",
       "NULL\n",
       "\n",
       "$`00:0f:a3:39:e1:c0`\n",
       "NULL\n"
      ]
     },
     "metadata": {},
     "output_type": "display_data"
    },
    {
     "data": {
      "image/png": "[encoded data removed]",
      "text/plain": [
       "plot without title"
      ]
     },
     "metadata": {},
     "output_type": "display_data"
    }
   ],
   "source": [
    "surfaceSS = function(data, mac, angle = 45) {\n",
    "  require(fields)\n",
    "  oneAPAngle = data[ data$mac == mac & data$angle == angle, ]\n",
    "  smoothSS = Tps(oneAPAngle[, c(\"posX\",\"posY\")], \n",
    "                 oneAPAngle$avgSignal)\n",
    "  vizSmooth = predictSurface(smoothSS)\n",
    "  plot.surface(vizSmooth, type = \"C\", \n",
    "               xlab = \"\", ylab = \"\", xaxt = \"n\", yaxt = \"n\")\n",
    "  points(oneAPAngle$posX, oneAPAngle$posY, pch=19, cex = 0.5) \n",
    "}\n",
    "\n",
    "parCur = par(mfrow = c(2,2), mar = rep(1, 4))\n",
    "\n",
    "mapply(surfaceSS, mac = subMacs[ rep(c(5, 1), each = 2) ], \n",
    "       angle = rep(c(0, 135), 2),\n",
    "       data = list(data = offlineSummary))\n",
    " \n",
    "par(parCur)\n",
    "\n",
    "offlineSummary = subset(offlineSummary, mac != subMacs[2])"
   ]
  },
  {
   "cell_type": "code",
   "execution_count": 71,
   "metadata": {},
   "outputs": [
    {
     "data": {
      "text/html": [
       "<table>\n",
       "<thead><tr><th></th><th scope=col>x</th><th scope=col>y</th></tr></thead>\n",
       "<tbody>\n",
       "\t<tr><th scope=row>00:0f:a3:39:e1:c0</th><td> 7.5</td><td> 6.3</td></tr>\n",
       "\t<tr><th scope=row>00:14:bf:b1:97:8a</th><td> 2.5</td><td>-0.8</td></tr>\n",
       "\t<tr><th scope=row>00:14:bf:3b:c7:c6</th><td>12.8</td><td>-2.8</td></tr>\n",
       "\t<tr><th scope=row>00:14:bf:b1:97:90</th><td> 1.0</td><td>14.0</td></tr>\n",
       "\t<tr><th scope=row>00:14:bf:b1:97:8d</th><td>33.5</td><td> 9.3</td></tr>\n",
       "\t<tr><th scope=row>00:14:bf:b1:97:81</th><td>33.5</td><td> 2.8</td></tr>\n",
       "</tbody>\n",
       "</table>\n"
      ],
      "text/latex": [
       "\\begin{tabular}{r|ll}\n",
       "  & x & y\\\\\n",
       "\\hline\n",
       "\t00:0f:a3:39:e1:c0 &  7.5 &  6.3\\\\\n",
       "\t00:14:bf:b1:97:8a &  2.5 & -0.8\\\\\n",
       "\t00:14:bf:3b:c7:c6 & 12.8 & -2.8\\\\\n",
       "\t00:14:bf:b1:97:90 &  1.0 & 14.0\\\\\n",
       "\t00:14:bf:b1:97:8d & 33.5 &  9.3\\\\\n",
       "\t00:14:bf:b1:97:81 & 33.5 &  2.8\\\\\n",
       "\\end{tabular}\n"
      ],
      "text/markdown": [
       "\n",
       "| <!--/--> | x | y | \n",
       "|---|---|---|---|---|---|\n",
       "| 00:0f:a3:39:e1:c0 |  7.5 |  6.3 | \n",
       "| 00:14:bf:b1:97:8a |  2.5 | -0.8 | \n",
       "| 00:14:bf:3b:c7:c6 | 12.8 | -2.8 | \n",
       "| 00:14:bf:b1:97:90 |  1.0 | 14.0 | \n",
       "| 00:14:bf:b1:97:8d | 33.5 |  9.3 | \n",
       "| 00:14:bf:b1:97:81 | 33.5 |  2.8 | \n",
       "\n",
       "\n"
      ],
      "text/plain": [
       "                  x    y   \n",
       "00:0f:a3:39:e1:c0  7.5  6.3\n",
       "00:14:bf:b1:97:8a  2.5 -0.8\n",
       "00:14:bf:3b:c7:c6 12.8 -2.8\n",
       "00:14:bf:b1:97:90  1.0 14.0\n",
       "00:14:bf:b1:97:8d 33.5  9.3\n",
       "00:14:bf:b1:97:81 33.5  2.8"
      ]
     },
     "metadata": {},
     "output_type": "display_data"
    },
    {
     "data": {},
     "metadata": {},
     "output_type": "display_data"
    },
    {
     "data": {
      "image/png": "[encoded data removed]",
      "text/plain": [
       "plot without title"
      ]
     },
     "metadata": {},
     "output_type": "display_data"
    }
   ],
   "source": [
    "AP = matrix( c( 7.5, 6.3, 2.5, -.8, 12.8, -2.8,  \n",
    "                1, 14, 33.5, 9.3,  33.5, 2.8),\n",
    "            ncol = 2, byrow = TRUE,\n",
    "            dimnames = list(subMacs[ -2 ], c(\"x\", \"y\") ))\n",
    "\n",
    "AP\n",
    "\n",
    "diffs = offlineSummary[ , c(\"posX\", \"posY\")] - \n",
    "          AP[ offlineSummary$mac, ]\n",
    "\n",
    "offlineSummary$dist = sqrt(diffs[ , 1]^2 + diffs[ , 2]^2)\n",
    "\n",
    "xyplot(signal ~ dist | factor(mac) + factor(angle), \n",
    "       data = offlineSummary, pch = 19, cex = 0.3,\n",
    "       xlab =\"distance\")"
   ]
  },
  {
   "cell_type": "code",
   "execution_count": 72,
   "metadata": {},
   "outputs": [
    {
     "data": {},
     "metadata": {},
     "output_type": "display_data"
    },
    {
     "data": {
      "text/html": [
       "<strong>null device:</strong> 1"
      ],
      "text/latex": [
       "\\textbf{null device:} 1"
      ],
      "text/markdown": [
       "**null device:** 1"
      ],
      "text/plain": [
       "null device \n",
       "          1 "
      ]
     },
     "metadata": {},
     "output_type": "display_data"
    },
    {
     "data": {
      "image/png": "[encoded data removed]",
      "text/plain": [
       "plot without title"
      ]
     },
     "metadata": {},
     "output_type": "display_data"
    }
   ],
   "source": [
    "#pdf(file=\"Geo_ScatterSignalDist.pdf\", width = 7, height = 10)\n",
    "oldPar = par(mar = c(3.1, 3.1, 1, 1))\n",
    "library(lattice)\n",
    "xyplot(signal ~ dist | factor(mac) + factor(angle), \n",
    "       data = offlineSummary, pch = 19, cex = 0.3,\n",
    "       xlab =\"distance\")\n",
    "par(oldPar)\n",
    "dev.off()"
   ]
  },
  {
   "cell_type": "code",
   "execution_count": 73,
   "metadata": {},
   "outputs": [
    {
     "data": {
      "text/html": [
       "60"
      ],
      "text/latex": [
       "60"
      ],
      "text/markdown": [
       "60"
      ],
      "text/plain": [
       "[1] 60"
      ]
     },
     "metadata": {},
     "output_type": "display_data"
    },
    {
     "data": {
      "text/plain": [
       "            \n",
       "               0  45  90 135 180 225 270 315\n",
       "  0-0.05       0   0   0 593   0   0   0   0\n",
       "  0.15-9.42    0   0 606   0   0   0   0   0\n",
       "  0.31-11.09   0   0   0   0   0 573   0   0\n",
       "  0.47-8.2   590   0   0   0   0   0   0   0\n",
       "  0.78-10.94 586   0   0   0   0   0   0   0\n",
       "  0.93-11.69   0   0   0   0 583   0   0   0"
      ]
     },
     "metadata": {},
     "output_type": "display_data"
    },
    {
     "data": {
      "text/html": [
       "<ol class=list-inline>\n",
       "\t<li>60</li>\n",
       "\t<li>11</li>\n",
       "</ol>\n"
      ],
      "text/latex": [
       "\\begin{enumerate*}\n",
       "\\item 60\n",
       "\\item 11\n",
       "\\end{enumerate*}\n"
      ],
      "text/markdown": [
       "1. 60\n",
       "2. 11\n",
       "\n",
       "\n"
      ],
      "text/plain": [
       "[1] 60 11"
      ]
     },
     "metadata": {},
     "output_type": "display_data"
    }
   ],
   "source": [
    "macs = unique(offlineSummary$mac)\n",
    "online = readData(\"online.final.trace.txt\", subMacs = macs)\n",
    "\n",
    "online$posXY = paste(online$posX, online$posY, sep = \"-\")\n",
    "\n",
    "length(unique(online$posXY))\n",
    "\n",
    "tabonlineXYA = table(online$posXY, online$angle)\n",
    "tabonlineXYA[1:6, ]\n",
    "\n",
    "keepVars = c(\"posXY\", \"posX\",\"posY\", \"orientation\", \"angle\")\n",
    "byLoc = with(online, \n",
    "             by(online, list(posXY), \n",
    "                function(x) {\n",
    "                  ans = x[1, keepVars]\n",
    "                  avgSS = tapply(x$signal, x$mac, mean)\n",
    "                  y = matrix(avgSS, nrow = 1, ncol = 6,\n",
    "                        dimnames = list(ans$posXY, names(avgSS)))\n",
    "                  cbind(ans, y)\n",
    "                }))\n",
    "\n",
    "onlineSummary = do.call(\"rbind\", byLoc)  \n",
    "\n",
    "dim(onlineSummary)"
   ]
  },
  {
   "cell_type": "code",
   "execution_count": 74,
   "metadata": {},
   "outputs": [
    {
     "data": {
      "text/html": [
       "<ol class=list-inline>\n",
       "\t<li>'posXY'</li>\n",
       "\t<li>'posX'</li>\n",
       "\t<li>'posY'</li>\n",
       "\t<li>'orientation'</li>\n",
       "\t<li>'angle'</li>\n",
       "\t<li>'00:0f:a3:39:e1:c0'</li>\n",
       "\t<li>'00:14:bf:3b:c7:c6'</li>\n",
       "\t<li>'00:14:bf:b1:97:81'</li>\n",
       "\t<li>'00:14:bf:b1:97:8a'</li>\n",
       "\t<li>'00:14:bf:b1:97:8d'</li>\n",
       "\t<li>'00:14:bf:b1:97:90'</li>\n",
       "</ol>\n"
      ],
      "text/latex": [
       "\\begin{enumerate*}\n",
       "\\item 'posXY'\n",
       "\\item 'posX'\n",
       "\\item 'posY'\n",
       "\\item 'orientation'\n",
       "\\item 'angle'\n",
       "\\item '00:0f:a3:39:e1:c0'\n",
       "\\item '00:14:bf:3b:c7:c6'\n",
       "\\item '00:14:bf:b1:97:81'\n",
       "\\item '00:14:bf:b1:97:8a'\n",
       "\\item '00:14:bf:b1:97:8d'\n",
       "\\item '00:14:bf:b1:97:90'\n",
       "\\end{enumerate*}\n"
      ],
      "text/markdown": [
       "1. 'posXY'\n",
       "2. 'posX'\n",
       "3. 'posY'\n",
       "4. 'orientation'\n",
       "5. 'angle'\n",
       "6. '00:0f:a3:39:e1:c0'\n",
       "7. '00:14:bf:3b:c7:c6'\n",
       "8. '00:14:bf:b1:97:81'\n",
       "9. '00:14:bf:b1:97:8a'\n",
       "10. '00:14:bf:b1:97:8d'\n",
       "11. '00:14:bf:b1:97:90'\n",
       "\n",
       "\n"
      ],
      "text/plain": [
       " [1] \"posXY\"             \"posX\"              \"posY\"             \n",
       " [4] \"orientation\"       \"angle\"             \"00:0f:a3:39:e1:c0\"\n",
       " [7] \"00:14:bf:3b:c7:c6\" \"00:14:bf:b1:97:81\" \"00:14:bf:b1:97:8a\"\n",
       "[10] \"00:14:bf:b1:97:8d\" \"00:14:bf:b1:97:90\""
      ]
     },
     "metadata": {},
     "output_type": "display_data"
    }
   ],
   "source": [
    "names(onlineSummary)\n",
    "m = 3; angleNewObs = 230\n",
    "refs = seq(0, by = 45, length  = 8)\n",
    "nearestAngle = roundOrientation(angleNewObs)\n",
    "  \n",
    "if (m %% 2 == 1) {\n",
    "  angles = seq(-45 * (m - 1) /2, 45 * (m - 1) /2, length = m)\n",
    "} else {\n",
    "  m = m + 1\n",
    "  angles = seq(-45 * (m - 1) /2, 45 * (m - 1) /2, length = m)\n",
    "  if (sign(angleNewObs - nearestAngle) > -1) \n",
    "    angles = angles[ -1 ]\n",
    "  else \n",
    "    angles = angles[ -m ]\n",
    "}\n",
    "angles = angles + nearestAngle\n",
    "angles[angles < 0] = angles[ angles < 0 ] + 360\n",
    "angles[angles > 360] = angles[ angles > 360 ] - 360\n"
   ]
  },
  {
   "cell_type": "code",
   "execution_count": 75,
   "metadata": {},
   "outputs": [],
   "source": [
    "offlineSubset = \n",
    "  offlineSummary[ offlineSummary$angle %in% angles, ]\n",
    "\n",
    "reshapeSS = function(data, varSignal = \"signal\", \n",
    "                     keepVars = c(\"posXY\", \"posX\",\"posY\")) {\n",
    "  byLocation =\n",
    "    with(data, by(data, list(posXY), \n",
    "                  function(x) {\n",
    "                    ans = x[1, keepVars]\n",
    "                    avgSS = tapply(x[ , varSignal ], x$mac, mean)\n",
    "                    y = matrix(avgSS, nrow = 1, ncol = 6,\n",
    "                               dimnames = list(ans$posXY,\n",
    "                                               names(avgSS)))\n",
    "                    cbind(ans, y)\n",
    "                  }))\n",
    "\n",
    "  newDataSS = do.call(\"rbind\", byLocation)\n",
    "  return(newDataSS)\n",
    "}"
   ]
  },
  {
   "cell_type": "code",
   "execution_count": 76,
   "metadata": {},
   "outputs": [],
   "source": [
    "trainSS = reshapeSS(offlineSubset, varSignal = \"avgSignal\")\n",
    "\n",
    "selectTrain = function(angleNewObs, signals = NULL, m = 1){\n",
    "  # m is the number of angles to keep between 1 and 5\n",
    "  refs = seq(0, by = 45, length  = 8)\n",
    "  nearestAngle = roundOrientation(angleNewObs)\n",
    "  \n",
    "  if (m %% 2 == 1) \n",
    "    angles = seq(-45 * (m - 1) /2, 45 * (m - 1) /2, length = m)\n",
    "  else {\n",
    "    m = m + 1\n",
    "    angles = seq(-45 * (m - 1) /2, 45 * (m - 1) /2, length = m)\n",
    "    if (sign(angleNewObs - nearestAngle) > -1) \n",
    "      angles = angles[ -1 ]\n",
    "    else \n",
    "      angles = angles[ -m ]\n",
    "  }\n",
    "  angles = angles + nearestAngle\n",
    "  angles[angles < 0] = angles[ angles < 0 ] + 360\n",
    "  angles[angles > 360] = angles[ angles > 360 ] - 360\n",
    "  angles = sort(angles) \n",
    "  \n",
    "  offlineSubset = signals[ signals$angle %in% angles, ]\n",
    "  reshapeSS(offlineSubset, varSignal = \"avgSignal\")\n",
    "}"
   ]
  },
  {
   "cell_type": "code",
   "execution_count": 77,
   "metadata": {},
   "outputs": [
    {
     "data": {
      "text/html": [
       "<table>\n",
       "<thead><tr><th></th><th scope=col>posXY</th><th scope=col>posX</th><th scope=col>posY</th><th scope=col>00:0f:a3:39:e1:c0</th><th scope=col>00:14:bf:3b:c7:c6</th><th scope=col>00:14:bf:b1:97:81</th><th scope=col>00:14:bf:b1:97:8a</th><th scope=col>00:14:bf:b1:97:8d</th><th scope=col>00:14:bf:b1:97:90</th></tr></thead>\n",
       "<tbody>\n",
       "\t<tr><th scope=row>0-0</th><td>0-0 </td><td>0   </td><td> 0  </td><td>-52 </td><td>-66 </td><td>-63 </td><td>-36 </td><td>-64 </td><td>-55 </td></tr>\n",
       "\t<tr><th scope=row>0-1</th><td>0-1 </td><td>0   </td><td> 1  </td><td>-53 </td><td>-65 </td><td>-64 </td><td>-39 </td><td>-65 </td><td>-59 </td></tr>\n",
       "\t<tr><th scope=row>0-10</th><td>0-10</td><td>0   </td><td>10  </td><td>-56 </td><td>-66 </td><td>-69 </td><td>-45 </td><td>-67 </td><td>-50 </td></tr>\n",
       "\t<tr><th scope=row>0-11</th><td>0-11</td><td>0   </td><td>11  </td><td>-55 </td><td>-67 </td><td>-70 </td><td>-48 </td><td>-67 </td><td>-55 </td></tr>\n",
       "\t<tr><th scope=row>0-12</th><td>0-12</td><td>0   </td><td>12  </td><td>-56 </td><td>-70 </td><td>-72 </td><td>-45 </td><td>-67 </td><td>-50 </td></tr>\n",
       "\t<tr><th scope=row>0-13</th><td>0-13</td><td>0   </td><td>13  </td><td>-55 </td><td>-71 </td><td>-73 </td><td>-43 </td><td>-69 </td><td>-54 </td></tr>\n",
       "</tbody>\n",
       "</table>\n"
      ],
      "text/latex": [
       "\\begin{tabular}{r|lllllllll}\n",
       "  & posXY & posX & posY & 00:0f:a3:39:e1:c0 & 00:14:bf:3b:c7:c6 & 00:14:bf:b1:97:81 & 00:14:bf:b1:97:8a & 00:14:bf:b1:97:8d & 00:14:bf:b1:97:90\\\\\n",
       "\\hline\n",
       "\t0-0 & 0-0  & 0    &  0   & -52  & -66  & -63  & -36  & -64  & -55 \\\\\n",
       "\t0-1 & 0-1  & 0    &  1   & -53  & -65  & -64  & -39  & -65  & -59 \\\\\n",
       "\t0-10 & 0-10 & 0    & 10   & -56  & -66  & -69  & -45  & -67  & -50 \\\\\n",
       "\t0-11 & 0-11 & 0    & 11   & -55  & -67  & -70  & -48  & -67  & -55 \\\\\n",
       "\t0-12 & 0-12 & 0    & 12   & -56  & -70  & -72  & -45  & -67  & -50 \\\\\n",
       "\t0-13 & 0-13 & 0    & 13   & -55  & -71  & -73  & -43  & -69  & -54 \\\\\n",
       "\\end{tabular}\n"
      ],
      "text/markdown": [
       "\n",
       "| <!--/--> | posXY | posX | posY | 00:0f:a3:39:e1:c0 | 00:14:bf:3b:c7:c6 | 00:14:bf:b1:97:81 | 00:14:bf:b1:97:8a | 00:14:bf:b1:97:8d | 00:14:bf:b1:97:90 | \n",
       "|---|---|---|---|---|---|\n",
       "| 0-0 | 0-0  | 0    |  0   | -52  | -66  | -63  | -36  | -64  | -55  | \n",
       "| 0-1 | 0-1  | 0    |  1   | -53  | -65  | -64  | -39  | -65  | -59  | \n",
       "| 0-10 | 0-10 | 0    | 10   | -56  | -66  | -69  | -45  | -67  | -50  | \n",
       "| 0-11 | 0-11 | 0    | 11   | -55  | -67  | -70  | -48  | -67  | -55  | \n",
       "| 0-12 | 0-12 | 0    | 12   | -56  | -70  | -72  | -45  | -67  | -50  | \n",
       "| 0-13 | 0-13 | 0    | 13   | -55  | -71  | -73  | -43  | -69  | -54  | \n",
       "\n",
       "\n"
      ],
      "text/plain": [
       "     posXY posX posY 00:0f:a3:39:e1:c0 00:14:bf:3b:c7:c6 00:14:bf:b1:97:81\n",
       "0-0  0-0   0     0   -52               -66               -63              \n",
       "0-1  0-1   0     1   -53               -65               -64              \n",
       "0-10 0-10  0    10   -56               -66               -69              \n",
       "0-11 0-11  0    11   -55               -67               -70              \n",
       "0-12 0-12  0    12   -56               -70               -72              \n",
       "0-13 0-13  0    13   -55               -71               -73              \n",
       "     00:14:bf:b1:97:8a 00:14:bf:b1:97:8d 00:14:bf:b1:97:90\n",
       "0-0  -36               -64               -55              \n",
       "0-1  -39               -65               -59              \n",
       "0-10 -45               -67               -50              \n",
       "0-11 -48               -67               -55              \n",
       "0-12 -45               -67               -50              \n",
       "0-13 -43               -69               -54              "
      ]
     },
     "metadata": {},
     "output_type": "display_data"
    },
    {
     "data": {
      "text/html": [
       "166"
      ],
      "text/latex": [
       "166"
      ],
      "text/markdown": [
       "166"
      ],
      "text/plain": [
       "[1] 166"
      ]
     },
     "metadata": {},
     "output_type": "display_data"
    }
   ],
   "source": [
    "train130 = selectTrain(130, offlineSummary, m = 3)\n",
    "\n",
    "head(train130)\n",
    "\n",
    "length(train130[[1]])\n",
    "\n",
    "findNN = function(newSignal, trainSubset) {\n",
    "  diffs = apply(trainSubset[ , 4:9], 1, \n",
    "                function(x) x - newSignal)\n",
    "  dists = apply(diffs, 2, function(x) sqrt(sum(x^2)) )\n",
    "  closest = order(dists)\n",
    "  return(trainSubset[closest, 1:3 ])\n",
    "}"
   ]
  },
  {
   "cell_type": "code",
   "execution_count": 78,
   "metadata": {},
   "outputs": [],
   "source": [
    "predXY = function(newSignals, newAngles, trainData, \n",
    "                  numAngles = 1, k = 3){\n",
    "  \n",
    "  closeXY = list(length = nrow(newSignals))\n",
    "  \n",
    "  for (i in 1:nrow(newSignals)) {\n",
    "    trainSS = selectTrain(newAngles[i], trainData, m = numAngles)\n",
    "    closeXY[[i]] = \n",
    "      findNN(newSignal = as.numeric(newSignals[i, ]), trainSS)\n",
    "  }\n",
    "\n",
    "  estXY = lapply(closeXY, \n",
    "                 function(x) sapply(x[ , 2:3], \n",
    "                                    function(x) mean(x[1:k])))\n",
    "  estXY = do.call(\"rbind\", estXY)\n",
    "  return(estXY)\n",
    "}\n",
    "estXYk3 = predXY(newSignals = onlineSummary[ , 6:11], \n",
    "                 newAngles = onlineSummary[ , 4], \n",
    "                 offlineSummary, numAngles = 3, k = 3)\n",
    "\n",
    "estXYk1 = predXY(newSignals = onlineSummary[ , 6:11], \n",
    "                 newAngles = onlineSummary[ , 4], \n",
    "                 offlineSummary, numAngles = 3, k = 1)"
   ]
  },
  {
   "cell_type": "code",
   "execution_count": 79,
   "metadata": {},
   "outputs": [],
   "source": [
    "floorErrorMap = function(estXY, actualXY, trainPoints = NULL, AP = NULL){\n",
    "  \n",
    "    plot(0, 0, xlim = c(0, 35), ylim = c(-3, 15), type = \"n\",\n",
    "         xlab = \"\", ylab = \"\", axes = FALSE)\n",
    "    box()\n",
    "    if ( !is.null(AP) ) points(AP, pch = 15)\n",
    "    if ( !is.null(trainPoints) )\n",
    "      points(trainPoints, pch = 19, col=\"grey\", cex = 0.6)\n",
    "    \n",
    "    points(x = actualXY[, 1], y = actualXY[, 2], \n",
    "           pch = 19, cex = 0.8 )\n",
    "    points(x = estXY[, 1], y = estXY[, 2], \n",
    "           pch = 8, cex = 0.8 )\n",
    "    segments(x0 = estXY[, 1], y0 = estXY[, 2],\n",
    "             x1 = actualXY[, 1], y1 = actualXY[ , 2],\n",
    "             lwd = 2, col = \"red\")\n",
    "}"
   ]
  },
  {
   "cell_type": "code",
   "execution_count": 80,
   "metadata": {},
   "outputs": [
    {
     "data": {
      "text/html": [
       "<strong>null device:</strong> 1"
      ],
      "text/latex": [
       "\\textbf{null device:} 1"
      ],
      "text/markdown": [
       "**null device:** 1"
      ],
      "text/plain": [
       "null device \n",
       "          1 "
      ]
     },
     "metadata": {},
     "output_type": "display_data"
    },
    {
     "data": {
      "image/png": "[encoded data removed]",
      "text/plain": [
       "plot without title"
      ]
     },
     "metadata": {},
     "output_type": "display_data"
    }
   ],
   "source": [
    "trainPoints = offlineSummary[ offlineSummary$angle == 0 & \n",
    "                              offlineSummary$mac == \"00:0f:a3:39:e1:c0\" ,\n",
    "                        c(\"posX\", \"posY\")]\n",
    "\n",
    "#pdf(file=\"GEO_FloorPlanK3Errors.pdf\", width = 10, height = 7)\n",
    "oldPar = par(mar = c(1, 1, 1, 1))\n",
    "floorErrorMap(estXYk3, onlineSummary[ , c(\"posX\",\"posY\")], \n",
    "              trainPoints = trainPoints, AP = AP)\n",
    "par(oldPar)\n",
    "dev.off()"
   ]
  },
  {
   "cell_type": "code",
   "execution_count": 81,
   "metadata": {},
   "outputs": [
    {
     "data": {
      "text/html": [
       "<strong>null device:</strong> 1"
      ],
      "text/latex": [
       "\\textbf{null device:} 1"
      ],
      "text/markdown": [
       "**null device:** 1"
      ],
      "text/plain": [
       "null device \n",
       "          1 "
      ]
     },
     "metadata": {},
     "output_type": "display_data"
    },
    {
     "data": {
      "image/png": "[encoded data removed]",
      "text/plain": [
       "plot without title"
      ]
     },
     "metadata": {},
     "output_type": "display_data"
    }
   ],
   "source": [
    "#pdf(file=\"GEO_FloorPlanK1Errors.pdf\", width = 10, height = 7)\n",
    "oldPar = par(mar = c(1, 1, 1, 1))\n",
    "floorErrorMap(estXYk1, onlineSummary[ , c(\"posX\",\"posY\")], \n",
    "              trainPoints = trainPoints, AP = AP)\n",
    "par(oldPar)\n",
    "dev.off()"
   ]
  },
  {
   "cell_type": "code",
   "execution_count": 82,
   "metadata": {},
   "outputs": [
    {
     "data": {
      "text/html": [
       "<ol class=list-inline>\n",
       "\t<li>659.4003</li>\n",
       "\t<li>306.702522222222</li>\n",
       "</ol>\n"
      ],
      "text/latex": [
       "\\begin{enumerate*}\n",
       "\\item 659.4003\n",
       "\\item 306.702522222222\n",
       "\\end{enumerate*}\n"
      ],
      "text/markdown": [
       "1. 659.4003\n",
       "2. 306.702522222222\n",
       "\n",
       "\n"
      ],
      "text/plain": [
       "[1] 659 307"
      ]
     },
     "metadata": {},
     "output_type": "display_data"
    }
   ],
   "source": [
    "calcError = \n",
    "function(estXY, actualXY) \n",
    "   sum( rowSums( (estXY - actualXY)^2) )\n",
    "\n",
    "actualXY = onlineSummary[ , c(\"posX\", \"posY\")]\n",
    "sapply(list(estXYk1, estXYk3), calcError, actualXY)"
   ]
  },
  {
   "cell_type": "code",
   "execution_count": 83,
   "metadata": {},
   "outputs": [
    {
     "name": "stderr",
     "output_type": "stream",
     "text": [
      "Warning message in matrix(permuteLocs, ncol = v, nrow = floor(length(permuteLocs)/v)):\n",
      "\"data length [166] is not a sub-multiple or multiple of the number of rows [15]\""
     ]
    }
   ],
   "source": [
    "v = 11\n",
    "permuteLocs = sample(unique(offlineSummary$posXY))\n",
    "permuteLocs = matrix(permuteLocs, ncol = v, \n",
    "                     nrow = floor(length(permuteLocs)/v))\n",
    "\n",
    "onlineFold = subset(offlineSummary, posXY %in% permuteLocs[ , 1])\n",
    "\n",
    "reshapeSS = function(data, varSignal = \"signal\", \n",
    "                     keepVars = c(\"posXY\", \"posX\",\"posY\"),\n",
    "                     sampleAngle = FALSE, \n",
    "                     refs = seq(0, 315, by = 45)) {\n",
    "  byLocation =\n",
    "    with(data, by(data, list(posXY), \n",
    "                  function(x) {\n",
    "                    if (sampleAngle) {\n",
    "                      x = x[x$angle == sample(refs, size = 1), ]}\n",
    "                    ans = x[1, keepVars]\n",
    "                    avgSS = tapply(x[ , varSignal ], x$mac, mean)\n",
    "                    y = matrix(avgSS, nrow = 1, ncol = 6,\n",
    "                               dimnames = list(ans$posXY,\n",
    "                                               names(avgSS)))\n",
    "                    cbind(ans, y)\n",
    "                  }))\n",
    "\n",
    "  newDataSS = do.call(\"rbind\", byLocation)\n",
    "  return(newDataSS)\n",
    "}\n",
    "\n",
    "offline = offline[ offline$mac != \"00:0f:a3:39:dd:cd\", ]"
   ]
  },
  {
   "cell_type": "code",
   "execution_count": 84,
   "metadata": {},
   "outputs": [
    {
     "data": {
      "text/html": [
       "144.444444444444"
      ],
      "text/latex": [
       "144.444444444444"
      ],
      "text/markdown": [
       "144.444444444444"
      ],
      "text/plain": [
       "[1] 144"
      ]
     },
     "metadata": {},
     "output_type": "display_data"
    }
   ],
   "source": [
    "keepVars = c(\"posXY\", \"posX\",\"posY\", \"orientation\", \"angle\")\n",
    "\n",
    "onlineCVSummary = reshapeSS(offline, keepVars = keepVars, \n",
    "                            sampleAngle = TRUE)\n",
    "\n",
    "onlineFold = subset(onlineCVSummary, \n",
    "                    posXY %in% permuteLocs[ , 1])\n",
    "\n",
    "offlineFold = subset(offlineSummary,\n",
    "                     posXY %in% permuteLocs[ , -1])\n",
    "\n",
    "estFold = predXY(newSignals = onlineFold[ , 6:11], \n",
    "                 newAngles = onlineFold[ , 4], \n",
    "                 offlineFold, numAngles = 3, k = 3)\n",
    "\n",
    "actualFold = onlineFold[ , c(\"posX\", \"posY\")]\n",
    "calcError(estFold, actualFold)\n",
    "\n",
    "K = 20\n",
    "err = rep(0, K)"
   ]
  },
  {
   "cell_type": "markdown",
   "metadata": {},
   "source": [
    "### Next Cell takes a while.  Grab a Beverage of your choice.  (~5-10 mins)"
   ]
  },
  {
   "cell_type": "code",
   "execution_count": 85,
   "metadata": {},
   "outputs": [],
   "source": [
    "\n",
    "for (j in 1:v) {\n",
    "  onlineFold = subset(onlineCVSummary, \n",
    "                      posXY %in% permuteLocs[ , j])\n",
    "  offlineFold = subset(offlineSummary,\n",
    "                       posXY %in% permuteLocs[ , -j])\n",
    "  actualFold = onlineFold[ , c(\"posX\", \"posY\")]\n",
    "  \n",
    "  for (k in 1:K) {\n",
    "    estFold = predXY(newSignals = onlineFold[ , 6:11],\n",
    "                     newAngles = onlineFold[ , 4], \n",
    "                     offlineFold, numAngles = 3, k = k)\n",
    "    err[k] = err[k] + calcError(estFold, actualFold)\n",
    "  }\n",
    "}"
   ]
  },
  {
   "cell_type": "code",
   "execution_count": 86,
   "metadata": {},
   "outputs": [
    {
     "data": {
      "text/html": [
       "<strong>null device:</strong> 1"
      ],
      "text/latex": [
       "\\textbf{null device:} 1"
      ],
      "text/markdown": [
       "**null device:** 1"
      ],
      "text/plain": [
       "null device \n",
       "          1 "
      ]
     },
     "metadata": {},
     "output_type": "display_data"
    },
    {
     "data": {
      "image/png": "[encoded data removed]",
      "text/plain": [
       "plot without title"
      ]
     },
     "metadata": {},
     "output_type": "display_data"
    }
   ],
   "source": [
    "#pdf(file = \"Geo_CVChoiceOfK.pdf\", width = 10, height = 6)\n",
    "oldPar = par(mar = c(4, 3, 1, 1))\n",
    "plot(y = err, x = (1:K),  type = \"l\", lwd= 2,\n",
    "     ylim = c(1200, 2100),\n",
    "     xlab = \"Number of Neighbors\",\n",
    "     ylab = \"Sum of Square Errors\")\n",
    "\n",
    "rmseMin = min(err)\n",
    "kMin = which(err == rmseMin)[1]\n",
    "segments(x0 = 0, x1 = kMin, y0 = rmseMin, col = gray(0.4), \n",
    "         lty = 2, lwd = 2)\n",
    "segments(x0 = kMin, x1 = kMin, y0 = 1100,  y1 = rmseMin, \n",
    "         col = grey(0.4), lty = 2, lwd = 2)\n",
    "\n",
    "#mtext(kMin, side = 1, line = 1, at = kMin, col = grey(0.4))\n",
    "text(x = kMin - 2, y = rmseMin + 40, \n",
    "     label = as.character(round(rmseMin)), col = grey(0.4))\n",
    "par(oldPar)\n",
    "dev.off()\n"
   ]
  },
  {
   "cell_type": "code",
   "execution_count": 87,
   "metadata": {},
   "outputs": [
    {
     "data": {
      "text/html": [
       "275.5083"
      ],
      "text/latex": [
       "275.5083"
      ],
      "text/markdown": [
       "275.5083"
      ],
      "text/plain": [
       "[1] 276"
      ]
     },
     "metadata": {},
     "output_type": "display_data"
    }
   ],
   "source": [
    "estXYk5 = predXY(newSignals = onlineSummary[ , 6:11], \n",
    "                 newAngles = onlineSummary[ , 4], \n",
    "                 offlineSummary, numAngles = 3, k = 5)\n",
    "\n",
    "calcError(estXYk5, actualXY)"
   ]
  },
  {
   "cell_type": "code",
   "execution_count": 89,
   "metadata": {},
   "outputs": [],
   "source": [
    "predXY = function(newSignals, newAngles, trainData, \n",
    "                  numAngles = 1, k = 3){\n",
    "  \n",
    "  closeXY = list(length = nrow(newSignals))\n",
    "  \n",
    "  for (i in 1:nrow(newSignals)) {\n",
    "    trainSS = selectTrain(newAngles[i], trainData, m = numAngles)\n",
    "    closeXY[[i]] = findNN(newSignal = as.numeric(newSignals[i, ]),\n",
    "                           trainSS)\n",
    "  }\n",
    "\n",
    "  estXY = lapply(closeXY, function(x)\n",
    "                            sapply(x[ , 2:3], \n",
    "                                    function(x) mean(x[1:k])))\n",
    "  estXY = do.call(\"rbind\", estXY)\n",
    "  return(estXY)\n",
    "}"
   ]
  },
  {
   "cell_type": "code",
   "execution_count": null,
   "metadata": {},
   "outputs": [],
   "source": []
  }
 ],
 "metadata": {
  "kernelspec": {
   "display_name": "R",
   "language": "R",
   "name": "ir"
  },
  "language_info": {
   "codemirror_mode": "r",
   "file_extension": ".r",
   "mimetype": "text/x-r-source",
   "name": "R",
   "pygments_lexer": "r",
   "version": "3.5.1"
  }
 },
 "nbformat": 4,
 "nbformat_minor": 2
}
